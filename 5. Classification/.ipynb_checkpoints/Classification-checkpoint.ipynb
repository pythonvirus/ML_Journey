{
 "cells": [
  {
   "cell_type": "code",
   "execution_count": 57,
   "metadata": {},
   "outputs": [],
   "source": [
    "# Importing the libraries\n",
    "import numpy as np\n",
    "import matplotlib.pyplot as plt\n",
    "import pandas as pd\n",
    "import pickle as pk\n",
    "import seaborn as sns"
   ]
  },
  {
   "cell_type": "code",
   "execution_count": 58,
   "metadata": {},
   "outputs": [],
   "source": [
    "models = []\n",
    "acc = []\n",
    "precision = []\n",
    "recall = []\n",
    "f1 = []"
   ]
  },
  {
   "cell_type": "code",
   "execution_count": 59,
   "metadata": {},
   "outputs": [
    {
     "data": {
      "text/html": [
       "<div>\n",
       "<style scoped>\n",
       "    .dataframe tbody tr th:only-of-type {\n",
       "        vertical-align: middle;\n",
       "    }\n",
       "\n",
       "    .dataframe tbody tr th {\n",
       "        vertical-align: top;\n",
       "    }\n",
       "\n",
       "    .dataframe thead th {\n",
       "        text-align: right;\n",
       "    }\n",
       "</style>\n",
       "<table border=\"1\" class=\"dataframe\">\n",
       "  <thead>\n",
       "    <tr style=\"text-align: right;\">\n",
       "      <th></th>\n",
       "      <th>Gender</th>\n",
       "      <th>Age</th>\n",
       "      <th>EstimatedSalary</th>\n",
       "      <th>Purchased</th>\n",
       "    </tr>\n",
       "    <tr>\n",
       "      <th>User ID</th>\n",
       "      <th></th>\n",
       "      <th></th>\n",
       "      <th></th>\n",
       "      <th></th>\n",
       "    </tr>\n",
       "  </thead>\n",
       "  <tbody>\n",
       "    <tr>\n",
       "      <th>15624510</th>\n",
       "      <td>Male</td>\n",
       "      <td>19</td>\n",
       "      <td>19000</td>\n",
       "      <td>0</td>\n",
       "    </tr>\n",
       "    <tr>\n",
       "      <th>15810944</th>\n",
       "      <td>Male</td>\n",
       "      <td>35</td>\n",
       "      <td>20000</td>\n",
       "      <td>0</td>\n",
       "    </tr>\n",
       "    <tr>\n",
       "      <th>15668575</th>\n",
       "      <td>Female</td>\n",
       "      <td>26</td>\n",
       "      <td>43000</td>\n",
       "      <td>0</td>\n",
       "    </tr>\n",
       "    <tr>\n",
       "      <th>15603246</th>\n",
       "      <td>Female</td>\n",
       "      <td>27</td>\n",
       "      <td>57000</td>\n",
       "      <td>0</td>\n",
       "    </tr>\n",
       "    <tr>\n",
       "      <th>15804002</th>\n",
       "      <td>Male</td>\n",
       "      <td>19</td>\n",
       "      <td>76000</td>\n",
       "      <td>0</td>\n",
       "    </tr>\n",
       "  </tbody>\n",
       "</table>\n",
       "</div>"
      ],
      "text/plain": [
       "          Gender  Age  EstimatedSalary  Purchased\n",
       "User ID                                          \n",
       "15624510    Male   19            19000          0\n",
       "15810944    Male   35            20000          0\n",
       "15668575  Female   26            43000          0\n",
       "15603246  Female   27            57000          0\n",
       "15804002    Male   19            76000          0"
      ]
     },
     "execution_count": 59,
     "metadata": {},
     "output_type": "execute_result"
    }
   ],
   "source": [
    "# Importing the dataset\n",
    "dataset = pd.read_csv('Social_Network_Ads.csv', index_col=0)\n",
    "dataset.head()"
   ]
  },
  {
   "cell_type": "code",
   "execution_count": 60,
   "metadata": {},
   "outputs": [],
   "source": [
    "X = dataset.iloc[:, [1, 2]].values\n",
    "y = dataset.iloc[:, 3].values"
   ]
  },
  {
   "cell_type": "code",
   "execution_count": 61,
   "metadata": {},
   "outputs": [],
   "source": [
    "# Splitting the dataset into the Training set and Test set\n",
    "from sklearn.model_selection import train_test_split\n",
    "X_train, X_test, y_train, y_test = train_test_split(X, y, test_size = 0.25, \n",
    "                                                    random_state = 0)"
   ]
  },
  {
   "cell_type": "code",
   "execution_count": 62,
   "metadata": {},
   "outputs": [
    {
     "data": {
      "text/plain": [
       "(array([12.,  6.,  7., 18., 16., 16., 14., 12., 35., 25., 39., 13.,  7.,\n",
       "        21., 18.,  7.,  9.,  6.,  6., 13.]),\n",
       " array([18. , 20.1, 22.2, 24.3, 26.4, 28.5, 30.6, 32.7, 34.8, 36.9, 39. ,\n",
       "        41.1, 43.2, 45.3, 47.4, 49.5, 51.6, 53.7, 55.8, 57.9, 60. ]),\n",
       " <a list of 20 Patch objects>)"
      ]
     },
     "execution_count": 62,
     "metadata": {},
     "output_type": "execute_result"
    },
    {
     "data": {
      "image/png": "[encoded data removed]",
      "text/plain": [
       "<Figure size 432x288 with 1 Axes>"
      ]
     },
     "metadata": {},
     "output_type": "display_data"
    }
   ],
   "source": [
    "plt.hist(X_train[:,0], bins=20)"
   ]
  },
  {
   "cell_type": "code",
   "execution_count": 63,
   "metadata": {},
   "outputs": [
    {
     "data": {
      "text/plain": [
       "(array([17., 23., 18., 11., 19., 23., 26., 12., 42., 24., 16.,  6.,  7.,\n",
       "        10.,  7.,  8.,  5., 10.,  9.,  7.]),\n",
       " array([ 15000.,  21750.,  28500.,  35250.,  42000.,  48750.,  55500.,\n",
       "         62250.,  69000.,  75750.,  82500.,  89250.,  96000., 102750.,\n",
       "        109500., 116250., 123000., 129750., 136500., 143250., 150000.]),\n",
       " <a list of 20 Patch objects>)"
      ]
     },
     "execution_count": 63,
     "metadata": {},
     "output_type": "execute_result"
    },
    {
     "data": {
      "image/png": "[encoded data removed]",
      "text/plain": [
       "<Figure size 432x288 with 1 Axes>"
      ]
     },
     "metadata": {},
     "output_type": "display_data"
    }
   ],
   "source": [
    "plt.hist(X_train[:,1], bins=20)"
   ]
  },
  {
   "cell_type": "code",
   "execution_count": 64,
   "metadata": {},
   "outputs": [],
   "source": [
    "# Feature Scaling\n",
    "from sklearn.preprocessing import StandardScaler\n",
    "sc = StandardScaler()"
   ]
  },
  {
   "cell_type": "code",
   "execution_count": 65,
   "metadata": {},
   "outputs": [
    {
     "name": "stderr",
     "output_type": "stream",
     "text": [
      "/home/abhinandan/anaconda3/lib/python3.6/site-packages/sklearn/utils/validation.py:475: DataConversionWarning: Data with input dtype int64 was converted to float64 by StandardScaler.\n",
      "  warnings.warn(msg, DataConversionWarning)\n",
      "/home/abhinandan/anaconda3/lib/python3.6/site-packages/sklearn/utils/validation.py:475: DataConversionWarning: Data with input dtype int64 was converted to float64 by StandardScaler.\n",
      "  warnings.warn(msg, DataConversionWarning)\n"
     ]
    }
   ],
   "source": [
    "X_train_sc = sc.fit_transform(X_train)"
   ]
  },
  {
   "cell_type": "code",
   "execution_count": 66,
   "metadata": {},
   "outputs": [
    {
     "data": {
      "text/plain": [
       "array([3.81266667e+01, 6.95833333e+04])"
      ]
     },
     "execution_count": 66,
     "metadata": {},
     "output_type": "execute_result"
    }
   ],
   "source": [
    "sc.mean_"
   ]
  },
  {
   "cell_type": "code",
   "execution_count": 67,
   "metadata": {},
   "outputs": [
    {
     "data": {
      "text/plain": [
       "array([1.01963956e+02, 1.18962306e+09])"
      ]
     },
     "execution_count": 67,
     "metadata": {},
     "output_type": "execute_result"
    }
   ],
   "source": [
    "sc.var_"
   ]
  },
  {
   "cell_type": "code",
   "execution_count": 68,
   "metadata": {},
   "outputs": [
    {
     "name": "stderr",
     "output_type": "stream",
     "text": [
      "/home/abhinandan/anaconda3/lib/python3.6/site-packages/sklearn/utils/validation.py:475: DataConversionWarning: Data with input dtype int64 was converted to float64 by StandardScaler.\n",
      "  warnings.warn(msg, DataConversionWarning)\n"
     ]
    }
   ],
   "source": [
    "X_test_sc = sc.transform(X_test)"
   ]
  },
  {
   "cell_type": "code",
   "execution_count": 69,
   "metadata": {},
   "outputs": [],
   "source": [
    "import seaborn as sns"
   ]
  },
  {
   "cell_type": "code",
   "execution_count": 70,
   "metadata": {},
   "outputs": [
    {
     "data": {
      "text/plain": [
       "<seaborn.axisgrid.JointGrid at 0x7f0f9d011c18>"
      ]
     },
     "execution_count": 70,
     "metadata": {},
     "output_type": "execute_result"
    },
    {
     "data": {
      "image/png": "[encoded data removed]",
      "text/plain": [
       "<Figure size 432x432 with 3 Axes>"
      ]
     },
     "metadata": {},
     "output_type": "display_data"
    }
   ],
   "source": [
    "# let's look at how transformed age looks like compared to the original variable\n",
    "\n",
    "sns.jointplot(X_train[:,0], X_train_sc[:,0], kind='kde')"
   ]
  },
  {
   "cell_type": "code",
   "execution_count": 71,
   "metadata": {},
   "outputs": [
    {
     "data": {
      "text/plain": [
       "<seaborn.axisgrid.JointGrid at 0x7f0f9c2cf7f0>"
      ]
     },
     "execution_count": 71,
     "metadata": {},
     "output_type": "execute_result"
    },
    {
     "data": {
      "image/png": "[encoded data removed]",
      "text/plain": [
       "<Figure size 432x432 with 3 Axes>"
      ]
     },
     "metadata": {},
     "output_type": "display_data"
    }
   ],
   "source": [
    "# let's look at how transformed age looks like compared to the original variable\n",
    "\n",
    "sns.jointplot(X_train[:,1], X_train_sc[:,1], kind='kde')"
   ]
  },
  {
   "cell_type": "markdown",
   "metadata": {},
   "source": [
    "## Logistic Regression"
   ]
  },
  {
   "cell_type": "code",
   "execution_count": 72,
   "metadata": {},
   "outputs": [],
   "source": [
    "# Fitting Logistic Regression to the Training set\n",
    "from sklearn.linear_model import LogisticRegression"
   ]
  },
  {
   "cell_type": "code",
   "execution_count": 73,
   "metadata": {},
   "outputs": [],
   "source": [
    "lr = LogisticRegression()"
   ]
  },
  {
   "cell_type": "code",
   "execution_count": 18,
   "metadata": {},
   "outputs": [
    {
     "ename": "AttributeError",
     "evalue": "'LogisticRegression' object has no attribute 'intercept_'",
     "output_type": "error",
     "traceback": [
      "\u001b[0;31m---------------------------------------------------------------------------\u001b[0m",
      "\u001b[0;31mAttributeError\u001b[0m                            Traceback (most recent call last)",
      "\u001b[0;32m<ipython-input-18-e33b6092e6ca>\u001b[0m in \u001b[0;36m<module>\u001b[0;34m()\u001b[0m\n\u001b[0;32m----> 1\u001b[0;31m \u001b[0mlr\u001b[0m\u001b[0;34m.\u001b[0m\u001b[0mintercept_\u001b[0m\u001b[0;34m\u001b[0m\u001b[0m\n\u001b[0m",
      "\u001b[0;31mAttributeError\u001b[0m: 'LogisticRegression' object has no attribute 'intercept_'"
     ]
    }
   ],
   "source": [
    "lr.intercept_"
   ]
  },
  {
   "cell_type": "code",
   "execution_count": 74,
   "metadata": {},
   "outputs": [],
   "source": [
    "lr.fit(X_train_sc, y_train)\n",
    "models.append('Logistic Regression')"
   ]
  },
  {
   "cell_type": "code",
   "execution_count": 75,
   "metadata": {},
   "outputs": [],
   "source": [
    "#Save the model on disk\n",
    "pk.dump(lr, open('logistic_regression.sav','wb'))"
   ]
  },
  {
   "cell_type": "code",
   "execution_count": 76,
   "metadata": {},
   "outputs": [
    {
     "data": {
      "text/plain": [
       "array([[2.06169269, 1.10338288]])"
      ]
     },
     "execution_count": 76,
     "metadata": {},
     "output_type": "execute_result"
    }
   ],
   "source": [
    "lr.coef_"
   ]
  },
  {
   "cell_type": "code",
   "execution_count": 77,
   "metadata": {},
   "outputs": [
    {
     "data": {
      "text/plain": [
       "array([-0.92421803])"
      ]
     },
     "execution_count": 77,
     "metadata": {},
     "output_type": "execute_result"
    }
   ],
   "source": [
    "lr.intercept_"
   ]
  },
  {
   "cell_type": "code",
   "execution_count": 78,
   "metadata": {},
   "outputs": [
    {
     "data": {
      "text/plain": [
       "array([5], dtype=int32)"
      ]
     },
     "execution_count": 78,
     "metadata": {},
     "output_type": "execute_result"
    }
   ],
   "source": [
    "lr.n_iter_"
   ]
  },
  {
   "cell_type": "code",
   "execution_count": 79,
   "metadata": {},
   "outputs": [
    {
     "data": {
      "text/plain": [
       "array([0, 0, 0, 0, 0, 0, 0, 1, 0, 1, 0, 0, 0, 0, 0, 0, 0, 0, 1, 0, 0, 1,\n",
       "       0, 1, 0, 1, 0, 0, 0, 0, 0, 0, 1, 0, 0, 0, 0, 0, 0, 1, 0, 0, 0, 0,\n",
       "       1, 0, 0, 1, 0, 1, 1, 0, 0, 0, 1, 0, 0, 0, 0, 0, 0, 1, 0, 0, 0, 1,\n",
       "       0, 0, 0, 0, 1, 0, 0, 0, 0, 0, 1, 0, 1, 1, 1, 1, 0, 0, 1, 1, 0, 1,\n",
       "       0, 0, 0, 1, 0, 0, 0, 0, 0, 0, 1, 1])"
      ]
     },
     "execution_count": 79,
     "metadata": {},
     "output_type": "execute_result"
    }
   ],
   "source": [
    "lr.predict(X_test_sc)"
   ]
  },
  {
   "cell_type": "code",
   "execution_count": 80,
   "metadata": {},
   "outputs": [
    {
     "data": {
      "text/plain": [
       "array([[0.8835313 , 0.1164687 ],\n",
       "       [0.82871699, 0.17128301],\n",
       "       [0.8004837 , 0.1995163 ],\n",
       "       [0.90739447, 0.09260553],\n",
       "       [0.89926493, 0.10073507],\n",
       "       [0.99169199, 0.00830801],\n",
       "       [0.98410063, 0.01589937],\n",
       "       [0.26459889, 0.73540111],\n",
       "       [0.99384437, 0.00615563],\n",
       "       [0.4907332 , 0.5092668 ],\n",
       "       [0.96238257, 0.03761743],\n",
       "       [0.96947917, 0.03052083],\n",
       "       [0.83490307, 0.16509693],\n",
       "       [0.62448827, 0.37551173],\n",
       "       [0.98369807, 0.01630193],\n",
       "       [0.65886488, 0.34113512],\n",
       "       [0.7144286 , 0.2855714 ],\n",
       "       [0.98708287, 0.01291713],\n",
       "       [0.01150228, 0.98849772],\n",
       "       [0.95626217, 0.04373783],\n",
       "       [0.90763174, 0.09236826],\n",
       "       [0.03668135, 0.96331865],\n",
       "       [0.71749074, 0.28250926],\n",
       "       [0.11706887, 0.88293113],\n",
       "       [0.99524108, 0.00475892],\n",
       "       [0.02710673, 0.97289327],\n",
       "       [0.91943183, 0.08056817],\n",
       "       [0.92088349, 0.07911651],\n",
       "       [0.80168341, 0.19831659],\n",
       "       [0.83888382, 0.16111618],\n",
       "       [0.97879075, 0.02120925],\n",
       "       [0.70119816, 0.29880184],\n",
       "       [0.06769477, 0.93230523],\n",
       "       [0.84353432, 0.15646568],\n",
       "       [0.98491826, 0.01508174],\n",
       "       [0.99630128, 0.00369872],\n",
       "       [0.97919709, 0.02080291],\n",
       "       [0.93195984, 0.06804016],\n",
       "       [0.97118522, 0.02881478],\n",
       "       [0.4448538 , 0.5551462 ],\n",
       "       [0.93130023, 0.06869977],\n",
       "       [0.71096146, 0.28903854],\n",
       "       [0.93904903, 0.06095097],\n",
       "       [0.95886141, 0.04113859],\n",
       "       [0.19345382, 0.80654618],\n",
       "       [0.9725232 , 0.0274768 ],\n",
       "       [0.69445268, 0.30554732],\n",
       "       [0.07165789, 0.92834211],\n",
       "       [0.99068214, 0.00931786],\n",
       "       [0.1393124 , 0.8606876 ],\n",
       "       [0.00989222, 0.99010778],\n",
       "       [0.96057081, 0.03942919],\n",
       "       [0.87708921, 0.12291079],\n",
       "       [0.57783027, 0.42216973],\n",
       "       [0.01932703, 0.98067297],\n",
       "       [0.67330527, 0.32669473],\n",
       "       [0.91360278, 0.08639722],\n",
       "       [0.95550802, 0.04449198],\n",
       "       [0.50860878, 0.49139122],\n",
       "       [0.99631168, 0.00368832],\n",
       "       [0.97865378, 0.02134622],\n",
       "       [0.06541544, 0.93458456],\n",
       "       [0.99028301, 0.00971699],\n",
       "       [0.60285451, 0.39714549],\n",
       "       [0.99802191, 0.00197809],\n",
       "       [0.01850645, 0.98149355],\n",
       "       [0.96035612, 0.03964388],\n",
       "       [0.9725232 , 0.0274768 ],\n",
       "       [0.77974568, 0.22025432],\n",
       "       [0.5299776 , 0.4700224 ],\n",
       "       [0.40192565, 0.59807435],\n",
       "       [0.79006863, 0.20993137],\n",
       "       [0.98819632, 0.01180368],\n",
       "       [0.73944348, 0.26055652],\n",
       "       [0.92922501, 0.07077499],\n",
       "       [0.9904    , 0.0096    ],\n",
       "       [0.45813315, 0.54186685],\n",
       "       [0.70021207, 0.29978793],\n",
       "       [0.27404394, 0.72595606],\n",
       "       [0.11061585, 0.88938415],\n",
       "       [0.00401366, 0.99598634],\n",
       "       [0.02260363, 0.97739637],\n",
       "       [0.98627946, 0.01372054],\n",
       "       [0.98908355, 0.01091645],\n",
       "       [0.10687816, 0.89312184],\n",
       "       [0.45020289, 0.54979711],\n",
       "       [0.59108435, 0.40891565],\n",
       "       [0.00511557, 0.99488443],\n",
       "       [0.55751522, 0.44248478],\n",
       "       [0.65568733, 0.34431267],\n",
       "       [0.57737278, 0.42262722],\n",
       "       [0.21579253, 0.78420747],\n",
       "       [0.99101483, 0.00898517],\n",
       "       [0.99162973, 0.00837027],\n",
       "       [0.96601697, 0.03398303],\n",
       "       [0.91300665, 0.08699335],\n",
       "       [0.98556125, 0.01443875],\n",
       "       [0.51965484, 0.48034516],\n",
       "       [0.14870417, 0.85129583],\n",
       "       [0.27535436, 0.72464564]])"
      ]
     },
     "execution_count": 80,
     "metadata": {},
     "output_type": "execute_result"
    }
   ],
   "source": [
    "probs = lr.predict_proba(X_test_sc)\n",
    "probs"
   ]
  },
  {
   "cell_type": "code",
   "execution_count": 81,
   "metadata": {},
   "outputs": [
    {
     "data": {
      "text/plain": [
       "array([[-1.23828564e-01, -2.15013269e+00],\n",
       "       [-1.87876574e-01, -1.76443804e+00],\n",
       "       [-2.22539112e-01, -1.61185933e+00],\n",
       "       [-9.71780042e-02, -2.37940644e+00],\n",
       "       [-1.06177594e-01, -2.29526128e+00],\n",
       "       [-8.34271400e-03, -4.79053515e+00],\n",
       "       [-1.60271183e-02, -4.14147595e+00],\n",
       "       [-1.32954022e+00, -3.07339200e-01],\n",
       "       [-6.17465566e-03, -5.09038790e+00],\n",
       "       [-7.11854672e-01, -6.74783243e-01],\n",
       "       [-3.83432237e-02, -3.28028782e+00],\n",
       "       [-3.09962922e-02, -3.48934580e+00],\n",
       "       [-1.80439650e-01, -1.80122250e+00],\n",
       "       [-4.70822729e-01, -9.79465576e-01],\n",
       "       [-1.64362701e-02, -4.11647167e+00],\n",
       "       [-4.17236808e-01, -1.07547662e+00],\n",
       "       [-3.36272212e-01, -1.25326321e+00],\n",
       "       [-1.30012770e-02, -4.34920129e+00],\n",
       "       [-4.46520983e+00, -1.15689449e-02],\n",
       "       [-4.47231645e-02, -3.12954193e+00],\n",
       "       [-9.69165561e-02, -2.38197186e+00],\n",
       "       [-3.30548686e+00, -3.73710275e-02],\n",
       "       [-3.31995240e-01, -1.26404394e+00],\n",
       "       [-2.14499290e+00, -1.24508075e-01],\n",
       "       [-4.77027887e-03, -5.34773470e+00],\n",
       "       [-3.60797326e+00, -2.74808939e-02],\n",
       "       [-8.39993736e-02, -2.51865165e+00],\n",
       "       [-8.24217529e-02, -2.53683372e+00],\n",
       "       [-2.21041502e-01, -1.61789058e+00],\n",
       "       [-1.75683054e-01, -1.82562957e+00],\n",
       "       [-2.14374025e-02, -3.85331765e+00],\n",
       "       [-3.54964750e-01, -1.20797467e+00],\n",
       "       [-2.69274634e+00, -7.00950187e-02],\n",
       "       [-1.70154687e-01, -1.85491861e+00],\n",
       "       [-1.51966218e-02, -4.19427081e+00],\n",
       "       [-3.70558096e-03, -5.59976745e+00],\n",
       "       [-2.10223414e-02, -3.87266229e+00],\n",
       "       [-7.04655603e-02, -2.68765709e+00],\n",
       "       [-2.92380814e-02, -3.54686668e+00],\n",
       "       [-8.10009586e-01, -5.88523780e-01],\n",
       "       [-7.11735758e-02, -2.67800938e+00],\n",
       "       [-3.41137062e-01, -1.24119523e+00],\n",
       "       [-6.28875836e-02, -2.79768555e+00],\n",
       "       [-4.20087334e-02, -3.19080858e+00],\n",
       "       [-1.64271643e+00, -2.14994128e-01],\n",
       "       [-2.78613464e-02, -3.59441331e+00],\n",
       "       [-3.64631250e-01, -1.18565063e+00],\n",
       "       [-2.63585207e+00, -7.43549564e-02],\n",
       "       [-9.36153930e-03, -4.67582266e+00],\n",
       "       [-1.97103641e+00, -1.50023670e-01],\n",
       "       [-4.61600620e+00, -9.94147796e-03],\n",
       "       [-4.02275802e-02, -3.23324881e+00],\n",
       "       [-1.31146568e-01, -2.09629648e+00],\n",
       "       [-5.48475101e-01, -8.62347846e-01],\n",
       "       [-3.94625079e+00, -1.95162360e-02],\n",
       "       [-3.95556453e-01, -1.11872910e+00],\n",
       "       [-9.03593997e-02, -2.44879975e+00],\n",
       "       [-4.55121226e-02, -3.11244631e+00],\n",
       "       [-6.76076173e-01, -7.10514676e-01],\n",
       "       [-3.69513987e-03, -5.60258387e+00],\n",
       "       [-2.15773480e-02, -3.84688049e+00],\n",
       "       [-2.72699702e+00, -6.76531656e-02],\n",
       "       [-9.76450810e-03, -4.63387937e+00],\n",
       "       [-5.06079383e-01, -9.23452600e-01],\n",
       "       [-1.98005237e-03, -6.22562185e+00],\n",
       "       [-3.98963578e+00, -1.86798403e-02],\n",
       "       [-4.04511089e-02, -3.22781860e+00],\n",
       "       [-2.78613464e-02, -3.59441331e+00],\n",
       "       [-2.48787464e-01, -1.51297240e+00],\n",
       "       [-6.34920534e-01, -7.54974930e-01],\n",
       "       [-9.11488160e-01, -5.14040200e-01],\n",
       "       [-2.35635465e-01, -1.56097461e+00],\n",
       "       [-1.18739011e-02, -4.43934355e+00],\n",
       "       [-3.01857433e-01, -1.34493546e+00],\n",
       "       [-7.34043598e-02, -2.64824963e+00],\n",
       "       [-9.64637800e-03, -4.64599208e+00],\n",
       "       [-7.80595421e-01, -6.12734968e-01],\n",
       "       [-3.56372030e-01, -1.20467996e+00],\n",
       "       [-1.29446682e+00, -3.20265791e-01],\n",
       "       [-2.20169192e+00, -1.17226018e-01],\n",
       "       [-5.51805238e+00, -4.02173374e-03],\n",
       "       [-3.78964487e+00, -2.28630057e-02],\n",
       "       [-1.38155360e-02, -4.28886134e+00],\n",
       "       [-1.09764667e-02, -4.51748490e+00],\n",
       "       [-2.23606581e+00, -1.13032265e-01],\n",
       "       [-7.98056942e-01, -5.98205951e-01],\n",
       "       [-5.25796540e-01, -8.94246390e-01],\n",
       "       [-5.27546588e+00, -5.12870223e-03],\n",
       "       [-5.84265481e-01, -8.15349204e-01],\n",
       "       [-4.22071241e-01, -1.06620510e+00],\n",
       "       [-5.49267148e-01, -8.61264776e-01],\n",
       "       [-1.53343784e+00, -2.43081664e-01],\n",
       "       [-9.02578375e-03, -4.71217943e+00],\n",
       "       [-8.40549790e-03, -4.78306908e+00],\n",
       "       [-3.45738754e-02, -3.38189406e+00],\n",
       "       [-9.10121136e-02, -2.44192361e+00],\n",
       "       [-1.45440052e-02, -4.23783958e+00],\n",
       "       [-6.54590461e-01, -7.33250346e-01],\n",
       "       [-1.90579640e+00, -1.60995581e-01],\n",
       "       [-1.28969643e+00, -3.22072514e-01]])"
      ]
     },
     "execution_count": 81,
     "metadata": {},
     "output_type": "execute_result"
    }
   ],
   "source": [
    "log_probs = lr.predict_log_proba(X_test_sc)\n",
    "log_probs"
   ]
  },
  {
   "cell_type": "code",
   "execution_count": 82,
   "metadata": {},
   "outputs": [],
   "source": [
    "#Load Model to predict\n",
    "loaded_model_lr = pk.load(open('logistic_regression.sav', 'rb'))"
   ]
  },
  {
   "cell_type": "code",
   "execution_count": 83,
   "metadata": {},
   "outputs": [
    {
     "data": {
      "text/plain": [
       "array([[2.06169269, 1.10338288]])"
      ]
     },
     "execution_count": 83,
     "metadata": {},
     "output_type": "execute_result"
    }
   ],
   "source": [
    "loaded_model_lr.coef_"
   ]
  },
  {
   "cell_type": "markdown",
   "metadata": {},
   "source": [
    "## Support Vector Machines"
   ]
  },
  {
   "cell_type": "code",
   "execution_count": 84,
   "metadata": {},
   "outputs": [],
   "source": [
    "# Fitting SVM to the Training set\n",
    "from sklearn.svm import SVC\n",
    "svc = SVC()\n",
    "svc.fit(X_train_sc, y_train)\n",
    "models.append('SVM')"
   ]
  },
  {
   "cell_type": "markdown",
   "metadata": {},
   "source": [
    "## Decision Trees"
   ]
  },
  {
   "cell_type": "code",
   "execution_count": 85,
   "metadata": {},
   "outputs": [],
   "source": [
    "# Display tree objects\n",
    "from sklearn.externals.six import StringIO  \n",
    "from IPython.display import Image  \n",
    "from sklearn.tree import export_graphviz\n",
    "import pydotplus"
   ]
  },
  {
   "cell_type": "code",
   "execution_count": 86,
   "metadata": {},
   "outputs": [],
   "source": [
    "# Fitting Decision Tree Classification to the Training set\n",
    "from sklearn.tree import DecisionTreeClassifier\n",
    "dt = DecisionTreeClassifier(criterion = 'entropy', \n",
    "                            max_depth=3 ,\n",
    "                            random_state = 0)\n",
    "dt.fit(X_train_sc, y_train)\n",
    "models.append('Decision Trees')"
   ]
  },
  {
   "cell_type": "code",
   "execution_count": 87,
   "metadata": {},
   "outputs": [
    {
     "data": {
      "text/plain": [
       "Index(['Gender', 'Age', 'EstimatedSalary', 'Purchased'], dtype='object')"
      ]
     },
     "execution_count": 87,
     "metadata": {},
     "output_type": "execute_result"
    }
   ],
   "source": [
    "dataset.columns"
   ]
  },
  {
   "cell_type": "code",
   "execution_count": 88,
   "metadata": {},
   "outputs": [],
   "source": [
    "feats = ['Age', 'EstimatedSalary']\n",
    "classes = ['Not_Purchased','Purchased']"
   ]
  },
  {
   "cell_type": "code",
   "execution_count": 89,
   "metadata": {},
   "outputs": [
    {
     "data": {
      "text/plain": [
       "True"
      ]
     },
     "execution_count": 89,
     "metadata": {},
     "output_type": "execute_result"
    }
   ],
   "source": [
    "dot_data = StringIO()\n",
    "\n",
    "export_graphviz(dt, out_file=dot_data,  \n",
    "                filled=True, rounded=True,\n",
    "                special_characters=True, \n",
    "                feature_names=feats, \n",
    "                class_names = classes)\n",
    "\n",
    "graph = pydotplus.graph_from_dot_data(dot_data.getvalue()) \n",
    "\n",
    "# Create PDF\n",
    "graph.write_png(\"DTree.png\")"
   ]
  },
  {
   "cell_type": "code",
   "execution_count": 90,
   "metadata": {},
   "outputs": [
    {
     "data": {
      "text/plain": [
       "array([0.51140728, 0.48859272])"
      ]
     },
     "execution_count": 90,
     "metadata": {},
     "output_type": "execute_result"
    }
   ],
   "source": [
    "dt.feature_importances_"
   ]
  },
  {
   "cell_type": "code",
   "execution_count": 91,
   "metadata": {},
   "outputs": [
    {
     "data": {
      "text/plain": [
       "44.498328185293936"
      ]
     },
     "execution_count": 91,
     "metadata": {},
     "output_type": "execute_result"
    }
   ],
   "source": [
    "sc.inverse_transform([[0.631,0]])[0,0]"
   ]
  },
  {
   "cell_type": "code",
   "execution_count": 92,
   "metadata": {},
   "outputs": [
    {
     "data": {
      "text/plain": [
       "90484.82640033693"
      ]
     },
     "execution_count": 92,
     "metadata": {},
     "output_type": "execute_result"
    }
   ],
   "source": [
    "sc.inverse_transform([[0,0.606]])[0,1]"
   ]
  },
  {
   "cell_type": "code",
   "execution_count": 93,
   "metadata": {},
   "outputs": [
    {
     "data": {
      "text/plain": [
       "36.50093369598681"
      ]
     },
     "execution_count": 93,
     "metadata": {},
     "output_type": "execute_result"
    }
   ],
   "source": [
    "sc.inverse_transform([[-0.161,0]])[0,0]"
   ]
  },
  {
   "cell_type": "markdown",
   "metadata": {},
   "source": [
    "## Random Forest Classifier"
   ]
  },
  {
   "cell_type": "code",
   "execution_count": 94,
   "metadata": {},
   "outputs": [],
   "source": [
    "# Fitting Random Forest Classification to the Training set\n",
    "from sklearn.ensemble import RandomForestClassifier\n",
    "rf = RandomForestClassifier(n_estimators = 5)\n",
    "rf.fit(X_train_sc, y_train)\n",
    "models.append('Random Forest')"
   ]
  },
  {
   "cell_type": "code",
   "execution_count": 95,
   "metadata": {},
   "outputs": [
    {
     "data": {
      "text/plain": [
       "5"
      ]
     },
     "execution_count": 95,
     "metadata": {},
     "output_type": "execute_result"
    }
   ],
   "source": [
    "trees = rf.estimators_\n",
    "len(trees)"
   ]
  },
  {
   "cell_type": "code",
   "execution_count": 96,
   "metadata": {},
   "outputs": [],
   "source": [
    "def get_internal_trees(trees, idx):\n",
    "    dot_data = StringIO()\n",
    "    export_graphviz(tree, out_file=dot_data,  \n",
    "                filled=True, rounded=True,\n",
    "                special_characters=True, \n",
    "                feature_names=feats, \n",
    "                class_names = classes)\n",
    "\n",
    "    graph = pydotplus.graph_from_dot_data(dot_data.getvalue()) \n",
    "    # Create PDF\n",
    "    graph.write_png(\"RandomForest_trees_%d.png\"%idx)"
   ]
  },
  {
   "cell_type": "code",
   "execution_count": 97,
   "metadata": {},
   "outputs": [],
   "source": [
    "idx = 1\n",
    "for tree in trees:\n",
    "    get_internal_trees(trees, idx)\n",
    "    idx=idx+1"
   ]
  },
  {
   "cell_type": "markdown",
   "metadata": {},
   "source": [
    "## AdaBoost Classifier"
   ]
  },
  {
   "cell_type": "code",
   "execution_count": 98,
   "metadata": {},
   "outputs": [],
   "source": [
    "# Fitting AdaBoost Classification to the Training set\n",
    "from sklearn.ensemble import AdaBoostClassifier\n",
    "adb = AdaBoostClassifier(base_estimator=dt, n_estimators=5, \n",
    "                         algorithm='SAMME.R', random_state=40)\n",
    "adb.fit(X_train_sc, y_train)\n",
    "models.append('AdaBoost')"
   ]
  },
  {
   "cell_type": "code",
   "execution_count": 99,
   "metadata": {},
   "outputs": [],
   "source": [
    "adb_trees = adb.estimators_"
   ]
  },
  {
   "cell_type": "code",
   "execution_count": 100,
   "metadata": {},
   "outputs": [],
   "source": [
    "idx = 1\n",
    "for tree in adb_trees:\n",
    "    get_internal_trees(trees, idx)\n",
    "    idx=idx+1"
   ]
  },
  {
   "cell_type": "markdown",
   "metadata": {},
   "source": [
    "## Average Ensemble"
   ]
  },
  {
   "cell_type": "code",
   "execution_count": 101,
   "metadata": {},
   "outputs": [],
   "source": [
    "# Fitting Voting Classifier Classification to the Training set\n",
    "from sklearn.ensemble import VotingClassifier\n",
    "vc = VotingClassifier(estimators=[('Logistic Regression',lr),\n",
    "                                   ('SVM',svc),\n",
    "                                   ('Decision Tree',dt),\n",
    "                                   ('Random Forest',rf),\n",
    "                                   ('AdaBoost',adb)], \n",
    "                       voting='hard')\n",
    "                       #flatten_transform=True)\n",
    "vc.fit(X_train_sc, y_train)\n",
    "models.append('Average Ensemble')"
   ]
  },
  {
   "cell_type": "code",
   "execution_count": 102,
   "metadata": {},
   "outputs": [
    {
     "data": {
      "text/plain": [
       "['Logistic Regression',\n",
       " 'SVM',\n",
       " 'Decision Trees',\n",
       " 'Random Forest',\n",
       " 'AdaBoost',\n",
       " 'Average Ensemble']"
      ]
     },
     "execution_count": 102,
     "metadata": {},
     "output_type": "execute_result"
    }
   ],
   "source": [
    "models"
   ]
  },
  {
   "cell_type": "code",
   "execution_count": null,
   "metadata": {},
   "outputs": [],
   "source": [
    "# Fitting Voting Classifier Classification to the Training set\n",
    "from sklearn.ensemble import VotingClassifier\n",
    "vc2 = VotingClassifier(estimators=[('Logistic Regression',lr),\n",
    "                                   ('SVM',svc),\n",
    "                                   ('Decision Tree',dt),\n",
    "                                   ('Random Forest',rf),\n",
    "                                   ('AdaBoost',adb)],\n",
    "                      voting='soft',\n",
    "                      flatten_transform=True, \n",
    "                      weights=[1,5,2,4,3])\n",
    "vc2.fit(X_train, y_train)"
   ]
  },
  {
   "cell_type": "markdown",
   "metadata": {},
   "source": [
    "### Evaluation through Confusion Matrix"
   ]
  },
  {
   "cell_type": "code",
   "execution_count": 103,
   "metadata": {},
   "outputs": [],
   "source": [
    "from sklearn.metrics import (confusion_matrix, \n",
    "                             accuracy_score, \n",
    "                             precision_score, \n",
    "                             recall_score, \n",
    "                             f1_score)"
   ]
  },
  {
   "cell_type": "code",
   "execution_count": 104,
   "metadata": {},
   "outputs": [
    {
     "name": "stdout",
     "output_type": "stream",
     "text": [
      "Confusion Matrix for LR: \n",
      " [[65  3]\n",
      " [ 8 24]]\n",
      "Accuracy for LR: \n",
      " 0.89\n",
      "Precision for LR: \n",
      " 0.8888888888888888\n",
      "Recall for LR: \n",
      " 0.75\n",
      "f1_score for LR: \n",
      " 0.8135593220338982\n"
     ]
    }
   ],
   "source": [
    "print('Confusion Matrix for LR: \\n',confusion_matrix(y_test, lr.predict(X_test_sc)))\n",
    "print('Accuracy for LR: \\n',accuracy_score(y_test, lr.predict(X_test_sc)))\n",
    "acc.append(accuracy_score(y_test, lr.predict(X_test_sc)))\n",
    "print('Precision for LR: \\n',precision_score(y_test, lr.predict(X_test_sc)))\n",
    "precision.append(precision_score(y_test, lr.predict(X_test_sc)))\n",
    "print('Recall for LR: \\n',recall_score(y_test, lr.predict(X_test_sc)))\n",
    "recall.append(recall_score(y_test, lr.predict(X_test_sc)))\n",
    "print('f1_score for LR: \\n',f1_score(y_test, lr.predict(X_test_sc)))\n",
    "f1.append(f1_score(y_test, lr.predict(X_test_sc)))"
   ]
  },
  {
   "cell_type": "code",
   "execution_count": 105,
   "metadata": {},
   "outputs": [
    {
     "name": "stdout",
     "output_type": "stream",
     "text": [
      "Confusion Matrix for SVM: \n",
      " [[64  4]\n",
      " [ 3 29]]\n",
      "Accuracy for SVM: \n",
      " 0.93\n",
      "Precision for SVM: \n",
      " 0.8787878787878788\n",
      "Recall for SVM: \n",
      " 0.90625\n",
      "f1_score for SVM: \n",
      " 0.8923076923076922\n"
     ]
    }
   ],
   "source": [
    "print('Confusion Matrix for SVM: \\n',confusion_matrix(y_test, svc.predict(X_test_sc)))\n",
    "print('Accuracy for SVM: \\n',accuracy_score(y_test, svc.predict(X_test_sc)))\n",
    "acc.append(accuracy_score(y_test, svc.predict(X_test_sc)))\n",
    "print('Precision for SVM: \\n',precision_score(y_test, svc.predict(X_test_sc)))\n",
    "precision.append(precision_score(y_test, svc.predict(X_test_sc)))\n",
    "print('Recall for SVM: \\n',recall_score(y_test, svc.predict(X_test_sc)))\n",
    "recall.append(recall_score(y_test, svc.predict(X_test_sc)))\n",
    "print('f1_score for SVM: \\n',f1_score(y_test, svc.predict(X_test_sc)))\n",
    "f1.append(f1_score(y_test, svc.predict(X_test_sc)))"
   ]
  },
  {
   "cell_type": "code",
   "execution_count": 106,
   "metadata": {},
   "outputs": [
    {
     "name": "stdout",
     "output_type": "stream",
     "text": [
      "Confusion Matrix for DTrees: \n",
      " [[64  4]\n",
      " [ 2 30]]\n",
      "Accuracy for DTrees: \n",
      " 0.94\n",
      "Precision for DTrees: \n",
      " 0.8823529411764706\n",
      "Recall for DTrees: \n",
      " 0.9375\n",
      "f1_score for DTrees: \n",
      " 0.9090909090909091\n"
     ]
    }
   ],
   "source": [
    "print('Confusion Matrix for DTrees: \\n',confusion_matrix(y_test, dt.predict(X_test_sc)))\n",
    "print('Accuracy for DTrees: \\n',accuracy_score(y_test, dt.predict(X_test_sc)))\n",
    "acc.append(accuracy_score(y_test, dt.predict(X_test_sc)))\n",
    "print('Precision for DTrees: \\n',precision_score(y_test, dt.predict(X_test_sc)))\n",
    "precision.append(precision_score(y_test, dt.predict(X_test_sc)))\n",
    "print('Recall for DTrees: \\n',recall_score(y_test, dt.predict(X_test_sc)))\n",
    "recall.append(recall_score(y_test, dt.predict(X_test_sc)))\n",
    "print('f1_score for DTrees: \\n',f1_score(y_test, dt.predict(X_test_sc)))\n",
    "f1.append(f1_score(y_test, dt.predict(X_test_sc)))"
   ]
  },
  {
   "cell_type": "code",
   "execution_count": 107,
   "metadata": {},
   "outputs": [
    {
     "name": "stdout",
     "output_type": "stream",
     "text": [
      "Confusion Matrix for RF: \n",
      " [[64  4]\n",
      " [ 3 29]]\n",
      "Accuracy for RF: \n",
      " 0.93\n",
      "Precision for RF: \n",
      " 0.8787878787878788\n",
      "Recall for RF: \n",
      " 0.90625\n",
      "f1_score for RF: \n",
      " 0.8923076923076922\n"
     ]
    }
   ],
   "source": [
    "print('Confusion Matrix for RF: \\n',confusion_matrix(y_test, rf.predict(X_test_sc)))\n",
    "print('Accuracy for RF: \\n',accuracy_score(y_test, rf.predict(X_test_sc)))\n",
    "acc.append(accuracy_score(y_test, rf.predict(X_test_sc)))\n",
    "print('Precision for RF: \\n',precision_score(y_test, rf.predict(X_test_sc)))\n",
    "precision.append(precision_score(y_test, rf.predict(X_test_sc)))\n",
    "print('Recall for RF: \\n',recall_score(y_test, rf.predict(X_test_sc)))\n",
    "recall.append(recall_score(y_test, rf.predict(X_test_sc)))\n",
    "print('f1_score for RF: \\n',f1_score(y_test, rf.predict(X_test_sc)))\n",
    "f1.append(f1_score(y_test, rf.predict(X_test_sc)))"
   ]
  },
  {
   "cell_type": "code",
   "execution_count": 108,
   "metadata": {},
   "outputs": [
    {
     "name": "stdout",
     "output_type": "stream",
     "text": [
      "Confusion Matrix for ADB: \n",
      " [[66  2]\n",
      " [ 4 28]]\n",
      "Accuracy for ADB: \n",
      " 0.94\n",
      "Precision for ADB: \n",
      " 0.9333333333333333\n",
      "Recall for ADB: \n",
      " 0.875\n",
      "f1_score for ADB: \n",
      " 0.9032258064516129\n"
     ]
    }
   ],
   "source": [
    "print('Confusion Matrix for ADB: \\n',confusion_matrix(y_test, adb.predict(X_test_sc)))\n",
    "print('Accuracy for ADB: \\n',accuracy_score(y_test, adb.predict(X_test_sc)))\n",
    "acc.append(accuracy_score(y_test, adb.predict(X_test_sc)))\n",
    "print('Precision for ADB: \\n',precision_score(y_test, adb.predict(X_test_sc)))\n",
    "precision.append(precision_score(y_test, adb.predict(X_test_sc)))\n",
    "print('Recall for ADB: \\n',recall_score(y_test, adb.predict(X_test_sc)))\n",
    "recall.append(recall_score(y_test, adb.predict(X_test_sc)))\n",
    "print('f1_score for ADB: \\n',f1_score(y_test, adb.predict(X_test_sc)))\n",
    "f1.append(f1_score(y_test, adb.predict(X_test_sc)))"
   ]
  },
  {
   "cell_type": "code",
   "execution_count": 109,
   "metadata": {},
   "outputs": [
    {
     "name": "stdout",
     "output_type": "stream",
     "text": [
      "Confusion Matrix for VC: \n",
      " [[64  4]\n",
      " [ 2 30]]\n",
      "Accuracy for VC: \n",
      " 0.94\n",
      "Precision for VC: \n",
      " 0.8823529411764706\n",
      "Recall for VC: \n",
      " 0.9375\n",
      "f1_score for VC: \n",
      " 0.9090909090909091\n"
     ]
    },
    {
     "name": "stderr",
     "output_type": "stream",
     "text": [
      "/home/abhinandan/anaconda3/lib/python3.6/site-packages/sklearn/preprocessing/label.py:151: DeprecationWarning: The truth value of an empty array is ambiguous. Returning False, but in future this will result in an error. Use `array.size > 0` to check that an array is not empty.\n",
      "  if diff:\n",
      "/home/abhinandan/anaconda3/lib/python3.6/site-packages/sklearn/preprocessing/label.py:151: DeprecationWarning: The truth value of an empty array is ambiguous. Returning False, but in future this will result in an error. Use `array.size > 0` to check that an array is not empty.\n",
      "  if diff:\n",
      "/home/abhinandan/anaconda3/lib/python3.6/site-packages/sklearn/preprocessing/label.py:151: DeprecationWarning: The truth value of an empty array is ambiguous. Returning False, but in future this will result in an error. Use `array.size > 0` to check that an array is not empty.\n",
      "  if diff:\n",
      "/home/abhinandan/anaconda3/lib/python3.6/site-packages/sklearn/preprocessing/label.py:151: DeprecationWarning: The truth value of an empty array is ambiguous. Returning False, but in future this will result in an error. Use `array.size > 0` to check that an array is not empty.\n",
      "  if diff:\n",
      "/home/abhinandan/anaconda3/lib/python3.6/site-packages/sklearn/preprocessing/label.py:151: DeprecationWarning: The truth value of an empty array is ambiguous. Returning False, but in future this will result in an error. Use `array.size > 0` to check that an array is not empty.\n",
      "  if diff:\n",
      "/home/abhinandan/anaconda3/lib/python3.6/site-packages/sklearn/preprocessing/label.py:151: DeprecationWarning: The truth value of an empty array is ambiguous. Returning False, but in future this will result in an error. Use `array.size > 0` to check that an array is not empty.\n",
      "  if diff:\n",
      "/home/abhinandan/anaconda3/lib/python3.6/site-packages/sklearn/preprocessing/label.py:151: DeprecationWarning: The truth value of an empty array is ambiguous. Returning False, but in future this will result in an error. Use `array.size > 0` to check that an array is not empty.\n",
      "  if diff:\n",
      "/home/abhinandan/anaconda3/lib/python3.6/site-packages/sklearn/preprocessing/label.py:151: DeprecationWarning: The truth value of an empty array is ambiguous. Returning False, but in future this will result in an error. Use `array.size > 0` to check that an array is not empty.\n",
      "  if diff:\n",
      "/home/abhinandan/anaconda3/lib/python3.6/site-packages/sklearn/preprocessing/label.py:151: DeprecationWarning: The truth value of an empty array is ambiguous. Returning False, but in future this will result in an error. Use `array.size > 0` to check that an array is not empty.\n",
      "  if diff:\n"
     ]
    }
   ],
   "source": [
    "print('Confusion Matrix for VC: \\n',confusion_matrix(y_test, vc.predict(X_test_sc)))\n",
    "print('Accuracy for VC: \\n',accuracy_score(y_test, vc.predict(X_test_sc)))\n",
    "acc.append(accuracy_score(y_test, vc.predict(X_test_sc)))\n",
    "print('Precision for VC: \\n',precision_score(y_test, vc.predict(X_test_sc)))\n",
    "precision.append(precision_score(y_test, vc.predict(X_test_sc)))\n",
    "print('Recall for VC: \\n',recall_score(y_test, vc.predict(X_test_sc)))\n",
    "recall.append(recall_score(y_test, vc.predict(X_test_sc)))\n",
    "print('f1_score for VC: \\n',f1_score(y_test, vc.predict(X_test_sc)))\n",
    "f1.append(f1_score(y_test, vc.predict(X_test_sc)))"
   ]
  },
  {
   "cell_type": "code",
   "execution_count": 110,
   "metadata": {},
   "outputs": [
    {
     "data": {
      "text/plain": [
       "['Logistic Regression',\n",
       " 'SVM',\n",
       " 'Decision Trees',\n",
       " 'Random Forest',\n",
       " 'AdaBoost',\n",
       " 'Average Ensemble']"
      ]
     },
     "execution_count": 110,
     "metadata": {},
     "output_type": "execute_result"
    }
   ],
   "source": [
    "models"
   ]
  },
  {
   "cell_type": "code",
   "execution_count": 111,
   "metadata": {},
   "outputs": [
    {
     "data": {
      "text/plain": [
       "[0.89, 0.93, 0.94, 0.93, 0.94, 0.94]"
      ]
     },
     "execution_count": 111,
     "metadata": {},
     "output_type": "execute_result"
    }
   ],
   "source": [
    "acc"
   ]
  },
  {
   "cell_type": "code",
   "execution_count": 112,
   "metadata": {},
   "outputs": [],
   "source": [
    "model_dict = {'Models': models,\n",
    "             'Accuracies': acc,\n",
    "             'Precision': precision,\n",
    "             'Recall': recall,\n",
    "             'f1-score': f1}"
   ]
  },
  {
   "cell_type": "code",
   "execution_count": 113,
   "metadata": {},
   "outputs": [
    {
     "data": {
      "text/html": [
       "<div>\n",
       "<style scoped>\n",
       "    .dataframe tbody tr th:only-of-type {\n",
       "        vertical-align: middle;\n",
       "    }\n",
       "\n",
       "    .dataframe tbody tr th {\n",
       "        vertical-align: top;\n",
       "    }\n",
       "\n",
       "    .dataframe thead th {\n",
       "        text-align: right;\n",
       "    }\n",
       "</style>\n",
       "<table border=\"1\" class=\"dataframe\">\n",
       "  <thead>\n",
       "    <tr style=\"text-align: right;\">\n",
       "      <th></th>\n",
       "      <th>Models</th>\n",
       "      <th>Accuracies</th>\n",
       "      <th>Precision</th>\n",
       "      <th>Recall</th>\n",
       "      <th>f1-score</th>\n",
       "    </tr>\n",
       "  </thead>\n",
       "  <tbody>\n",
       "    <tr>\n",
       "      <th>0</th>\n",
       "      <td>Logistic Regression</td>\n",
       "      <td>0.89</td>\n",
       "      <td>0.888889</td>\n",
       "      <td>0.75000</td>\n",
       "      <td>0.813559</td>\n",
       "    </tr>\n",
       "    <tr>\n",
       "      <th>1</th>\n",
       "      <td>SVM</td>\n",
       "      <td>0.93</td>\n",
       "      <td>0.878788</td>\n",
       "      <td>0.90625</td>\n",
       "      <td>0.892308</td>\n",
       "    </tr>\n",
       "    <tr>\n",
       "      <th>2</th>\n",
       "      <td>Decision Trees</td>\n",
       "      <td>0.94</td>\n",
       "      <td>0.882353</td>\n",
       "      <td>0.93750</td>\n",
       "      <td>0.909091</td>\n",
       "    </tr>\n",
       "    <tr>\n",
       "      <th>3</th>\n",
       "      <td>Random Forest</td>\n",
       "      <td>0.93</td>\n",
       "      <td>0.878788</td>\n",
       "      <td>0.90625</td>\n",
       "      <td>0.892308</td>\n",
       "    </tr>\n",
       "    <tr>\n",
       "      <th>4</th>\n",
       "      <td>AdaBoost</td>\n",
       "      <td>0.94</td>\n",
       "      <td>0.933333</td>\n",
       "      <td>0.87500</td>\n",
       "      <td>0.903226</td>\n",
       "    </tr>\n",
       "    <tr>\n",
       "      <th>5</th>\n",
       "      <td>Average Ensemble</td>\n",
       "      <td>0.94</td>\n",
       "      <td>0.882353</td>\n",
       "      <td>0.93750</td>\n",
       "      <td>0.909091</td>\n",
       "    </tr>\n",
       "  </tbody>\n",
       "</table>\n",
       "</div>"
      ],
      "text/plain": [
       "                Models  Accuracies  Precision   Recall  f1-score\n",
       "0  Logistic Regression        0.89   0.888889  0.75000  0.813559\n",
       "1                  SVM        0.93   0.878788  0.90625  0.892308\n",
       "2       Decision Trees        0.94   0.882353  0.93750  0.909091\n",
       "3        Random Forest        0.93   0.878788  0.90625  0.892308\n",
       "4             AdaBoost        0.94   0.933333  0.87500  0.903226\n",
       "5     Average Ensemble        0.94   0.882353  0.93750  0.909091"
      ]
     },
     "execution_count": 113,
     "metadata": {},
     "output_type": "execute_result"
    }
   ],
   "source": [
    "model_df = pd.DataFrame(model_dict)\n",
    "model_df"
   ]
  },
  {
   "cell_type": "code",
   "execution_count": 114,
   "metadata": {},
   "outputs": [],
   "source": [
    "model_df = model_df.sort_values(['Accuracies', 'f1-score', 'Recall', 'Precision'],\n",
    "                               ascending=False)"
   ]
  },
  {
   "cell_type": "code",
   "execution_count": 115,
   "metadata": {},
   "outputs": [
    {
     "data": {
      "text/html": [
       "<div>\n",
       "<style scoped>\n",
       "    .dataframe tbody tr th:only-of-type {\n",
       "        vertical-align: middle;\n",
       "    }\n",
       "\n",
       "    .dataframe tbody tr th {\n",
       "        vertical-align: top;\n",
       "    }\n",
       "\n",
       "    .dataframe thead th {\n",
       "        text-align: right;\n",
       "    }\n",
       "</style>\n",
       "<table border=\"1\" class=\"dataframe\">\n",
       "  <thead>\n",
       "    <tr style=\"text-align: right;\">\n",
       "      <th></th>\n",
       "      <th>Models</th>\n",
       "      <th>Accuracies</th>\n",
       "      <th>Precision</th>\n",
       "      <th>Recall</th>\n",
       "      <th>f1-score</th>\n",
       "    </tr>\n",
       "  </thead>\n",
       "  <tbody>\n",
       "    <tr>\n",
       "      <th>2</th>\n",
       "      <td>Decision Trees</td>\n",
       "      <td>0.94</td>\n",
       "      <td>0.882353</td>\n",
       "      <td>0.93750</td>\n",
       "      <td>0.909091</td>\n",
       "    </tr>\n",
       "    <tr>\n",
       "      <th>5</th>\n",
       "      <td>Average Ensemble</td>\n",
       "      <td>0.94</td>\n",
       "      <td>0.882353</td>\n",
       "      <td>0.93750</td>\n",
       "      <td>0.909091</td>\n",
       "    </tr>\n",
       "    <tr>\n",
       "      <th>4</th>\n",
       "      <td>AdaBoost</td>\n",
       "      <td>0.94</td>\n",
       "      <td>0.933333</td>\n",
       "      <td>0.87500</td>\n",
       "      <td>0.903226</td>\n",
       "    </tr>\n",
       "    <tr>\n",
       "      <th>1</th>\n",
       "      <td>SVM</td>\n",
       "      <td>0.93</td>\n",
       "      <td>0.878788</td>\n",
       "      <td>0.90625</td>\n",
       "      <td>0.892308</td>\n",
       "    </tr>\n",
       "    <tr>\n",
       "      <th>3</th>\n",
       "      <td>Random Forest</td>\n",
       "      <td>0.93</td>\n",
       "      <td>0.878788</td>\n",
       "      <td>0.90625</td>\n",
       "      <td>0.892308</td>\n",
       "    </tr>\n",
       "    <tr>\n",
       "      <th>0</th>\n",
       "      <td>Logistic Regression</td>\n",
       "      <td>0.89</td>\n",
       "      <td>0.888889</td>\n",
       "      <td>0.75000</td>\n",
       "      <td>0.813559</td>\n",
       "    </tr>\n",
       "  </tbody>\n",
       "</table>\n",
       "</div>"
      ],
      "text/plain": [
       "                Models  Accuracies  Precision   Recall  f1-score\n",
       "2       Decision Trees        0.94   0.882353  0.93750  0.909091\n",
       "5     Average Ensemble        0.94   0.882353  0.93750  0.909091\n",
       "4             AdaBoost        0.94   0.933333  0.87500  0.903226\n",
       "1                  SVM        0.93   0.878788  0.90625  0.892308\n",
       "3        Random Forest        0.93   0.878788  0.90625  0.892308\n",
       "0  Logistic Regression        0.89   0.888889  0.75000  0.813559"
      ]
     },
     "execution_count": 115,
     "metadata": {},
     "output_type": "execute_result"
    }
   ],
   "source": [
    "model_df"
   ]
  },
  {
   "cell_type": "code",
   "execution_count": 121,
   "metadata": {},
   "outputs": [
    {
     "data": {
      "text/plain": [
       "'Decision Trees'"
      ]
     },
     "execution_count": 121,
     "metadata": {},
     "output_type": "execute_result"
    }
   ],
   "source": [
    "best_model = model_df['Models'].values[0]\n",
    "best_model"
   ]
  },
  {
   "cell_type": "markdown",
   "metadata": {},
   "source": [
    "## Hyper parameter tuning"
   ]
  },
  {
   "cell_type": "code",
   "execution_count": 129,
   "metadata": {},
   "outputs": [],
   "source": [
    "from sklearn.model_selection import cross_val_score\n",
    "accuracies = cross_val_score(estimator = rf, \n",
    "                             X = X_train_sc, \n",
    "                             y = y_train, \n",
    "                             cv = 10)\n",
    "acMean = accuracies.mean()\n",
    "acStd = accuracies.std()"
   ]
  },
  {
   "cell_type": "code",
   "execution_count": 130,
   "metadata": {},
   "outputs": [
    {
     "data": {
      "text/plain": [
       "0.8702002224694105"
      ]
     },
     "execution_count": 130,
     "metadata": {},
     "output_type": "execute_result"
    }
   ],
   "source": [
    "acMean"
   ]
  },
  {
   "cell_type": "code",
   "execution_count": 131,
   "metadata": {},
   "outputs": [
    {
     "data": {
      "text/plain": [
       "0.06551774089488549"
      ]
     },
     "execution_count": 131,
     "metadata": {},
     "output_type": "execute_result"
    }
   ],
   "source": [
    "acStd"
   ]
  },
  {
   "cell_type": "code",
   "execution_count": 132,
   "metadata": {},
   "outputs": [
    {
     "data": {
      "text/plain": [
       "array([0.87096774, 0.86666667, 0.73333333, 0.86666667, 0.8       ,\n",
       "       0.83333333, 0.96666667, 0.9       , 0.93333333, 0.93103448])"
      ]
     },
     "execution_count": 132,
     "metadata": {},
     "output_type": "execute_result"
    }
   ],
   "source": [
    "accuracies"
   ]
  },
  {
   "cell_type": "code",
   "execution_count": null,
   "metadata": {},
   "outputs": [],
   "source": [
    "from sklearn.metrics import make_scorer, f1_score, roc_auc_score"
   ]
  },
  {
   "cell_type": "code",
   "execution_count": null,
   "metadata": {},
   "outputs": [],
   "source": [
    "# Define scorer\n",
    "def f1_metric(y_test, y_pred):\n",
    "    score1 = f1_score(y_test, y_pred)\n",
    "    return score\n",
    "def roc_metric(y_test, y_pred):\n",
    "    score = roc_auc_score(y_test, y_pred)\n",
    "    return score"
   ]
  },
  {
   "cell_type": "code",
   "execution_count": null,
   "metadata": {},
   "outputs": [],
   "source": [
    "roc_auc_scorer = make_scorer(roc_metric,greater_is_better=True)\n",
    "f1_scorer = make_scorer(f1_metric,greater_is_better=True)"
   ]
  },
  {
   "cell_type": "code",
   "execution_count": 126,
   "metadata": {},
   "outputs": [],
   "source": [
    "# Applying Grid Search to find the best model and the best parameters\n",
    "from sklearn.model_selection import GridSearchCV\n",
    "parameters = {\"n_estimators\": [5, 7, 10],\n",
    "              \"criterion\":['gini','entropy'],\n",
    "              \"max_depth\": [3,4,5],\n",
    "              \"min_samples_split\": [10, 20, 30],\n",
    "              \"min_samples_leaf\": [1, 5, 15],\n",
    "              \"min_weight_fraction_leaf\": [0.1, 0.05, 0.005]}\n",
    "\n",
    "grid_search = GridSearchCV(estimator = rf,\n",
    "                           param_grid = parameters,\n",
    "                           scoring = 'accuracy',\n",
    "                           cv = 10,\n",
    "                           n_jobs = -1)\n",
    "grid_search = grid_search.fit(X_train_sc, y_train)"
   ]
  },
  {
   "cell_type": "code",
   "execution_count": 127,
   "metadata": {},
   "outputs": [],
   "source": [
    "best_accuracy = grid_search.best_score_"
   ]
  },
  {
   "cell_type": "code",
   "execution_count": 128,
   "metadata": {},
   "outputs": [
    {
     "data": {
      "text/plain": [
       "0.91"
      ]
     },
     "execution_count": 128,
     "metadata": {},
     "output_type": "execute_result"
    }
   ],
   "source": [
    "best_accuracy"
   ]
  },
  {
   "cell_type": "code",
   "execution_count": 133,
   "metadata": {},
   "outputs": [],
   "source": [
    "best_parameters = grid_search.best_params_"
   ]
  },
  {
   "cell_type": "code",
   "execution_count": 134,
   "metadata": {},
   "outputs": [
    {
     "data": {
      "text/plain": [
       "{'criterion': 'gini',\n",
       " 'max_depth': 5,\n",
       " 'min_samples_leaf': 1,\n",
       " 'min_samples_split': 10,\n",
       " 'min_weight_fraction_leaf': 0.1,\n",
       " 'n_estimators': 10}"
      ]
     },
     "execution_count": 134,
     "metadata": {},
     "output_type": "execute_result"
    }
   ],
   "source": [
    "best_parameters"
   ]
  },
  {
   "cell_type": "code",
   "execution_count": 137,
   "metadata": {},
   "outputs": [
    {
     "data": {
      "text/plain": [
       "RandomForestClassifier(bootstrap=True, class_weight=None, criterion='gini',\n",
       "            max_depth=5, max_features='auto', max_leaf_nodes=None,\n",
       "            min_impurity_decrease=0.0, min_impurity_split=None,\n",
       "            min_samples_leaf=1, min_samples_split=10,\n",
       "            min_weight_fraction_leaf=0.1, n_estimators=10, n_jobs=1,\n",
       "            oob_score=False, random_state=None, verbose=0,\n",
       "            warm_start=False)"
      ]
     },
     "execution_count": 137,
     "metadata": {},
     "output_type": "execute_result"
    }
   ],
   "source": [
    "# Fitting Final Model on training set\n",
    "from sklearn.ensemble import RandomForestClassifier\n",
    "tunedRF = RandomForestClassifier(n_estimators = best_parameters[\"n_estimators\"],\n",
    "                                 criterion = best_parameters[\"criterion\"],\n",
    "                                 max_depth = best_parameters[\"max_depth\"],\n",
    "                                 min_samples_split = best_parameters[\"min_samples_split\"],\n",
    "                                 min_samples_leaf = best_parameters[\"min_samples_leaf\"],\n",
    "                                 min_weight_fraction_leaf = best_parameters[\"min_weight_fraction_leaf\"])\n",
    "tunedRF.fit(X_train_sc, y_train)"
   ]
  },
  {
   "cell_type": "code",
   "execution_count": 138,
   "metadata": {},
   "outputs": [
    {
     "name": "stdout",
     "output_type": "stream",
     "text": [
      "Confusion Matrix for Tuned RF: \n",
      " [[64  4]\n",
      " [ 2 30]]\n",
      "Accuracy for Tuned RF: \n",
      " 0.94\n",
      "Precision for Tuned RF: \n",
      " 0.8823529411764706\n",
      "Recall for Tuned RF: \n",
      " 0.9375\n",
      "f1_score for Tuned RF: \n",
      " 0.9090909090909091\n"
     ]
    }
   ],
   "source": [
    "print('Confusion Matrix for Tuned RF: \\n',confusion_matrix(y_test, tunedRF.predict(X_test_sc)))\n",
    "print('Accuracy for Tuned RF: \\n',accuracy_score(y_test, tunedRF.predict(X_test_sc)))\n",
    "acc.append(accuracy_score(y_test, tunedRF.predict(X_test_sc)))\n",
    "print('Precision for Tuned RF: \\n',precision_score(y_test, tunedRF.predict(X_test_sc)))\n",
    "precision.append(precision_score(y_test, tunedRF.predict(X_test_sc)))\n",
    "print('Recall for Tuned RF: \\n',recall_score(y_test, tunedRF.predict(X_test_sc)))\n",
    "recall.append(recall_score(y_test, tunedRF.predict(X_test_sc)))\n",
    "print('f1_score for Tuned RF: \\n',f1_score(y_test, tunedRF.predict(X_test_sc)))\n",
    "f1.append(f1_score(y_test, tunedRF.predict(X_test_sc)))"
   ]
  },
  {
   "cell_type": "code",
   "execution_count": null,
   "metadata": {},
   "outputs": [],
   "source": []
  }
 ],
 "metadata": {
  "kernelspec": {
   "display_name": "Python 3",
   "language": "python",
   "name": "python3"
  },
  "language_info": {
   "codemirror_mode": {
    "name": "ipython",
    "version": 3
   },
   "file_extension": ".py",
   "mimetype": "text/x-python",
   "name": "python",
   "nbconvert_exporter": "python",
   "pygments_lexer": "ipython3",
   "version": "3.7.3"
  },
  "toc": {
   "base_numbering": 1,
   "nav_menu": {},
   "number_sections": true,
   "sideBar": true,
   "skip_h1_title": false,
   "title_cell": "Table of Contents",
   "title_sidebar": "Contents",
   "toc_cell": false,
   "toc_position": {},
   "toc_section_display": true,
   "toc_window_display": false
  }
 },
 "nbformat": 4,
 "nbformat_minor": 2
}
