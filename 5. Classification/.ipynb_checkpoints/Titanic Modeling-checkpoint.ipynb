{
 "cells": [
  {
   "cell_type": "code",
   "execution_count": 56,
   "metadata": {},
   "outputs": [],
   "source": [
    "import pandas as pd\n",
    "import numpy as np\n",
    "import matplotlib.pyplot as plt\n",
    "%matplotlib inline"
   ]
  },
  {
   "cell_type": "code",
   "execution_count": 57,
   "metadata": {},
   "outputs": [],
   "source": [
    "models=[]\n",
    "acc=[]\n",
    "precision=[]\n",
    "recall=[]\n",
    "f1=[]"
   ]
  },
  {
   "cell_type": "markdown",
   "metadata": {},
   "source": [
    "## Reading and Manupulating Data\n"
   ]
  },
  {
   "cell_type": "code",
   "execution_count": 58,
   "metadata": {},
   "outputs": [],
   "source": [
    "data=pd.read_csv(\"titanic_train_clean.csv\",index_col=0)"
   ]
  },
  {
   "cell_type": "code",
   "execution_count": 59,
   "metadata": {},
   "outputs": [
    {
     "data": {
      "text/html": [
       "<div>\n",
       "<style scoped>\n",
       "    .dataframe tbody tr th:only-of-type {\n",
       "        vertical-align: middle;\n",
       "    }\n",
       "\n",
       "    .dataframe tbody tr th {\n",
       "        vertical-align: top;\n",
       "    }\n",
       "\n",
       "    .dataframe thead th {\n",
       "        text-align: right;\n",
       "    }\n",
       "</style>\n",
       "<table border=\"1\" class=\"dataframe\">\n",
       "  <thead>\n",
       "    <tr style=\"text-align: right;\">\n",
       "      <th></th>\n",
       "      <th>Survived</th>\n",
       "      <th>Age</th>\n",
       "      <th>SibSp</th>\n",
       "      <th>Parch</th>\n",
       "      <th>Fare</th>\n",
       "      <th>WOE_Sex</th>\n",
       "      <th>WOE_Embarked</th>\n",
       "      <th>WOE_Cabin</th>\n",
       "      <th>WOE_Pclass</th>\n",
       "    </tr>\n",
       "  </thead>\n",
       "  <tbody>\n",
       "    <tr>\n",
       "      <th>0</th>\n",
       "      <td>0</td>\n",
       "      <td>22.0</td>\n",
       "      <td>1</td>\n",
       "      <td>0</td>\n",
       "      <td>7.2500</td>\n",
       "      <td>-1.457120</td>\n",
       "      <td>-0.676887</td>\n",
       "      <td>-0.847991</td>\n",
       "      <td>-1.139770</td>\n",
       "    </tr>\n",
       "    <tr>\n",
       "      <th>1</th>\n",
       "      <td>1</td>\n",
       "      <td>38.0</td>\n",
       "      <td>1</td>\n",
       "      <td>0</td>\n",
       "      <td>71.2833</td>\n",
       "      <td>1.047969</td>\n",
       "      <td>0.215111</td>\n",
       "      <td>11.512925</td>\n",
       "      <td>0.515813</td>\n",
       "    </tr>\n",
       "    <tr>\n",
       "      <th>2</th>\n",
       "      <td>1</td>\n",
       "      <td>26.0</td>\n",
       "      <td>0</td>\n",
       "      <td>0</td>\n",
       "      <td>7.9250</td>\n",
       "      <td>1.047969</td>\n",
       "      <td>-0.676887</td>\n",
       "      <td>-0.847991</td>\n",
       "      <td>-1.139770</td>\n",
       "    </tr>\n",
       "    <tr>\n",
       "      <th>3</th>\n",
       "      <td>1</td>\n",
       "      <td>35.0</td>\n",
       "      <td>1</td>\n",
       "      <td>0</td>\n",
       "      <td>53.1000</td>\n",
       "      <td>1.047969</td>\n",
       "      <td>-0.676887</td>\n",
       "      <td>0.000000</td>\n",
       "      <td>0.515813</td>\n",
       "    </tr>\n",
       "    <tr>\n",
       "      <th>4</th>\n",
       "      <td>0</td>\n",
       "      <td>35.0</td>\n",
       "      <td>0</td>\n",
       "      <td>0</td>\n",
       "      <td>8.0500</td>\n",
       "      <td>-1.457120</td>\n",
       "      <td>-0.676887</td>\n",
       "      <td>-0.847991</td>\n",
       "      <td>-1.139770</td>\n",
       "    </tr>\n",
       "  </tbody>\n",
       "</table>\n",
       "</div>"
      ],
      "text/plain": [
       "   Survived   Age  SibSp  Parch     Fare   WOE_Sex  WOE_Embarked  WOE_Cabin  \\\n",
       "0         0  22.0      1      0   7.2500 -1.457120     -0.676887  -0.847991   \n",
       "1         1  38.0      1      0  71.2833  1.047969      0.215111  11.512925   \n",
       "2         1  26.0      0      0   7.9250  1.047969     -0.676887  -0.847991   \n",
       "3         1  35.0      1      0  53.1000  1.047969     -0.676887   0.000000   \n",
       "4         0  35.0      0      0   8.0500 -1.457120     -0.676887  -0.847991   \n",
       "\n",
       "   WOE_Pclass  \n",
       "0   -1.139770  \n",
       "1    0.515813  \n",
       "2   -1.139770  \n",
       "3    0.515813  \n",
       "4   -1.139770  "
      ]
     },
     "execution_count": 59,
     "metadata": {},
     "output_type": "execute_result"
    }
   ],
   "source": [
    "data.head()"
   ]
  },
  {
   "cell_type": "code",
   "execution_count": 60,
   "metadata": {},
   "outputs": [],
   "source": [
    "data=data.rename(index=str,columns={'WOE_Sex':'Sex','WOE_Embarked':'Embarked','WOE_Cabin':'Cabin','WOE_Pclass':'Pclass'})"
   ]
  },
  {
   "cell_type": "code",
   "execution_count": 61,
   "metadata": {},
   "outputs": [
    {
     "data": {
      "text/html": [
       "<div>\n",
       "<style scoped>\n",
       "    .dataframe tbody tr th:only-of-type {\n",
       "        vertical-align: middle;\n",
       "    }\n",
       "\n",
       "    .dataframe tbody tr th {\n",
       "        vertical-align: top;\n",
       "    }\n",
       "\n",
       "    .dataframe thead th {\n",
       "        text-align: right;\n",
       "    }\n",
       "</style>\n",
       "<table border=\"1\" class=\"dataframe\">\n",
       "  <thead>\n",
       "    <tr style=\"text-align: right;\">\n",
       "      <th></th>\n",
       "      <th>Survived</th>\n",
       "      <th>Age</th>\n",
       "      <th>SibSp</th>\n",
       "      <th>Parch</th>\n",
       "      <th>Fare</th>\n",
       "      <th>Sex</th>\n",
       "      <th>Embarked</th>\n",
       "      <th>Cabin</th>\n",
       "      <th>Pclass</th>\n",
       "    </tr>\n",
       "  </thead>\n",
       "  <tbody>\n",
       "    <tr>\n",
       "      <th>0</th>\n",
       "      <td>0</td>\n",
       "      <td>22.0</td>\n",
       "      <td>1</td>\n",
       "      <td>0</td>\n",
       "      <td>7.2500</td>\n",
       "      <td>-1.457120</td>\n",
       "      <td>-0.676887</td>\n",
       "      <td>-0.847991</td>\n",
       "      <td>-1.139770</td>\n",
       "    </tr>\n",
       "    <tr>\n",
       "      <th>1</th>\n",
       "      <td>1</td>\n",
       "      <td>38.0</td>\n",
       "      <td>1</td>\n",
       "      <td>0</td>\n",
       "      <td>71.2833</td>\n",
       "      <td>1.047969</td>\n",
       "      <td>0.215111</td>\n",
       "      <td>11.512925</td>\n",
       "      <td>0.515813</td>\n",
       "    </tr>\n",
       "    <tr>\n",
       "      <th>2</th>\n",
       "      <td>1</td>\n",
       "      <td>26.0</td>\n",
       "      <td>0</td>\n",
       "      <td>0</td>\n",
       "      <td>7.9250</td>\n",
       "      <td>1.047969</td>\n",
       "      <td>-0.676887</td>\n",
       "      <td>-0.847991</td>\n",
       "      <td>-1.139770</td>\n",
       "    </tr>\n",
       "    <tr>\n",
       "      <th>3</th>\n",
       "      <td>1</td>\n",
       "      <td>35.0</td>\n",
       "      <td>1</td>\n",
       "      <td>0</td>\n",
       "      <td>53.1000</td>\n",
       "      <td>1.047969</td>\n",
       "      <td>-0.676887</td>\n",
       "      <td>0.000000</td>\n",
       "      <td>0.515813</td>\n",
       "    </tr>\n",
       "    <tr>\n",
       "      <th>4</th>\n",
       "      <td>0</td>\n",
       "      <td>35.0</td>\n",
       "      <td>0</td>\n",
       "      <td>0</td>\n",
       "      <td>8.0500</td>\n",
       "      <td>-1.457120</td>\n",
       "      <td>-0.676887</td>\n",
       "      <td>-0.847991</td>\n",
       "      <td>-1.139770</td>\n",
       "    </tr>\n",
       "  </tbody>\n",
       "</table>\n",
       "</div>"
      ],
      "text/plain": [
       "   Survived   Age  SibSp  Parch     Fare       Sex  Embarked      Cabin  \\\n",
       "0         0  22.0      1      0   7.2500 -1.457120 -0.676887  -0.847991   \n",
       "1         1  38.0      1      0  71.2833  1.047969  0.215111  11.512925   \n",
       "2         1  26.0      0      0   7.9250  1.047969 -0.676887  -0.847991   \n",
       "3         1  35.0      1      0  53.1000  1.047969 -0.676887   0.000000   \n",
       "4         0  35.0      0      0   8.0500 -1.457120 -0.676887  -0.847991   \n",
       "\n",
       "     Pclass  \n",
       "0 -1.139770  \n",
       "1  0.515813  \n",
       "2 -1.139770  \n",
       "3  0.515813  \n",
       "4 -1.139770  "
      ]
     },
     "execution_count": 61,
     "metadata": {},
     "output_type": "execute_result"
    }
   ],
   "source": [
    "data.head()"
   ]
  },
  {
   "cell_type": "markdown",
   "metadata": {},
   "source": [
    "#### Spliting the Data"
   ]
  },
  {
   "cell_type": "code",
   "execution_count": 62,
   "metadata": {},
   "outputs": [
    {
     "name": "stdout",
     "output_type": "stream",
     "text": [
      "[[22.          1.          0.         ... -0.67688666 -0.8479911\n",
      "  -1.13977036]\n",
      " [38.          1.          0.         ...  0.21511138 11.51292546\n",
      "   0.51581317]\n",
      " [26.          0.          0.         ... -0.67688666 -0.8479911\n",
      "  -1.13977036]\n",
      " ...\n",
      " [29.69911765  1.          2.         ... -0.67688666 -0.8479911\n",
      "  -1.13977036]\n",
      " [26.          0.          0.         ...  0.21511138 11.51292546\n",
      "   0.51581317]\n",
      " [32.          0.          0.         ... -0.44895022 -0.8479911\n",
      "  -1.13977036]]\n"
     ]
    }
   ],
   "source": [
    "X=data.iloc[:,1:].values\n",
    "print(X)"
   ]
  },
  {
   "cell_type": "code",
   "execution_count": 63,
   "metadata": {},
   "outputs": [],
   "source": [
    "y=data.iloc[:,0].values\n",
    "\n",
    "#print(y)"
   ]
  },
  {
   "cell_type": "code",
   "execution_count": 64,
   "metadata": {},
   "outputs": [],
   "source": [
    "from sklearn.model_selection import train_test_split "
   ]
  },
  {
   "cell_type": "code",
   "execution_count": 65,
   "metadata": {},
   "outputs": [],
   "source": [
    "X_train,X_test,y_train,y_test=train_test_split(X,y,test_size=0.25,random_state=0)"
   ]
  },
  {
   "cell_type": "code",
   "execution_count": 66,
   "metadata": {},
   "outputs": [
    {
     "data": {
      "text/plain": [
       "(array([ 31.,  11.,  13.,  22.,  64.,  71.,  61., 195.,  57.,  31.,  23.,\n",
       "         27.,  22.,  13.,   9.,   7.,   2.,   5.,   1.,   1.]),\n",
       " array([ 0.42 ,  4.399,  8.378, 12.357, 16.336, 20.315, 24.294, 28.273,\n",
       "        32.252, 36.231, 40.21 , 44.189, 48.168, 52.147, 56.126, 60.105,\n",
       "        64.084, 68.063, 72.042, 76.021, 80.   ]),\n",
       " <a list of 20 Patch objects>)"
      ]
     },
     "execution_count": 66,
     "metadata": {},
     "output_type": "execute_result"
    },
    {
     "data": {
      "image/png": "[encoded data removed]",
      "text/plain": [
       "<Figure size 432x288 with 1 Axes>"
      ]
     },
     "metadata": {
      "needs_background": "light"
     },
     "output_type": "display_data"
    }
   ],
   "source": [
    "plt.hist(X_train[:,0],bins=20)"
   ]
  },
  {
   "cell_type": "code",
   "execution_count": 67,
   "metadata": {},
   "outputs": [
    {
     "data": {
      "text/plain": [
       "(array([421., 133.,  50.,  25.,   7.,  12.,   2.,   0.,   7.,   2.,   4.,\n",
       "          0.,   0.,   0.,   0.,   0.,   0.,   0.,   0.,   3.]),\n",
       " array([  0.     ,  25.61646,  51.23292,  76.84938, 102.46584, 128.0823 ,\n",
       "        153.69876, 179.31522, 204.93168, 230.54814, 256.1646 , 281.78106,\n",
       "        307.39752, 333.01398, 358.63044, 384.2469 , 409.86336, 435.47982,\n",
       "        461.09628, 486.71274, 512.3292 ]),\n",
       " <a list of 20 Patch objects>)"
      ]
     },
     "execution_count": 67,
     "metadata": {},
     "output_type": "execute_result"
    },
    {
     "data": {
      "image/png": "[encoded data removed]",
      "text/plain": [
       "<Figure size 432x288 with 1 Axes>"
      ]
     },
     "metadata": {
      "needs_background": "light"
     },
     "output_type": "display_data"
    }
   ],
   "source": [
    "plt.hist(X_train[:,3],bins=20)"
   ]
  },
  {
   "cell_type": "markdown",
   "metadata": {},
   "source": [
    "#### Scaling the Data"
   ]
  },
  {
   "cell_type": "code",
   "execution_count": 68,
   "metadata": {},
   "outputs": [],
   "source": [
    "from sklearn.preprocessing import StandardScaler\n",
    "sc=StandardScaler()"
   ]
  },
  {
   "cell_type": "code",
   "execution_count": 69,
   "metadata": {},
   "outputs": [],
   "source": [
    "X_train_sc=sc.fit_transform(X_train)"
   ]
  },
  {
   "cell_type": "code",
   "execution_count": 70,
   "metadata": {},
   "outputs": [],
   "source": [
    "X_test_sc=sc.transform(X_test)"
   ]
  },
  {
   "cell_type": "code",
   "execution_count": 71,
   "metadata": {},
   "outputs": [],
   "source": [
    "import seaborn as sns"
   ]
  },
  {
   "cell_type": "code",
   "execution_count": 72,
   "metadata": {},
   "outputs": [
    {
     "name": "stderr",
     "output_type": "stream",
     "text": [
      "C:\\Users\\sachin.gupta\\AppData\\Local\\Continuum\\anaconda3\\lib\\site-packages\\scipy\\stats\\stats.py:1713: FutureWarning: Using a non-tuple sequence for multidimensional indexing is deprecated; use `arr[tuple(seq)]` instead of `arr[seq]`. In the future this will be interpreted as an array index, `arr[np.array(seq)]`, which will result either in an error or a different result.\n",
      "  return np.add.reduce(sorted[indexer] * weights, axis=axis) / sumval\n"
     ]
    },
    {
     "data": {
      "text/plain": [
       "<seaborn.axisgrid.JointGrid at 0x15eb11ca668>"
      ]
     },
     "execution_count": 72,
     "metadata": {},
     "output_type": "execute_result"
    },
    {
     "data": {
      "image/png": "[encoded data removed]",
      "text/plain": [
       "<Figure size 432x432 with 3 Axes>"
      ]
     },
     "metadata": {
      "needs_background": "light"
     },
     "output_type": "display_data"
    }
   ],
   "source": [
    "sns.jointplot(X_train[:,0],X_train_sc[:,0],kind='kde')"
   ]
  },
  {
   "cell_type": "code",
   "execution_count": 73,
   "metadata": {},
   "outputs": [
    {
     "name": "stderr",
     "output_type": "stream",
     "text": [
      "C:\\Users\\sachin.gupta\\AppData\\Local\\Continuum\\anaconda3\\lib\\site-packages\\scipy\\stats\\stats.py:1713: FutureWarning: Using a non-tuple sequence for multidimensional indexing is deprecated; use `arr[tuple(seq)]` instead of `arr[seq]`. In the future this will be interpreted as an array index, `arr[np.array(seq)]`, which will result either in an error or a different result.\n",
      "  return np.add.reduce(sorted[indexer] * weights, axis=axis) / sumval\n"
     ]
    },
    {
     "data": {
      "text/plain": [
       "<seaborn.axisgrid.JointGrid at 0x15eb12bb860>"
      ]
     },
     "execution_count": 73,
     "metadata": {},
     "output_type": "execute_result"
    },
    {
     "data": {
      "image/png": "[encoded data removed]",
      "text/plain": [
       "<Figure size 432x432 with 3 Axes>"
      ]
     },
     "metadata": {
      "needs_background": "light"
     },
     "output_type": "display_data"
    }
   ],
   "source": [
    "sns.jointplot(X_train[:,3],X_train_sc[:,3],kind='kde')"
   ]
  },
  {
   "cell_type": "code",
   "execution_count": 74,
   "metadata": {},
   "outputs": [
    {
     "name": "stdout",
     "output_type": "stream",
     "text": [
      "[[ 0.11318884 -0.47907352  1.94945952 ... -0.55033139  2.34642839\n",
      "   1.48801906]\n",
      " [ 0.72337988 -0.47907352 -0.45933462 ... -0.55033139 -0.19578217\n",
      "   0.60322449]\n",
      " [ 0.01396549  0.42223429 -0.45933462 ... -0.55033139 -0.19578217\n",
      "  -0.85718383]\n",
      " ...\n",
      " [ 3.85060899 -0.47907352 -0.45933462 ... -0.55033139  2.34642839\n",
      "   1.48801906]\n",
      " [ 0.01396549 -0.47907352 -0.45933462 ...  0.10320843 -0.19578217\n",
      "  -0.85718383]\n",
      " [-0.34445445  0.42223429  1.94945952 ...  2.00720717 -0.19578217\n",
      "   0.60322449]]\n"
     ]
    }
   ],
   "source": [
    "print(X_train_sc)"
   ]
  },
  {
   "cell_type": "markdown",
   "metadata": {},
   "source": [
    "## Logistic Regression"
   ]
  },
  {
   "cell_type": "code",
   "execution_count": 75,
   "metadata": {},
   "outputs": [],
   "source": [
    "from sklearn.linear_model import LogisticRegression\n",
    "\n",
    "lr=LogisticRegression()"
   ]
  },
  {
   "cell_type": "code",
   "execution_count": 76,
   "metadata": {},
   "outputs": [
    {
     "data": {
      "text/plain": [
       "LogisticRegression(C=1.0, class_weight=None, dual=False, fit_intercept=True,\n",
       "          intercept_scaling=1, max_iter=100, multi_class='ovr', n_jobs=1,\n",
       "          penalty='l2', random_state=None, solver='liblinear', tol=0.0001,\n",
       "          verbose=0, warm_start=False)"
      ]
     },
     "execution_count": 76,
     "metadata": {},
     "output_type": "execute_result"
    }
   ],
   "source": [
    "lr.fit(X_train_sc,y_train)"
   ]
  },
  {
   "cell_type": "code",
   "execution_count": 77,
   "metadata": {},
   "outputs": [
    {
     "data": {
      "text/plain": [
       "array([-0.51045024])"
      ]
     },
     "execution_count": 77,
     "metadata": {},
     "output_type": "execute_result"
    }
   ],
   "source": [
    "lr.intercept_"
   ]
  },
  {
   "cell_type": "code",
   "execution_count": 78,
   "metadata": {},
   "outputs": [
    {
     "data": {
      "text/plain": [
       "array([[-0.67553638, -0.47683584, -0.06188581,  0.1365665 ,  1.32928924,\n",
       "         0.21287265,  2.02650666,  0.64603704]])"
      ]
     },
     "execution_count": 78,
     "metadata": {},
     "output_type": "execute_result"
    }
   ],
   "source": [
    "lr.coef_"
   ]
  },
  {
   "cell_type": "code",
   "execution_count": 79,
   "metadata": {},
   "outputs": [],
   "source": [
    "y_pred=lr.predict(X_test_sc)"
   ]
  },
  {
   "cell_type": "code",
   "execution_count": 80,
   "metadata": {},
   "outputs": [
    {
     "data": {
      "text/plain": [
       "223"
      ]
     },
     "execution_count": 80,
     "metadata": {},
     "output_type": "execute_result"
    }
   ],
   "source": [
    "len(y_pred)"
   ]
  },
  {
   "cell_type": "code",
   "execution_count": 81,
   "metadata": {},
   "outputs": [
    {
     "data": {
      "text/plain": [
       "223"
      ]
     },
     "execution_count": 81,
     "metadata": {},
     "output_type": "execute_result"
    }
   ],
   "source": [
    "len(y_test)"
   ]
  },
  {
   "cell_type": "code",
   "execution_count": 82,
   "metadata": {},
   "outputs": [
    {
     "data": {
      "text/html": [
       "<div>\n",
       "<style scoped>\n",
       "    .dataframe tbody tr th:only-of-type {\n",
       "        vertical-align: middle;\n",
       "    }\n",
       "\n",
       "    .dataframe tbody tr th {\n",
       "        vertical-align: top;\n",
       "    }\n",
       "\n",
       "    .dataframe thead th {\n",
       "        text-align: right;\n",
       "    }\n",
       "</style>\n",
       "<table border=\"1\" class=\"dataframe\">\n",
       "  <thead>\n",
       "    <tr style=\"text-align: right;\">\n",
       "      <th>col_0</th>\n",
       "      <th>0</th>\n",
       "      <th>1</th>\n",
       "    </tr>\n",
       "    <tr>\n",
       "      <th>row_0</th>\n",
       "      <th></th>\n",
       "      <th></th>\n",
       "    </tr>\n",
       "  </thead>\n",
       "  <tbody>\n",
       "    <tr>\n",
       "      <th>0</th>\n",
       "      <td>114</td>\n",
       "      <td>18</td>\n",
       "    </tr>\n",
       "    <tr>\n",
       "      <th>1</th>\n",
       "      <td>21</td>\n",
       "      <td>70</td>\n",
       "    </tr>\n",
       "  </tbody>\n",
       "</table>\n",
       "</div>"
      ],
      "text/plain": [
       "col_0    0   1\n",
       "row_0         \n",
       "0      114  18\n",
       "1       21  70"
      ]
     },
     "execution_count": 82,
     "metadata": {},
     "output_type": "execute_result"
    }
   ],
   "source": [
    "pd.crosstab(y_test,y_pred)"
   ]
  },
  {
   "cell_type": "code",
   "execution_count": 83,
   "metadata": {},
   "outputs": [],
   "source": [
    "from sklearn.metrics import (confusion_matrix,accuracy_score,precision_score,recall_score,f1_score)"
   ]
  },
  {
   "cell_type": "code",
   "execution_count": 84,
   "metadata": {},
   "outputs": [
    {
     "name": "stdout",
     "output_type": "stream",
     "text": [
      "confusion Metrix :\n",
      " [[114  18]\n",
      " [ 21  70]]\n",
      "Accuracy Score :\n",
      " 0.8251121076233184\n",
      "Precision Score:\n",
      " 0.7954545454545454\n",
      "Recall score: \n",
      " 0.7692307692307693\n",
      "F1 score: \n",
      " 0.782122905027933\n"
     ]
    }
   ],
   "source": [
    "print(\"confusion Metrix :\\n\",confusion_matrix(y_test,y_pred))\n",
    "print(\"Accuracy Score :\\n\",accuracy_score(y_test,y_pred))\n",
    "print(\"Precision Score:\\n\",precision_score(y_test,y_pred))\n",
    "print(\"Recall score: \\n\",recall_score(y_test,y_pred))\n",
    "print(\"F1 score: \\n\",f1_score(y_test,y_pred))"
   ]
  },
  {
   "cell_type": "markdown",
   "metadata": {},
   "source": [
    "#### Appending Metrics"
   ]
  },
  {
   "cell_type": "code",
   "execution_count": 85,
   "metadata": {},
   "outputs": [],
   "source": [
    "models.append(\"Logistic Regression\")\n",
    "acc.append(accuracy_score(y_test,y_pred))\n",
    "precision.append(precision_score(y_test,y_pred))\n",
    "recall.append(recall_score(y_test,y_pred))\n",
    "f1.append(f1_score(y_test,y_pred))"
   ]
  },
  {
   "cell_type": "markdown",
   "metadata": {},
   "source": [
    "# Decision Tree"
   ]
  },
  {
   "cell_type": "code",
   "execution_count": 86,
   "metadata": {},
   "outputs": [],
   "source": [
    "from sklearn.tree import DecisionTreeClassifier\n",
    "dt=DecisionTreeClassifier()"
   ]
  },
  {
   "cell_type": "code",
   "execution_count": 87,
   "metadata": {},
   "outputs": [
    {
     "data": {
      "text/plain": [
       "DecisionTreeClassifier(class_weight=None, criterion='gini', max_depth=None,\n",
       "            max_features=None, max_leaf_nodes=None,\n",
       "            min_impurity_decrease=0.0, min_impurity_split=None,\n",
       "            min_samples_leaf=1, min_samples_split=2,\n",
       "            min_weight_fraction_leaf=0.0, presort=False, random_state=None,\n",
       "            splitter='best')"
      ]
     },
     "execution_count": 87,
     "metadata": {},
     "output_type": "execute_result"
    }
   ],
   "source": [
    "dt.fit(X_train_sc,y_train)"
   ]
  },
  {
   "cell_type": "code",
   "execution_count": 88,
   "metadata": {},
   "outputs": [],
   "source": [
    "y_pred=dt.predict(X_test_sc)"
   ]
  },
  {
   "cell_type": "code",
   "execution_count": 89,
   "metadata": {},
   "outputs": [
    {
     "name": "stdout",
     "output_type": "stream",
     "text": [
      "confusion Metrix :\n",
      " [[111  21]\n",
      " [ 21  70]]\n",
      "Accuracy Score :\n",
      " 0.8116591928251121\n",
      "Precision Score:\n",
      " 0.7692307692307693\n",
      "Recall score: \n",
      " 0.7692307692307693\n",
      "F1 score: \n",
      " 0.7692307692307693\n"
     ]
    }
   ],
   "source": [
    "print(\"confusion Metrix :\\n\",confusion_matrix(y_test,y_pred))\n",
    "print(\"Accuracy Score :\\n\",accuracy_score(y_test,y_pred))\n",
    "print(\"Precision Score:\\n\",precision_score(y_test,y_pred))\n",
    "print(\"Recall score: \\n\",recall_score(y_test,y_pred))\n",
    "print(\"F1 score: \\n\",f1_score(y_test,y_pred))"
   ]
  },
  {
   "cell_type": "markdown",
   "metadata": {},
   "source": [
    "#### Appending Metrics"
   ]
  },
  {
   "cell_type": "code",
   "execution_count": 90,
   "metadata": {},
   "outputs": [],
   "source": [
    "models.append(\"Decision Tree\")\n",
    "acc.append(accuracy_score(y_test,y_pred))\n",
    "precision.append(precision_score(y_test,y_pred))\n",
    "recall.append(recall_score(y_test,y_pred))\n",
    "f1.append(f1_score(y_test,y_pred))"
   ]
  },
  {
   "cell_type": "code",
   "execution_count": 91,
   "metadata": {},
   "outputs": [
    {
     "data": {
      "text/plain": [
       "['Logistic Regression', 'Decision Tree']"
      ]
     },
     "execution_count": 91,
     "metadata": {},
     "output_type": "execute_result"
    }
   ],
   "source": [
    "models"
   ]
  },
  {
   "cell_type": "markdown",
   "metadata": {},
   "source": [
    "## SVM"
   ]
  },
  {
   "cell_type": "code",
   "execution_count": 92,
   "metadata": {},
   "outputs": [],
   "source": [
    "from sklearn.svm import SVC\n",
    "\n",
    "svc=SVC()"
   ]
  },
  {
   "cell_type": "code",
   "execution_count": 93,
   "metadata": {},
   "outputs": [
    {
     "data": {
      "text/plain": [
       "SVC(C=1.0, cache_size=200, class_weight=None, coef0=0.0,\n",
       "  decision_function_shape='ovr', degree=3, gamma='auto', kernel='rbf',\n",
       "  max_iter=-1, probability=False, random_state=None, shrinking=True,\n",
       "  tol=0.001, verbose=False)"
      ]
     },
     "execution_count": 93,
     "metadata": {},
     "output_type": "execute_result"
    }
   ],
   "source": [
    "svc.fit(X_train_sc,y_train)"
   ]
  },
  {
   "cell_type": "code",
   "execution_count": 94,
   "metadata": {},
   "outputs": [],
   "source": [
    "y_pred=svc.predict(X_test_sc)"
   ]
  },
  {
   "cell_type": "code",
   "execution_count": 95,
   "metadata": {},
   "outputs": [
    {
     "name": "stdout",
     "output_type": "stream",
     "text": [
      "confusion Metrix :\n",
      " [[113  19]\n",
      " [ 17  74]]\n",
      "Accuracy Score :\n",
      " 0.8385650224215246\n",
      "Precision Score:\n",
      " 0.7956989247311828\n",
      "Recall score: \n",
      " 0.8131868131868132\n",
      "F1 score: \n",
      " 0.8043478260869565\n"
     ]
    }
   ],
   "source": [
    "print(\"confusion Metrix :\\n\",confusion_matrix(y_test,y_pred))\n",
    "print(\"Accuracy Score :\\n\",accuracy_score(y_test,y_pred))\n",
    "print(\"Precision Score:\\n\",precision_score(y_test,y_pred))\n",
    "print(\"Recall score: \\n\",recall_score(y_test,y_pred))\n",
    "print(\"F1 score: \\n\",f1_score(y_test,y_pred))"
   ]
  },
  {
   "cell_type": "markdown",
   "metadata": {},
   "source": [
    "#### Appending Metrics"
   ]
  },
  {
   "cell_type": "code",
   "execution_count": 96,
   "metadata": {},
   "outputs": [],
   "source": [
    "models.append(\"SVM\")\n",
    "acc.append(accuracy_score(y_test,y_pred))\n",
    "precision.append(precision_score(y_test,y_pred))\n",
    "recall.append(recall_score(y_test,y_pred))\n",
    "f1.append(f1_score(y_test,y_pred))"
   ]
  },
  {
   "cell_type": "markdown",
   "metadata": {},
   "source": [
    "## Random Forest"
   ]
  },
  {
   "cell_type": "code",
   "execution_count": 97,
   "metadata": {},
   "outputs": [],
   "source": [
    "from sklearn.ensemble import RandomForestClassifier\n",
    "rf=RandomForestClassifier()\n"
   ]
  },
  {
   "cell_type": "code",
   "execution_count": 98,
   "metadata": {},
   "outputs": [
    {
     "data": {
      "text/plain": [
       "RandomForestClassifier(bootstrap=True, class_weight=None, criterion='gini',\n",
       "            max_depth=None, max_features='auto', max_leaf_nodes=None,\n",
       "            min_impurity_decrease=0.0, min_impurity_split=None,\n",
       "            min_samples_leaf=1, min_samples_split=2,\n",
       "            min_weight_fraction_leaf=0.0, n_estimators=10, n_jobs=1,\n",
       "            oob_score=False, random_state=None, verbose=0,\n",
       "            warm_start=False)"
      ]
     },
     "execution_count": 98,
     "metadata": {},
     "output_type": "execute_result"
    }
   ],
   "source": [
    "rf.fit(X_train_sc,y_train)"
   ]
  },
  {
   "cell_type": "code",
   "execution_count": 99,
   "metadata": {},
   "outputs": [],
   "source": [
    "y_pred=rf.predict(X_test_sc)"
   ]
  },
  {
   "cell_type": "code",
   "execution_count": 100,
   "metadata": {},
   "outputs": [
    {
     "name": "stdout",
     "output_type": "stream",
     "text": [
      "confusion Metrix :\n",
      " [[120  12]\n",
      " [ 21  70]]\n",
      "Accuracy Score :\n",
      " 0.852017937219731\n",
      "Precision Score:\n",
      " 0.8536585365853658\n",
      "Recall score: \n",
      " 0.7692307692307693\n",
      "F1 score: \n",
      " 0.8092485549132947\n"
     ]
    }
   ],
   "source": [
    "print(\"confusion Metrix :\\n\",confusion_matrix(y_test,y_pred))\n",
    "print(\"Accuracy Score :\\n\",accuracy_score(y_test,y_pred))\n",
    "print(\"Precision Score:\\n\",precision_score(y_test,y_pred))\n",
    "print(\"Recall score: \\n\",recall_score(y_test,y_pred))\n",
    "print(\"F1 score: \\n\",f1_score(y_test,y_pred))"
   ]
  },
  {
   "cell_type": "markdown",
   "metadata": {},
   "source": [
    "###### Appending Metrix"
   ]
  },
  {
   "cell_type": "code",
   "execution_count": 101,
   "metadata": {},
   "outputs": [],
   "source": [
    "models.append(\"Random Forest\")\n",
    "acc.append(accuracy_score(y_test,y_pred))\n",
    "precision.append(precision_score(y_test,y_pred))\n",
    "recall.append(recall_score(y_test,y_pred))\n",
    "f1.append(f1_score(y_test,y_pred))"
   ]
  },
  {
   "cell_type": "code",
   "execution_count": 102,
   "metadata": {},
   "outputs": [
    {
     "data": {
      "text/plain": [
       "['Logistic Regression', 'Decision Tree', 'SVM', 'Random Forest']"
      ]
     },
     "execution_count": 102,
     "metadata": {},
     "output_type": "execute_result"
    }
   ],
   "source": [
    "models"
   ]
  },
  {
   "cell_type": "markdown",
   "metadata": {},
   "source": [
    "## AdaBoost Classifier"
   ]
  },
  {
   "cell_type": "code",
   "execution_count": 103,
   "metadata": {},
   "outputs": [],
   "source": [
    "from sklearn.ensemble import AdaBoostClassifier\n",
    "\n",
    "adb=AdaBoostClassifier(base_estimator=dt)"
   ]
  },
  {
   "cell_type": "code",
   "execution_count": 104,
   "metadata": {},
   "outputs": [
    {
     "data": {
      "text/plain": [
       "AdaBoostClassifier(algorithm='SAMME.R',\n",
       "          base_estimator=DecisionTreeClassifier(class_weight=None, criterion='gini', max_depth=None,\n",
       "            max_features=None, max_leaf_nodes=None,\n",
       "            min_impurity_decrease=0.0, min_impurity_split=None,\n",
       "            min_samples_leaf=1, min_samples_split=2,\n",
       "            min_weight_fraction_leaf=0.0, presort=False, random_state=None,\n",
       "            splitter='best'),\n",
       "          learning_rate=1.0, n_estimators=50, random_state=None)"
      ]
     },
     "execution_count": 104,
     "metadata": {},
     "output_type": "execute_result"
    }
   ],
   "source": [
    "adb.fit(X_train_sc,y_train)"
   ]
  },
  {
   "cell_type": "code",
   "execution_count": 105,
   "metadata": {},
   "outputs": [],
   "source": [
    "y_pred=adb.predict(X_test_sc)"
   ]
  },
  {
   "cell_type": "code",
   "execution_count": 106,
   "metadata": {},
   "outputs": [
    {
     "name": "stdout",
     "output_type": "stream",
     "text": [
      "confusion Metrix :\n",
      " [[113  19]\n",
      " [ 23  68]]\n",
      "Accuracy Score :\n",
      " 0.8116591928251121\n",
      "Precision Score:\n",
      " 0.7816091954022989\n",
      "Recall score: \n",
      " 0.7472527472527473\n",
      "F1 score: \n",
      " 0.7640449438202248\n"
     ]
    }
   ],
   "source": [
    "print(\"confusion Metrix :\\n\",confusion_matrix(y_test,y_pred))\n",
    "print(\"Accuracy Score :\\n\",accuracy_score(y_test,y_pred))\n",
    "print(\"Precision Score:\\n\",precision_score(y_test,y_pred))\n",
    "print(\"Recall score: \\n\",recall_score(y_test,y_pred))\n",
    "print(\"F1 score: \\n\",f1_score(y_test,y_pred))"
   ]
  },
  {
   "cell_type": "code",
   "execution_count": 107,
   "metadata": {},
   "outputs": [],
   "source": [
    "models.append(\"Adb Boost\")\n",
    "acc.append(accuracy_score(y_test,y_pred))\n",
    "precision.append(precision_score(y_test,y_pred))\n",
    "recall.append(recall_score(y_test,y_pred))\n",
    "f1.append(f1_score(y_test,y_pred))"
   ]
  },
  {
   "cell_type": "code",
   "execution_count": 108,
   "metadata": {},
   "outputs": [
    {
     "data": {
      "text/plain": [
       "['Logistic Regression', 'Decision Tree', 'SVM', 'Random Forest', 'Adb Boost']"
      ]
     },
     "execution_count": 108,
     "metadata": {},
     "output_type": "execute_result"
    }
   ],
   "source": [
    "models"
   ]
  },
  {
   "cell_type": "markdown",
   "metadata": {},
   "source": [
    "## Average Ensemble"
   ]
  },
  {
   "cell_type": "code",
   "execution_count": 110,
   "metadata": {},
   "outputs": [],
   "source": [
    "from sklearn.ensemble import VotingClassifier\n",
    "\n",
    "vc = VotingClassifier(estimators=[('Logistic Regression',lr),\n",
    "                                   ('SVM',svc),\n",
    "                                   ('Decision Tree',dt),\n",
    "                                   ('Random Forest',rf),\n",
    "                                   ('AdaBoost',adb)], \n",
    "                       voting='hard')"
   ]
  },
  {
   "cell_type": "code",
   "execution_count": 111,
   "metadata": {},
   "outputs": [
    {
     "data": {
      "text/plain": [
       "VotingClassifier(estimators=[('Logistic Regression', LogisticRegression(C=1.0, class_weight=None, dual=False, fit_intercept=True,\n",
       "          intercept_scaling=1, max_iter=100, multi_class='ovr', n_jobs=1,\n",
       "          penalty='l2', random_state=None, solver='liblinear', tol=0.0001,\n",
       "          verbose=0, warm_start=False)...ne,\n",
       "            splitter='best'),\n",
       "          learning_rate=1.0, n_estimators=50, random_state=None))],\n",
       "         flatten_transform=None, n_jobs=1, voting='hard', weights=None)"
      ]
     },
     "execution_count": 111,
     "metadata": {},
     "output_type": "execute_result"
    }
   ],
   "source": [
    "vc.fit(X_train_sc,y_train)"
   ]
  },
  {
   "cell_type": "code",
   "execution_count": 112,
   "metadata": {},
   "outputs": [
    {
     "name": "stderr",
     "output_type": "stream",
     "text": [
      "C:\\Users\\sachin.gupta\\AppData\\Local\\Continuum\\anaconda3\\lib\\site-packages\\sklearn\\preprocessing\\label.py:151: DeprecationWarning: The truth value of an empty array is ambiguous. Returning False, but in future this will result in an error. Use `array.size > 0` to check that an array is not empty.\n",
      "  if diff:\n"
     ]
    }
   ],
   "source": [
    "y_pred=vc.predict(X_test_sc)"
   ]
  },
  {
   "cell_type": "code",
   "execution_count": 113,
   "metadata": {},
   "outputs": [
    {
     "name": "stdout",
     "output_type": "stream",
     "text": [
      "confusion Metrix :\n",
      " [[116  16]\n",
      " [ 19  72]]\n",
      "Accuracy Score :\n",
      " 0.8430493273542601\n",
      "Precision Score:\n",
      " 0.8181818181818182\n",
      "Recall score: \n",
      " 0.7912087912087912\n",
      "F1 score: \n",
      " 0.8044692737430168\n"
     ]
    }
   ],
   "source": [
    "print(\"confusion Metrix :\\n\",confusion_matrix(y_test,y_pred))\n",
    "print(\"Accuracy Score :\\n\",accuracy_score(y_test,y_pred))\n",
    "print(\"Precision Score:\\n\",precision_score(y_test,y_pred))\n",
    "print(\"Recall score: \\n\",recall_score(y_test,y_pred))\n",
    "print(\"F1 score: \\n\",f1_score(y_test,y_pred))"
   ]
  },
  {
   "cell_type": "code",
   "execution_count": 114,
   "metadata": {},
   "outputs": [],
   "source": [
    "models.append(\"Average Ensemble\")\n",
    "acc.append(accuracy_score(y_test,y_pred))\n",
    "precision.append(precision_score(y_test,y_pred))\n",
    "recall.append(recall_score(y_test,y_pred))\n",
    "f1.append(f1_score(y_test,y_pred))"
   ]
  },
  {
   "cell_type": "markdown",
   "metadata": {},
   "source": [
    "## Hyper Parameter tunning"
   ]
  },
  {
   "cell_type": "code",
   "execution_count": 118,
   "metadata": {},
   "outputs": [],
   "source": [
    "from sklearn.model_selection import cross_val_score\n",
    "accuracies = cross_val_score(estimator = rf, \n",
    "                             X = X_train_sc, \n",
    "                             y = y_train, \n",
    "                             cv = 10)\n",
    "acMean = accuracies.mean()\n",
    "acStd = accuracies.std()"
   ]
  },
  {
   "cell_type": "code",
   "execution_count": 119,
   "metadata": {},
   "outputs": [
    {
     "name": "stdout",
     "output_type": "stream",
     "text": [
      "0.8634053508680374\n",
      "0.041326666516242984\n"
     ]
    }
   ],
   "source": [
    "print(acMean)\n",
    "print(acStd)"
   ]
  },
  {
   "cell_type": "code",
   "execution_count": 120,
   "metadata": {},
   "outputs": [
    {
     "data": {
      "text/plain": [
       "array([0.79104478, 0.88059701, 0.94029851, 0.89552239, 0.8358209 ,\n",
       "       0.88059701, 0.82089552, 0.83333333, 0.86363636, 0.89230769])"
      ]
     },
     "execution_count": 120,
     "metadata": {},
     "output_type": "execute_result"
    }
   ],
   "source": [
    "accuracies"
   ]
  },
  {
   "cell_type": "markdown",
   "metadata": {},
   "source": [
    "#### Tunning Random Forest"
   ]
  },
  {
   "cell_type": "code",
   "execution_count": 139,
   "metadata": {},
   "outputs": [],
   "source": [
    "from sklearn.model_selection import GridSearchCV\n",
    "parameters = {\"n_estimators\": [5, 7, 12],\n",
    "              \"criterion\":['gini','entropy'],\n",
    "              \"max_depth\": [3, 4, 5],\n",
    "              \"min_samples_split\": [10, 20, 30],\n",
    "              \"min_samples_leaf\": [1, 5, 15],\n",
    "              \"min_weight_fraction_leaf\": [0.1, 0.05, 0.005]}\n",
    "grid_search = GridSearchCV(estimator = rf,\n",
    "                           param_grid = parameters,\n",
    "                           scoring = 'accuracy', #f1_scorer\n",
    "                           cv = 10,\n",
    "                           n_jobs = -1) #use all processor\n",
    "grid_search = grid_search.fit(X_train_sc, y_train)"
   ]
  },
  {
   "cell_type": "code",
   "execution_count": 140,
   "metadata": {},
   "outputs": [
    {
     "data": {
      "text/plain": [
       "0.8858858858858859"
      ]
     },
     "execution_count": 140,
     "metadata": {},
     "output_type": "execute_result"
    }
   ],
   "source": [
    "best_accuracy = grid_search.best_score_\n",
    "best_accuracy"
   ]
  },
  {
   "cell_type": "code",
   "execution_count": 141,
   "metadata": {},
   "outputs": [
    {
     "data": {
      "text/plain": [
       "{'criterion': 'entropy',\n",
       " 'max_depth': 5,\n",
       " 'min_samples_leaf': 1,\n",
       " 'min_samples_split': 10,\n",
       " 'min_weight_fraction_leaf': 0.005,\n",
       " 'n_estimators': 12}"
      ]
     },
     "execution_count": 141,
     "metadata": {},
     "output_type": "execute_result"
    }
   ],
   "source": [
    "best_parameters = grid_search.best_params_\n",
    "best_parameters"
   ]
  },
  {
   "cell_type": "code",
   "execution_count": 142,
   "metadata": {},
   "outputs": [
    {
     "data": {
      "text/plain": [
       "RandomForestClassifier(bootstrap=True, class_weight=None, criterion='entropy',\n",
       "            max_depth=5, max_features='auto', max_leaf_nodes=None,\n",
       "            min_impurity_decrease=0.0, min_impurity_split=None,\n",
       "            min_samples_leaf=1, min_samples_split=10,\n",
       "            min_weight_fraction_leaf=0.005, n_estimators=12, n_jobs=1,\n",
       "            oob_score=False, random_state=None, verbose=0,\n",
       "            warm_start=False)"
      ]
     },
     "execution_count": 142,
     "metadata": {},
     "output_type": "execute_result"
    }
   ],
   "source": [
    "tunedRF = RandomForestClassifier(n_estimators = best_parameters[\"n_estimators\"],\n",
    "                                 criterion = best_parameters[\"criterion\"],\n",
    "                                 max_depth = best_parameters[\"max_depth\"],\n",
    "                                 min_samples_split = best_parameters[\"min_samples_split\"],\n",
    "                                 min_samples_leaf = best_parameters[\"min_samples_leaf\"],\n",
    "                                 min_weight_fraction_leaf = best_parameters[\"min_weight_fraction_leaf\"])\n",
    "tunedRF.fit(X_train_sc, y_train)"
   ]
  },
  {
   "cell_type": "code",
   "execution_count": 143,
   "metadata": {},
   "outputs": [],
   "source": [
    "y_pred=tunedRF.predict(X_test_sc)"
   ]
  },
  {
   "cell_type": "code",
   "execution_count": 144,
   "metadata": {},
   "outputs": [
    {
     "name": "stdout",
     "output_type": "stream",
     "text": [
      "confusion Metrix :\n",
      " [[116  16]\n",
      " [ 19  72]]\n",
      "Accuracy Score :\n",
      " 0.8430493273542601\n",
      "Precision Score:\n",
      " 0.8181818181818182\n",
      "Recall score: \n",
      " 0.7912087912087912\n",
      "F1 score: \n",
      " 0.8044692737430168\n"
     ]
    }
   ],
   "source": [
    "print(\"confusion Metrix :\\n\",confusion_matrix(y_test,y_pred))\n",
    "print(\"Accuracy Score :\\n\",accuracy_score(y_test,y_pred))\n",
    "print(\"Precision Score:\\n\",precision_score(y_test,y_pred))\n",
    "print(\"Recall score: \\n\",recall_score(y_test,y_pred))\n",
    "print(\"F1 score: \\n\",f1_score(y_test,y_pred))"
   ]
  },
  {
   "cell_type": "code",
   "execution_count": 145,
   "metadata": {},
   "outputs": [],
   "source": [
    "#Recall improved as TP changed 70 to 72\n",
    "\n",
    "models.append(\"Random Forest tune\")\n",
    "acc.append(accuracy_score(y_test,y_pred))\n",
    "precision.append(precision_score(y_test,y_pred))\n",
    "recall.append(recall_score(y_test,y_pred))\n",
    "f1.append(f1_score(y_test,y_pred))"
   ]
  },
  {
   "cell_type": "markdown",
   "metadata": {},
   "source": [
    "#### Tunning Decision tree"
   ]
  },
  {
   "cell_type": "code",
   "execution_count": 150,
   "metadata": {},
   "outputs": [],
   "source": [
    "parameters = {\"criterion\":['gini','entropy'],\n",
    "              \"max_depth\": [3, 4, 5],\n",
    "              \"min_samples_split\": [10, 20, 30],\n",
    "              \"min_samples_leaf\": [1, 5, 15],\n",
    "              \"min_weight_fraction_leaf\": [0.1, 0.05, 0.005]}\n",
    "grid_search = GridSearchCV(estimator = dt,\n",
    "                           param_grid = parameters,\n",
    "                           scoring = 'accuracy', #f1_scorer\n",
    "                           cv = 10,\n",
    "                           n_jobs = -1) #use all processor\n",
    "grid_search_dt = grid_search.fit(X_train_sc, y_train)"
   ]
  },
  {
   "cell_type": "code",
   "execution_count": 162,
   "metadata": {},
   "outputs": [
    {
     "data": {
      "text/plain": [
       "{'criterion': 'gini',\n",
       " 'max_depth': 4,\n",
       " 'min_samples_leaf': 5,\n",
       " 'min_samples_split': 10,\n",
       " 'min_weight_fraction_leaf': 0.005}"
      ]
     },
     "execution_count": 162,
     "metadata": {},
     "output_type": "execute_result"
    }
   ],
   "source": [
    "best_parameters=grid_search_dt.best_params_\n",
    "\n",
    "best_parameters"
   ]
  },
  {
   "cell_type": "code",
   "execution_count": 152,
   "metadata": {},
   "outputs": [
    {
     "data": {
      "text/plain": [
       "0.8693693693693694"
      ]
     },
     "execution_count": 152,
     "metadata": {},
     "output_type": "execute_result"
    }
   ],
   "source": [
    "grid_search_dt.best_score_"
   ]
  },
  {
   "cell_type": "code",
   "execution_count": 155,
   "metadata": {},
   "outputs": [
    {
     "data": {
      "text/plain": [
       "DecisionTreeClassifier(class_weight=None, criterion='gini', max_depth=4,\n",
       "            max_features=None, max_leaf_nodes=None,\n",
       "            min_impurity_decrease=0.0, min_impurity_split=None,\n",
       "            min_samples_leaf=5, min_samples_split=10,\n",
       "            min_weight_fraction_leaf=0.005, presort=False,\n",
       "            random_state=None, splitter='best')"
      ]
     },
     "execution_count": 155,
     "metadata": {},
     "output_type": "execute_result"
    }
   ],
   "source": [
    "tunedDT = DecisionTreeClassifier(criterion = best_parameters[\"criterion\"],\n",
    "                                 max_depth = best_parameters[\"max_depth\"],\n",
    "                                 min_samples_split = best_parameters[\"min_samples_split\"],\n",
    "                                 min_samples_leaf = best_parameters[\"min_samples_leaf\"],\n",
    "                                 min_weight_fraction_leaf = best_parameters[\"min_weight_fraction_leaf\"])\n",
    "tunedDT.fit(X_train_sc, y_train)"
   ]
  },
  {
   "cell_type": "code",
   "execution_count": 156,
   "metadata": {},
   "outputs": [],
   "source": [
    "y_pred=tunedDT.predict(X_test_sc)"
   ]
  },
  {
   "cell_type": "code",
   "execution_count": 157,
   "metadata": {},
   "outputs": [
    {
     "name": "stdout",
     "output_type": "stream",
     "text": [
      "confusion Metrix :\n",
      " [[122  10]\n",
      " [ 25  66]]\n",
      "Accuracy Score :\n",
      " 0.8430493273542601\n",
      "Precision Score:\n",
      " 0.868421052631579\n",
      "Recall score: \n",
      " 0.7252747252747253\n",
      "F1 score: \n",
      " 0.7904191616766467\n"
     ]
    }
   ],
   "source": [
    "print(\"confusion Metrix :\\n\",confusion_matrix(y_test,y_pred))\n",
    "print(\"Accuracy Score :\\n\",accuracy_score(y_test,y_pred))\n",
    "print(\"Precision Score:\\n\",precision_score(y_test,y_pred))\n",
    "print(\"Recall score: \\n\",recall_score(y_test,y_pred))\n",
    "print(\"F1 score: \\n\",f1_score(y_test,y_pred))"
   ]
  },
  {
   "cell_type": "code",
   "execution_count": 158,
   "metadata": {},
   "outputs": [],
   "source": [
    " #[[111  21]\n",
    "# [ 21  70]]\n",
    "\n",
    "#Recall improved\n",
    "models.append(\"Decisiontree tune\")\n",
    "acc.append(accuracy_score(y_test,y_pred))\n",
    "precision.append(precision_score(y_test,y_pred))\n",
    "recall.append(recall_score(y_test,y_pred))\n",
    "f1.append(f1_score(y_test,y_pred))\n"
   ]
  },
  {
   "cell_type": "markdown",
   "metadata": {},
   "source": [
    "#### Creating ADB2 on tuned DT"
   ]
  },
  {
   "cell_type": "code",
   "execution_count": 163,
   "metadata": {},
   "outputs": [],
   "source": [
    "adb2=AdaBoostClassifier(base_estimator=tunedDT)"
   ]
  },
  {
   "cell_type": "code",
   "execution_count": 164,
   "metadata": {},
   "outputs": [
    {
     "data": {
      "text/plain": [
       "AdaBoostClassifier(algorithm='SAMME.R',\n",
       "          base_estimator=DecisionTreeClassifier(class_weight=None, criterion='gini', max_depth=4,\n",
       "            max_features=None, max_leaf_nodes=None,\n",
       "            min_impurity_decrease=0.0, min_impurity_split=None,\n",
       "            min_samples_leaf=5, min_samples_split=10,\n",
       "            min_weight_fraction_leaf=0.005, presort=False,\n",
       "            random_state=None, splitter='best'),\n",
       "          learning_rate=1.0, n_estimators=50, random_state=None)"
      ]
     },
     "execution_count": 164,
     "metadata": {},
     "output_type": "execute_result"
    }
   ],
   "source": [
    "adb2.fit(X_train_sc,y_train)"
   ]
  },
  {
   "cell_type": "code",
   "execution_count": 165,
   "metadata": {},
   "outputs": [],
   "source": [
    "y_pred=adb2.predict(X_test_sc)"
   ]
  },
  {
   "cell_type": "code",
   "execution_count": 166,
   "metadata": {},
   "outputs": [
    {
     "name": "stdout",
     "output_type": "stream",
     "text": [
      "confusion Metrix :\n",
      " [[114  18]\n",
      " [ 21  70]]\n",
      "Accuracy Score :\n",
      " 0.8251121076233184\n",
      "Precision Score:\n",
      " 0.7954545454545454\n",
      "Recall score: \n",
      " 0.7692307692307693\n",
      "F1 score: \n",
      " 0.782122905027933\n"
     ]
    }
   ],
   "source": [
    "print(\"confusion Metrix :\\n\",confusion_matrix(y_test,y_pred))\n",
    "print(\"Accuracy Score :\\n\",accuracy_score(y_test,y_pred))\n",
    "print(\"Precision Score:\\n\",precision_score(y_test,y_pred))\n",
    "print(\"Recall score: \\n\",recall_score(y_test,y_pred))\n",
    "print(\"F1 score: \\n\",f1_score(y_test,y_pred))"
   ]
  },
  {
   "cell_type": "code",
   "execution_count": 167,
   "metadata": {},
   "outputs": [],
   "source": [
    "models.append(\"Adb2\")\n",
    "acc.append(accuracy_score(y_test,y_pred))\n",
    "precision.append(precision_score(y_test,y_pred))\n",
    "recall.append(recall_score(y_test,y_pred))\n",
    "f1.append(f1_score(y_test,y_pred))"
   ]
  },
  {
   "cell_type": "markdown",
   "metadata": {},
   "source": [
    "#### Tunning Ada Boost base model"
   ]
  },
  {
   "cell_type": "code",
   "execution_count": 174,
   "metadata": {},
   "outputs": [],
   "source": [
    "parameters = {\"n_estimators\": [5, 7, 12],\n",
    "              \"algorithm\" : [\"SAMME\", \"SAMME.R\"]}\n",
    "grid_search = GridSearchCV(estimator = adb,\n",
    "                           param_grid = parameters,\n",
    "                           scoring = 'accuracy', #f1_scorer\n",
    "                           cv = 10,\n",
    "                           n_jobs = -1) #use all processor\n",
    "grid_search_adb = grid_search.fit(X_train_sc, y_train)"
   ]
  },
  {
   "cell_type": "code",
   "execution_count": 175,
   "metadata": {},
   "outputs": [
    {
     "data": {
      "text/plain": [
       "0.8648648648648649"
      ]
     },
     "execution_count": 175,
     "metadata": {},
     "output_type": "execute_result"
    }
   ],
   "source": [
    "grid_search_adb.best_score_"
   ]
  },
  {
   "cell_type": "code",
   "execution_count": 176,
   "metadata": {},
   "outputs": [
    {
     "data": {
      "text/plain": [
       "{'algorithm': 'SAMME', 'n_estimators': 5}"
      ]
     },
     "execution_count": 176,
     "metadata": {},
     "output_type": "execute_result"
    }
   ],
   "source": [
    "best_parameters=grid_search_adb.best_params_\n",
    "\n",
    "best_parameters"
   ]
  },
  {
   "cell_type": "code",
   "execution_count": 177,
   "metadata": {},
   "outputs": [
    {
     "data": {
      "text/plain": [
       "AdaBoostClassifier(algorithm='SAMME', base_estimator=None, learning_rate=1.0,\n",
       "          n_estimators=5, random_state=None)"
      ]
     },
     "execution_count": 177,
     "metadata": {},
     "output_type": "execute_result"
    }
   ],
   "source": [
    "tunedADB = AdaBoostClassifier(n_estimators = best_parameters[\"n_estimators\"],\n",
    "                                 algorithm = best_parameters[\"algorithm\"],\n",
    "                                )\n",
    "tunedADB.fit(X_train_sc, y_train)"
   ]
  },
  {
   "cell_type": "code",
   "execution_count": 178,
   "metadata": {},
   "outputs": [],
   "source": [
    "y_pred=tunedADB.predict(X_test_sc)"
   ]
  },
  {
   "cell_type": "code",
   "execution_count": 179,
   "metadata": {},
   "outputs": [
    {
     "name": "stdout",
     "output_type": "stream",
     "text": [
      "confusion Metrix :\n",
      " [[110  22]\n",
      " [ 18  73]]\n",
      "Accuracy Score :\n",
      " 0.820627802690583\n",
      "Precision Score:\n",
      " 0.7684210526315789\n",
      "Recall score: \n",
      " 0.8021978021978022\n",
      "F1 score: \n",
      " 0.7849462365591398\n"
     ]
    }
   ],
   "source": [
    "print(\"confusion Metrix :\\n\",confusion_matrix(y_test,y_pred))\n",
    "print(\"Accuracy Score :\\n\",accuracy_score(y_test,y_pred))\n",
    "print(\"Precision Score:\\n\",precision_score(y_test,y_pred))\n",
    "print(\"Recall score: \\n\",recall_score(y_test,y_pred))\n",
    "print(\"F1 score: \\n\",f1_score(y_test,y_pred))"
   ]
  },
  {
   "cell_type": "code",
   "execution_count": 180,
   "metadata": {},
   "outputs": [],
   "source": [
    "models.append(\"Ada Boost tuned\")\n",
    "acc.append(accuracy_score(y_test,y_pred))\n",
    "precision.append(precision_score(y_test,y_pred))\n",
    "recall.append(recall_score(y_test,y_pred))\n",
    "f1.append(f1_score(y_test,y_pred))"
   ]
  },
  {
   "cell_type": "code",
   "execution_count": 185,
   "metadata": {},
   "outputs": [],
   "source": [
    "parameters = {\"n_estimators\": [5, 7, 12],\n",
    "              \"algorithm\" : [\"SAMME\", \"SAMME.R\"]}\n",
    "grid_search = GridSearchCV(estimator = adb2,\n",
    "                           param_grid = parameters,\n",
    "                           scoring = 'accuracy', #f1_scorer\n",
    "                           cv = 10,\n",
    "                           n_jobs = -1) #use all processor\n",
    "grid_search_adb2 = grid_search.fit(X_train_sc, y_train)"
   ]
  },
  {
   "cell_type": "code",
   "execution_count": 186,
   "metadata": {},
   "outputs": [
    {
     "data": {
      "text/plain": [
       "0.8723723723723724"
      ]
     },
     "execution_count": 186,
     "metadata": {},
     "output_type": "execute_result"
    }
   ],
   "source": [
    "grid_search_adb2.best_score_"
   ]
  },
  {
   "cell_type": "code",
   "execution_count": 187,
   "metadata": {},
   "outputs": [
    {
     "data": {
      "text/plain": [
       "{'algorithm': 'SAMME', 'n_estimators': 5}"
      ]
     },
     "execution_count": 187,
     "metadata": {},
     "output_type": "execute_result"
    }
   ],
   "source": [
    "best_parameters=grid_search_adb2.best_params_\n",
    "best_parameters"
   ]
  },
  {
   "cell_type": "code",
   "execution_count": 188,
   "metadata": {},
   "outputs": [
    {
     "data": {
      "text/plain": [
       "AdaBoostClassifier(algorithm='SAMME', base_estimator=None, learning_rate=1.0,\n",
       "          n_estimators=5, random_state=None)"
      ]
     },
     "execution_count": 188,
     "metadata": {},
     "output_type": "execute_result"
    }
   ],
   "source": [
    "tunedADB2 = AdaBoostClassifier(n_estimators = best_parameters[\"n_estimators\"],\n",
    "                                 algorithm = best_parameters[\"algorithm\"],\n",
    "                                )\n",
    "tunedADB2.fit(X_train_sc, y_train)"
   ]
  },
  {
   "cell_type": "code",
   "execution_count": 189,
   "metadata": {},
   "outputs": [],
   "source": [
    "y_pred=tunedADB2.predict(X_test_sc)"
   ]
  },
  {
   "cell_type": "code",
   "execution_count": 190,
   "metadata": {},
   "outputs": [
    {
     "name": "stdout",
     "output_type": "stream",
     "text": [
      "confusion Metrix :\n",
      " [[110  22]\n",
      " [ 18  73]]\n",
      "Accuracy Score :\n",
      " 0.820627802690583\n",
      "Precision Score:\n",
      " 0.7684210526315789\n",
      "Recall score: \n",
      " 0.8021978021978022\n",
      "F1 score: \n",
      " 0.7849462365591398\n"
     ]
    }
   ],
   "source": [
    "print(\"confusion Metrix :\\n\",confusion_matrix(y_test,y_pred))\n",
    "print(\"Accuracy Score :\\n\",accuracy_score(y_test,y_pred))\n",
    "print(\"Precision Score:\\n\",precision_score(y_test,y_pred))\n",
    "print(\"Recall score: \\n\",recall_score(y_test,y_pred))\n",
    "print(\"F1 score: \\n\",f1_score(y_test,y_pred))"
   ]
  },
  {
   "cell_type": "code",
   "execution_count": 191,
   "metadata": {},
   "outputs": [],
   "source": [
    "models.append(\"Adb2 tuned\")\n",
    "acc.append(accuracy_score(y_test,y_pred))\n",
    "precision.append(precision_score(y_test,y_pred))\n",
    "recall.append(recall_score(y_test,y_pred))\n",
    "f1.append(f1_score(y_test,y_pred))"
   ]
  },
  {
   "cell_type": "markdown",
   "metadata": {},
   "source": [
    "##### Tune SVM"
   ]
  },
  {
   "cell_type": "code",
   "execution_count": 196,
   "metadata": {},
   "outputs": [],
   "source": [
    "parameters = {\"kernel\": [\"linear\", \"poly\", \"rbf\", \"sigmoid\"] ,\n",
    "              \"decision_function_shape\":['ovo','ovr']\n",
    "              }\n",
    "grid_search = GridSearchCV(estimator = svc,\n",
    "                           param_grid = parameters,\n",
    "                           scoring = 'accuracy', #f1_scorer\n",
    "                           cv = 10,\n",
    "                           n_jobs = -1) #use all processor\n",
    "grid_search_svc = grid_search.fit(X_train_sc, y_train)"
   ]
  },
  {
   "cell_type": "code",
   "execution_count": 197,
   "metadata": {},
   "outputs": [
    {
     "data": {
      "text/plain": [
       "0.8768768768768769"
      ]
     },
     "execution_count": 197,
     "metadata": {},
     "output_type": "execute_result"
    }
   ],
   "source": [
    "grid_search_svc.best_score_"
   ]
  },
  {
   "cell_type": "code",
   "execution_count": 203,
   "metadata": {},
   "outputs": [],
   "source": [
    "best_parameters=grid_search_svc.best_params_"
   ]
  },
  {
   "cell_type": "code",
   "execution_count": 204,
   "metadata": {},
   "outputs": [
    {
     "data": {
      "text/plain": [
       "SVC(C=1.0, cache_size=200, class_weight=None, coef0=0.0,\n",
       "  decision_function_shape='ovo', degree=3, gamma='auto', kernel='rbf',\n",
       "  max_iter=-1, probability=False, random_state=None, shrinking=True,\n",
       "  tol=0.001, verbose=False)"
      ]
     },
     "execution_count": 204,
     "metadata": {},
     "output_type": "execute_result"
    }
   ],
   "source": [
    "tunedSVM = SVC(kernel=best_parameters[\"kernel\"],\n",
    "               decision_function_shape = best_parameters[\"decision_function_shape\"]\n",
    "                                )\n",
    "tunedSVM.fit(X_train_sc, y_train)"
   ]
  },
  {
   "cell_type": "code",
   "execution_count": 205,
   "metadata": {},
   "outputs": [],
   "source": [
    "y_pred=tunedSVM.predict(X_test_sc)"
   ]
  },
  {
   "cell_type": "code",
   "execution_count": 206,
   "metadata": {},
   "outputs": [
    {
     "name": "stdout",
     "output_type": "stream",
     "text": [
      "confusion Metrix :\n",
      " [[113  19]\n",
      " [ 17  74]]\n",
      "Accuracy Score :\n",
      " 0.8385650224215246\n",
      "Precision Score:\n",
      " 0.7956989247311828\n",
      "Recall score: \n",
      " 0.8131868131868132\n",
      "F1 score: \n",
      " 0.8043478260869565\n"
     ]
    }
   ],
   "source": [
    "print(\"confusion Metrix :\\n\",confusion_matrix(y_test,y_pred))\n",
    "print(\"Accuracy Score :\\n\",accuracy_score(y_test,y_pred))\n",
    "print(\"Precision Score:\\n\",precision_score(y_test,y_pred))\n",
    "print(\"Recall score: \\n\",recall_score(y_test,y_pred))\n",
    "print(\"F1 score: \\n\",f1_score(y_test,y_pred))"
   ]
  },
  {
   "cell_type": "code",
   "execution_count": 207,
   "metadata": {},
   "outputs": [],
   "source": [
    "models.append(\"SVM tuned\")\n",
    "acc.append(accuracy_score(y_test,y_pred))\n",
    "precision.append(precision_score(y_test,y_pred))\n",
    "recall.append(recall_score(y_test,y_pred))\n",
    "f1.append(f1_score(y_test,y_pred))"
   ]
  },
  {
   "cell_type": "markdown",
   "metadata": {},
   "source": [
    "#### Creating Average Assemble on Tunned model"
   ]
  },
  {
   "cell_type": "code",
   "execution_count": 211,
   "metadata": {},
   "outputs": [],
   "source": [
    "tunedVC = VotingClassifier(estimators=[ ('SVM',tunedSVM),\n",
    "                                   ('Decision Tree',tunedDT),\n",
    "                                   ('Random Forest',tunedRF),\n",
    "                                   ('AdaBoost',tunedADB2)], \n",
    "                       voting='hard')"
   ]
  },
  {
   "cell_type": "code",
   "execution_count": 212,
   "metadata": {},
   "outputs": [
    {
     "data": {
      "text/plain": [
       "VotingClassifier(estimators=[('SVM', SVC(C=1.0, cache_size=200, class_weight=None, coef0=0.0,\n",
       "  decision_function_shape='ovo', degree=3, gamma='auto', kernel='rbf',\n",
       "  max_iter=-1, probability=False, random_state=None, shrinking=True,\n",
       "  tol=0.001, verbose=False)), ('Decision Tree', DecisionTreeClassifier(class_weight...ithm='SAMME', base_estimator=None, learning_rate=1.0,\n",
       "          n_estimators=5, random_state=None))],\n",
       "         flatten_transform=None, n_jobs=1, voting='hard', weights=None)"
      ]
     },
     "execution_count": 212,
     "metadata": {},
     "output_type": "execute_result"
    }
   ],
   "source": [
    "tunedVC.fit(X_train_sc,y_train)"
   ]
  },
  {
   "cell_type": "code",
   "execution_count": 213,
   "metadata": {},
   "outputs": [
    {
     "name": "stderr",
     "output_type": "stream",
     "text": [
      "C:\\Users\\sachin.gupta\\AppData\\Local\\Continuum\\anaconda3\\lib\\site-packages\\sklearn\\preprocessing\\label.py:151: DeprecationWarning: The truth value of an empty array is ambiguous. Returning False, but in future this will result in an error. Use `array.size > 0` to check that an array is not empty.\n",
      "  if diff:\n"
     ]
    }
   ],
   "source": [
    "y_pred=tunedVC.predict(X_test_sc)"
   ]
  },
  {
   "cell_type": "code",
   "execution_count": 214,
   "metadata": {},
   "outputs": [
    {
     "name": "stdout",
     "output_type": "stream",
     "text": [
      "confusion Metrix :\n",
      " [[121  11]\n",
      " [ 26  65]]\n",
      "Accuracy Score :\n",
      " 0.8340807174887892\n",
      "Precision Score:\n",
      " 0.8552631578947368\n",
      "Recall score: \n",
      " 0.7142857142857143\n",
      "F1 score: \n",
      " 0.778443113772455\n"
     ]
    }
   ],
   "source": [
    "print(\"confusion Metrix :\\n\",confusion_matrix(y_test,y_pred))\n",
    "print(\"Accuracy Score :\\n\",accuracy_score(y_test,y_pred))\n",
    "print(\"Precision Score:\\n\",precision_score(y_test,y_pred))\n",
    "print(\"Recall score: \\n\",recall_score(y_test,y_pred))\n",
    "print(\"F1 score: \\n\",f1_score(y_test,y_pred))"
   ]
  },
  {
   "cell_type": "code",
   "execution_count": 215,
   "metadata": {},
   "outputs": [],
   "source": [
    "models.append(\"Average Ensemble  tuned\")\n",
    "acc.append(accuracy_score(y_test,y_pred))\n",
    "precision.append(precision_score(y_test,y_pred))\n",
    "recall.append(recall_score(y_test,y_pred))\n",
    "f1.append(f1_score(y_test,y_pred))"
   ]
  },
  {
   "cell_type": "markdown",
   "metadata": {},
   "source": [
    "# Best Model Ranking"
   ]
  },
  {
   "cell_type": "code",
   "execution_count": 219,
   "metadata": {},
   "outputs": [],
   "source": [
    "model_dict = {'Models': models,\n",
    "             'Accuracies': acc,\n",
    "             'Precision': precision,\n",
    "             'Recall': recall,\n",
    "             'f1-score': f1}"
   ]
  },
  {
   "cell_type": "code",
   "execution_count": 1,
   "metadata": {},
   "outputs": [
    {
     "ename": "NameError",
     "evalue": "name 'pd' is not defined",
     "output_type": "error",
     "traceback": [
      "\u001b[1;31m---------------------------------------------------------------------------\u001b[0m",
      "\u001b[1;31mNameError\u001b[0m                                 Traceback (most recent call last)",
      "\u001b[1;32m<ipython-input-1-4b9b03fb451d>\u001b[0m in \u001b[0;36m<module>\u001b[1;34m()\u001b[0m\n\u001b[1;32m----> 1\u001b[1;33m \u001b[0mmodel_df\u001b[0m\u001b[1;33m=\u001b[0m\u001b[0mpd\u001b[0m\u001b[1;33m.\u001b[0m\u001b[0mDataFrame\u001b[0m\u001b[1;33m(\u001b[0m\u001b[0mmodel_dict\u001b[0m\u001b[1;33m)\u001b[0m\u001b[1;33m\u001b[0m\u001b[0m\n\u001b[0m\u001b[0;32m      2\u001b[0m \u001b[0mmodel_df\u001b[0m\u001b[1;33m\u001b[0m\u001b[0m\n",
      "\u001b[1;31mNameError\u001b[0m: name 'pd' is not defined"
     ]
    }
   ],
   "source": [
    "model_df=pd.DataFrame(model_dict)\n",
    "model_df"
   ]
  },
  {
   "cell_type": "code",
   "execution_count": 221,
   "metadata": {},
   "outputs": [
    {
     "data": {
      "text/html": [
       "<div>\n",
       "<style scoped>\n",
       "    .dataframe tbody tr th:only-of-type {\n",
       "        vertical-align: middle;\n",
       "    }\n",
       "\n",
       "    .dataframe tbody tr th {\n",
       "        vertical-align: top;\n",
       "    }\n",
       "\n",
       "    .dataframe thead th {\n",
       "        text-align: right;\n",
       "    }\n",
       "</style>\n",
       "<table border=\"1\" class=\"dataframe\">\n",
       "  <thead>\n",
       "    <tr style=\"text-align: right;\">\n",
       "      <th></th>\n",
       "      <th>Models</th>\n",
       "      <th>Accuracies</th>\n",
       "      <th>Precision</th>\n",
       "      <th>Recall</th>\n",
       "      <th>f1-score</th>\n",
       "    </tr>\n",
       "  </thead>\n",
       "  <tbody>\n",
       "    <tr>\n",
       "      <th>3</th>\n",
       "      <td>Random Forest</td>\n",
       "      <td>0.852018</td>\n",
       "      <td>0.853659</td>\n",
       "      <td>0.769231</td>\n",
       "      <td>0.809249</td>\n",
       "    </tr>\n",
       "    <tr>\n",
       "      <th>5</th>\n",
       "      <td>Average Ensemble</td>\n",
       "      <td>0.843049</td>\n",
       "      <td>0.818182</td>\n",
       "      <td>0.791209</td>\n",
       "      <td>0.804469</td>\n",
       "    </tr>\n",
       "    <tr>\n",
       "      <th>6</th>\n",
       "      <td>Random Forest tune</td>\n",
       "      <td>0.843049</td>\n",
       "      <td>0.818182</td>\n",
       "      <td>0.791209</td>\n",
       "      <td>0.804469</td>\n",
       "    </tr>\n",
       "    <tr>\n",
       "      <th>7</th>\n",
       "      <td>Decisiontree tune</td>\n",
       "      <td>0.843049</td>\n",
       "      <td>0.868421</td>\n",
       "      <td>0.725275</td>\n",
       "      <td>0.790419</td>\n",
       "    </tr>\n",
       "    <tr>\n",
       "      <th>2</th>\n",
       "      <td>SVM</td>\n",
       "      <td>0.838565</td>\n",
       "      <td>0.795699</td>\n",
       "      <td>0.813187</td>\n",
       "      <td>0.804348</td>\n",
       "    </tr>\n",
       "    <tr>\n",
       "      <th>11</th>\n",
       "      <td>SVM tuned</td>\n",
       "      <td>0.838565</td>\n",
       "      <td>0.795699</td>\n",
       "      <td>0.813187</td>\n",
       "      <td>0.804348</td>\n",
       "    </tr>\n",
       "    <tr>\n",
       "      <th>12</th>\n",
       "      <td>Average Ensemble  tuned</td>\n",
       "      <td>0.834081</td>\n",
       "      <td>0.855263</td>\n",
       "      <td>0.714286</td>\n",
       "      <td>0.778443</td>\n",
       "    </tr>\n",
       "    <tr>\n",
       "      <th>0</th>\n",
       "      <td>Logistic Regression</td>\n",
       "      <td>0.825112</td>\n",
       "      <td>0.795455</td>\n",
       "      <td>0.769231</td>\n",
       "      <td>0.782123</td>\n",
       "    </tr>\n",
       "    <tr>\n",
       "      <th>8</th>\n",
       "      <td>Adb2</td>\n",
       "      <td>0.825112</td>\n",
       "      <td>0.795455</td>\n",
       "      <td>0.769231</td>\n",
       "      <td>0.782123</td>\n",
       "    </tr>\n",
       "    <tr>\n",
       "      <th>9</th>\n",
       "      <td>Ada Boost tuned</td>\n",
       "      <td>0.820628</td>\n",
       "      <td>0.768421</td>\n",
       "      <td>0.802198</td>\n",
       "      <td>0.784946</td>\n",
       "    </tr>\n",
       "    <tr>\n",
       "      <th>10</th>\n",
       "      <td>Adb2 tuned</td>\n",
       "      <td>0.820628</td>\n",
       "      <td>0.768421</td>\n",
       "      <td>0.802198</td>\n",
       "      <td>0.784946</td>\n",
       "    </tr>\n",
       "    <tr>\n",
       "      <th>1</th>\n",
       "      <td>Decision Tree</td>\n",
       "      <td>0.811659</td>\n",
       "      <td>0.769231</td>\n",
       "      <td>0.769231</td>\n",
       "      <td>0.769231</td>\n",
       "    </tr>\n",
       "    <tr>\n",
       "      <th>4</th>\n",
       "      <td>Adb Boost</td>\n",
       "      <td>0.811659</td>\n",
       "      <td>0.781609</td>\n",
       "      <td>0.747253</td>\n",
       "      <td>0.764045</td>\n",
       "    </tr>\n",
       "  </tbody>\n",
       "</table>\n",
       "</div>"
      ],
      "text/plain": [
       "                     Models  Accuracies  Precision    Recall  f1-score\n",
       "3             Random Forest    0.852018   0.853659  0.769231  0.809249\n",
       "5          Average Ensemble    0.843049   0.818182  0.791209  0.804469\n",
       "6        Random Forest tune    0.843049   0.818182  0.791209  0.804469\n",
       "7         Decisiontree tune    0.843049   0.868421  0.725275  0.790419\n",
       "2                       SVM    0.838565   0.795699  0.813187  0.804348\n",
       "11                SVM tuned    0.838565   0.795699  0.813187  0.804348\n",
       "12  Average Ensemble  tuned    0.834081   0.855263  0.714286  0.778443\n",
       "0       Logistic Regression    0.825112   0.795455  0.769231  0.782123\n",
       "8                      Adb2    0.825112   0.795455  0.769231  0.782123\n",
       "9           Ada Boost tuned    0.820628   0.768421  0.802198  0.784946\n",
       "10               Adb2 tuned    0.820628   0.768421  0.802198  0.784946\n",
       "1             Decision Tree    0.811659   0.769231  0.769231  0.769231\n",
       "4                 Adb Boost    0.811659   0.781609  0.747253  0.764045"
      ]
     },
     "execution_count": 221,
     "metadata": {},
     "output_type": "execute_result"
    }
   ],
   "source": [
    "model_df.sort_values(['Accuracies','f1-score','Recall','Precision'],ascending=False)"
   ]
  },
  {
   "cell_type": "code",
   "execution_count": null,
   "metadata": {},
   "outputs": [],
   "source": []
  }
 ],
 "metadata": {
  "kernelspec": {
   "display_name": "Python 3",
   "language": "python",
   "name": "python3"
  },
  "language_info": {
   "codemirror_mode": {
    "name": "ipython",
    "version": 3
   },
   "file_extension": ".py",
   "mimetype": "text/x-python",
   "name": "python",
   "nbconvert_exporter": "python",
   "pygments_lexer": "ipython3",
   "version": "3.7.3"
  },
  "toc": {
   "base_numbering": 1,
   "nav_menu": {},
   "number_sections": true,
   "sideBar": true,
   "skip_h1_title": false,
   "title_cell": "Table of Contents",
   "title_sidebar": "Contents",
   "toc_cell": false,
   "toc_position": {
    "height": "calc(100% - 180px)",
    "left": "10px",
    "top": "150px",
    "width": "208.637px"
   },
   "toc_section_display": true,
   "toc_window_display": true
  },
  "varInspector": {
   "cols": {
    "lenName": 16,
    "lenType": 16,
    "lenVar": 40
   },
   "kernels_config": {
    "python": {
     "delete_cmd_postfix": "",
     "delete_cmd_prefix": "del ",
     "library": "var_list.py",
     "varRefreshCmd": "print(var_dic_list())"
    },
    "r": {
     "delete_cmd_postfix": ") ",
     "delete_cmd_prefix": "rm(",
     "library": "var_list.r",
     "varRefreshCmd": "cat(var_dic_list()) "
    }
   },
   "types_to_exclude": [
    "module",
    "function",
    "builtin_function_or_method",
    "instance",
    "_Feature"
   ],
   "window_display": false
  }
 },
 "nbformat": 4,
 "nbformat_minor": 2
}
