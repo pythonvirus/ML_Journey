{
 "cells": [
  {
   "cell_type": "code",
   "execution_count": 1,
   "metadata": {},
   "outputs": [],
   "source": [
    "import numpy as np\n",
    "import pandas as pd\n",
    "\n",
    "import matplotlib.pyplot as plt\n",
    "import seaborn as sns\n",
    "\n",
    "%matplotlib inline"
   ]
  },
  {
   "cell_type": "code",
   "execution_count": 2,
   "metadata": {},
   "outputs": [],
   "source": [
    "df = pd.read_csv(\"Electicity_Consumption_train.csv\", index_col=0)"
   ]
  },
  {
   "cell_type": "code",
   "execution_count": 3,
   "metadata": {},
   "outputs": [
    {
     "data": {
      "text/html": [
       "<div>\n",
       "<style scoped>\n",
       "    .dataframe tbody tr th:only-of-type {\n",
       "        vertical-align: middle;\n",
       "    }\n",
       "\n",
       "    .dataframe tbody tr th {\n",
       "        vertical-align: top;\n",
       "    }\n",
       "\n",
       "    .dataframe thead th {\n",
       "        text-align: right;\n",
       "    }\n",
       "</style>\n",
       "<table border=\"1\" class=\"dataframe\">\n",
       "  <thead>\n",
       "    <tr style=\"text-align: right;\">\n",
       "      <th></th>\n",
       "      <th>datetime</th>\n",
       "      <th>temperature</th>\n",
       "      <th>var1</th>\n",
       "      <th>pressure</th>\n",
       "      <th>windspeed</th>\n",
       "      <th>var2</th>\n",
       "      <th>electricity_consumption</th>\n",
       "    </tr>\n",
       "    <tr>\n",
       "      <th>ID</th>\n",
       "      <th></th>\n",
       "      <th></th>\n",
       "      <th></th>\n",
       "      <th></th>\n",
       "      <th></th>\n",
       "      <th></th>\n",
       "      <th></th>\n",
       "    </tr>\n",
       "  </thead>\n",
       "  <tbody>\n",
       "    <tr>\n",
       "      <th>0</th>\n",
       "      <td>2013-07-01 00:00:00</td>\n",
       "      <td>-11.4</td>\n",
       "      <td>-17.1</td>\n",
       "      <td>1003.0</td>\n",
       "      <td>571.910</td>\n",
       "      <td>A</td>\n",
       "      <td>216.0</td>\n",
       "    </tr>\n",
       "    <tr>\n",
       "      <th>1</th>\n",
       "      <td>2013-07-01 01:00:00</td>\n",
       "      <td>-12.1</td>\n",
       "      <td>-19.3</td>\n",
       "      <td>996.0</td>\n",
       "      <td>575.040</td>\n",
       "      <td>A</td>\n",
       "      <td>210.0</td>\n",
       "    </tr>\n",
       "    <tr>\n",
       "      <th>2</th>\n",
       "      <td>2013-07-01 02:00:00</td>\n",
       "      <td>-12.9</td>\n",
       "      <td>-20.0</td>\n",
       "      <td>1000.0</td>\n",
       "      <td>578.435</td>\n",
       "      <td>A</td>\n",
       "      <td>225.0</td>\n",
       "    </tr>\n",
       "    <tr>\n",
       "      <th>3</th>\n",
       "      <td>2013-07-01 03:00:00</td>\n",
       "      <td>-11.4</td>\n",
       "      <td>-17.1</td>\n",
       "      <td>995.0</td>\n",
       "      <td>582.580</td>\n",
       "      <td>A</td>\n",
       "      <td>216.0</td>\n",
       "    </tr>\n",
       "    <tr>\n",
       "      <th>4</th>\n",
       "      <td>2013-07-01 04:00:00</td>\n",
       "      <td>-11.4</td>\n",
       "      <td>-19.3</td>\n",
       "      <td>1005.0</td>\n",
       "      <td>586.600</td>\n",
       "      <td>A</td>\n",
       "      <td>222.0</td>\n",
       "    </tr>\n",
       "  </tbody>\n",
       "</table>\n",
       "</div>"
      ],
      "text/plain": [
       "               datetime  temperature  var1  pressure  windspeed var2  \\\n",
       "ID                                                                     \n",
       "0   2013-07-01 00:00:00        -11.4 -17.1    1003.0    571.910    A   \n",
       "1   2013-07-01 01:00:00        -12.1 -19.3     996.0    575.040    A   \n",
       "2   2013-07-01 02:00:00        -12.9 -20.0    1000.0    578.435    A   \n",
       "3   2013-07-01 03:00:00        -11.4 -17.1     995.0    582.580    A   \n",
       "4   2013-07-01 04:00:00        -11.4 -19.3    1005.0    586.600    A   \n",
       "\n",
       "    electricity_consumption  \n",
       "ID                           \n",
       "0                     216.0  \n",
       "1                     210.0  \n",
       "2                     225.0  \n",
       "3                     216.0  \n",
       "4                     222.0  "
      ]
     },
     "execution_count": 3,
     "metadata": {},
     "output_type": "execute_result"
    }
   ],
   "source": [
    "df.head()"
   ]
  },
  {
   "cell_type": "code",
   "execution_count": 4,
   "metadata": {},
   "outputs": [
    {
     "data": {
      "text/plain": [
       "Index(['datetime', 'temperature', 'var1', 'pressure', 'windspeed', 'var2',\n",
       "       'electricity_consumption'],\n",
       "      dtype='object')"
      ]
     },
     "execution_count": 4,
     "metadata": {},
     "output_type": "execute_result"
    }
   ],
   "source": [
    "df.columns"
   ]
  },
  {
   "cell_type": "code",
   "execution_count": 5,
   "metadata": {},
   "outputs": [],
   "source": [
    "def time_vars_with_day(df, var):\n",
    "    df[var +'_Year'] = pd.DatetimeIndex(df[var]).year\n",
    "        \n",
    "    df[var +'_Month'] = pd.DatetimeIndex(df[var]).month\n",
    "    \n",
    "    df[var +'_Day'] = pd.DatetimeIndex(df[var]).weekday\n",
    "    \n",
    "    df[var +'_Hour'] = pd.DatetimeIndex(df[var]).hour"
   ]
  },
  {
   "cell_type": "code",
   "execution_count": 6,
   "metadata": {},
   "outputs": [],
   "source": [
    "time_vars_with_day(df,'datetime')"
   ]
  },
  {
   "cell_type": "code",
   "execution_count": 7,
   "metadata": {},
   "outputs": [
    {
     "data": {
      "text/plain": [
       "Index(['datetime', 'temperature', 'var1', 'pressure', 'windspeed', 'var2',\n",
       "       'electricity_consumption', 'datetime_Year', 'datetime_Month',\n",
       "       'datetime_Day', 'datetime_Hour'],\n",
       "      dtype='object')"
      ]
     },
     "execution_count": 7,
     "metadata": {},
     "output_type": "execute_result"
    }
   ],
   "source": [
    "df.columns"
   ]
  },
  {
   "cell_type": "code",
   "execution_count": 8,
   "metadata": {},
   "outputs": [
    {
     "data": {
      "text/html": [
       "<div>\n",
       "<style scoped>\n",
       "    .dataframe tbody tr th:only-of-type {\n",
       "        vertical-align: middle;\n",
       "    }\n",
       "\n",
       "    .dataframe tbody tr th {\n",
       "        vertical-align: top;\n",
       "    }\n",
       "\n",
       "    .dataframe thead th {\n",
       "        text-align: right;\n",
       "    }\n",
       "</style>\n",
       "<table border=\"1\" class=\"dataframe\">\n",
       "  <thead>\n",
       "    <tr style=\"text-align: right;\">\n",
       "      <th></th>\n",
       "      <th>datetime</th>\n",
       "      <th>temperature</th>\n",
       "      <th>var1</th>\n",
       "      <th>pressure</th>\n",
       "      <th>windspeed</th>\n",
       "      <th>var2</th>\n",
       "      <th>electricity_consumption</th>\n",
       "      <th>datetime_Year</th>\n",
       "      <th>datetime_Month</th>\n",
       "      <th>datetime_Day</th>\n",
       "      <th>datetime_Hour</th>\n",
       "    </tr>\n",
       "    <tr>\n",
       "      <th>ID</th>\n",
       "      <th></th>\n",
       "      <th></th>\n",
       "      <th></th>\n",
       "      <th></th>\n",
       "      <th></th>\n",
       "      <th></th>\n",
       "      <th></th>\n",
       "      <th></th>\n",
       "      <th></th>\n",
       "      <th></th>\n",
       "      <th></th>\n",
       "    </tr>\n",
       "  </thead>\n",
       "  <tbody>\n",
       "    <tr>\n",
       "      <th>0</th>\n",
       "      <td>2013-07-01 00:00:00</td>\n",
       "      <td>-11.4</td>\n",
       "      <td>-17.1</td>\n",
       "      <td>1003.0</td>\n",
       "      <td>571.910</td>\n",
       "      <td>A</td>\n",
       "      <td>216.0</td>\n",
       "      <td>2013</td>\n",
       "      <td>7</td>\n",
       "      <td>0</td>\n",
       "      <td>0</td>\n",
       "    </tr>\n",
       "    <tr>\n",
       "      <th>1</th>\n",
       "      <td>2013-07-01 01:00:00</td>\n",
       "      <td>-12.1</td>\n",
       "      <td>-19.3</td>\n",
       "      <td>996.0</td>\n",
       "      <td>575.040</td>\n",
       "      <td>A</td>\n",
       "      <td>210.0</td>\n",
       "      <td>2013</td>\n",
       "      <td>7</td>\n",
       "      <td>0</td>\n",
       "      <td>1</td>\n",
       "    </tr>\n",
       "    <tr>\n",
       "      <th>2</th>\n",
       "      <td>2013-07-01 02:00:00</td>\n",
       "      <td>-12.9</td>\n",
       "      <td>-20.0</td>\n",
       "      <td>1000.0</td>\n",
       "      <td>578.435</td>\n",
       "      <td>A</td>\n",
       "      <td>225.0</td>\n",
       "      <td>2013</td>\n",
       "      <td>7</td>\n",
       "      <td>0</td>\n",
       "      <td>2</td>\n",
       "    </tr>\n",
       "    <tr>\n",
       "      <th>3</th>\n",
       "      <td>2013-07-01 03:00:00</td>\n",
       "      <td>-11.4</td>\n",
       "      <td>-17.1</td>\n",
       "      <td>995.0</td>\n",
       "      <td>582.580</td>\n",
       "      <td>A</td>\n",
       "      <td>216.0</td>\n",
       "      <td>2013</td>\n",
       "      <td>7</td>\n",
       "      <td>0</td>\n",
       "      <td>3</td>\n",
       "    </tr>\n",
       "    <tr>\n",
       "      <th>4</th>\n",
       "      <td>2013-07-01 04:00:00</td>\n",
       "      <td>-11.4</td>\n",
       "      <td>-19.3</td>\n",
       "      <td>1005.0</td>\n",
       "      <td>586.600</td>\n",
       "      <td>A</td>\n",
       "      <td>222.0</td>\n",
       "      <td>2013</td>\n",
       "      <td>7</td>\n",
       "      <td>0</td>\n",
       "      <td>4</td>\n",
       "    </tr>\n",
       "  </tbody>\n",
       "</table>\n",
       "</div>"
      ],
      "text/plain": [
       "               datetime  temperature  var1  pressure  windspeed var2  \\\n",
       "ID                                                                     \n",
       "0   2013-07-01 00:00:00        -11.4 -17.1    1003.0    571.910    A   \n",
       "1   2013-07-01 01:00:00        -12.1 -19.3     996.0    575.040    A   \n",
       "2   2013-07-01 02:00:00        -12.9 -20.0    1000.0    578.435    A   \n",
       "3   2013-07-01 03:00:00        -11.4 -17.1     995.0    582.580    A   \n",
       "4   2013-07-01 04:00:00        -11.4 -19.3    1005.0    586.600    A   \n",
       "\n",
       "    electricity_consumption  datetime_Year  datetime_Month  datetime_Day  \\\n",
       "ID                                                                         \n",
       "0                     216.0           2013               7             0   \n",
       "1                     210.0           2013               7             0   \n",
       "2                     225.0           2013               7             0   \n",
       "3                     216.0           2013               7             0   \n",
       "4                     222.0           2013               7             0   \n",
       "\n",
       "    datetime_Hour  \n",
       "ID                 \n",
       "0               0  \n",
       "1               1  \n",
       "2               2  \n",
       "3               3  \n",
       "4               4  "
      ]
     },
     "execution_count": 8,
     "metadata": {},
     "output_type": "execute_result"
    }
   ],
   "source": [
    "df.head()"
   ]
  },
  {
   "cell_type": "code",
   "execution_count": 11,
   "metadata": {},
   "outputs": [
    {
     "data": {
      "text/plain": [
       "array([ 7,  8,  9, 10, 11, 12,  1,  2,  3,  4,  5,  6])"
      ]
     },
     "execution_count": 11,
     "metadata": {},
     "output_type": "execute_result"
    }
   ],
   "source": [
    "df.datetime_Month.unique()"
   ]
  },
  {
   "cell_type": "code",
   "execution_count": null,
   "metadata": {},
   "outputs": [],
   "source": []
  }
 ],
 "metadata": {
  "kernelspec": {
   "display_name": "Python 3",
   "language": "python",
   "name": "python3"
  },
  "language_info": {
   "codemirror_mode": {
    "name": "ipython",
    "version": 3
   },
   "file_extension": ".py",
   "mimetype": "text/x-python",
   "name": "python",
   "nbconvert_exporter": "python",
   "pygments_lexer": "ipython3",
   "version": "3.6.5"
  }
 },
 "nbformat": 4,
 "nbformat_minor": 2
}
