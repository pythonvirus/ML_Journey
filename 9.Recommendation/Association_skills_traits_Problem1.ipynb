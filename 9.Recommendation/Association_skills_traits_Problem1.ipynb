{
 "cells": [
  {
   "cell_type": "markdown",
   "metadata": {},
   "source": [
    "# Problem statement\n",
    "\n",
    "Determine association among employee experience, skills, traits etc."
   ]
  },
  {
   "cell_type": "code",
   "execution_count": 214,
   "metadata": {
    "ExecuteTime": {
     "end_time": "2020-08-30T10:51:15.176159Z",
     "start_time": "2020-08-30T10:51:15.151153Z"
    }
   },
   "outputs": [],
   "source": [
    "import pandas as pd\n",
    "import mlxtend\n",
    "from mlxtend.frequent_patterns import apriori,fpmax, fpgrowth\n",
    "from mlxtend.frequent_patterns import association_rules\n",
    "import matplotlib.pyplot as plt\n",
    "import seaborn as sns\n",
    "import math\n",
    "#from mlxtend.preprocessing import TransactionEncoder\n",
    "%matplotlib inline"
   ]
  },
  {
   "cell_type": "markdown",
   "metadata": {},
   "source": [
    "# Exploratory data analysis"
   ]
  },
  {
   "cell_type": "code",
   "execution_count": 175,
   "metadata": {
    "ExecuteTime": {
     "end_time": "2020-08-30T04:13:24.624108Z",
     "start_time": "2020-08-30T04:13:24.565103Z"
    }
   },
   "outputs": [
    {
     "data": {
      "text/html": [
       "<div>\n",
       "<style scoped>\n",
       "    .dataframe tbody tr th:only-of-type {\n",
       "        vertical-align: middle;\n",
       "    }\n",
       "\n",
       "    .dataframe tbody tr th {\n",
       "        vertical-align: top;\n",
       "    }\n",
       "\n",
       "    .dataframe thead th {\n",
       "        text-align: right;\n",
       "    }\n",
       "</style>\n",
       "<table border=\"1\" class=\"dataframe\">\n",
       "  <thead>\n",
       "    <tr style=\"text-align: right;\">\n",
       "      <th></th>\n",
       "      <th>ID</th>\n",
       "      <th>Employment period</th>\n",
       "      <th>Time in current department</th>\n",
       "      <th>Gender</th>\n",
       "      <th>Team leader</th>\n",
       "      <th>Age</th>\n",
       "      <th>Member of professional organizations</th>\n",
       "      <th>.Net</th>\n",
       "      <th>SQL Server</th>\n",
       "      <th>HTML CSS Java Script</th>\n",
       "      <th>PHP mySQL</th>\n",
       "      <th>Fast working</th>\n",
       "      <th>Awards</th>\n",
       "      <th>Communicative</th>\n",
       "    </tr>\n",
       "  </thead>\n",
       "  <tbody>\n",
       "    <tr>\n",
       "      <th>0</th>\n",
       "      <td>6723</td>\n",
       "      <td>5</td>\n",
       "      <td>4</td>\n",
       "      <td>0</td>\n",
       "      <td>1</td>\n",
       "      <td>48</td>\n",
       "      <td>1</td>\n",
       "      <td>1</td>\n",
       "      <td>1</td>\n",
       "      <td>0</td>\n",
       "      <td>1</td>\n",
       "      <td>1</td>\n",
       "      <td>0</td>\n",
       "      <td>1</td>\n",
       "    </tr>\n",
       "    <tr>\n",
       "      <th>1</th>\n",
       "      <td>8923</td>\n",
       "      <td>5</td>\n",
       "      <td>3</td>\n",
       "      <td>1</td>\n",
       "      <td>1</td>\n",
       "      <td>26</td>\n",
       "      <td>1</td>\n",
       "      <td>1</td>\n",
       "      <td>0</td>\n",
       "      <td>0</td>\n",
       "      <td>1</td>\n",
       "      <td>1</td>\n",
       "      <td>0</td>\n",
       "      <td>0</td>\n",
       "    </tr>\n",
       "    <tr>\n",
       "      <th>2</th>\n",
       "      <td>2322</td>\n",
       "      <td>11</td>\n",
       "      <td>8</td>\n",
       "      <td>0</td>\n",
       "      <td>0</td>\n",
       "      <td>34</td>\n",
       "      <td>0</td>\n",
       "      <td>0</td>\n",
       "      <td>1</td>\n",
       "      <td>1</td>\n",
       "      <td>0</td>\n",
       "      <td>1</td>\n",
       "      <td>0</td>\n",
       "      <td>1</td>\n",
       "    </tr>\n",
       "    <tr>\n",
       "      <th>3</th>\n",
       "      <td>235</td>\n",
       "      <td>7</td>\n",
       "      <td>5</td>\n",
       "      <td>1</td>\n",
       "      <td>1</td>\n",
       "      <td>27</td>\n",
       "      <td>1</td>\n",
       "      <td>0</td>\n",
       "      <td>1</td>\n",
       "      <td>0</td>\n",
       "      <td>1</td>\n",
       "      <td>1</td>\n",
       "      <td>1</td>\n",
       "      <td>0</td>\n",
       "    </tr>\n",
       "    <tr>\n",
       "      <th>4</th>\n",
       "      <td>9523</td>\n",
       "      <td>18</td>\n",
       "      <td>8</td>\n",
       "      <td>0</td>\n",
       "      <td>0</td>\n",
       "      <td>38</td>\n",
       "      <td>0</td>\n",
       "      <td>0</td>\n",
       "      <td>0</td>\n",
       "      <td>1</td>\n",
       "      <td>1</td>\n",
       "      <td>1</td>\n",
       "      <td>1</td>\n",
       "      <td>1</td>\n",
       "    </tr>\n",
       "  </tbody>\n",
       "</table>\n",
       "</div>"
      ],
      "text/plain": [
       "     ID  Employment period   Time in current department   Gender   \\\n",
       "0  6723                   5                            4        0   \n",
       "1  8923                   5                            3        1   \n",
       "2  2322                  11                            8        0   \n",
       "3   235                   7                            5        1   \n",
       "4  9523                  18                            8        0   \n",
       "\n",
       "   Team leader   Age   Member of professional organizations   .Net   \\\n",
       "0             1    48                                      1      1   \n",
       "1             1    26                                      1      1   \n",
       "2             0    34                                      0      0   \n",
       "3             1    27                                      1      0   \n",
       "4             0    38                                      0      0   \n",
       "\n",
       "   SQL Server   HTML CSS Java Script   PHP mySQL   Fast working  Awards  \\\n",
       "0            1                      0           1             1       0   \n",
       "1            0                      0           1             1       0   \n",
       "2            1                      1           0             1       0   \n",
       "3            1                      0           1             1       1   \n",
       "4            0                      1           1             1       1   \n",
       "\n",
       "   Communicative   \n",
       "0               1  \n",
       "1               0  \n",
       "2               1  \n",
       "3               0  \n",
       "4               1  "
      ]
     },
     "execution_count": 175,
     "metadata": {},
     "output_type": "execute_result"
    }
   ],
   "source": [
    "employeeData = pd.read_csv(\"Employee_skills_traits.csv\",skipinitialspace=True)\n",
    "employeeData.head()"
   ]
  },
  {
   "cell_type": "code",
   "execution_count": 176,
   "metadata": {
    "ExecuteTime": {
     "end_time": "2020-08-30T04:13:24.996104Z",
     "start_time": "2020-08-30T04:13:24.979104Z"
    }
   },
   "outputs": [
    {
     "data": {
      "text/plain": [
       "Index(['ID', 'Employment period ', 'Time in current department ', 'Gender ',\n",
       "       'Team leader ', 'Age ', 'Member of professional organizations ',\n",
       "       '.Net ', 'SQL Server ', 'HTML CSS Java Script ', 'PHP mySQL ',\n",
       "       'Fast working', 'Awards', 'Communicative '],\n",
       "      dtype='object')"
      ]
     },
     "execution_count": 176,
     "metadata": {},
     "output_type": "execute_result"
    }
   ],
   "source": [
    "employeeData.columns"
   ]
  },
  {
   "cell_type": "code",
   "execution_count": 177,
   "metadata": {
    "ExecuteTime": {
     "end_time": "2020-08-30T04:13:25.208103Z",
     "start_time": "2020-08-30T04:13:25.006102Z"
    }
   },
   "outputs": [
    {
     "name": "stdout",
     "output_type": "stream",
     "text": [
      "<class 'pandas.core.frame.DataFrame'>\n",
      "RangeIndex: 998 entries, 0 to 997\n",
      "Data columns (total 14 columns):\n",
      "ID                                       998 non-null int64\n",
      "Employment period                        998 non-null int64\n",
      "Time in current department               998 non-null int64\n",
      "Gender                                   998 non-null int64\n",
      "Team leader                              998 non-null int64\n",
      "Age                                      998 non-null int64\n",
      "Member of professional organizations     998 non-null int64\n",
      ".Net                                     998 non-null int64\n",
      "SQL Server                               998 non-null int64\n",
      "HTML CSS Java Script                     998 non-null int64\n",
      "PHP mySQL                                998 non-null int64\n",
      "Fast working                             998 non-null int64\n",
      "Awards                                   998 non-null int64\n",
      "Communicative                            998 non-null int64\n",
      "dtypes: int64(14)\n",
      "memory usage: 109.2 KB\n"
     ]
    }
   ],
   "source": [
    "employeeData.info()"
   ]
  },
  {
   "cell_type": "markdown",
   "metadata": {
    "ExecuteTime": {
     "end_time": "2020-08-30T02:55:00.289883Z",
     "start_time": "2020-08-30T02:55:00.261882Z"
    }
   },
   "source": [
    "#### Observations\n",
    "1) There are 998 items in the dataset and 14 features.\n",
    "\n",
    "2) There are no empty items\n",
    "\n",
    "3) There are both categorical and numerical value in the given data set.\n",
    "\n",
    "4) ID is a running queue to identify an employee uniquely.\n",
    "\n",
    "5) Employment Period, Time in current department and Age are numerical values.\n",
    "\n",
    "6) Gender, Team leader, Member of professional organizations, .Net, SQL Server, HTML CSS Java Script, PHP mySQL, Fast working, Awards and Communicative are all binary type of data having value either 0 or 1. 0 meaning absence of skill and 1 meaning presence.\n",
    "\n",
    "7) Observed extra space in column name so removing it and convert the Categorical column in required datatype."
   ]
  },
  {
   "cell_type": "code",
   "execution_count": 178,
   "metadata": {
    "ExecuteTime": {
     "end_time": "2020-08-30T04:13:25.846105Z",
     "start_time": "2020-08-30T04:13:25.835105Z"
    }
   },
   "outputs": [],
   "source": [
    "employeeData.rename(columns=lambda x: x.strip(), inplace=True)"
   ]
  },
  {
   "cell_type": "code",
   "execution_count": 179,
   "metadata": {
    "ExecuteTime": {
     "end_time": "2020-08-30T04:13:26.212101Z",
     "start_time": "2020-08-30T04:13:26.202106Z"
    }
   },
   "outputs": [
    {
     "data": {
      "text/plain": [
       "Index(['ID', 'Employment period', 'Time in current department', 'Gender',\n",
       "       'Team leader', 'Age', 'Member of professional organizations', '.Net',\n",
       "       'SQL Server', 'HTML CSS Java Script', 'PHP mySQL', 'Fast working',\n",
       "       'Awards', 'Communicative'],\n",
       "      dtype='object')"
      ]
     },
     "execution_count": 179,
     "metadata": {},
     "output_type": "execute_result"
    }
   ],
   "source": [
    "employeeData.columns"
   ]
  },
  {
   "cell_type": "code",
   "execution_count": 180,
   "metadata": {
    "ExecuteTime": {
     "end_time": "2020-08-30T04:13:26.507105Z",
     "start_time": "2020-08-30T04:13:26.470105Z"
    }
   },
   "outputs": [
    {
     "name": "stdout",
     "output_type": "stream",
     "text": [
      "ID                                       int64\n",
      "Employment period                        int64\n",
      "Time in current department               int64\n",
      "Gender                                  object\n",
      "Team leader                             object\n",
      "Age                                      int64\n",
      "Member of professional organizations    object\n",
      ".Net                                    object\n",
      "SQL Server                              object\n",
      "HTML CSS Java Script                    object\n",
      "PHP mySQL                               object\n",
      "Fast working                            object\n",
      "Awards                                  object\n",
      "Communicative                           object\n",
      "dtype: object\n"
     ]
    }
   ],
   "source": [
    "convert_dict = {'Gender': str, \n",
    "                'Team leader':str,\n",
    "                 'Member of professional organizations':str,\n",
    "       '.Net':str, 'SQL Server':str, 'HTML CSS Java Script':str, 'PHP mySQL':str,\n",
    "       'Fast working':str, 'Awards':str, 'Communicative':str\n",
    "                     } \n",
    "  \n",
    "employeeData = employeeData.astype(convert_dict) \n",
    "print(employeeData.dtypes) "
   ]
  },
  {
   "cell_type": "code",
   "execution_count": 181,
   "metadata": {
    "ExecuteTime": {
     "end_time": "2020-08-30T04:13:26.861103Z",
     "start_time": "2020-08-30T04:13:26.849104Z"
    }
   },
   "outputs": [
    {
     "data": {
      "text/plain": [
       "974"
      ]
     },
     "execution_count": 181,
     "metadata": {},
     "output_type": "execute_result"
    }
   ],
   "source": [
    "employeeData['ID'].nunique()"
   ]
  },
  {
   "cell_type": "markdown",
   "metadata": {},
   "source": [
    "Observations\n",
    "\n",
    "\n",
    "1) ID column is having disitnct value for each record and some are duplicated so It will not much value to data incase of Assiciation Analysis. Hence Dropping the same"
   ]
  },
  {
   "cell_type": "code",
   "execution_count": 182,
   "metadata": {
    "ExecuteTime": {
     "end_time": "2020-08-30T04:13:27.206105Z",
     "start_time": "2020-08-30T04:13:27.197104Z"
    }
   },
   "outputs": [],
   "source": [
    "employeeData.drop(\"ID\",axis=1,inplace=True)"
   ]
  },
  {
   "cell_type": "code",
   "execution_count": 183,
   "metadata": {
    "ExecuteTime": {
     "end_time": "2020-08-30T04:13:27.496099Z",
     "start_time": "2020-08-30T04:13:27.454102Z"
    }
   },
   "outputs": [
    {
     "data": {
      "text/html": [
       "<div>\n",
       "<style scoped>\n",
       "    .dataframe tbody tr th:only-of-type {\n",
       "        vertical-align: middle;\n",
       "    }\n",
       "\n",
       "    .dataframe tbody tr th {\n",
       "        vertical-align: top;\n",
       "    }\n",
       "\n",
       "    .dataframe thead th {\n",
       "        text-align: right;\n",
       "    }\n",
       "</style>\n",
       "<table border=\"1\" class=\"dataframe\">\n",
       "  <thead>\n",
       "    <tr style=\"text-align: right;\">\n",
       "      <th></th>\n",
       "      <th>Employment period</th>\n",
       "      <th>Time in current department</th>\n",
       "      <th>Age</th>\n",
       "    </tr>\n",
       "  </thead>\n",
       "  <tbody>\n",
       "    <tr>\n",
       "      <th>count</th>\n",
       "      <td>998.000000</td>\n",
       "      <td>998.000000</td>\n",
       "      <td>998.000000</td>\n",
       "    </tr>\n",
       "    <tr>\n",
       "      <th>mean</th>\n",
       "      <td>10.388778</td>\n",
       "      <td>5.660321</td>\n",
       "      <td>40.441884</td>\n",
       "    </tr>\n",
       "    <tr>\n",
       "      <th>std</th>\n",
       "      <td>5.787715</td>\n",
       "      <td>3.196953</td>\n",
       "      <td>8.059964</td>\n",
       "    </tr>\n",
       "    <tr>\n",
       "      <th>min</th>\n",
       "      <td>1.000000</td>\n",
       "      <td>1.000000</td>\n",
       "      <td>24.000000</td>\n",
       "    </tr>\n",
       "    <tr>\n",
       "      <th>25%</th>\n",
       "      <td>5.000000</td>\n",
       "      <td>3.000000</td>\n",
       "      <td>34.000000</td>\n",
       "    </tr>\n",
       "    <tr>\n",
       "      <th>50%</th>\n",
       "      <td>10.000000</td>\n",
       "      <td>5.000000</td>\n",
       "      <td>40.000000</td>\n",
       "    </tr>\n",
       "    <tr>\n",
       "      <th>75%</th>\n",
       "      <td>15.000000</td>\n",
       "      <td>8.000000</td>\n",
       "      <td>47.000000</td>\n",
       "    </tr>\n",
       "    <tr>\n",
       "      <th>max</th>\n",
       "      <td>20.000000</td>\n",
       "      <td>12.000000</td>\n",
       "      <td>55.000000</td>\n",
       "    </tr>\n",
       "  </tbody>\n",
       "</table>\n",
       "</div>"
      ],
      "text/plain": [
       "       Employment period  Time in current department         Age\n",
       "count         998.000000                  998.000000  998.000000\n",
       "mean           10.388778                    5.660321   40.441884\n",
       "std             5.787715                    3.196953    8.059964\n",
       "min             1.000000                    1.000000   24.000000\n",
       "25%             5.000000                    3.000000   34.000000\n",
       "50%            10.000000                    5.000000   40.000000\n",
       "75%            15.000000                    8.000000   47.000000\n",
       "max            20.000000                   12.000000   55.000000"
      ]
     },
     "execution_count": 183,
     "metadata": {},
     "output_type": "execute_result"
    }
   ],
   "source": [
    "employeeData.describe()"
   ]
  },
  {
   "cell_type": "code",
   "execution_count": 184,
   "metadata": {
    "ExecuteTime": {
     "end_time": "2020-08-30T04:13:27.817102Z",
     "start_time": "2020-08-30T04:13:27.737104Z"
    }
   },
   "outputs": [
    {
     "data": {
      "text/html": [
       "<div>\n",
       "<style scoped>\n",
       "    .dataframe tbody tr th:only-of-type {\n",
       "        vertical-align: middle;\n",
       "    }\n",
       "\n",
       "    .dataframe tbody tr th {\n",
       "        vertical-align: top;\n",
       "    }\n",
       "\n",
       "    .dataframe thead th {\n",
       "        text-align: right;\n",
       "    }\n",
       "</style>\n",
       "<table border=\"1\" class=\"dataframe\">\n",
       "  <thead>\n",
       "    <tr style=\"text-align: right;\">\n",
       "      <th></th>\n",
       "      <th>Gender</th>\n",
       "      <th>Team leader</th>\n",
       "      <th>Member of professional organizations</th>\n",
       "      <th>.Net</th>\n",
       "      <th>SQL Server</th>\n",
       "      <th>HTML CSS Java Script</th>\n",
       "      <th>PHP mySQL</th>\n",
       "      <th>Fast working</th>\n",
       "      <th>Awards</th>\n",
       "      <th>Communicative</th>\n",
       "    </tr>\n",
       "  </thead>\n",
       "  <tbody>\n",
       "    <tr>\n",
       "      <th>count</th>\n",
       "      <td>998</td>\n",
       "      <td>998</td>\n",
       "      <td>998</td>\n",
       "      <td>998</td>\n",
       "      <td>998</td>\n",
       "      <td>998</td>\n",
       "      <td>998</td>\n",
       "      <td>998</td>\n",
       "      <td>998</td>\n",
       "      <td>998</td>\n",
       "    </tr>\n",
       "    <tr>\n",
       "      <th>unique</th>\n",
       "      <td>2</td>\n",
       "      <td>2</td>\n",
       "      <td>2</td>\n",
       "      <td>2</td>\n",
       "      <td>2</td>\n",
       "      <td>2</td>\n",
       "      <td>2</td>\n",
       "      <td>2</td>\n",
       "      <td>2</td>\n",
       "      <td>2</td>\n",
       "    </tr>\n",
       "    <tr>\n",
       "      <th>top</th>\n",
       "      <td>0</td>\n",
       "      <td>1</td>\n",
       "      <td>0</td>\n",
       "      <td>0</td>\n",
       "      <td>0</td>\n",
       "      <td>1</td>\n",
       "      <td>0</td>\n",
       "      <td>1</td>\n",
       "      <td>1</td>\n",
       "      <td>1</td>\n",
       "    </tr>\n",
       "    <tr>\n",
       "      <th>freq</th>\n",
       "      <td>514</td>\n",
       "      <td>503</td>\n",
       "      <td>509</td>\n",
       "      <td>522</td>\n",
       "      <td>523</td>\n",
       "      <td>507</td>\n",
       "      <td>521</td>\n",
       "      <td>502</td>\n",
       "      <td>501</td>\n",
       "      <td>520</td>\n",
       "    </tr>\n",
       "  </tbody>\n",
       "</table>\n",
       "</div>"
      ],
      "text/plain": [
       "       Gender Team leader Member of professional organizations .Net  \\\n",
       "count     998         998                                  998  998   \n",
       "unique      2           2                                    2    2   \n",
       "top         0           1                                    0    0   \n",
       "freq      514         503                                  509  522   \n",
       "\n",
       "       SQL Server HTML CSS Java Script PHP mySQL Fast working Awards  \\\n",
       "count         998                  998       998          998    998   \n",
       "unique          2                    2         2            2      2   \n",
       "top             0                    1         0            1      1   \n",
       "freq          523                  507       521          502    501   \n",
       "\n",
       "       Communicative  \n",
       "count            998  \n",
       "unique             2  \n",
       "top                1  \n",
       "freq             520  "
      ]
     },
     "execution_count": 184,
     "metadata": {},
     "output_type": "execute_result"
    }
   ],
   "source": [
    "employeeData.describe(include=['O'])"
   ]
  },
  {
   "cell_type": "markdown",
   "metadata": {},
   "source": [
    "#### Plotting Each feature"
   ]
  },
  {
   "cell_type": "code",
   "execution_count": 185,
   "metadata": {
    "ExecuteTime": {
     "end_time": "2020-08-30T04:13:28.157235Z",
     "start_time": "2020-08-30T04:13:28.074105Z"
    }
   },
   "outputs": [],
   "source": [
    "def plot_distribution(dataset, cols=5, width=20, height=15, hspace=0.2, wspace=0.5):\n",
    "    plt.style.use('seaborn-whitegrid')\n",
    "    fig = plt.figure(figsize=(width,height))\n",
    "    fig.subplots_adjust(left=None, bottom=None, right=None, top=None, wspace=wspace, hspace=hspace)\n",
    "    rows = math.ceil(float(dataset.shape[1]) / cols)\n",
    "    for i, column in enumerate(dataset.columns):\n",
    "        ax = fig.add_subplot(rows, cols, i + 1)\n",
    "        ax.set_title(column)\n",
    "        if dataset.dtypes[column] == np.object:\n",
    "            g = sns.countplot(y=column, data=dataset)\n",
    "            substrings = [s.get_text()[:18] for s in g.get_yticklabels()]\n",
    "            g.set(yticklabels=substrings)\n",
    "            plt.xticks(rotation=25)\n",
    "        else:\n",
    "            g = sns.distplot(dataset[column])\n",
    "            plt.xticks(rotation=25)"
   ]
  },
  {
   "cell_type": "code",
   "execution_count": 186,
   "metadata": {
    "ExecuteTime": {
     "end_time": "2020-08-30T04:13:32.155961Z",
     "start_time": "2020-08-30T04:13:28.397225Z"
    }
   },
   "outputs": [
    {
     "data": {
      "image/png": "[encoded data removed]",
      "text/plain": [
       "<Figure size 1440x1440 with 13 Axes>"
      ]
     },
     "metadata": {},
     "output_type": "display_data"
    }
   ],
   "source": [
    "plot_distribution(employeeData, cols=3, width=20, height=20, hspace=0.45, wspace=0.5)"
   ]
  },
  {
   "cell_type": "code",
   "execution_count": 187,
   "metadata": {
    "ExecuteTime": {
     "end_time": "2020-08-30T04:13:32.412965Z",
     "start_time": "2020-08-30T04:13:32.391960Z"
    }
   },
   "outputs": [
    {
     "data": {
      "text/html": [
       "<div>\n",
       "<style scoped>\n",
       "    .dataframe tbody tr th:only-of-type {\n",
       "        vertical-align: middle;\n",
       "    }\n",
       "\n",
       "    .dataframe tbody tr th {\n",
       "        vertical-align: top;\n",
       "    }\n",
       "\n",
       "    .dataframe thead th {\n",
       "        text-align: right;\n",
       "    }\n",
       "</style>\n",
       "<table border=\"1\" class=\"dataframe\">\n",
       "  <thead>\n",
       "    <tr style=\"text-align: right;\">\n",
       "      <th></th>\n",
       "      <th>Employment period</th>\n",
       "      <th>Time in current department</th>\n",
       "      <th>Age</th>\n",
       "    </tr>\n",
       "  </thead>\n",
       "  <tbody>\n",
       "    <tr>\n",
       "      <th>Employment period</th>\n",
       "      <td>1.000000</td>\n",
       "      <td>0.495719</td>\n",
       "      <td>0.164389</td>\n",
       "    </tr>\n",
       "    <tr>\n",
       "      <th>Time in current department</th>\n",
       "      <td>0.495719</td>\n",
       "      <td>1.000000</td>\n",
       "      <td>0.076987</td>\n",
       "    </tr>\n",
       "    <tr>\n",
       "      <th>Age</th>\n",
       "      <td>0.164389</td>\n",
       "      <td>0.076987</td>\n",
       "      <td>1.000000</td>\n",
       "    </tr>\n",
       "  </tbody>\n",
       "</table>\n",
       "</div>"
      ],
      "text/plain": [
       "                            Employment period  Time in current department  \\\n",
       "Employment period                    1.000000                    0.495719   \n",
       "Time in current department           0.495719                    1.000000   \n",
       "Age                                  0.164389                    0.076987   \n",
       "\n",
       "                                 Age  \n",
       "Employment period           0.164389  \n",
       "Time in current department  0.076987  \n",
       "Age                         1.000000  "
      ]
     },
     "execution_count": 187,
     "metadata": {},
     "output_type": "execute_result"
    }
   ],
   "source": [
    "corr=employeeData.corr().abs()\n",
    "corr"
   ]
  },
  {
   "cell_type": "markdown",
   "metadata": {},
   "source": [
    "## Observations:\n",
    "\n",
    "7) There doesn't seem to be noisy data in this data set as all binary type of columns have either 0 or 1 values. Also Age, Employment period and Time in current department seem to be well within the acceptable range.\n",
    "\n",
    "8) All the numerical columns follow the same scale, i.e., number of years and hence no further scaling may be needed.\n",
    "\n",
    "\n",
    " "
   ]
  },
  {
   "cell_type": "markdown",
   "metadata": {},
   "source": [
    "# Preprocess the data"
   ]
  },
  {
   "cell_type": "code",
   "execution_count": 188,
   "metadata": {
    "ExecuteTime": {
     "end_time": "2020-08-30T04:13:32.668965Z",
     "start_time": "2020-08-30T04:13:32.649962Z"
    }
   },
   "outputs": [
    {
     "data": {
      "text/plain": [
       "count    998.000000\n",
       "mean      10.388778\n",
       "std        5.787715\n",
       "min        1.000000\n",
       "25%        5.000000\n",
       "50%       10.000000\n",
       "75%       15.000000\n",
       "max       20.000000\n",
       "Name: Employment period, dtype: float64"
      ]
     },
     "execution_count": 188,
     "metadata": {},
     "output_type": "execute_result"
    }
   ],
   "source": [
    "employeeData['Employment period'].describe()"
   ]
  },
  {
   "cell_type": "markdown",
   "metadata": {},
   "source": [
    "Observation\n",
    "- Range seems to 5 as STD is 5 and seems same distibution in box plot value of data"
   ]
  },
  {
   "cell_type": "code",
   "execution_count": 189,
   "metadata": {
    "ExecuteTime": {
     "end_time": "2020-08-30T04:13:32.979960Z",
     "start_time": "2020-08-30T04:13:32.930956Z"
    }
   },
   "outputs": [
    {
     "data": {
      "text/html": [
       "<div>\n",
       "<style scoped>\n",
       "    .dataframe tbody tr th:only-of-type {\n",
       "        vertical-align: middle;\n",
       "    }\n",
       "\n",
       "    .dataframe tbody tr th {\n",
       "        vertical-align: top;\n",
       "    }\n",
       "\n",
       "    .dataframe thead th {\n",
       "        text-align: right;\n",
       "    }\n",
       "</style>\n",
       "<table border=\"1\" class=\"dataframe\">\n",
       "  <thead>\n",
       "    <tr style=\"text-align: right;\">\n",
       "      <th></th>\n",
       "      <th>Employment period</th>\n",
       "      <th>Time in current department</th>\n",
       "      <th>Gender</th>\n",
       "      <th>Team leader</th>\n",
       "      <th>Age</th>\n",
       "      <th>Member of professional organizations</th>\n",
       "      <th>.Net</th>\n",
       "      <th>SQL Server</th>\n",
       "      <th>HTML CSS Java Script</th>\n",
       "      <th>PHP mySQL</th>\n",
       "      <th>Fast working</th>\n",
       "      <th>Awards</th>\n",
       "      <th>Communicative</th>\n",
       "      <th>employment_period_bin</th>\n",
       "    </tr>\n",
       "  </thead>\n",
       "  <tbody>\n",
       "    <tr>\n",
       "      <th>0</th>\n",
       "      <td>5</td>\n",
       "      <td>4</td>\n",
       "      <td>0</td>\n",
       "      <td>1</td>\n",
       "      <td>48</td>\n",
       "      <td>1</td>\n",
       "      <td>1</td>\n",
       "      <td>1</td>\n",
       "      <td>0</td>\n",
       "      <td>1</td>\n",
       "      <td>1</td>\n",
       "      <td>0</td>\n",
       "      <td>1</td>\n",
       "      <td>0-5</td>\n",
       "    </tr>\n",
       "    <tr>\n",
       "      <th>1</th>\n",
       "      <td>5</td>\n",
       "      <td>3</td>\n",
       "      <td>1</td>\n",
       "      <td>1</td>\n",
       "      <td>26</td>\n",
       "      <td>1</td>\n",
       "      <td>1</td>\n",
       "      <td>0</td>\n",
       "      <td>0</td>\n",
       "      <td>1</td>\n",
       "      <td>1</td>\n",
       "      <td>0</td>\n",
       "      <td>0</td>\n",
       "      <td>0-5</td>\n",
       "    </tr>\n",
       "    <tr>\n",
       "      <th>2</th>\n",
       "      <td>11</td>\n",
       "      <td>8</td>\n",
       "      <td>0</td>\n",
       "      <td>0</td>\n",
       "      <td>34</td>\n",
       "      <td>0</td>\n",
       "      <td>0</td>\n",
       "      <td>1</td>\n",
       "      <td>1</td>\n",
       "      <td>0</td>\n",
       "      <td>1</td>\n",
       "      <td>0</td>\n",
       "      <td>1</td>\n",
       "      <td>11-15</td>\n",
       "    </tr>\n",
       "    <tr>\n",
       "      <th>3</th>\n",
       "      <td>7</td>\n",
       "      <td>5</td>\n",
       "      <td>1</td>\n",
       "      <td>1</td>\n",
       "      <td>27</td>\n",
       "      <td>1</td>\n",
       "      <td>0</td>\n",
       "      <td>1</td>\n",
       "      <td>0</td>\n",
       "      <td>1</td>\n",
       "      <td>1</td>\n",
       "      <td>1</td>\n",
       "      <td>0</td>\n",
       "      <td>6-10</td>\n",
       "    </tr>\n",
       "    <tr>\n",
       "      <th>4</th>\n",
       "      <td>18</td>\n",
       "      <td>8</td>\n",
       "      <td>0</td>\n",
       "      <td>0</td>\n",
       "      <td>38</td>\n",
       "      <td>0</td>\n",
       "      <td>0</td>\n",
       "      <td>0</td>\n",
       "      <td>1</td>\n",
       "      <td>1</td>\n",
       "      <td>1</td>\n",
       "      <td>1</td>\n",
       "      <td>1</td>\n",
       "      <td>16-20</td>\n",
       "    </tr>\n",
       "  </tbody>\n",
       "</table>\n",
       "</div>"
      ],
      "text/plain": [
       "   Employment period  Time in current department Gender Team leader  Age  \\\n",
       "0                  5                           4      0           1   48   \n",
       "1                  5                           3      1           1   26   \n",
       "2                 11                           8      0           0   34   \n",
       "3                  7                           5      1           1   27   \n",
       "4                 18                           8      0           0   38   \n",
       "\n",
       "  Member of professional organizations .Net SQL Server HTML CSS Java Script  \\\n",
       "0                                    1    1          1                    0   \n",
       "1                                    1    1          0                    0   \n",
       "2                                    0    0          1                    1   \n",
       "3                                    1    0          1                    0   \n",
       "4                                    0    0          0                    1   \n",
       "\n",
       "  PHP mySQL Fast working Awards Communicative employment_period_bin  \n",
       "0         1            1      0             1                   0-5  \n",
       "1         1            1      0             0                   0-5  \n",
       "2         0            1      0             1                 11-15  \n",
       "3         1            1      1             0                  6-10  \n",
       "4         1            1      1             1                 16-20  "
      ]
     },
     "execution_count": 189,
     "metadata": {},
     "output_type": "execute_result"
    }
   ],
   "source": [
    "employment_period_bin_label = ['0-5', '6-10', '11-15', '16-20']\n",
    "cut_bins = [0, 5, 10, 15, 20]\n",
    "employeeData['employment_period_bin'] = pd.cut(employeeData['Employment period'], bins=cut_bins, labels=employment_period_bin_label)\n",
    "employeeData.head()"
   ]
  },
  {
   "cell_type": "code",
   "execution_count": 190,
   "metadata": {
    "ExecuteTime": {
     "end_time": "2020-08-30T04:13:33.227958Z",
     "start_time": "2020-08-30T04:13:33.207958Z"
    }
   },
   "outputs": [
    {
     "data": {
      "text/plain": [
       "count    998.000000\n",
       "mean      40.441884\n",
       "std        8.059964\n",
       "min       24.000000\n",
       "25%       34.000000\n",
       "50%       40.000000\n",
       "75%       47.000000\n",
       "max       55.000000\n",
       "Name: Age, dtype: float64"
      ]
     },
     "execution_count": 190,
     "metadata": {},
     "output_type": "execute_result"
    }
   ],
   "source": [
    "employeeData['Age'].describe()"
   ]
  },
  {
   "cell_type": "code",
   "execution_count": 191,
   "metadata": {
    "ExecuteTime": {
     "end_time": "2020-08-30T04:13:33.521964Z",
     "start_time": "2020-08-30T04:13:33.477962Z"
    }
   },
   "outputs": [
    {
     "data": {
      "text/html": [
       "<div>\n",
       "<style scoped>\n",
       "    .dataframe tbody tr th:only-of-type {\n",
       "        vertical-align: middle;\n",
       "    }\n",
       "\n",
       "    .dataframe tbody tr th {\n",
       "        vertical-align: top;\n",
       "    }\n",
       "\n",
       "    .dataframe thead th {\n",
       "        text-align: right;\n",
       "    }\n",
       "</style>\n",
       "<table border=\"1\" class=\"dataframe\">\n",
       "  <thead>\n",
       "    <tr style=\"text-align: right;\">\n",
       "      <th></th>\n",
       "      <th>Employment period</th>\n",
       "      <th>Time in current department</th>\n",
       "      <th>Gender</th>\n",
       "      <th>Team leader</th>\n",
       "      <th>Age</th>\n",
       "      <th>Member of professional organizations</th>\n",
       "      <th>.Net</th>\n",
       "      <th>SQL Server</th>\n",
       "      <th>HTML CSS Java Script</th>\n",
       "      <th>PHP mySQL</th>\n",
       "      <th>Fast working</th>\n",
       "      <th>Awards</th>\n",
       "      <th>Communicative</th>\n",
       "      <th>employment_period_bin</th>\n",
       "      <th>age_bin</th>\n",
       "    </tr>\n",
       "  </thead>\n",
       "  <tbody>\n",
       "    <tr>\n",
       "      <th>0</th>\n",
       "      <td>5</td>\n",
       "      <td>4</td>\n",
       "      <td>0</td>\n",
       "      <td>1</td>\n",
       "      <td>48</td>\n",
       "      <td>1</td>\n",
       "      <td>1</td>\n",
       "      <td>1</td>\n",
       "      <td>0</td>\n",
       "      <td>1</td>\n",
       "      <td>1</td>\n",
       "      <td>0</td>\n",
       "      <td>1</td>\n",
       "      <td>0-5</td>\n",
       "      <td>41-50</td>\n",
       "    </tr>\n",
       "    <tr>\n",
       "      <th>1</th>\n",
       "      <td>5</td>\n",
       "      <td>3</td>\n",
       "      <td>1</td>\n",
       "      <td>1</td>\n",
       "      <td>26</td>\n",
       "      <td>1</td>\n",
       "      <td>1</td>\n",
       "      <td>0</td>\n",
       "      <td>0</td>\n",
       "      <td>1</td>\n",
       "      <td>1</td>\n",
       "      <td>0</td>\n",
       "      <td>0</td>\n",
       "      <td>0-5</td>\n",
       "      <td>20-30</td>\n",
       "    </tr>\n",
       "    <tr>\n",
       "      <th>2</th>\n",
       "      <td>11</td>\n",
       "      <td>8</td>\n",
       "      <td>0</td>\n",
       "      <td>0</td>\n",
       "      <td>34</td>\n",
       "      <td>0</td>\n",
       "      <td>0</td>\n",
       "      <td>1</td>\n",
       "      <td>1</td>\n",
       "      <td>0</td>\n",
       "      <td>1</td>\n",
       "      <td>0</td>\n",
       "      <td>1</td>\n",
       "      <td>11-15</td>\n",
       "      <td>31-40</td>\n",
       "    </tr>\n",
       "    <tr>\n",
       "      <th>3</th>\n",
       "      <td>7</td>\n",
       "      <td>5</td>\n",
       "      <td>1</td>\n",
       "      <td>1</td>\n",
       "      <td>27</td>\n",
       "      <td>1</td>\n",
       "      <td>0</td>\n",
       "      <td>1</td>\n",
       "      <td>0</td>\n",
       "      <td>1</td>\n",
       "      <td>1</td>\n",
       "      <td>1</td>\n",
       "      <td>0</td>\n",
       "      <td>6-10</td>\n",
       "      <td>20-30</td>\n",
       "    </tr>\n",
       "    <tr>\n",
       "      <th>4</th>\n",
       "      <td>18</td>\n",
       "      <td>8</td>\n",
       "      <td>0</td>\n",
       "      <td>0</td>\n",
       "      <td>38</td>\n",
       "      <td>0</td>\n",
       "      <td>0</td>\n",
       "      <td>0</td>\n",
       "      <td>1</td>\n",
       "      <td>1</td>\n",
       "      <td>1</td>\n",
       "      <td>1</td>\n",
       "      <td>1</td>\n",
       "      <td>16-20</td>\n",
       "      <td>31-40</td>\n",
       "    </tr>\n",
       "  </tbody>\n",
       "</table>\n",
       "</div>"
      ],
      "text/plain": [
       "   Employment period  Time in current department Gender Team leader  Age  \\\n",
       "0                  5                           4      0           1   48   \n",
       "1                  5                           3      1           1   26   \n",
       "2                 11                           8      0           0   34   \n",
       "3                  7                           5      1           1   27   \n",
       "4                 18                           8      0           0   38   \n",
       "\n",
       "  Member of professional organizations .Net SQL Server HTML CSS Java Script  \\\n",
       "0                                    1    1          1                    0   \n",
       "1                                    1    1          0                    0   \n",
       "2                                    0    0          1                    1   \n",
       "3                                    1    0          1                    0   \n",
       "4                                    0    0          0                    1   \n",
       "\n",
       "  PHP mySQL Fast working Awards Communicative employment_period_bin age_bin  \n",
       "0         1            1      0             1                   0-5   41-50  \n",
       "1         1            1      0             0                   0-5   20-30  \n",
       "2         0            1      0             1                 11-15   31-40  \n",
       "3         1            1      1             0                  6-10   20-30  \n",
       "4         1            1      1             1                 16-20   31-40  "
      ]
     },
     "execution_count": 191,
     "metadata": {},
     "output_type": "execute_result"
    }
   ],
   "source": [
    "age_bin_label = ['20-30', '31-40', '41-50', '51-60']\n",
    "cut_bins_age = [20, 30, 40, 50, 60]\n",
    "employeeData['age_bin'] = pd.cut(employeeData['Age'], bins=cut_bins_age, labels=age_bin_label)\n",
    "employeeData.head()"
   ]
  },
  {
   "cell_type": "code",
   "execution_count": 192,
   "metadata": {
    "ExecuteTime": {
     "end_time": "2020-08-30T04:13:33.806964Z",
     "start_time": "2020-08-30T04:13:33.788961Z"
    }
   },
   "outputs": [
    {
     "data": {
      "text/plain": [
       "count    998.000000\n",
       "mean       5.660321\n",
       "std        3.196953\n",
       "min        1.000000\n",
       "25%        3.000000\n",
       "50%        5.000000\n",
       "75%        8.000000\n",
       "max       12.000000\n",
       "Name: Time in current department, dtype: float64"
      ]
     },
     "execution_count": 192,
     "metadata": {},
     "output_type": "execute_result"
    }
   ],
   "source": [
    "employeeData['Time in current department'].describe()"
   ]
  },
  {
   "cell_type": "code",
   "execution_count": 193,
   "metadata": {
    "ExecuteTime": {
     "end_time": "2020-08-30T04:13:34.086961Z",
     "start_time": "2020-08-30T04:13:34.042960Z"
    }
   },
   "outputs": [
    {
     "data": {
      "text/html": [
       "<div>\n",
       "<style scoped>\n",
       "    .dataframe tbody tr th:only-of-type {\n",
       "        vertical-align: middle;\n",
       "    }\n",
       "\n",
       "    .dataframe tbody tr th {\n",
       "        vertical-align: top;\n",
       "    }\n",
       "\n",
       "    .dataframe thead th {\n",
       "        text-align: right;\n",
       "    }\n",
       "</style>\n",
       "<table border=\"1\" class=\"dataframe\">\n",
       "  <thead>\n",
       "    <tr style=\"text-align: right;\">\n",
       "      <th></th>\n",
       "      <th>Employment period</th>\n",
       "      <th>Time in current department</th>\n",
       "      <th>Gender</th>\n",
       "      <th>Team leader</th>\n",
       "      <th>Age</th>\n",
       "      <th>Member of professional organizations</th>\n",
       "      <th>.Net</th>\n",
       "      <th>SQL Server</th>\n",
       "      <th>HTML CSS Java Script</th>\n",
       "      <th>PHP mySQL</th>\n",
       "      <th>Fast working</th>\n",
       "      <th>Awards</th>\n",
       "      <th>Communicative</th>\n",
       "      <th>employment_period_bin</th>\n",
       "      <th>age_bin</th>\n",
       "      <th>age_curr_dept_bin</th>\n",
       "    </tr>\n",
       "  </thead>\n",
       "  <tbody>\n",
       "    <tr>\n",
       "      <th>0</th>\n",
       "      <td>5</td>\n",
       "      <td>4</td>\n",
       "      <td>0</td>\n",
       "      <td>1</td>\n",
       "      <td>48</td>\n",
       "      <td>1</td>\n",
       "      <td>1</td>\n",
       "      <td>1</td>\n",
       "      <td>0</td>\n",
       "      <td>1</td>\n",
       "      <td>1</td>\n",
       "      <td>0</td>\n",
       "      <td>1</td>\n",
       "      <td>0-5</td>\n",
       "      <td>41-50</td>\n",
       "      <td>4-6</td>\n",
       "    </tr>\n",
       "    <tr>\n",
       "      <th>1</th>\n",
       "      <td>5</td>\n",
       "      <td>3</td>\n",
       "      <td>1</td>\n",
       "      <td>1</td>\n",
       "      <td>26</td>\n",
       "      <td>1</td>\n",
       "      <td>1</td>\n",
       "      <td>0</td>\n",
       "      <td>0</td>\n",
       "      <td>1</td>\n",
       "      <td>1</td>\n",
       "      <td>0</td>\n",
       "      <td>0</td>\n",
       "      <td>0-5</td>\n",
       "      <td>20-30</td>\n",
       "      <td>0-3</td>\n",
       "    </tr>\n",
       "    <tr>\n",
       "      <th>2</th>\n",
       "      <td>11</td>\n",
       "      <td>8</td>\n",
       "      <td>0</td>\n",
       "      <td>0</td>\n",
       "      <td>34</td>\n",
       "      <td>0</td>\n",
       "      <td>0</td>\n",
       "      <td>1</td>\n",
       "      <td>1</td>\n",
       "      <td>0</td>\n",
       "      <td>1</td>\n",
       "      <td>0</td>\n",
       "      <td>1</td>\n",
       "      <td>11-15</td>\n",
       "      <td>31-40</td>\n",
       "      <td>7-9</td>\n",
       "    </tr>\n",
       "    <tr>\n",
       "      <th>3</th>\n",
       "      <td>7</td>\n",
       "      <td>5</td>\n",
       "      <td>1</td>\n",
       "      <td>1</td>\n",
       "      <td>27</td>\n",
       "      <td>1</td>\n",
       "      <td>0</td>\n",
       "      <td>1</td>\n",
       "      <td>0</td>\n",
       "      <td>1</td>\n",
       "      <td>1</td>\n",
       "      <td>1</td>\n",
       "      <td>0</td>\n",
       "      <td>6-10</td>\n",
       "      <td>20-30</td>\n",
       "      <td>4-6</td>\n",
       "    </tr>\n",
       "    <tr>\n",
       "      <th>4</th>\n",
       "      <td>18</td>\n",
       "      <td>8</td>\n",
       "      <td>0</td>\n",
       "      <td>0</td>\n",
       "      <td>38</td>\n",
       "      <td>0</td>\n",
       "      <td>0</td>\n",
       "      <td>0</td>\n",
       "      <td>1</td>\n",
       "      <td>1</td>\n",
       "      <td>1</td>\n",
       "      <td>1</td>\n",
       "      <td>1</td>\n",
       "      <td>16-20</td>\n",
       "      <td>31-40</td>\n",
       "      <td>7-9</td>\n",
       "    </tr>\n",
       "  </tbody>\n",
       "</table>\n",
       "</div>"
      ],
      "text/plain": [
       "   Employment period  Time in current department Gender Team leader  Age  \\\n",
       "0                  5                           4      0           1   48   \n",
       "1                  5                           3      1           1   26   \n",
       "2                 11                           8      0           0   34   \n",
       "3                  7                           5      1           1   27   \n",
       "4                 18                           8      0           0   38   \n",
       "\n",
       "  Member of professional organizations .Net SQL Server HTML CSS Java Script  \\\n",
       "0                                    1    1          1                    0   \n",
       "1                                    1    1          0                    0   \n",
       "2                                    0    0          1                    1   \n",
       "3                                    1    0          1                    0   \n",
       "4                                    0    0          0                    1   \n",
       "\n",
       "  PHP mySQL Fast working Awards Communicative employment_period_bin age_bin  \\\n",
       "0         1            1      0             1                   0-5   41-50   \n",
       "1         1            1      0             0                   0-5   20-30   \n",
       "2         0            1      0             1                 11-15   31-40   \n",
       "3         1            1      1             0                  6-10   20-30   \n",
       "4         1            1      1             1                 16-20   31-40   \n",
       "\n",
       "  age_curr_dept_bin  \n",
       "0               4-6  \n",
       "1               0-3  \n",
       "2               7-9  \n",
       "3               4-6  \n",
       "4               7-9  "
      ]
     },
     "execution_count": 193,
     "metadata": {},
     "output_type": "execute_result"
    }
   ],
   "source": [
    "current_department_bin_label = ['0-3', '4-6', '7-9', '10-12']\n",
    "cut_bins_curr_dept = [0, 3, 6, 9, 12]\n",
    "employeeData['age_curr_dept_bin'] = pd.cut(employeeData['Time in current department'], bins=cut_bins_curr_dept, labels=current_department_bin_label)\n",
    "employeeData.head()"
   ]
  },
  {
   "cell_type": "code",
   "execution_count": 194,
   "metadata": {
    "ExecuteTime": {
     "end_time": "2020-08-30T04:13:34.371960Z",
     "start_time": "2020-08-30T04:13:34.359960Z"
    }
   },
   "outputs": [],
   "source": [
    "employeeData.drop(columns=['Age','Time in current department', 'Employment period'],axis=1,inplace=True)"
   ]
  },
  {
   "cell_type": "code",
   "execution_count": 195,
   "metadata": {
    "ExecuteTime": {
     "end_time": "2020-08-30T04:13:34.602958Z",
     "start_time": "2020-08-30T04:13:34.592961Z"
    }
   },
   "outputs": [
    {
     "data": {
      "text/plain": [
       "Index(['Gender', 'Team leader', 'Member of professional organizations', '.Net',\n",
       "       'SQL Server', 'HTML CSS Java Script', 'PHP mySQL', 'Fast working',\n",
       "       'Awards', 'Communicative', 'employment_period_bin', 'age_bin',\n",
       "       'age_curr_dept_bin'],\n",
       "      dtype='object')"
      ]
     },
     "execution_count": 195,
     "metadata": {},
     "output_type": "execute_result"
    }
   ],
   "source": [
    "employeeData.columns"
   ]
  },
  {
   "cell_type": "markdown",
   "metadata": {},
   "source": [
    "#### One hot encoding"
   ]
  },
  {
   "cell_type": "code",
   "execution_count": 196,
   "metadata": {
    "ExecuteTime": {
     "end_time": "2020-08-30T04:13:34.882969Z",
     "start_time": "2020-08-30T04:13:34.856960Z"
    }
   },
   "outputs": [],
   "source": [
    "encod_cols= ['employment_period_bin','age_bin','age_curr_dept_bin']\n",
    "employeeData = pd.get_dummies(employeeData, columns=encod_cols,drop_first=True)"
   ]
  },
  {
   "cell_type": "code",
   "execution_count": 197,
   "metadata": {
    "ExecuteTime": {
     "end_time": "2020-08-30T04:13:35.174959Z",
     "start_time": "2020-08-30T04:13:35.130958Z"
    }
   },
   "outputs": [
    {
     "data": {
      "text/html": [
       "<div>\n",
       "<style scoped>\n",
       "    .dataframe tbody tr th:only-of-type {\n",
       "        vertical-align: middle;\n",
       "    }\n",
       "\n",
       "    .dataframe tbody tr th {\n",
       "        vertical-align: top;\n",
       "    }\n",
       "\n",
       "    .dataframe thead th {\n",
       "        text-align: right;\n",
       "    }\n",
       "</style>\n",
       "<table border=\"1\" class=\"dataframe\">\n",
       "  <thead>\n",
       "    <tr style=\"text-align: right;\">\n",
       "      <th></th>\n",
       "      <th>Gender</th>\n",
       "      <th>Team leader</th>\n",
       "      <th>Member of professional organizations</th>\n",
       "      <th>.Net</th>\n",
       "      <th>SQL Server</th>\n",
       "      <th>HTML CSS Java Script</th>\n",
       "      <th>PHP mySQL</th>\n",
       "      <th>Fast working</th>\n",
       "      <th>Awards</th>\n",
       "      <th>Communicative</th>\n",
       "      <th>employment_period_bin_6-10</th>\n",
       "      <th>employment_period_bin_11-15</th>\n",
       "      <th>employment_period_bin_16-20</th>\n",
       "      <th>age_bin_31-40</th>\n",
       "      <th>age_bin_41-50</th>\n",
       "      <th>age_bin_51-60</th>\n",
       "      <th>age_curr_dept_bin_4-6</th>\n",
       "      <th>age_curr_dept_bin_7-9</th>\n",
       "      <th>age_curr_dept_bin_10-12</th>\n",
       "    </tr>\n",
       "  </thead>\n",
       "  <tbody>\n",
       "    <tr>\n",
       "      <th>0</th>\n",
       "      <td>0</td>\n",
       "      <td>1</td>\n",
       "      <td>1</td>\n",
       "      <td>1</td>\n",
       "      <td>1</td>\n",
       "      <td>0</td>\n",
       "      <td>1</td>\n",
       "      <td>1</td>\n",
       "      <td>0</td>\n",
       "      <td>1</td>\n",
       "      <td>0</td>\n",
       "      <td>0</td>\n",
       "      <td>0</td>\n",
       "      <td>0</td>\n",
       "      <td>1</td>\n",
       "      <td>0</td>\n",
       "      <td>1</td>\n",
       "      <td>0</td>\n",
       "      <td>0</td>\n",
       "    </tr>\n",
       "    <tr>\n",
       "      <th>1</th>\n",
       "      <td>1</td>\n",
       "      <td>1</td>\n",
       "      <td>1</td>\n",
       "      <td>1</td>\n",
       "      <td>0</td>\n",
       "      <td>0</td>\n",
       "      <td>1</td>\n",
       "      <td>1</td>\n",
       "      <td>0</td>\n",
       "      <td>0</td>\n",
       "      <td>0</td>\n",
       "      <td>0</td>\n",
       "      <td>0</td>\n",
       "      <td>0</td>\n",
       "      <td>0</td>\n",
       "      <td>0</td>\n",
       "      <td>0</td>\n",
       "      <td>0</td>\n",
       "      <td>0</td>\n",
       "    </tr>\n",
       "    <tr>\n",
       "      <th>2</th>\n",
       "      <td>0</td>\n",
       "      <td>0</td>\n",
       "      <td>0</td>\n",
       "      <td>0</td>\n",
       "      <td>1</td>\n",
       "      <td>1</td>\n",
       "      <td>0</td>\n",
       "      <td>1</td>\n",
       "      <td>0</td>\n",
       "      <td>1</td>\n",
       "      <td>0</td>\n",
       "      <td>1</td>\n",
       "      <td>0</td>\n",
       "      <td>1</td>\n",
       "      <td>0</td>\n",
       "      <td>0</td>\n",
       "      <td>0</td>\n",
       "      <td>1</td>\n",
       "      <td>0</td>\n",
       "    </tr>\n",
       "    <tr>\n",
       "      <th>3</th>\n",
       "      <td>1</td>\n",
       "      <td>1</td>\n",
       "      <td>1</td>\n",
       "      <td>0</td>\n",
       "      <td>1</td>\n",
       "      <td>0</td>\n",
       "      <td>1</td>\n",
       "      <td>1</td>\n",
       "      <td>1</td>\n",
       "      <td>0</td>\n",
       "      <td>1</td>\n",
       "      <td>0</td>\n",
       "      <td>0</td>\n",
       "      <td>0</td>\n",
       "      <td>0</td>\n",
       "      <td>0</td>\n",
       "      <td>1</td>\n",
       "      <td>0</td>\n",
       "      <td>0</td>\n",
       "    </tr>\n",
       "    <tr>\n",
       "      <th>4</th>\n",
       "      <td>0</td>\n",
       "      <td>0</td>\n",
       "      <td>0</td>\n",
       "      <td>0</td>\n",
       "      <td>0</td>\n",
       "      <td>1</td>\n",
       "      <td>1</td>\n",
       "      <td>1</td>\n",
       "      <td>1</td>\n",
       "      <td>1</td>\n",
       "      <td>0</td>\n",
       "      <td>0</td>\n",
       "      <td>1</td>\n",
       "      <td>1</td>\n",
       "      <td>0</td>\n",
       "      <td>0</td>\n",
       "      <td>0</td>\n",
       "      <td>1</td>\n",
       "      <td>0</td>\n",
       "    </tr>\n",
       "  </tbody>\n",
       "</table>\n",
       "</div>"
      ],
      "text/plain": [
       "  Gender Team leader Member of professional organizations .Net SQL Server  \\\n",
       "0      0           1                                    1    1          1   \n",
       "1      1           1                                    1    1          0   \n",
       "2      0           0                                    0    0          1   \n",
       "3      1           1                                    1    0          1   \n",
       "4      0           0                                    0    0          0   \n",
       "\n",
       "  HTML CSS Java Script PHP mySQL Fast working Awards Communicative  \\\n",
       "0                    0         1            1      0             1   \n",
       "1                    0         1            1      0             0   \n",
       "2                    1         0            1      0             1   \n",
       "3                    0         1            1      1             0   \n",
       "4                    1         1            1      1             1   \n",
       "\n",
       "   employment_period_bin_6-10  employment_period_bin_11-15  \\\n",
       "0                           0                            0   \n",
       "1                           0                            0   \n",
       "2                           0                            1   \n",
       "3                           1                            0   \n",
       "4                           0                            0   \n",
       "\n",
       "   employment_period_bin_16-20  age_bin_31-40  age_bin_41-50  age_bin_51-60  \\\n",
       "0                            0              0              1              0   \n",
       "1                            0              0              0              0   \n",
       "2                            0              1              0              0   \n",
       "3                            0              0              0              0   \n",
       "4                            1              1              0              0   \n",
       "\n",
       "   age_curr_dept_bin_4-6  age_curr_dept_bin_7-9  age_curr_dept_bin_10-12  \n",
       "0                      1                      0                        0  \n",
       "1                      0                      0                        0  \n",
       "2                      0                      1                        0  \n",
       "3                      1                      0                        0  \n",
       "4                      0                      1                        0  "
      ]
     },
     "execution_count": 197,
     "metadata": {},
     "output_type": "execute_result"
    }
   ],
   "source": [
    "employeeData.head()"
   ]
  },
  {
   "cell_type": "code",
   "execution_count": 200,
   "metadata": {
    "ExecuteTime": {
     "end_time": "2020-08-30T04:17:18.771129Z",
     "start_time": "2020-08-30T04:17:18.720136Z"
    }
   },
   "outputs": [
    {
     "name": "stdout",
     "output_type": "stream",
     "text": [
      "Gender := [0 1]\n",
      "Team leader := [1 0]\n",
      "Member of professional organizations := [1 0]\n",
      ".Net := [1 0]\n",
      "SQL Server := [1 0]\n",
      "HTML CSS Java Script := [0 1]\n",
      "PHP mySQL := [1 0]\n",
      "Fast working := [1 0]\n",
      "Awards := [0 1]\n",
      "Communicative := [1 0]\n",
      "employment_period_bin_6-10 := [0 1]\n",
      "employment_period_bin_11-15 := [0 1]\n",
      "employment_period_bin_16-20 := [0 1]\n",
      "age_bin_31-40 := [0 1]\n",
      "age_bin_41-50 := [1 0]\n",
      "age_bin_51-60 := [0 1]\n",
      "age_curr_dept_bin_4-6 := [1 0]\n",
      "age_curr_dept_bin_7-9 := [0 1]\n",
      "age_curr_dept_bin_10-12 := [0 1]\n"
     ]
    }
   ],
   "source": [
    "for i in employeeData.columns:\n",
    "    print(i,\":=\",employeeData[i].unique())"
   ]
  },
  {
   "cell_type": "code",
   "execution_count": 199,
   "metadata": {
    "ExecuteTime": {
     "end_time": "2020-08-30T04:17:11.081605Z",
     "start_time": "2020-08-30T04:17:11.056603Z"
    }
   },
   "outputs": [
    {
     "name": "stdout",
     "output_type": "stream",
     "text": [
      "Gender                                  int32\n",
      "Team leader                             int32\n",
      "Member of professional organizations    int32\n",
      ".Net                                    int32\n",
      "SQL Server                              int32\n",
      "HTML CSS Java Script                    int32\n",
      "PHP mySQL                               int32\n",
      "Fast working                            int32\n",
      "Awards                                  int32\n",
      "Communicative                           int32\n",
      "employment_period_bin_6-10              uint8\n",
      "employment_period_bin_11-15             uint8\n",
      "employment_period_bin_16-20             uint8\n",
      "age_bin_31-40                           uint8\n",
      "age_bin_41-50                           uint8\n",
      "age_bin_51-60                           uint8\n",
      "age_curr_dept_bin_4-6                   uint8\n",
      "age_curr_dept_bin_7-9                   uint8\n",
      "age_curr_dept_bin_10-12                 uint8\n",
      "dtype: object\n"
     ]
    }
   ],
   "source": [
    "convert_dict = {'Gender': int, \n",
    "                'Team leader':int,\n",
    "                 'Member of professional organizations':int,\n",
    "       '.Net':int, 'SQL Server':int, 'HTML CSS Java Script':int, 'PHP mySQL':int,\n",
    "       'Fast working':int, 'Awards':int, 'Communicative':int\n",
    "                     } \n",
    "  \n",
    "employeeData = employeeData.astype(convert_dict) \n",
    "print(employeeData.dtypes) "
   ]
  },
  {
   "cell_type": "markdown",
   "metadata": {},
   "source": [
    "# Proposing parameters such as support, confidence etc.  "
   ]
  },
  {
   "cell_type": "code",
   "execution_count": 205,
   "metadata": {
    "ExecuteTime": {
     "end_time": "2020-08-30T04:20:18.107459Z",
     "start_time": "2020-08-30T04:20:18.075476Z"
    }
   },
   "outputs": [
    {
     "data": {
      "text/html": [
       "<div>\n",
       "<style scoped>\n",
       "    .dataframe tbody tr th:only-of-type {\n",
       "        vertical-align: middle;\n",
       "    }\n",
       "\n",
       "    .dataframe tbody tr th {\n",
       "        vertical-align: top;\n",
       "    }\n",
       "\n",
       "    .dataframe thead th {\n",
       "        text-align: right;\n",
       "    }\n",
       "</style>\n",
       "<table border=\"1\" class=\"dataframe\">\n",
       "  <thead>\n",
       "    <tr style=\"text-align: right;\">\n",
       "      <th></th>\n",
       "      <th>support</th>\n",
       "      <th>itemsets</th>\n",
       "    </tr>\n",
       "  </thead>\n",
       "  <tbody>\n",
       "    <tr>\n",
       "      <th>4</th>\n",
       "      <td>0.521042</td>\n",
       "      <td>(Communicative)</td>\n",
       "    </tr>\n",
       "    <tr>\n",
       "      <th>1</th>\n",
       "      <td>0.508016</td>\n",
       "      <td>(HTML CSS Java Script)</td>\n",
       "    </tr>\n",
       "    <tr>\n",
       "      <th>0</th>\n",
       "      <td>0.504008</td>\n",
       "      <td>(Team leader)</td>\n",
       "    </tr>\n",
       "    <tr>\n",
       "      <th>2</th>\n",
       "      <td>0.503006</td>\n",
       "      <td>(Fast working)</td>\n",
       "    </tr>\n",
       "    <tr>\n",
       "      <th>3</th>\n",
       "      <td>0.502004</td>\n",
       "      <td>(Awards)</td>\n",
       "    </tr>\n",
       "  </tbody>\n",
       "</table>\n",
       "</div>"
      ],
      "text/plain": [
       "    support                itemsets\n",
       "4  0.521042         (Communicative)\n",
       "1  0.508016  (HTML CSS Java Script)\n",
       "0  0.504008           (Team leader)\n",
       "2  0.503006          (Fast working)\n",
       "3  0.502004                (Awards)"
      ]
     },
     "execution_count": 205,
     "metadata": {},
     "output_type": "execute_result"
    }
   ],
   "source": [
    "frequent_itemsets=apriori(employeeData, min_support=0.5,use_colnames=True)\n",
    "\n",
    "frequent_itemsets.sort_values(by='support',ascending=False)"
   ]
  },
  {
   "cell_type": "code",
   "execution_count": 206,
   "metadata": {
    "ExecuteTime": {
     "end_time": "2020-08-30T04:20:29.430079Z",
     "start_time": "2020-08-30T04:20:29.383082Z"
    }
   },
   "outputs": [
    {
     "data": {
      "text/html": [
       "<div>\n",
       "<style scoped>\n",
       "    .dataframe tbody tr th:only-of-type {\n",
       "        vertical-align: middle;\n",
       "    }\n",
       "\n",
       "    .dataframe tbody tr th {\n",
       "        vertical-align: top;\n",
       "    }\n",
       "\n",
       "    .dataframe thead th {\n",
       "        text-align: right;\n",
       "    }\n",
       "</style>\n",
       "<table border=\"1\" class=\"dataframe\">\n",
       "  <thead>\n",
       "    <tr style=\"text-align: right;\">\n",
       "      <th></th>\n",
       "      <th>support</th>\n",
       "      <th>itemsets</th>\n",
       "      <th>length</th>\n",
       "    </tr>\n",
       "  </thead>\n",
       "  <tbody>\n",
       "    <tr>\n",
       "      <th>9</th>\n",
       "      <td>0.521042</td>\n",
       "      <td>(Communicative)</td>\n",
       "      <td>1</td>\n",
       "    </tr>\n",
       "    <tr>\n",
       "      <th>5</th>\n",
       "      <td>0.508016</td>\n",
       "      <td>(HTML CSS Java Script)</td>\n",
       "      <td>1</td>\n",
       "    </tr>\n",
       "    <tr>\n",
       "      <th>1</th>\n",
       "      <td>0.504008</td>\n",
       "      <td>(Team leader)</td>\n",
       "      <td>1</td>\n",
       "    </tr>\n",
       "    <tr>\n",
       "      <th>7</th>\n",
       "      <td>0.503006</td>\n",
       "      <td>(Fast working)</td>\n",
       "      <td>1</td>\n",
       "    </tr>\n",
       "    <tr>\n",
       "      <th>8</th>\n",
       "      <td>0.502004</td>\n",
       "      <td>(Awards)</td>\n",
       "      <td>1</td>\n",
       "    </tr>\n",
       "    <tr>\n",
       "      <th>2</th>\n",
       "      <td>0.489980</td>\n",
       "      <td>(Member of professional organizations)</td>\n",
       "      <td>1</td>\n",
       "    </tr>\n",
       "    <tr>\n",
       "      <th>0</th>\n",
       "      <td>0.484970</td>\n",
       "      <td>(Gender)</td>\n",
       "      <td>1</td>\n",
       "    </tr>\n",
       "    <tr>\n",
       "      <th>6</th>\n",
       "      <td>0.477956</td>\n",
       "      <td>(PHP mySQL)</td>\n",
       "      <td>1</td>\n",
       "    </tr>\n",
       "    <tr>\n",
       "      <th>3</th>\n",
       "      <td>0.476954</td>\n",
       "      <td>(.Net)</td>\n",
       "      <td>1</td>\n",
       "    </tr>\n",
       "    <tr>\n",
       "      <th>4</th>\n",
       "      <td>0.475952</td>\n",
       "      <td>(SQL Server)</td>\n",
       "      <td>1</td>\n",
       "    </tr>\n",
       "    <tr>\n",
       "      <th>10</th>\n",
       "      <td>0.423848</td>\n",
       "      <td>(age_bin_31-40)</td>\n",
       "      <td>1</td>\n",
       "    </tr>\n",
       "  </tbody>\n",
       "</table>\n",
       "</div>"
      ],
      "text/plain": [
       "     support                                itemsets  length\n",
       "9   0.521042                         (Communicative)       1\n",
       "5   0.508016                  (HTML CSS Java Script)       1\n",
       "1   0.504008                           (Team leader)       1\n",
       "7   0.503006                          (Fast working)       1\n",
       "8   0.502004                                (Awards)       1\n",
       "2   0.489980  (Member of professional organizations)       1\n",
       "0   0.484970                                (Gender)       1\n",
       "6   0.477956                             (PHP mySQL)       1\n",
       "3   0.476954                                  (.Net)       1\n",
       "4   0.475952                            (SQL Server)       1\n",
       "10  0.423848                         (age_bin_31-40)       1"
      ]
     },
     "execution_count": 206,
     "metadata": {},
     "output_type": "execute_result"
    }
   ],
   "source": [
    "frequent_itemsets = apriori(employeeData, min_support=0.4, use_colnames=True)\n",
    "frequent_itemsets['length'] = frequent_itemsets['itemsets'].apply(lambda x: len(x))\n",
    "frequent_itemsets.sort_values(by='support',ascending=False)"
   ]
  },
  {
   "cell_type": "markdown",
   "metadata": {},
   "source": [
    "As we can see here, there are no two item frequent sets with min support of 40%, hence reducing it\n"
   ]
  },
  {
   "cell_type": "code",
   "execution_count": 211,
   "metadata": {
    "ExecuteTime": {
     "end_time": "2020-08-30T04:25:15.355006Z",
     "start_time": "2020-08-30T04:25:15.308494Z"
    }
   },
   "outputs": [
    {
     "name": "stdout",
     "output_type": "stream",
     "text": [
      "*************** With 30% support ***************\n"
     ]
    },
    {
     "data": {
      "text/html": [
       "<div>\n",
       "<style scoped>\n",
       "    .dataframe tbody tr th:only-of-type {\n",
       "        vertical-align: middle;\n",
       "    }\n",
       "\n",
       "    .dataframe tbody tr th {\n",
       "        vertical-align: top;\n",
       "    }\n",
       "\n",
       "    .dataframe thead th {\n",
       "        text-align: right;\n",
       "    }\n",
       "</style>\n",
       "<table border=\"1\" class=\"dataframe\">\n",
       "  <thead>\n",
       "    <tr style=\"text-align: right;\">\n",
       "      <th></th>\n",
       "      <th>support</th>\n",
       "      <th>itemsets</th>\n",
       "      <th>length</th>\n",
       "    </tr>\n",
       "  </thead>\n",
       "  <tbody>\n",
       "    <tr>\n",
       "      <th>9</th>\n",
       "      <td>0.521042</td>\n",
       "      <td>(Communicative)</td>\n",
       "      <td>1</td>\n",
       "    </tr>\n",
       "    <tr>\n",
       "      <th>5</th>\n",
       "      <td>0.508016</td>\n",
       "      <td>(HTML CSS Java Script)</td>\n",
       "      <td>1</td>\n",
       "    </tr>\n",
       "    <tr>\n",
       "      <th>1</th>\n",
       "      <td>0.504008</td>\n",
       "      <td>(Team leader)</td>\n",
       "      <td>1</td>\n",
       "    </tr>\n",
       "    <tr>\n",
       "      <th>7</th>\n",
       "      <td>0.503006</td>\n",
       "      <td>(Fast working)</td>\n",
       "      <td>1</td>\n",
       "    </tr>\n",
       "    <tr>\n",
       "      <th>8</th>\n",
       "      <td>0.502004</td>\n",
       "      <td>(Awards)</td>\n",
       "      <td>1</td>\n",
       "    </tr>\n",
       "    <tr>\n",
       "      <th>2</th>\n",
       "      <td>0.489980</td>\n",
       "      <td>(Member of professional organizations)</td>\n",
       "      <td>1</td>\n",
       "    </tr>\n",
       "    <tr>\n",
       "      <th>0</th>\n",
       "      <td>0.484970</td>\n",
       "      <td>(Gender)</td>\n",
       "      <td>1</td>\n",
       "    </tr>\n",
       "    <tr>\n",
       "      <th>6</th>\n",
       "      <td>0.477956</td>\n",
       "      <td>(PHP mySQL)</td>\n",
       "      <td>1</td>\n",
       "    </tr>\n",
       "    <tr>\n",
       "      <th>3</th>\n",
       "      <td>0.476954</td>\n",
       "      <td>(.Net)</td>\n",
       "      <td>1</td>\n",
       "    </tr>\n",
       "    <tr>\n",
       "      <th>4</th>\n",
       "      <td>0.475952</td>\n",
       "      <td>(SQL Server)</td>\n",
       "      <td>1</td>\n",
       "    </tr>\n",
       "    <tr>\n",
       "      <th>10</th>\n",
       "      <td>0.423848</td>\n",
       "      <td>(age_bin_31-40)</td>\n",
       "      <td>1</td>\n",
       "    </tr>\n",
       "    <tr>\n",
       "      <th>11</th>\n",
       "      <td>0.302605</td>\n",
       "      <td>(age_bin_41-50)</td>\n",
       "      <td>1</td>\n",
       "    </tr>\n",
       "  </tbody>\n",
       "</table>\n",
       "</div>"
      ],
      "text/plain": [
       "     support                                itemsets  length\n",
       "9   0.521042                         (Communicative)       1\n",
       "5   0.508016                  (HTML CSS Java Script)       1\n",
       "1   0.504008                           (Team leader)       1\n",
       "7   0.503006                          (Fast working)       1\n",
       "8   0.502004                                (Awards)       1\n",
       "2   0.489980  (Member of professional organizations)       1\n",
       "0   0.484970                                (Gender)       1\n",
       "6   0.477956                             (PHP mySQL)       1\n",
       "3   0.476954                                  (.Net)       1\n",
       "4   0.475952                            (SQL Server)       1\n",
       "10  0.423848                         (age_bin_31-40)       1\n",
       "11  0.302605                         (age_bin_41-50)       1"
      ]
     },
     "execution_count": 211,
     "metadata": {},
     "output_type": "execute_result"
    }
   ],
   "source": [
    "frequent_itemsets = apriori(employeeData, min_support=0.3, use_colnames=True)\n",
    "frequent_itemsets['length'] = frequent_itemsets['itemsets'].apply(lambda x: len(x))\n",
    "print(\"*\"*15,\"With 30% support\",\"*\"*15)\n",
    "frequent_itemsets.sort_values(by='support',ascending=False)\n"
   ]
  },
  {
   "cell_type": "code",
   "execution_count": 230,
   "metadata": {
    "ExecuteTime": {
     "end_time": "2020-08-30T11:53:31.160144Z",
     "start_time": "2020-08-30T11:53:31.080164Z"
    }
   },
   "outputs": [
    {
     "name": "stdout",
     "output_type": "stream",
     "text": [
      "*************** With 25% support ***************\n"
     ]
    },
    {
     "data": {
      "text/html": [
       "<div>\n",
       "<style scoped>\n",
       "    .dataframe tbody tr th:only-of-type {\n",
       "        vertical-align: middle;\n",
       "    }\n",
       "\n",
       "    .dataframe tbody tr th {\n",
       "        vertical-align: top;\n",
       "    }\n",
       "\n",
       "    .dataframe thead th {\n",
       "        text-align: right;\n",
       "    }\n",
       "</style>\n",
       "<table border=\"1\" class=\"dataframe\">\n",
       "  <thead>\n",
       "    <tr style=\"text-align: right;\">\n",
       "      <th></th>\n",
       "      <th>support</th>\n",
       "      <th>itemsets</th>\n",
       "      <th>length</th>\n",
       "    </tr>\n",
       "  </thead>\n",
       "  <tbody>\n",
       "    <tr>\n",
       "      <th>9</th>\n",
       "      <td>0.521042</td>\n",
       "      <td>(Communicative)</td>\n",
       "      <td>1</td>\n",
       "    </tr>\n",
       "    <tr>\n",
       "      <th>5</th>\n",
       "      <td>0.508016</td>\n",
       "      <td>(HTML CSS Java Script)</td>\n",
       "      <td>1</td>\n",
       "    </tr>\n",
       "    <tr>\n",
       "      <th>1</th>\n",
       "      <td>0.504008</td>\n",
       "      <td>(Team leader)</td>\n",
       "      <td>1</td>\n",
       "    </tr>\n",
       "    <tr>\n",
       "      <th>7</th>\n",
       "      <td>0.503006</td>\n",
       "      <td>(Fast working)</td>\n",
       "      <td>1</td>\n",
       "    </tr>\n",
       "    <tr>\n",
       "      <th>8</th>\n",
       "      <td>0.502004</td>\n",
       "      <td>(Awards)</td>\n",
       "      <td>1</td>\n",
       "    </tr>\n",
       "    <tr>\n",
       "      <th>2</th>\n",
       "      <td>0.489980</td>\n",
       "      <td>(Member of professional organizations)</td>\n",
       "      <td>1</td>\n",
       "    </tr>\n",
       "    <tr>\n",
       "      <th>0</th>\n",
       "      <td>0.484970</td>\n",
       "      <td>(Gender)</td>\n",
       "      <td>1</td>\n",
       "    </tr>\n",
       "    <tr>\n",
       "      <th>6</th>\n",
       "      <td>0.477956</td>\n",
       "      <td>(PHP mySQL)</td>\n",
       "      <td>1</td>\n",
       "    </tr>\n",
       "    <tr>\n",
       "      <th>3</th>\n",
       "      <td>0.476954</td>\n",
       "      <td>(.Net)</td>\n",
       "      <td>1</td>\n",
       "    </tr>\n",
       "    <tr>\n",
       "      <th>4</th>\n",
       "      <td>0.475952</td>\n",
       "      <td>(SQL Server)</td>\n",
       "      <td>1</td>\n",
       "    </tr>\n",
       "    <tr>\n",
       "      <th>10</th>\n",
       "      <td>0.423848</td>\n",
       "      <td>(age_bin_31-40)</td>\n",
       "      <td>1</td>\n",
       "    </tr>\n",
       "    <tr>\n",
       "      <th>11</th>\n",
       "      <td>0.302605</td>\n",
       "      <td>(age_bin_41-50)</td>\n",
       "      <td>1</td>\n",
       "    </tr>\n",
       "    <tr>\n",
       "      <th>12</th>\n",
       "      <td>0.297595</td>\n",
       "      <td>(age_curr_dept_bin_4-6)</td>\n",
       "      <td>1</td>\n",
       "    </tr>\n",
       "    <tr>\n",
       "      <th>16</th>\n",
       "      <td>0.289579</td>\n",
       "      <td>(Communicative, Team leader)</td>\n",
       "      <td>2</td>\n",
       "    </tr>\n",
       "    <tr>\n",
       "      <th>20</th>\n",
       "      <td>0.268537</td>\n",
       "      <td>(Communicative, HTML CSS Java Script)</td>\n",
       "      <td>2</td>\n",
       "    </tr>\n",
       "    <tr>\n",
       "      <th>23</th>\n",
       "      <td>0.259519</td>\n",
       "      <td>(Communicative, Fast working)</td>\n",
       "      <td>2</td>\n",
       "    </tr>\n",
       "    <tr>\n",
       "      <th>14</th>\n",
       "      <td>0.257515</td>\n",
       "      <td>(Fast working, Team leader)</td>\n",
       "      <td>2</td>\n",
       "    </tr>\n",
       "    <tr>\n",
       "      <th>17</th>\n",
       "      <td>0.257515</td>\n",
       "      <td>(Communicative, Member of professional organiz...</td>\n",
       "      <td>2</td>\n",
       "    </tr>\n",
       "    <tr>\n",
       "      <th>19</th>\n",
       "      <td>0.256513</td>\n",
       "      <td>(HTML CSS Java Script, Awards)</td>\n",
       "      <td>2</td>\n",
       "    </tr>\n",
       "    <tr>\n",
       "      <th>18</th>\n",
       "      <td>0.255511</td>\n",
       "      <td>(Fast working, HTML CSS Java Script)</td>\n",
       "      <td>2</td>\n",
       "    </tr>\n",
       "    <tr>\n",
       "      <th>24</th>\n",
       "      <td>0.255511</td>\n",
       "      <td>(Communicative, Awards)</td>\n",
       "      <td>2</td>\n",
       "    </tr>\n",
       "    <tr>\n",
       "      <th>15</th>\n",
       "      <td>0.252505</td>\n",
       "      <td>(Team leader, Awards)</td>\n",
       "      <td>2</td>\n",
       "    </tr>\n",
       "    <tr>\n",
       "      <th>21</th>\n",
       "      <td>0.251503</td>\n",
       "      <td>(PHP mySQL, Fast working)</td>\n",
       "      <td>2</td>\n",
       "    </tr>\n",
       "    <tr>\n",
       "      <th>22</th>\n",
       "      <td>0.251503</td>\n",
       "      <td>(Communicative, PHP mySQL)</td>\n",
       "      <td>2</td>\n",
       "    </tr>\n",
       "    <tr>\n",
       "      <th>13</th>\n",
       "      <td>0.250501</td>\n",
       "      <td>(Gender, Team leader)</td>\n",
       "      <td>2</td>\n",
       "    </tr>\n",
       "  </tbody>\n",
       "</table>\n",
       "</div>"
      ],
      "text/plain": [
       "     support                                           itemsets  length\n",
       "9   0.521042                                    (Communicative)       1\n",
       "5   0.508016                             (HTML CSS Java Script)       1\n",
       "1   0.504008                                      (Team leader)       1\n",
       "7   0.503006                                     (Fast working)       1\n",
       "8   0.502004                                           (Awards)       1\n",
       "2   0.489980             (Member of professional organizations)       1\n",
       "0   0.484970                                           (Gender)       1\n",
       "6   0.477956                                        (PHP mySQL)       1\n",
       "3   0.476954                                             (.Net)       1\n",
       "4   0.475952                                       (SQL Server)       1\n",
       "10  0.423848                                    (age_bin_31-40)       1\n",
       "11  0.302605                                    (age_bin_41-50)       1\n",
       "12  0.297595                            (age_curr_dept_bin_4-6)       1\n",
       "16  0.289579                       (Communicative, Team leader)       2\n",
       "20  0.268537              (Communicative, HTML CSS Java Script)       2\n",
       "23  0.259519                      (Communicative, Fast working)       2\n",
       "14  0.257515                        (Fast working, Team leader)       2\n",
       "17  0.257515  (Communicative, Member of professional organiz...       2\n",
       "19  0.256513                     (HTML CSS Java Script, Awards)       2\n",
       "18  0.255511               (Fast working, HTML CSS Java Script)       2\n",
       "24  0.255511                            (Communicative, Awards)       2\n",
       "15  0.252505                              (Team leader, Awards)       2\n",
       "21  0.251503                          (PHP mySQL, Fast working)       2\n",
       "22  0.251503                         (Communicative, PHP mySQL)       2\n",
       "13  0.250501                              (Gender, Team leader)       2"
      ]
     },
     "execution_count": 230,
     "metadata": {},
     "output_type": "execute_result"
    }
   ],
   "source": [
    "frequent_itemsets = apriori(employeeData, min_support=0.25, use_colnames=True)\n",
    "frequent_itemsets['length'] = frequent_itemsets['itemsets'].apply(lambda x: len(x))\n",
    "print(\"*\"*15,\"With 25% support\",\"*\"*15)\n",
    "frequent_itemsets.sort_values(by='support',ascending=False)\n"
   ]
  },
  {
   "cell_type": "markdown",
   "metadata": {},
   "source": [
    "As we can see here, there are few items with 2 items frequent set"
   ]
  },
  {
   "cell_type": "code",
   "execution_count": 215,
   "metadata": {
    "ExecuteTime": {
     "end_time": "2020-08-30T10:51:22.742275Z",
     "start_time": "2020-08-30T10:51:22.685278Z"
    }
   },
   "outputs": [
    {
     "data": {
      "text/html": [
       "<div>\n",
       "<style scoped>\n",
       "    .dataframe tbody tr th:only-of-type {\n",
       "        vertical-align: middle;\n",
       "    }\n",
       "\n",
       "    .dataframe tbody tr th {\n",
       "        vertical-align: top;\n",
       "    }\n",
       "\n",
       "    .dataframe thead th {\n",
       "        text-align: right;\n",
       "    }\n",
       "</style>\n",
       "<table border=\"1\" class=\"dataframe\">\n",
       "  <thead>\n",
       "    <tr style=\"text-align: right;\">\n",
       "      <th></th>\n",
       "      <th>antecedents</th>\n",
       "      <th>consequents</th>\n",
       "      <th>antecedent support</th>\n",
       "      <th>consequent support</th>\n",
       "      <th>support</th>\n",
       "      <th>confidence</th>\n",
       "      <th>lift</th>\n",
       "      <th>leverage</th>\n",
       "      <th>conviction</th>\n",
       "    </tr>\n",
       "  </thead>\n",
       "  <tbody>\n",
       "    <tr>\n",
       "      <th>0</th>\n",
       "      <td>(Gender)</td>\n",
       "      <td>(Team leader)</td>\n",
       "      <td>0.484970</td>\n",
       "      <td>0.504008</td>\n",
       "      <td>0.250501</td>\n",
       "      <td>0.516529</td>\n",
       "      <td>1.024843</td>\n",
       "      <td>0.006072</td>\n",
       "      <td>1.025898</td>\n",
       "    </tr>\n",
       "    <tr>\n",
       "      <th>1</th>\n",
       "      <td>(Team leader)</td>\n",
       "      <td>(Gender)</td>\n",
       "      <td>0.504008</td>\n",
       "      <td>0.484970</td>\n",
       "      <td>0.250501</td>\n",
       "      <td>0.497018</td>\n",
       "      <td>1.024843</td>\n",
       "      <td>0.006072</td>\n",
       "      <td>1.023953</td>\n",
       "    </tr>\n",
       "    <tr>\n",
       "      <th>2</th>\n",
       "      <td>(Fast working)</td>\n",
       "      <td>(Team leader)</td>\n",
       "      <td>0.503006</td>\n",
       "      <td>0.504008</td>\n",
       "      <td>0.257515</td>\n",
       "      <td>0.511952</td>\n",
       "      <td>1.015762</td>\n",
       "      <td>0.003996</td>\n",
       "      <td>1.016277</td>\n",
       "    </tr>\n",
       "    <tr>\n",
       "      <th>3</th>\n",
       "      <td>(Team leader)</td>\n",
       "      <td>(Fast working)</td>\n",
       "      <td>0.504008</td>\n",
       "      <td>0.503006</td>\n",
       "      <td>0.257515</td>\n",
       "      <td>0.510934</td>\n",
       "      <td>1.015762</td>\n",
       "      <td>0.003996</td>\n",
       "      <td>1.016211</td>\n",
       "    </tr>\n",
       "    <tr>\n",
       "      <th>4</th>\n",
       "      <td>(Communicative)</td>\n",
       "      <td>(Team leader)</td>\n",
       "      <td>0.521042</td>\n",
       "      <td>0.504008</td>\n",
       "      <td>0.289579</td>\n",
       "      <td>0.555769</td>\n",
       "      <td>1.102699</td>\n",
       "      <td>0.026970</td>\n",
       "      <td>1.116519</td>\n",
       "    </tr>\n",
       "  </tbody>\n",
       "</table>\n",
       "</div>"
      ],
      "text/plain": [
       "       antecedents     consequents  antecedent support  consequent support  \\\n",
       "0         (Gender)   (Team leader)            0.484970            0.504008   \n",
       "1    (Team leader)        (Gender)            0.504008            0.484970   \n",
       "2   (Fast working)   (Team leader)            0.503006            0.504008   \n",
       "3    (Team leader)  (Fast working)            0.504008            0.503006   \n",
       "4  (Communicative)   (Team leader)            0.521042            0.504008   \n",
       "\n",
       "    support  confidence      lift  leverage  conviction  \n",
       "0  0.250501    0.516529  1.024843  0.006072    1.025898  \n",
       "1  0.250501    0.497018  1.024843  0.006072    1.023953  \n",
       "2  0.257515    0.511952  1.015762  0.003996    1.016277  \n",
       "3  0.257515    0.510934  1.015762  0.003996    1.016211  \n",
       "4  0.289579    0.555769  1.102699  0.026970    1.116519  "
      ]
     },
     "execution_count": 215,
     "metadata": {},
     "output_type": "execute_result"
    }
   ],
   "source": [
    "rules_mlxtend = association_rules(frequent_itemsets,  metric=\"lift\", min_threshold=1)\n",
    "rules_mlxtend.head()"
   ]
  },
  {
   "cell_type": "code",
   "execution_count": 218,
   "metadata": {
    "ExecuteTime": {
     "end_time": "2020-08-30T10:53:45.116941Z",
     "start_time": "2020-08-30T10:53:45.107939Z"
    }
   },
   "outputs": [
    {
     "data": {
      "text/plain": [
       "(16, 9)"
      ]
     },
     "execution_count": 218,
     "metadata": {},
     "output_type": "execute_result"
    }
   ],
   "source": [
    "rules_mlxtend.shape"
   ]
  },
  {
   "cell_type": "code",
   "execution_count": 221,
   "metadata": {
    "ExecuteTime": {
     "end_time": "2020-08-30T10:55:16.759329Z",
     "start_time": "2020-08-30T10:55:16.746327Z"
    }
   },
   "outputs": [],
   "source": [
    "important_business_rules = rules_mlxtend[ (rules_mlxtend['confidence'] >= 0.50) & (rules_mlxtend['lift'] >= 1) & (rules_mlxtend['support'] >= 0.25)]\n"
   ]
  },
  {
   "cell_type": "code",
   "execution_count": 225,
   "metadata": {
    "ExecuteTime": {
     "end_time": "2020-08-30T11:26:19.506536Z",
     "start_time": "2020-08-30T11:26:19.450544Z"
    }
   },
   "outputs": [
    {
     "name": "stdout",
     "output_type": "stream",
     "text": [
      "(13, 9)\n"
     ]
    },
    {
     "data": {
      "text/html": [
       "<div>\n",
       "<style scoped>\n",
       "    .dataframe tbody tr th:only-of-type {\n",
       "        vertical-align: middle;\n",
       "    }\n",
       "\n",
       "    .dataframe tbody tr th {\n",
       "        vertical-align: top;\n",
       "    }\n",
       "\n",
       "    .dataframe thead th {\n",
       "        text-align: right;\n",
       "    }\n",
       "</style>\n",
       "<table border=\"1\" class=\"dataframe\">\n",
       "  <thead>\n",
       "    <tr style=\"text-align: right;\">\n",
       "      <th></th>\n",
       "      <th>antecedents</th>\n",
       "      <th>consequents</th>\n",
       "      <th>antecedent support</th>\n",
       "      <th>consequent support</th>\n",
       "      <th>support</th>\n",
       "      <th>confidence</th>\n",
       "      <th>lift</th>\n",
       "      <th>leverage</th>\n",
       "      <th>conviction</th>\n",
       "    </tr>\n",
       "  </thead>\n",
       "  <tbody>\n",
       "    <tr>\n",
       "      <th>5</th>\n",
       "      <td>(Team leader)</td>\n",
       "      <td>(Communicative)</td>\n",
       "      <td>0.504008</td>\n",
       "      <td>0.521042</td>\n",
       "      <td>0.289579</td>\n",
       "      <td>0.574553</td>\n",
       "      <td>1.102699</td>\n",
       "      <td>0.026970</td>\n",
       "      <td>1.125775</td>\n",
       "    </tr>\n",
       "    <tr>\n",
       "      <th>4</th>\n",
       "      <td>(Communicative)</td>\n",
       "      <td>(Team leader)</td>\n",
       "      <td>0.521042</td>\n",
       "      <td>0.504008</td>\n",
       "      <td>0.289579</td>\n",
       "      <td>0.555769</td>\n",
       "      <td>1.102699</td>\n",
       "      <td>0.026970</td>\n",
       "      <td>1.116519</td>\n",
       "    </tr>\n",
       "    <tr>\n",
       "      <th>13</th>\n",
       "      <td>(Fast working)</td>\n",
       "      <td>(PHP mySQL)</td>\n",
       "      <td>0.503006</td>\n",
       "      <td>0.477956</td>\n",
       "      <td>0.251503</td>\n",
       "      <td>0.500000</td>\n",
       "      <td>1.046122</td>\n",
       "      <td>0.011088</td>\n",
       "      <td>1.044088</td>\n",
       "    </tr>\n",
       "    <tr>\n",
       "      <th>12</th>\n",
       "      <td>(PHP mySQL)</td>\n",
       "      <td>(Fast working)</td>\n",
       "      <td>0.477956</td>\n",
       "      <td>0.503006</td>\n",
       "      <td>0.251503</td>\n",
       "      <td>0.526205</td>\n",
       "      <td>1.046122</td>\n",
       "      <td>0.011088</td>\n",
       "      <td>1.048965</td>\n",
       "    </tr>\n",
       "    <tr>\n",
       "      <th>0</th>\n",
       "      <td>(Gender)</td>\n",
       "      <td>(Team leader)</td>\n",
       "      <td>0.484970</td>\n",
       "      <td>0.504008</td>\n",
       "      <td>0.250501</td>\n",
       "      <td>0.516529</td>\n",
       "      <td>1.024843</td>\n",
       "      <td>0.006072</td>\n",
       "      <td>1.025898</td>\n",
       "    </tr>\n",
       "    <tr>\n",
       "      <th>2</th>\n",
       "      <td>(Fast working)</td>\n",
       "      <td>(Team leader)</td>\n",
       "      <td>0.503006</td>\n",
       "      <td>0.504008</td>\n",
       "      <td>0.257515</td>\n",
       "      <td>0.511952</td>\n",
       "      <td>1.015762</td>\n",
       "      <td>0.003996</td>\n",
       "      <td>1.016277</td>\n",
       "    </tr>\n",
       "    <tr>\n",
       "      <th>3</th>\n",
       "      <td>(Team leader)</td>\n",
       "      <td>(Fast working)</td>\n",
       "      <td>0.504008</td>\n",
       "      <td>0.503006</td>\n",
       "      <td>0.257515</td>\n",
       "      <td>0.510934</td>\n",
       "      <td>1.015762</td>\n",
       "      <td>0.003996</td>\n",
       "      <td>1.016211</td>\n",
       "    </tr>\n",
       "    <tr>\n",
       "      <th>11</th>\n",
       "      <td>(HTML CSS Java Script)</td>\n",
       "      <td>(Communicative)</td>\n",
       "      <td>0.508016</td>\n",
       "      <td>0.521042</td>\n",
       "      <td>0.268537</td>\n",
       "      <td>0.528600</td>\n",
       "      <td>1.014505</td>\n",
       "      <td>0.003839</td>\n",
       "      <td>1.016032</td>\n",
       "    </tr>\n",
       "    <tr>\n",
       "      <th>10</th>\n",
       "      <td>(Communicative)</td>\n",
       "      <td>(HTML CSS Java Script)</td>\n",
       "      <td>0.521042</td>\n",
       "      <td>0.508016</td>\n",
       "      <td>0.268537</td>\n",
       "      <td>0.515385</td>\n",
       "      <td>1.014505</td>\n",
       "      <td>0.003839</td>\n",
       "      <td>1.015205</td>\n",
       "    </tr>\n",
       "    <tr>\n",
       "      <th>15</th>\n",
       "      <td>(PHP mySQL)</td>\n",
       "      <td>(Communicative)</td>\n",
       "      <td>0.477956</td>\n",
       "      <td>0.521042</td>\n",
       "      <td>0.251503</td>\n",
       "      <td>0.526205</td>\n",
       "      <td>1.009910</td>\n",
       "      <td>0.002468</td>\n",
       "      <td>1.010898</td>\n",
       "    </tr>\n",
       "    <tr>\n",
       "      <th>7</th>\n",
       "      <td>(Member of professional organizations)</td>\n",
       "      <td>(Communicative)</td>\n",
       "      <td>0.489980</td>\n",
       "      <td>0.521042</td>\n",
       "      <td>0.257515</td>\n",
       "      <td>0.525562</td>\n",
       "      <td>1.008675</td>\n",
       "      <td>0.002215</td>\n",
       "      <td>1.009528</td>\n",
       "    </tr>\n",
       "    <tr>\n",
       "      <th>9</th>\n",
       "      <td>(Awards)</td>\n",
       "      <td>(HTML CSS Java Script)</td>\n",
       "      <td>0.502004</td>\n",
       "      <td>0.508016</td>\n",
       "      <td>0.256513</td>\n",
       "      <td>0.510978</td>\n",
       "      <td>1.005831</td>\n",
       "      <td>0.001487</td>\n",
       "      <td>1.006057</td>\n",
       "    </tr>\n",
       "    <tr>\n",
       "      <th>8</th>\n",
       "      <td>(HTML CSS Java Script)</td>\n",
       "      <td>(Awards)</td>\n",
       "      <td>0.508016</td>\n",
       "      <td>0.502004</td>\n",
       "      <td>0.256513</td>\n",
       "      <td>0.504931</td>\n",
       "      <td>1.005831</td>\n",
       "      <td>0.001487</td>\n",
       "      <td>1.005912</td>\n",
       "    </tr>\n",
       "  </tbody>\n",
       "</table>\n",
       "</div>"
      ],
      "text/plain": [
       "                               antecedents             consequents  \\\n",
       "5                            (Team leader)         (Communicative)   \n",
       "4                          (Communicative)           (Team leader)   \n",
       "13                          (Fast working)             (PHP mySQL)   \n",
       "12                             (PHP mySQL)          (Fast working)   \n",
       "0                                 (Gender)           (Team leader)   \n",
       "2                           (Fast working)           (Team leader)   \n",
       "3                            (Team leader)          (Fast working)   \n",
       "11                  (HTML CSS Java Script)         (Communicative)   \n",
       "10                         (Communicative)  (HTML CSS Java Script)   \n",
       "15                             (PHP mySQL)         (Communicative)   \n",
       "7   (Member of professional organizations)         (Communicative)   \n",
       "9                                 (Awards)  (HTML CSS Java Script)   \n",
       "8                   (HTML CSS Java Script)                (Awards)   \n",
       "\n",
       "    antecedent support  consequent support   support  confidence      lift  \\\n",
       "5             0.504008            0.521042  0.289579    0.574553  1.102699   \n",
       "4             0.521042            0.504008  0.289579    0.555769  1.102699   \n",
       "13            0.503006            0.477956  0.251503    0.500000  1.046122   \n",
       "12            0.477956            0.503006  0.251503    0.526205  1.046122   \n",
       "0             0.484970            0.504008  0.250501    0.516529  1.024843   \n",
       "2             0.503006            0.504008  0.257515    0.511952  1.015762   \n",
       "3             0.504008            0.503006  0.257515    0.510934  1.015762   \n",
       "11            0.508016            0.521042  0.268537    0.528600  1.014505   \n",
       "10            0.521042            0.508016  0.268537    0.515385  1.014505   \n",
       "15            0.477956            0.521042  0.251503    0.526205  1.009910   \n",
       "7             0.489980            0.521042  0.257515    0.525562  1.008675   \n",
       "9             0.502004            0.508016  0.256513    0.510978  1.005831   \n",
       "8             0.508016            0.502004  0.256513    0.504931  1.005831   \n",
       "\n",
       "    leverage  conviction  \n",
       "5   0.026970    1.125775  \n",
       "4   0.026970    1.116519  \n",
       "13  0.011088    1.044088  \n",
       "12  0.011088    1.048965  \n",
       "0   0.006072    1.025898  \n",
       "2   0.003996    1.016277  \n",
       "3   0.003996    1.016211  \n",
       "11  0.003839    1.016032  \n",
       "10  0.003839    1.015205  \n",
       "15  0.002468    1.010898  \n",
       "7   0.002215    1.009528  \n",
       "9   0.001487    1.006057  \n",
       "8   0.001487    1.005912  "
      ]
     },
     "execution_count": 225,
     "metadata": {},
     "output_type": "execute_result"
    }
   ],
   "source": [
    "print(important_business_rules.shape)\n",
    "important_business_rules.sort_values(by=['lift','confidence','support'],ascending=[False,False,False])"
   ]
  },
  {
   "cell_type": "markdown",
   "metadata": {},
   "source": [
    "- Antecedent support- only LHS support\n",
    "- consequents support--only RHS support\n",
    "- Leverage- A->B support calculated standard deviation\n",
    "- Conviction--- A->B Conviction show the dependies between LHS vs RHS, high value represent how much dependent consequent is dependent in antecedents"
   ]
  },
  {
   "cell_type": "markdown",
   "metadata": {
    "ExecuteTime": {
     "end_time": "2020-08-30T11:52:19.535279Z",
     "start_time": "2020-08-30T11:52:19.518279Z"
    }
   },
   "source": [
    "https://michael.hahsler.net/research/recommender/associationrules.html"
   ]
  },
  {
   "cell_type": "markdown",
   "metadata": {},
   "source": [
    "leverage(X -> Y) = P(X and Y) - (P(X)P(Y))\n",
    "\n",
    "Leverage measures the difference of X and Y appearing together in the data set and what would be expected if X and Y where statistically dependent. The rational in a sales setting is to find out how many more units (items X and Y together) are sold than expected from the independent sells. Using min. leverage thresholds at the same time incorporates an implicit frequency constraint. E.g., for setting a min. leverage thresholds to 0.01% (corresponds to 10 occurrence in a data set with 100,000 transactions) one first can use an algorithm to find all itemsets with min. support of 0.01% and then filter the found item sets using the leverage constraint. Because of this property leverage also can suffer from the rare item problem."
   ]
  },
  {
   "cell_type": "markdown",
   "metadata": {},
   "source": [
    "conviction(X -> Y) = P(X)P(not Y)/P(X and not Y)=(1-sup(Y))/(1-conf(X -> Y))\n",
    "\n",
    "Conviction compares the probability that X appears without Y if they were dependent with the actual frequency of the appearance of X without Y. In that respect it is similar to lift (see section about lift on this page), however, it contrast to lift it is a directed measure. Furthermore, conviction is monotone in confidence and lift."
   ]
  },
  {
   "cell_type": "code",
   "execution_count": null,
   "metadata": {},
   "outputs": [],
   "source": []
  }
 ],
 "metadata": {
  "kernelspec": {
   "display_name": "Python 3",
   "language": "python",
   "name": "python3"
  },
  "language_info": {
   "codemirror_mode": {
    "name": "ipython",
    "version": 3
   },
   "file_extension": ".py",
   "mimetype": "text/x-python",
   "name": "python",
   "nbconvert_exporter": "python",
   "pygments_lexer": "ipython3",
   "version": "3.7.3"
  },
  "toc": {
   "base_numbering": 1,
   "nav_menu": {},
   "number_sections": true,
   "sideBar": true,
   "skip_h1_title": false,
   "title_cell": "Table of Contents",
   "title_sidebar": "Contents",
   "toc_cell": false,
   "toc_position": {},
   "toc_section_display": true,
   "toc_window_display": false
  },
  "varInspector": {
   "cols": {
    "lenName": 16,
    "lenType": 16,
    "lenVar": 40
   },
   "kernels_config": {
    "python": {
     "delete_cmd_postfix": "",
     "delete_cmd_prefix": "del ",
     "library": "var_list.py",
     "varRefreshCmd": "print(var_dic_list())"
    },
    "r": {
     "delete_cmd_postfix": ") ",
     "delete_cmd_prefix": "rm(",
     "library": "var_list.r",
     "varRefreshCmd": "cat(var_dic_list()) "
    }
   },
   "types_to_exclude": [
    "module",
    "function",
    "builtin_function_or_method",
    "instance",
    "_Feature"
   ],
   "window_display": false
  }
 },
 "nbformat": 4,
 "nbformat_minor": 4
}
