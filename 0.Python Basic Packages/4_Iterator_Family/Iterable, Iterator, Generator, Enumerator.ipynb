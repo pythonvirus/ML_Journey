{
 "cells": [
  {
   "cell_type": "markdown",
   "metadata": {},
   "source": [
    "# Iterable, Iterator, Generator, Enumerator"
   ]
  },
  {
   "cell_type": "markdown",
   "metadata": {},
   "source": [
    "## Enumerator"
   ]
  },
  {
   "cell_type": "code",
   "execution_count": null,
   "metadata": {
    "ExecuteTime": {
     "end_time": "2020-04-10T15:08:26.016407Z",
     "start_time": "2020-04-10T15:08:25.998906Z"
    }
   },
   "outputs": [],
   "source": [
    "import collections,types"
   ]
  },
  {
   "cell_type": "code",
   "execution_count": 11,
   "metadata": {
    "ExecuteTime": {
     "end_time": "2020-04-11T10:46:04.181475Z",
     "start_time": "2020-04-11T10:46:04.057468Z"
    }
   },
   "outputs": [],
   "source": [
    "my_list = [1,2,3,4,5,6,2,8,9]"
   ]
  },
  {
   "cell_type": "code",
   "execution_count": null,
   "metadata": {
    "ExecuteTime": {
     "end_time": "2020-04-05T11:08:54.075142Z",
     "start_time": "2020-04-05T11:08:54.068142Z"
    }
   },
   "outputs": [],
   "source": [
    "for num in my_list:\n",
    "    print(num)"
   ]
  },
  {
   "cell_type": "code",
   "execution_count": null,
   "metadata": {
    "ExecuteTime": {
     "end_time": "2020-04-05T11:08:56.661290Z",
     "start_time": "2020-04-05T11:08:56.647289Z"
    }
   },
   "outputs": [],
   "source": [
    "my_list[0]"
   ]
  },
  {
   "cell_type": "markdown",
   "metadata": {},
   "source": [
    "1) Eunumerator are used to provide user defined sequence to iterable.\n",
    "2) They are subclass of Iterable.\n",
    "3) Each element will be tuple with first value as index and second value as actual value.\n",
    "4) Like generator and iterator they follow lazy evaluation."
   ]
  },
  {
   "cell_type": "code",
   "execution_count": null,
   "metadata": {
    "ExecuteTime": {
     "end_time": "2020-04-05T11:09:03.206664Z",
     "start_time": "2020-04-05T11:09:03.201664Z"
    }
   },
   "outputs": [],
   "source": [
    "enumerate_list = enumerate(my_list, start=2)"
   ]
  },
  {
   "cell_type": "code",
   "execution_count": null,
   "metadata": {
    "ExecuteTime": {
     "end_time": "2020-04-05T11:09:06.192835Z",
     "start_time": "2020-04-05T11:09:06.179835Z"
    }
   },
   "outputs": [],
   "source": [
    "print(type(enumerate_list))"
   ]
  },
  {
   "cell_type": "code",
   "execution_count": null,
   "metadata": {
    "ExecuteTime": {
     "end_time": "2020-04-05T11:09:14.373303Z",
     "start_time": "2020-04-05T11:09:14.365303Z"
    }
   },
   "outputs": [],
   "source": [
    "issubclass(enumerate,collections.Iterable)"
   ]
  },
  {
   "cell_type": "code",
   "execution_count": null,
   "metadata": {
    "ExecuteTime": {
     "end_time": "2020-04-05T11:10:00.196924Z",
     "start_time": "2020-04-05T11:10:00.191924Z"
    }
   },
   "outputs": [],
   "source": [
    "item = next(enumerate_list)"
   ]
  },
  {
   "cell_type": "code",
   "execution_count": null,
   "metadata": {
    "ExecuteTime": {
     "end_time": "2020-04-05T11:10:03.580118Z",
     "start_time": "2020-04-05T11:10:03.568117Z"
    }
   },
   "outputs": [],
   "source": [
    "item[0]"
   ]
  },
  {
   "cell_type": "code",
   "execution_count": null,
   "metadata": {
    "ExecuteTime": {
     "end_time": "2020-04-05T11:10:10.122492Z",
     "start_time": "2020-04-05T11:10:10.109491Z"
    }
   },
   "outputs": [],
   "source": [
    "item[1]"
   ]
  },
  {
   "cell_type": "code",
   "execution_count": null,
   "metadata": {
    "ExecuteTime": {
     "end_time": "2020-04-05T11:11:22.204615Z",
     "start_time": "2020-04-05T11:11:22.194614Z"
    }
   },
   "outputs": [],
   "source": [
    "for num in enumerate_list:\n",
    "    print(num)    \n",
    "    print(type(num))"
   ]
  },
  {
   "cell_type": "code",
   "execution_count": null,
   "metadata": {
    "ExecuteTime": {
     "end_time": "2020-04-05T11:11:27.846937Z",
     "start_time": "2020-04-05T11:11:27.834937Z"
    }
   },
   "outputs": [],
   "source": [
    "issubclass(enumerate,collections.Iterable)"
   ]
  },
  {
   "cell_type": "code",
   "execution_count": null,
   "metadata": {
    "ExecuteTime": {
     "end_time": "2020-04-05T11:12:16.284708Z",
     "start_time": "2020-04-05T11:12:16.276707Z"
    }
   },
   "outputs": [],
   "source": [
    "\n",
    "issubclass(enumerate,collections.Iterator)"
   ]
  },
  {
   "cell_type": "code",
   "execution_count": null,
   "metadata": {
    "ExecuteTime": {
     "end_time": "2020-04-05T11:12:23.133100Z",
     "start_time": "2020-04-05T11:12:23.118099Z"
    }
   },
   "outputs": [],
   "source": [
    "issubclass(enumerate,collections.Generator)"
   ]
  },
  {
   "cell_type": "code",
   "execution_count": null,
   "metadata": {
    "ExecuteTime": {
     "end_time": "2020-04-05T11:12:35.453804Z",
     "start_time": "2020-04-05T11:12:35.449804Z"
    }
   },
   "outputs": [],
   "source": [
    "iter_enum = iter(enumerate_list)"
   ]
  },
  {
   "cell_type": "code",
   "execution_count": null,
   "metadata": {
    "ExecuteTime": {
     "end_time": "2020-04-05T11:12:36.387858Z",
     "start_time": "2020-04-05T11:12:36.373857Z"
    }
   },
   "outputs": [],
   "source": [
    "print(type(iter_enum))"
   ]
  },
  {
   "cell_type": "code",
   "execution_count": null,
   "metadata": {
    "ExecuteTime": {
     "end_time": "2020-04-05T11:12:40.980120Z",
     "start_time": "2020-04-05T11:12:40.976120Z"
    }
   },
   "outputs": [],
   "source": [
    "for item in iter_enum:\n",
    "    print(item)\n"
   ]
  },
  {
   "cell_type": "markdown",
   "metadata": {},
   "source": [
    "## Generator"
   ]
  },
  {
   "cell_type": "markdown",
   "metadata": {},
   "source": [
    "1) A python generator is an iterator.\n",
    "2) A python generator is a subclass of Itereable\n",
    "3) Using generator we can easily get iterator functionality\n",
    "4) Genrator is implemented using function and Yeild keyword. A generator does not need a class in python.\n",
    "5) The yield statement suspends function's execution and sends a value back to the caller, but retains enough        state to enable function to resume where it is left off. When resumed, the function continues execution            immediately after the last yield run.\n",
    "6) A generator may have any number of ‘yield’ statements.\n",
    "7) To write a python generator, you can either use a Python function or a comprehension.\n",
    "8) Generator in python let us write fast and compact code. This is an advantage over Python iterators. They also      simpler to code than do custom iterator.\n",
    "9) Less memory efficient than iterator."
   ]
  },
  {
   "cell_type": "code",
   "execution_count": null,
   "metadata": {
    "ExecuteTime": {
     "end_time": "2020-04-05T11:16:42.901958Z",
     "start_time": "2020-04-05T11:16:42.894957Z"
    }
   },
   "outputs": [],
   "source": [
    "issubclass(collections.Generator,collections.Iterator)"
   ]
  },
  {
   "cell_type": "code",
   "execution_count": null,
   "metadata": {
    "ExecuteTime": {
     "end_time": "2020-04-05T11:16:40.082796Z",
     "start_time": "2020-04-05T11:16:40.069796Z"
    }
   },
   "outputs": [],
   "source": [
    "issubclass(collections.Generator,collections.Iterable)"
   ]
  },
  {
   "cell_type": "code",
   "execution_count": null,
   "metadata": {
    "ExecuteTime": {
     "end_time": "2020-04-05T11:16:55.812696Z",
     "start_time": "2020-04-05T11:16:55.794695Z"
    }
   },
   "outputs": [],
   "source": [
    "issubclass(collections.Iterator,collections.Iterable)"
   ]
  },
  {
   "cell_type": "code",
   "execution_count": 1,
   "metadata": {
    "ExecuteTime": {
     "end_time": "2020-04-11T10:40:26.462158Z",
     "start_time": "2020-04-11T10:40:26.457158Z"
    }
   },
   "outputs": [],
   "source": [
    "def myFunction():\n",
    "    yield 1\n",
    "    print('one')\n",
    "    yield 2\n",
    "    print('Two')\n",
    "    yield 3\n",
    "    print('Three')"
   ]
  },
  {
   "cell_type": "code",
   "execution_count": 2,
   "metadata": {
    "ExecuteTime": {
     "end_time": "2020-04-11T10:40:31.898469Z",
     "start_time": "2020-04-11T10:40:31.894469Z"
    }
   },
   "outputs": [],
   "source": [
    "my_generator = myFunction()"
   ]
  },
  {
   "cell_type": "code",
   "execution_count": null,
   "metadata": {
    "ExecuteTime": {
     "end_time": "2020-04-05T11:18:01.092430Z",
     "start_time": "2020-04-05T11:18:01.078429Z"
    }
   },
   "outputs": [],
   "source": [
    "print(type(my_generator))"
   ]
  },
  {
   "cell_type": "code",
   "execution_count": null,
   "metadata": {
    "ExecuteTime": {
     "end_time": "2020-04-05T11:18:17.045342Z",
     "start_time": "2020-04-05T11:18:17.027341Z"
    }
   },
   "outputs": [],
   "source": [
    "next(my_generator)"
   ]
  },
  {
   "cell_type": "code",
   "execution_count": null,
   "metadata": {
    "ExecuteTime": {
     "end_time": "2020-04-05T11:18:43.344846Z",
     "start_time": "2020-04-05T11:18:43.328846Z"
    }
   },
   "outputs": [],
   "source": [
    "p = my_generator.__next__()"
   ]
  },
  {
   "cell_type": "code",
   "execution_count": null,
   "metadata": {
    "ExecuteTime": {
     "end_time": "2020-04-05T11:18:46.734040Z",
     "start_time": "2020-04-05T11:18:46.729040Z"
    }
   },
   "outputs": [],
   "source": [
    "print(p)"
   ]
  },
  {
   "cell_type": "code",
   "execution_count": null,
   "metadata": {
    "ExecuteTime": {
     "end_time": "2020-04-05T11:20:25.429685Z",
     "start_time": "2020-04-05T11:20:25.411684Z"
    }
   },
   "outputs": [],
   "source": [
    "p = my_generator.__next__()"
   ]
  },
  {
   "cell_type": "code",
   "execution_count": null,
   "metadata": {
    "ExecuteTime": {
     "end_time": "2020-04-05T11:20:26.610753Z",
     "start_time": "2020-04-05T11:20:26.604753Z"
    }
   },
   "outputs": [],
   "source": [
    "print(p)"
   ]
  },
  {
   "cell_type": "code",
   "execution_count": null,
   "metadata": {
    "ExecuteTime": {
     "end_time": "2020-04-05T11:20:37.076352Z",
     "start_time": "2020-04-05T11:20:37.064351Z"
    }
   },
   "outputs": [],
   "source": [
    "my_generator.__next__()"
   ]
  },
  {
   "cell_type": "markdown",
   "metadata": {},
   "source": [
    "### Sample generator"
   ]
  },
  {
   "cell_type": "code",
   "execution_count": 3,
   "metadata": {
    "ExecuteTime": {
     "end_time": "2020-04-11T10:40:44.711202Z",
     "start_time": "2020-04-11T10:40:44.705202Z"
    }
   },
   "outputs": [],
   "source": [
    "def evenNumber(num):\n",
    "    i = 1\n",
    "    while i <= num:\n",
    "        if i % 2 == 0:\n",
    "            yield i        \n",
    "        i = i + 1        "
   ]
  },
  {
   "cell_type": "code",
   "execution_count": 4,
   "metadata": {
    "ExecuteTime": {
     "end_time": "2020-04-11T10:40:45.453245Z",
     "start_time": "2020-04-11T10:40:45.447244Z"
    }
   },
   "outputs": [],
   "source": [
    "even_num = evenNumber(15)"
   ]
  },
  {
   "cell_type": "code",
   "execution_count": null,
   "metadata": {
    "ExecuteTime": {
     "end_time": "2020-04-06T14:41:14.985499Z",
     "start_time": "2020-04-06T14:41:14.975499Z"
    }
   },
   "outputs": [],
   "source": [
    "print(type(even_num))"
   ]
  },
  {
   "cell_type": "code",
   "execution_count": 5,
   "metadata": {
    "ExecuteTime": {
     "end_time": "2020-04-11T10:40:47.713374Z",
     "start_time": "2020-04-11T10:40:47.685372Z"
    }
   },
   "outputs": [
    {
     "data": {
      "text/plain": [
       "96"
      ]
     },
     "execution_count": 5,
     "metadata": {},
     "output_type": "execute_result"
    }
   ],
   "source": [
    "evenNumber(15).__sizeof__()"
   ]
  },
  {
   "cell_type": "code",
   "execution_count": null,
   "metadata": {
    "ExecuteTime": {
     "end_time": "2020-04-05T11:23:12.259227Z",
     "start_time": "2020-04-05T11:23:12.250227Z"
    }
   },
   "outputs": [],
   "source": [
    "for num in even_num:\n",
    "    print(num)"
   ]
  },
  {
   "cell_type": "code",
   "execution_count": null,
   "metadata": {
    "ExecuteTime": {
     "end_time": "2020-04-05T11:24:39.379210Z",
     "start_time": "2020-04-05T11:24:39.363210Z"
    }
   },
   "outputs": [],
   "source": [
    "next(even_num)"
   ]
  },
  {
   "cell_type": "code",
   "execution_count": null,
   "metadata": {
    "ExecuteTime": {
     "end_time": "2020-04-05T11:24:41.652340Z",
     "start_time": "2020-04-05T11:24:41.639340Z"
    }
   },
   "outputs": [],
   "source": [
    "even_num.__next__()"
   ]
  },
  {
   "cell_type": "code",
   "execution_count": null,
   "metadata": {
    "ExecuteTime": {
     "end_time": "2020-04-05T11:24:43.695457Z",
     "start_time": "2020-04-05T11:24:43.680456Z"
    }
   },
   "outputs": [],
   "source": [
    "even_num.__next__()"
   ]
  },
  {
   "cell_type": "code",
   "execution_count": null,
   "metadata": {
    "ExecuteTime": {
     "end_time": "2020-04-05T11:24:46.241603Z",
     "start_time": "2020-04-05T11:24:46.227602Z"
    }
   },
   "outputs": [],
   "source": [
    "even_num.__next__()"
   ]
  },
  {
   "cell_type": "markdown",
   "metadata": {},
   "source": [
    "## Iterators"
   ]
  },
  {
   "cell_type": "markdown",
   "metadata": {},
   "source": [
    "1) Python iterator object must implement two special methods, __iter__() and __next__(), collectively called the iterator          protocol.\n",
    "2) The iter() function which calls the __iter__() method returns an iterator from them.\n",
    "3) __iter__ method that is called on initialization of an iterator. This should return an object that has a next or __next__ (in    Python 3) method.\n",
    "4) next ( __next__ in Python 3) The iterator next method should return the next value for the iterable. When an iterator is used    with a ‘for in’ loop, the for loop implicitly calls next() on the iterator object. This method should raise a StopIteration      to signal the end of the iteration.\n",
    "5) File objects in Python are implemented as iterators. As you loop over a file, data is read into memory one line at a time. If    we instead used the readlines method to store all lines in memory, we might run out of system memory.\n",
    "6) They are easy and memory efficient way of implementing infinite iteration. For e.g. Finite state machines. They're not          supposed to end until you reach an end state, at which point you break or return."
   ]
  },
  {
   "cell_type": "code",
   "execution_count": 6,
   "metadata": {
    "ExecuteTime": {
     "end_time": "2020-04-11T10:44:52.630382Z",
     "start_time": "2020-04-11T10:44:52.616382Z"
    }
   },
   "outputs": [
    {
     "name": "stdout",
     "output_type": "stream",
     "text": [
      "<class 'itertools.repeat'>\n"
     ]
    }
   ],
   "source": [
    "from itertools import repeat\n",
    "lots_of_fours = repeat(4, times=100_000_000)\n",
    "print(type(lots_of_fours))"
   ]
  },
  {
   "cell_type": "code",
   "execution_count": 7,
   "metadata": {
    "ExecuteTime": {
     "end_time": "2020-04-11T10:44:56.496603Z",
     "start_time": "2020-04-11T10:44:56.485603Z"
    }
   },
   "outputs": [
    {
     "data": {
      "text/plain": [
       "32"
      ]
     },
     "execution_count": 7,
     "metadata": {},
     "output_type": "execute_result"
    }
   ],
   "source": [
    "lots_of_fours.__sizeof__()"
   ]
  },
  {
   "cell_type": "code",
   "execution_count": 8,
   "metadata": {
    "ExecuteTime": {
     "end_time": "2020-04-11T10:45:08.849310Z",
     "start_time": "2020-04-11T10:45:07.867254Z"
    }
   },
   "outputs": [],
   "source": [
    "lots_of_fours_list = [4] * 100_000_000"
   ]
  },
  {
   "cell_type": "code",
   "execution_count": 9,
   "metadata": {
    "ExecuteTime": {
     "end_time": "2020-04-11T10:45:26.789336Z",
     "start_time": "2020-04-11T10:45:26.782336Z"
    }
   },
   "outputs": [
    {
     "name": "stdout",
     "output_type": "stream",
     "text": [
      "<class 'list'>\n"
     ]
    }
   ],
   "source": [
    "print(type(lots_of_fours_list))"
   ]
  },
  {
   "cell_type": "code",
   "execution_count": 10,
   "metadata": {
    "ExecuteTime": {
     "end_time": "2020-04-11T10:45:45.313396Z",
     "start_time": "2020-04-11T10:45:45.303395Z"
    }
   },
   "outputs": [
    {
     "data": {
      "text/plain": [
       "800000040"
      ]
     },
     "execution_count": 10,
     "metadata": {},
     "output_type": "execute_result"
    }
   ],
   "source": [
    "lots_of_fours_list.__sizeof__()"
   ]
  },
  {
   "cell_type": "code",
   "execution_count": 12,
   "metadata": {
    "ExecuteTime": {
     "end_time": "2020-04-11T10:46:25.347685Z",
     "start_time": "2020-04-11T10:46:25.342685Z"
    }
   },
   "outputs": [
    {
     "name": "stdout",
     "output_type": "stream",
     "text": [
      "<class 'list'>\n"
     ]
    }
   ],
   "source": [
    "print(type(my_list))"
   ]
  },
  {
   "cell_type": "code",
   "execution_count": 13,
   "metadata": {
    "ExecuteTime": {
     "end_time": "2020-04-11T10:46:43.697735Z",
     "start_time": "2020-04-11T10:46:43.579728Z"
    }
   },
   "outputs": [],
   "source": [
    "iter_list = iter(my_list)"
   ]
  },
  {
   "cell_type": "code",
   "execution_count": 14,
   "metadata": {
    "ExecuteTime": {
     "end_time": "2020-04-11T10:47:02.510811Z",
     "start_time": "2020-04-11T10:47:02.496810Z"
    }
   },
   "outputs": [
    {
     "name": "stdout",
     "output_type": "stream",
     "text": [
      "<list_iterator object at 0x00000000053D14A8>\n"
     ]
    }
   ],
   "source": [
    "print(iter_list)"
   ]
  },
  {
   "cell_type": "code",
   "execution_count": null,
   "metadata": {
    "ExecuteTime": {
     "end_time": "2020-04-10T15:11:24.348886Z",
     "start_time": "2020-04-10T15:11:24.328286Z"
    }
   },
   "outputs": [],
   "source": [
    "#Not sure what is UserDict\n",
    "issubclass(collections.UserDict,collections.Iterable)"
   ]
  },
  {
   "cell_type": "code",
   "execution_count": 15,
   "metadata": {
    "ExecuteTime": {
     "end_time": "2020-04-11T10:47:21.659906Z",
     "start_time": "2020-04-11T10:47:21.651906Z"
    }
   },
   "outputs": [],
   "source": [
    "my_dict = {1:'One',2:'Two',3:'Three'}"
   ]
  },
  {
   "cell_type": "code",
   "execution_count": 16,
   "metadata": {
    "ExecuteTime": {
     "end_time": "2020-04-11T10:47:41.586046Z",
     "start_time": "2020-04-11T10:47:41.574045Z"
    }
   },
   "outputs": [
    {
     "name": "stdout",
     "output_type": "stream",
     "text": [
      "<class 'dict'>\n"
     ]
    }
   ],
   "source": [
    "\n",
    "print(type(my_dict))"
   ]
  },
  {
   "cell_type": "code",
   "execution_count": null,
   "metadata": {
    "ExecuteTime": {
     "end_time": "2020-04-11T10:48:03.317289Z",
     "start_time": "2020-04-11T10:47:44.292Z"
    }
   },
   "outputs": [],
   "source": [
    "issubclass(dict,collections.Iterator)"
   ]
  },
  {
   "cell_type": "code",
   "execution_count": 17,
   "metadata": {
    "ExecuteTime": {
     "end_time": "2020-04-11T10:48:02.674252Z",
     "start_time": "2020-04-11T10:48:00.251114Z"
    }
   },
   "outputs": [
    {
     "ename": "TypeError",
     "evalue": "'dict' object is not an iterator",
     "output_type": "error",
     "traceback": [
      "\u001b[1;31m---------------------------------------------------------------------------\u001b[0m",
      "\u001b[1;31mTypeError\u001b[0m                                 Traceback (most recent call last)",
      "\u001b[1;32m<ipython-input-17-0686cf582173>\u001b[0m in \u001b[0;36m<module>\u001b[1;34m()\u001b[0m\n\u001b[1;32m----> 1\u001b[1;33m \u001b[0mnext\u001b[0m\u001b[1;33m(\u001b[0m\u001b[0mmy_dict\u001b[0m\u001b[1;33m)\u001b[0m\u001b[1;33m\u001b[0m\u001b[0m\n\u001b[0m",
      "\u001b[1;31mTypeError\u001b[0m: 'dict' object is not an iterator"
     ]
    }
   ],
   "source": [
    "next(my_dict)"
   ]
  },
  {
   "cell_type": "code",
   "execution_count": 18,
   "metadata": {
    "ExecuteTime": {
     "end_time": "2020-04-11T10:48:20.594277Z",
     "start_time": "2020-04-11T10:48:20.589277Z"
    }
   },
   "outputs": [],
   "source": [
    "iter_values = iter(my_dict.values())"
   ]
  },
  {
   "cell_type": "code",
   "execution_count": 19,
   "metadata": {
    "ExecuteTime": {
     "end_time": "2020-04-11T10:48:40.970443Z",
     "start_time": "2020-04-11T10:48:40.947441Z"
    }
   },
   "outputs": [
    {
     "data": {
      "text/plain": [
       "dict_valueiterator"
      ]
     },
     "execution_count": 19,
     "metadata": {},
     "output_type": "execute_result"
    }
   ],
   "source": [
    "type(iter_values)"
   ]
  },
  {
   "cell_type": "code",
   "execution_count": 20,
   "metadata": {
    "ExecuteTime": {
     "end_time": "2020-04-11T10:49:00.249545Z",
     "start_time": "2020-04-11T10:49:00.224544Z"
    }
   },
   "outputs": [
    {
     "name": "stdout",
     "output_type": "stream",
     "text": [
      "One\n",
      "Two\n",
      "Three\n"
     ]
    }
   ],
   "source": [
    "for c in iter_values:\n",
    "    print(c)"
   ]
  },
  {
   "cell_type": "code",
   "execution_count": null,
   "metadata": {
    "ExecuteTime": {
     "end_time": "2020-04-10T15:13:15.067302Z",
     "start_time": "2020-04-10T15:13:15.047302Z"
    }
   },
   "outputs": [],
   "source": [
    "next(iter_values)"
   ]
  },
  {
   "cell_type": "markdown",
   "metadata": {},
   "source": [
    "### Sample Iterator"
   ]
  },
  {
   "cell_type": "code",
   "execution_count": 51,
   "metadata": {
    "ExecuteTime": {
     "end_time": "2020-04-11T11:29:28.733447Z",
     "start_time": "2020-04-11T11:29:28.704445Z"
    }
   },
   "outputs": [],
   "source": [
    "class EvenNumbers:\n",
    "\n",
    "    def __init__(new_self, num=0):\n",
    "        new_self.last = num\n",
    "        new_self.start = 1\n",
    "\n",
    "    def __iter__(self):\n",
    "        return self\n",
    "    \n",
    "    def __next__(self):\n",
    "        while True:  \n",
    "            self.start += 1 \n",
    "            if self.start <= self.last:                \n",
    "                if self.start % 2 == 0:\n",
    "                    return self.start\n",
    "            else:\n",
    "                raise StopIteration\n"
   ]
  },
  {
   "cell_type": "code",
   "execution_count": 54,
   "metadata": {
    "ExecuteTime": {
     "end_time": "2020-04-11T11:30:11.278880Z",
     "start_time": "2020-04-11T11:30:11.270880Z"
    }
   },
   "outputs": [],
   "source": [
    "evn_num = EvenNumbers(10)"
   ]
  },
  {
   "cell_type": "code",
   "execution_count": 44,
   "metadata": {
    "ExecuteTime": {
     "end_time": "2020-04-11T11:21:41.622729Z",
     "start_time": "2020-04-11T11:21:41.575727Z"
    }
   },
   "outputs": [
    {
     "ename": "TypeError",
     "evalue": "'EvenNumbers' object is not iterable",
     "output_type": "error",
     "traceback": [
      "\u001b[1;31m---------------------------------------------------------------------------\u001b[0m",
      "\u001b[1;31mTypeError\u001b[0m                                 Traceback (most recent call last)",
      "\u001b[1;32m<ipython-input-44-ace2d9631ce2>\u001b[0m in \u001b[0;36m<module>\u001b[1;34m()\u001b[0m\n\u001b[1;32m----> 1\u001b[1;33m \u001b[0ml\u001b[0m \u001b[1;33m=\u001b[0m \u001b[0miter\u001b[0m\u001b[1;33m(\u001b[0m\u001b[0mevn_num\u001b[0m\u001b[1;33m)\u001b[0m\u001b[1;33m\u001b[0m\u001b[0m\n\u001b[0m",
      "\u001b[1;31mTypeError\u001b[0m: 'EvenNumbers' object is not iterable"
     ]
    }
   ],
   "source": [
    "l = iter(evn_num)"
   ]
  },
  {
   "cell_type": "code",
   "execution_count": 57,
   "metadata": {
    "ExecuteTime": {
     "end_time": "2020-04-11T11:30:48.925033Z",
     "start_time": "2020-04-11T11:30:48.911033Z"
    }
   },
   "outputs": [
    {
     "data": {
      "text/plain": [
       "4"
      ]
     },
     "execution_count": 57,
     "metadata": {},
     "output_type": "execute_result"
    }
   ],
   "source": [
    "next(evn_num)"
   ]
  },
  {
   "cell_type": "code",
   "execution_count": 4,
   "metadata": {
    "ExecuteTime": {
     "end_time": "2020-04-10T15:21:47.375673Z",
     "start_time": "2020-04-10T15:21:47.350073Z"
    }
   },
   "outputs": [
    {
     "ename": "NameError",
     "evalue": "name 'l' is not defined",
     "output_type": "error",
     "traceback": [
      "\u001b[1;31m---------------------------------------------------------------------------\u001b[0m",
      "\u001b[1;31mNameError\u001b[0m                                 Traceback (most recent call last)",
      "\u001b[1;32m<ipython-input-4-707f31e7f59c>\u001b[0m in \u001b[0;36m<module>\u001b[1;34m()\u001b[0m\n\u001b[1;32m----> 1\u001b[1;33m \u001b[0ml\u001b[0m\u001b[1;33m.\u001b[0m\u001b[0m__next1__\u001b[0m\u001b[1;33m(\u001b[0m\u001b[1;33m)\u001b[0m\u001b[1;33m\u001b[0m\u001b[0m\n\u001b[0m",
      "\u001b[1;31mNameError\u001b[0m: name 'l' is not defined"
     ]
    }
   ],
   "source": [
    "l.__next1__()"
   ]
  },
  {
   "cell_type": "code",
   "execution_count": 5,
   "metadata": {
    "ExecuteTime": {
     "end_time": "2020-04-10T15:21:51.096595Z",
     "start_time": "2020-04-10T15:21:51.070995Z"
    }
   },
   "outputs": [
    {
     "ename": "NameError",
     "evalue": "name 'l' is not defined",
     "output_type": "error",
     "traceback": [
      "\u001b[1;31m---------------------------------------------------------------------------\u001b[0m",
      "\u001b[1;31mNameError\u001b[0m                                 Traceback (most recent call last)",
      "\u001b[1;32m<ipython-input-5-cdc8a39da60d>\u001b[0m in \u001b[0;36m<module>\u001b[1;34m()\u001b[0m\n\u001b[1;32m----> 1\u001b[1;33m \u001b[0mnext\u001b[0m\u001b[1;33m(\u001b[0m\u001b[0ml\u001b[0m\u001b[1;33m)\u001b[0m\u001b[1;33m\u001b[0m\u001b[0m\n\u001b[0m",
      "\u001b[1;31mNameError\u001b[0m: name 'l' is not defined"
     ]
    }
   ],
   "source": [
    "next(l)"
   ]
  },
  {
   "cell_type": "code",
   "execution_count": 40,
   "metadata": {
    "ExecuteTime": {
     "end_time": "2020-04-11T11:19:31.955313Z",
     "start_time": "2020-04-11T11:19:31.828306Z"
    }
   },
   "outputs": [
    {
     "name": "stdout",
     "output_type": "stream",
     "text": [
      "6\n",
      "8\n",
      "10\n"
     ]
    }
   ],
   "source": [
    "for p in l:\n",
    "    print(p)"
   ]
  },
  {
   "cell_type": "code",
   "execution_count": 7,
   "metadata": {
    "ExecuteTime": {
     "end_time": "2020-04-10T15:21:55.763126Z",
     "start_time": "2020-04-10T15:21:55.732526Z"
    }
   },
   "outputs": [
    {
     "ename": "NameError",
     "evalue": "name 'l' is not defined",
     "output_type": "error",
     "traceback": [
      "\u001b[1;31m---------------------------------------------------------------------------\u001b[0m",
      "\u001b[1;31mNameError\u001b[0m                                 Traceback (most recent call last)",
      "\u001b[1;32m<ipython-input-7-b1eeeb1a7f2b>\u001b[0m in \u001b[0;36m<module>\u001b[1;34m()\u001b[0m\n\u001b[1;32m----> 1\u001b[1;33m \u001b[0mprint\u001b[0m\u001b[1;33m(\u001b[0m\u001b[0mtype\u001b[0m\u001b[1;33m(\u001b[0m\u001b[0ml\u001b[0m\u001b[1;33m)\u001b[0m\u001b[1;33m)\u001b[0m\u001b[1;33m\u001b[0m\u001b[0m\n\u001b[0m",
      "\u001b[1;31mNameError\u001b[0m: name 'l' is not defined"
     ]
    }
   ],
   "source": [
    "print(type(l))"
   ]
  },
  {
   "cell_type": "code",
   "execution_count": 41,
   "metadata": {
    "ExecuteTime": {
     "end_time": "2020-04-11T11:19:52.307477Z",
     "start_time": "2020-04-11T11:19:52.301477Z"
    }
   },
   "outputs": [
    {
     "data": {
      "text/plain": [
       "32"
      ]
     },
     "execution_count": 41,
     "metadata": {},
     "output_type": "execute_result"
    }
   ],
   "source": [
    "evn_num.__sizeof__()"
   ]
  },
  {
   "cell_type": "code",
   "execution_count": 9,
   "metadata": {
    "ExecuteTime": {
     "end_time": "2020-04-10T15:22:01.372374Z",
     "start_time": "2020-04-10T15:22:01.341174Z"
    }
   },
   "outputs": [
    {
     "name": "stdout",
     "output_type": "stream",
     "text": [
      "<class '__main__.EvenNumbers'>\n"
     ]
    }
   ],
   "source": [
    "print(type(evn_num))"
   ]
  },
  {
   "cell_type": "code",
   "execution_count": 45,
   "metadata": {
    "ExecuteTime": {
     "end_time": "2020-04-11T11:22:06.788169Z",
     "start_time": "2020-04-11T11:22:06.752167Z"
    }
   },
   "outputs": [
    {
     "ename": "TypeError",
     "evalue": "'EvenNumbers' object is not iterable",
     "output_type": "error",
     "traceback": [
      "\u001b[1;31m---------------------------------------------------------------------------\u001b[0m",
      "\u001b[1;31mTypeError\u001b[0m                                 Traceback (most recent call last)",
      "\u001b[1;32m<ipython-input-45-f77820fd9874>\u001b[0m in \u001b[0;36m<module>\u001b[1;34m()\u001b[0m\n\u001b[1;32m----> 1\u001b[1;33m \u001b[1;32mfor\u001b[0m \u001b[0mn\u001b[0m \u001b[1;32min\u001b[0m \u001b[0mevn_num\u001b[0m\u001b[1;33m:\u001b[0m\u001b[1;33m\u001b[0m\u001b[0m\n\u001b[0m\u001b[0;32m      2\u001b[0m     \u001b[0mprint\u001b[0m\u001b[1;33m(\u001b[0m\u001b[0mn\u001b[0m\u001b[1;33m)\u001b[0m\u001b[1;33m\u001b[0m\u001b[0m\n",
      "\u001b[1;31mTypeError\u001b[0m: 'EvenNumbers' object is not iterable"
     ]
    }
   ],
   "source": [
    "for n in evn_num:\n",
    "    print(n)"
   ]
  },
  {
   "cell_type": "code",
   "execution_count": 48,
   "metadata": {
    "ExecuteTime": {
     "end_time": "2020-04-11T11:25:31.199861Z",
     "start_time": "2020-04-11T11:25:31.176859Z"
    }
   },
   "outputs": [
    {
     "name": "stdout",
     "output_type": "stream",
     "text": [
      "2\n",
      "0\n",
      "4\n",
      "1\n",
      "6\n",
      "2\n",
      "8\n",
      "3\n",
      "10\n",
      "4\n"
     ]
    }
   ],
   "source": [
    "for i,n in enumerate(evn_num):\n",
    "    print(n)\n",
    "    print(i)"
   ]
  },
  {
   "cell_type": "code",
   "execution_count": 23,
   "metadata": {
    "ExecuteTime": {
     "end_time": "2020-04-10T15:23:45.923545Z",
     "start_time": "2020-04-10T15:23:45.897945Z"
    }
   },
   "outputs": [
    {
     "data": {
      "text/plain": [
       "6"
      ]
     },
     "execution_count": 23,
     "metadata": {},
     "output_type": "execute_result"
    }
   ],
   "source": [
    "evn_num.__next1__()"
   ]
  },
  {
   "cell_type": "code",
   "execution_count": 12,
   "metadata": {
    "ExecuteTime": {
     "end_time": "2020-04-10T15:22:14.268878Z",
     "start_time": "2020-04-10T15:22:14.225178Z"
    }
   },
   "outputs": [
    {
     "ename": "TypeError",
     "evalue": "'EvenNumbers' object is not an iterator",
     "output_type": "error",
     "traceback": [
      "\u001b[1;31m---------------------------------------------------------------------------\u001b[0m",
      "\u001b[1;31mTypeError\u001b[0m                                 Traceback (most recent call last)",
      "\u001b[1;32m<ipython-input-12-aa7c2013e8c2>\u001b[0m in \u001b[0;36m<module>\u001b[1;34m()\u001b[0m\n\u001b[1;32m----> 1\u001b[1;33m \u001b[0mnext\u001b[0m\u001b[1;33m(\u001b[0m\u001b[0mevn_num\u001b[0m\u001b[1;33m)\u001b[0m\u001b[1;33m\u001b[0m\u001b[0m\n\u001b[0m",
      "\u001b[1;31mTypeError\u001b[0m: 'EvenNumbers' object is not an iterator"
     ]
    }
   ],
   "source": [
    "next(evn_num)"
   ]
  },
  {
   "cell_type": "code",
   "execution_count": 13,
   "metadata": {
    "ExecuteTime": {
     "end_time": "2020-04-10T15:22:17.970792Z",
     "start_time": "2020-04-10T15:22:17.935192Z"
    }
   },
   "outputs": [
    {
     "ename": "NameError",
     "evalue": "name 'my_dict' is not defined",
     "output_type": "error",
     "traceback": [
      "\u001b[1;31m---------------------------------------------------------------------------\u001b[0m",
      "\u001b[1;31mNameError\u001b[0m                                 Traceback (most recent call last)",
      "\u001b[1;32m<ipython-input-13-7e08a6f53fb3>\u001b[0m in \u001b[0;36m<module>\u001b[1;34m()\u001b[0m\n\u001b[1;32m----> 1\u001b[1;33m \u001b[1;32mfor\u001b[0m \u001b[0mk\u001b[0m \u001b[1;32min\u001b[0m \u001b[0mmy_dict\u001b[0m\u001b[1;33m.\u001b[0m\u001b[0mkeys\u001b[0m\u001b[1;33m(\u001b[0m\u001b[1;33m)\u001b[0m\u001b[1;33m:\u001b[0m\u001b[1;33m\u001b[0m\u001b[0m\n\u001b[0m\u001b[0;32m      2\u001b[0m     \u001b[0mprint\u001b[0m\u001b[1;33m(\u001b[0m\u001b[0mk\u001b[0m\u001b[1;33m)\u001b[0m\u001b[1;33m\u001b[0m\u001b[0m\n",
      "\u001b[1;31mNameError\u001b[0m: name 'my_dict' is not defined"
     ]
    }
   ],
   "source": [
    "for k in my_dict.keys():\n",
    "    print(k)\n"
   ]
  },
  {
   "cell_type": "code",
   "execution_count": null,
   "metadata": {
    "ExecuteTime": {
     "end_time": "2020-04-05T06:51:03.443497Z",
     "start_time": "2020-04-05T06:51:03.425997Z"
    }
   },
   "outputs": [],
   "source": [
    "x= set([1,2,3,2])"
   ]
  },
  {
   "cell_type": "code",
   "execution_count": null,
   "metadata": {
    "ExecuteTime": {
     "end_time": "2020-04-05T06:51:04.521013Z",
     "start_time": "2020-04-05T06:51:04.498513Z"
    }
   },
   "outputs": [],
   "source": [
    "for o in x:\n",
    "    print(o)"
   ]
  },
  {
   "cell_type": "code",
   "execution_count": null,
   "metadata": {
    "ExecuteTime": {
     "end_time": "2020-04-04T11:13:59.176925Z",
     "start_time": "2020-04-04T11:13:59.156924Z"
    }
   },
   "outputs": [],
   "source": [
    "l = iter(x)"
   ]
  },
  {
   "cell_type": "code",
   "execution_count": null,
   "metadata": {
    "ExecuteTime": {
     "end_time": "2020-04-04T11:14:11.672117Z",
     "start_time": "2020-04-04T11:14:11.639616Z"
    }
   },
   "outputs": [],
   "source": [
    "next(l)"
   ]
  }
 ],
 "metadata": {
  "kernelspec": {
   "display_name": "Python 3",
   "language": "python",
   "name": "python3"
  },
  "language_info": {
   "codemirror_mode": {
    "name": "ipython",
    "version": 3
   },
   "file_extension": ".py",
   "mimetype": "text/x-python",
   "name": "python",
   "nbconvert_exporter": "python",
   "pygments_lexer": "ipython3",
   "version": "3.7.0"
  },
  "toc": {
   "base_numbering": 1,
   "nav_menu": {},
   "number_sections": true,
   "sideBar": true,
   "skip_h1_title": false,
   "title_cell": "Table of Contents",
   "title_sidebar": "Contents",
   "toc_cell": false,
   "toc_position": {
    "height": "calc(100% - 180px)",
    "left": "10px",
    "top": "150px",
    "width": "283.188px"
   },
   "toc_section_display": true,
   "toc_window_display": true
  },
  "varInspector": {
   "cols": {
    "lenName": 16,
    "lenType": 16,
    "lenVar": 40
   },
   "kernels_config": {
    "python": {
     "delete_cmd_postfix": "",
     "delete_cmd_prefix": "del ",
     "library": "var_list.py",
     "varRefreshCmd": "print(var_dic_list())"
    },
    "r": {
     "delete_cmd_postfix": ") ",
     "delete_cmd_prefix": "rm(",
     "library": "var_list.r",
     "varRefreshCmd": "cat(var_dic_list()) "
    }
   },
   "types_to_exclude": [
    "module",
    "function",
    "builtin_function_or_method",
    "instance",
    "_Feature"
   ],
   "window_display": false
  }
 },
 "nbformat": 4,
 "nbformat_minor": 2
}
