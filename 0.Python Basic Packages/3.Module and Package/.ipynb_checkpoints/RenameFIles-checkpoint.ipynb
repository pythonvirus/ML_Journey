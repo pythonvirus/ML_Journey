{
 "cells": [
  {
   "cell_type": "markdown",
   "metadata": {},
   "source": [
    "# Pathlib Module"
   ]
  },
  {
   "cell_type": "code",
   "execution_count": 1,
   "metadata": {
    "ExecuteTime": {
     "end_time": "2020-03-28T10:37:07.741436Z",
     "start_time": "2020-03-28T10:37:07.736436Z"
    }
   },
   "outputs": [],
   "source": [
    "from pathlib import Path"
   ]
  },
  {
   "cell_type": "code",
   "execution_count": 2,
   "metadata": {
    "ExecuteTime": {
     "end_time": "2020-03-28T10:37:30.519739Z",
     "start_time": "2020-03-28T10:37:09.285525Z"
    }
   },
   "outputs": [
    {
     "name": "stdout",
     "output_type": "stream",
     "text": [
      "please enter directory to rename:D:\\PythonPractice\\TestDirectory\n"
     ]
    }
   ],
   "source": [
    "direc = input('please enter directory to rename:')"
   ]
  },
  {
   "cell_type": "markdown",
   "metadata": {},
   "source": [
    "## Directory as Path object"
   ]
  },
  {
   "cell_type": "code",
   "execution_count": 5,
   "metadata": {
    "ExecuteTime": {
     "end_time": "2020-03-28T10:37:58.173321Z",
     "start_time": "2020-03-28T10:37:58.164320Z"
    }
   },
   "outputs": [
    {
     "name": "stdout",
     "output_type": "stream",
     "text": [
      "<class 'pathlib.WindowsPath'>\n"
     ]
    }
   ],
   "source": [
    "directory = Path(direc)\n",
    "print(type(directory))"
   ]
  },
  {
   "cell_type": "markdown",
   "metadata": {},
   "source": [
    "## Check if directory exists"
   ]
  },
  {
   "cell_type": "code",
   "execution_count": 4,
   "metadata": {
    "ExecuteTime": {
     "end_time": "2020-03-28T10:37:43.294470Z",
     "start_time": "2020-03-28T10:37:43.275469Z"
    }
   },
   "outputs": [
    {
     "data": {
      "text/plain": [
       "True"
      ]
     },
     "execution_count": 4,
     "metadata": {},
     "output_type": "execute_result"
    }
   ],
   "source": [
    "directory.exists()\n",
    "  "
   ]
  },
  {
   "cell_type": "markdown",
   "metadata": {},
   "source": [
    "## Get all files from directoty macthing pattern"
   ]
  },
  {
   "cell_type": "code",
   "execution_count": 13,
   "metadata": {
    "ExecuteTime": {
     "end_time": "2020-03-28T10:49:30.981947Z",
     "start_time": "2020-03-28T10:49:30.972947Z"
    }
   },
   "outputs": [],
   "source": [
    "file_generator = directory.glob('*.*')"
   ]
  },
  {
   "cell_type": "code",
   "execution_count": 11,
   "metadata": {
    "ExecuteTime": {
     "end_time": "2020-03-28T10:46:27.158433Z",
     "start_time": "2020-03-28T10:46:27.152433Z"
    }
   },
   "outputs": [
    {
     "name": "stdout",
     "output_type": "stream",
     "text": [
      "<class 'generator'>\n"
     ]
    }
   ],
   "source": [
    "print(type(file_generator))"
   ]
  },
  {
   "cell_type": "markdown",
   "metadata": {},
   "source": [
    "## Rename files"
   ]
  },
  {
   "cell_type": "code",
   "execution_count": 14,
   "metadata": {
    "ExecuteTime": {
     "end_time": "2020-03-28T10:49:34.259135Z",
     "start_time": "2020-03-28T10:49:34.247134Z"
    }
   },
   "outputs": [
    {
     "name": "stdout",
     "output_type": "stream",
     "text": [
      "Full file path:  D:\\PythonPractice\\TestDirectory\\Abhi_TestExcel - Copy.xlsx\n",
      "File name:  Abhi_TestExcel - Copy.xlsx\n",
      "File name without extension:  Abhi_TestExcel - Copy\n",
      ".xlsx\n",
      "Full file path:  D:\\PythonPractice\\TestDirectory\\Abhi_TestExcel.xlsx\n",
      "File name:  Abhi_TestExcel.xlsx\n",
      "File name without extension:  Abhi_TestExcel\n",
      ".xlsx\n"
     ]
    }
   ],
   "source": [
    "for file in file_generator:\n",
    "    print('Full file path: ',file)    \n",
    "    print('File name: ',file.name)\n",
    "    print('File name without extension: ',file.stem)\n",
    "    print(file.suffix)\n",
    "    #preappend\n",
    "    file.rename(directory.joinpath('Abhi_'+file.name))    "
   ]
  },
  {
   "cell_type": "code",
   "execution_count": null,
   "metadata": {
    "ExecuteTime": {
     "end_time": "2020-03-26T15:29:16.960788Z",
     "start_time": "2020-03-26T15:29:16.935788Z"
    }
   },
   "outputs": [],
   "source": [
    "file_generator = directory.glob('*.*')"
   ]
  },
  {
   "cell_type": "code",
   "execution_count": null,
   "metadata": {
    "ExecuteTime": {
     "end_time": "2020-03-26T15:29:17.993298Z",
     "start_time": "2020-03-26T15:29:17.943297Z"
    }
   },
   "outputs": [],
   "source": [
    "for file in file_generator:\n",
    "    print('Full file path: ',file)    \n",
    "    print('File name: ',file.name)\n",
    "    print('File name without extension: ',file.stem)\n",
    "    print(file.suffix)    \n",
    "    #append\n",
    "    file.rename(directory.joinpath(file.stem + '_end' + file.suffix))"
   ]
  }
 ],
 "metadata": {
  "kernelspec": {
   "display_name": "Python 3",
   "language": "python",
   "name": "python3"
  },
  "language_info": {
   "codemirror_mode": {
    "name": "ipython",
    "version": 3
   },
   "file_extension": ".py",
   "mimetype": "text/x-python",
   "name": "python",
   "nbconvert_exporter": "python",
   "pygments_lexer": "ipython3",
   "version": "3.7.3"
  },
  "toc": {
   "base_numbering": 1,
   "nav_menu": {},
   "number_sections": true,
   "sideBar": true,
   "skip_h1_title": false,
   "title_cell": "Table of Contents",
   "title_sidebar": "Contents",
   "toc_cell": false,
   "toc_position": {},
   "toc_section_display": true,
   "toc_window_display": false
  },
  "varInspector": {
   "cols": {
    "lenName": 16,
    "lenType": 16,
    "lenVar": 40
   },
   "kernels_config": {
    "python": {
     "delete_cmd_postfix": "",
     "delete_cmd_prefix": "del ",
     "library": "var_list.py",
     "varRefreshCmd": "print(var_dic_list())"
    },
    "r": {
     "delete_cmd_postfix": ") ",
     "delete_cmd_prefix": "rm(",
     "library": "var_list.r",
     "varRefreshCmd": "cat(var_dic_list()) "
    }
   },
   "types_to_exclude": [
    "module",
    "function",
    "builtin_function_or_method",
    "instance",
    "_Feature"
   ],
   "window_display": false
  }
 },
 "nbformat": 4,
 "nbformat_minor": 2
}
