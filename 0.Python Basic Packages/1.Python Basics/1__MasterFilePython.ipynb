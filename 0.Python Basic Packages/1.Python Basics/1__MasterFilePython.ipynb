{
 "cells": [
  {
   "cell_type": "markdown",
   "metadata": {},
   "source": [
    "<h1>CONTENTS:</h1>\n",
    "\n",
    "- Why Python?\n",
    "- Installation\n",
    "- Python 2 vs Python 3\n",
    "- Data Structures\n",
    "- Control Flow"
   ]
  },
  {
   "cell_type": "markdown",
   "metadata": {},
   "source": [
    "# Why Learn Python ?"
   ]
  },
  {
   "cell_type": "markdown",
   "metadata": {},
   "source": [
    "1.Open Source\n",
    "\n",
    "2.Large Community and tons of Well Maintained Packages\n",
    "\n",
    "3.Increased adoption for Data Analysis and Data Science( Essential Part of  Data Scientist's toolkit)\n",
    "\n",
    "4.Easy to learn and Joy to Use\n",
    "\n",
    "5.General Purpose and Production ready\n",
    "\n",
    "6.Major Websites built using Python - Dropbox , Instagram , Pintrest , Quora\n",
    "\n",
    "7.One of offcial lanuage at Google and other Tech/Innovation Companies \n",
    "\n",
    "8.Runs on anything (including AWS)"
   ]
  },
  {
   "cell_type": "markdown",
   "metadata": {},
   "source": [
    "# How to Install Python"
   ]
  },
  {
   "cell_type": "markdown",
   "metadata": {},
   "source": [
    "1. www.python.org\n",
    "\n",
    "2. Anaconda Installer\n",
    "\n",
    "3. Enthought Python Distribution\n",
    "\n",
    "\n",
    "Working with Python\n",
    "\n",
    "1.Command Prompt/Terminal\n",
    "\n",
    "2. IDLE\n",
    "\n",
    "3. IPython\n",
    "\n",
    "4. Online\n",
    "     - wakari.io\n",
    "     - http://repl.it/ \n",
    "\n",
    "4. IDE\n",
    "     - Eclipse\n",
    "     - PyCharm"
   ]
  },
  {
   "cell_type": "markdown",
   "metadata": {},
   "source": [
    "# Important Jupyter extension commands"
   ]
  },
  {
   "cell_type": "markdown",
   "metadata": {},
   "source": [
    "!pip install jupyter_contrib_nbextensions\n",
    "\n",
    "!jupyter contrib nbextension install --user"
   ]
  },
  {
   "cell_type": "markdown",
   "metadata": {},
   "source": [
    "<h1>PYTHON 2 VS PYTHON 3</h1>\n",
    "\n",
    "- Some syntactical differences: print\n",
    "- Strings are stored in ASCII in Python 2 as opposed to Unicode in Python 3 by default\n",
    "- Integer division returns floored integer in Python 2 as opposed to exact floating point no. in Python 3 (5/2 = 2 in Python 2)\n",
    "- Python2 have weightage to m/m operation as compare to input & output operations. Whereas in python3 both have same weightage.\n",
    "- Same value would be allocated to same m/m of two different variables. (both python2 & python3)"
   ]
  },
  {
   "cell_type": "code",
   "execution_count": null,
   "metadata": {
    "ExecuteTime": {
     "end_time": "2020-03-21T08:04:38.433702Z",
     "start_time": "2020-03-21T08:04:38.425697Z"
    }
   },
   "outputs": [],
   "source": [
    "import sys"
   ]
  },
  {
   "cell_type": "code",
   "execution_count": null,
   "metadata": {
    "ExecuteTime": {
     "end_time": "2020-03-21T08:04:19.678875Z",
     "start_time": "2020-03-21T08:04:19.670887Z"
    }
   },
   "outputs": [],
   "source": [
    "a=3\n",
    "b=3"
   ]
  },
  {
   "cell_type": "code",
   "execution_count": null,
   "metadata": {
    "ExecuteTime": {
     "end_time": "2020-03-21T08:06:07.607613Z",
     "start_time": "2020-03-21T08:06:07.599622Z"
    }
   },
   "outputs": [],
   "source": [
    "print(\"size a:{},b:{}\".format(sys.getsizeof(a),sys.getsizeof(b)))"
   ]
  },
  {
   "cell_type": "code",
   "execution_count": null,
   "metadata": {
    "ExecuteTime": {
     "end_time": "2020-03-21T08:06:26.498170Z",
     "start_time": "2020-03-21T08:06:26.490172Z"
    }
   },
   "outputs": [],
   "source": [
    "print(\"m/m location a:{},b:{}\".format(id(a),id(b)))"
   ]
  },
  {
   "cell_type": "code",
   "execution_count": null,
   "metadata": {
    "ExecuteTime": {
     "end_time": "2020-03-21T08:06:36.482105Z",
     "start_time": "2020-03-21T08:06:36.474098Z"
    }
   },
   "outputs": [],
   "source": [
    "b=4"
   ]
  },
  {
   "cell_type": "code",
   "execution_count": null,
   "metadata": {
    "ExecuteTime": {
     "end_time": "2020-03-21T08:06:45.707177Z",
     "start_time": "2020-03-21T08:06:45.695176Z"
    }
   },
   "outputs": [],
   "source": [
    "print(\"m/m location a:{},b:{}\".format(id(a),id(b)))"
   ]
  },
  {
   "cell_type": "markdown",
   "metadata": {},
   "source": [
    "<h1> This is adition </h1>\n",
    "\n",
    "10+3\n"
   ]
  },
  {
   "cell_type": "code",
   "execution_count": null,
   "metadata": {
    "ExecuteTime": {
     "end_time": "2020-03-21T07:41:55.141579Z",
     "start_time": "2020-03-21T07:41:55.133584Z"
    }
   },
   "outputs": [],
   "source": [
    "#Python Versions\n",
    "\n",
    "import sys\n",
    "print (sys.version)"
   ]
  },
  {
   "cell_type": "code",
   "execution_count": null,
   "metadata": {
    "ExecuteTime": {
     "end_time": "2020-03-21T07:42:33.443523Z",
     "start_time": "2020-03-21T07:42:33.263539Z"
    }
   },
   "outputs": [],
   "source": [
    "!python"
   ]
  },
  {
   "cell_type": "markdown",
   "metadata": {},
   "source": [
    "## 1. Imports"
   ]
  },
  {
   "cell_type": "code",
   "execution_count": null,
   "metadata": {
    "ExecuteTime": {
     "end_time": "2020-03-21T07:44:26.609510Z",
     "start_time": "2020-03-21T07:44:26.589506Z"
    }
   },
   "outputs": [],
   "source": [
    "# 'generic import' of math module\n",
    "import math\n",
    "\n",
    "\n",
    "math.sqrt(25)"
   ]
  },
  {
   "cell_type": "code",
   "execution_count": null,
   "metadata": {
    "ExecuteTime": {
     "end_time": "2020-03-21T07:44:30.119656Z",
     "start_time": "2020-03-21T07:44:30.107664Z"
    }
   },
   "outputs": [],
   "source": [
    "type(math.sqrt)"
   ]
  },
  {
   "cell_type": "code",
   "execution_count": null,
   "metadata": {
    "ExecuteTime": {
     "end_time": "2020-03-21T07:45:01.406010Z",
     "start_time": "2020-03-21T07:45:01.394013Z"
    }
   },
   "outputs": [],
   "source": [
    "# import a function\n",
    "from math import sqrt\n",
    "sqrt(25)    "
   ]
  },
  {
   "cell_type": "code",
   "execution_count": null,
   "metadata": {
    "ExecuteTime": {
     "end_time": "2020-03-21T07:45:15.789697Z",
     "start_time": "2020-03-21T07:45:15.781677Z"
    }
   },
   "outputs": [],
   "source": [
    "# import multiple functions at once\n",
    "from math import cos, floor"
   ]
  },
  {
   "cell_type": "code",
   "execution_count": null,
   "metadata": {
    "ExecuteTime": {
     "end_time": "2020-03-21T07:45:22.633645Z",
     "start_time": "2020-03-21T07:45:22.609663Z"
    }
   },
   "outputs": [],
   "source": [
    "# import all functions in a module (generally discouraged)\n",
    "from csv import *"
   ]
  },
  {
   "cell_type": "code",
   "execution_count": null,
   "metadata": {
    "ExecuteTime": {
     "end_time": "2020-03-21T07:45:27.159839Z",
     "start_time": "2020-03-21T07:45:27.151840Z"
    }
   },
   "outputs": [],
   "source": [
    "# define an alias\n",
    "import datetime as dt"
   ]
  },
  {
   "cell_type": "code",
   "execution_count": null,
   "metadata": {
    "ExecuteTime": {
     "end_time": "2020-03-21T07:45:41.460174Z",
     "start_time": "2020-03-21T07:45:41.452171Z"
    }
   },
   "outputs": [],
   "source": [
    "# show all functions in math module\n",
    "print(dir(math))"
   ]
  },
  {
   "cell_type": "code",
   "execution_count": null,
   "metadata": {
    "ExecuteTime": {
     "end_time": "2020-03-21T07:45:45.181870Z",
     "start_time": "2020-03-21T07:45:45.169875Z"
    }
   },
   "outputs": [],
   "source": [
    "math.__doc__"
   ]
  },
  {
   "cell_type": "markdown",
   "metadata": {},
   "source": [
    "## Get Unicode Value"
   ]
  },
  {
   "cell_type": "code",
   "execution_count": null,
   "metadata": {
    "ExecuteTime": {
     "end_time": "2020-04-02T16:52:19.736496Z",
     "start_time": "2020-04-02T16:52:19.732468Z"
    }
   },
   "outputs": [],
   "source": [
    "print(chr(128014))\n",
    "print(ord('🐍'))"
   ]
  },
  {
   "cell_type": "markdown",
   "metadata": {},
   "source": [
    "## 2. Data Types\n",
    "\n",
    "**Determine the type of an object:**"
   ]
  },
  {
   "cell_type": "markdown",
   "metadata": {},
   "source": [
    "#### Primitive Data Types"
   ]
  },
  {
   "cell_type": "code",
   "execution_count": 1,
   "metadata": {
    "ExecuteTime": {
     "end_time": "2020-04-03T07:11:49.932887Z",
     "start_time": "2020-04-03T07:11:49.924846Z"
    }
   },
   "outputs": [],
   "source": [
    "from IPython.display import Image"
   ]
  },
  {
   "cell_type": "code",
   "execution_count": 2,
   "metadata": {
    "ExecuteTime": {
     "end_time": "2020-04-03T07:11:50.631147Z",
     "start_time": "2020-04-03T07:11:50.486800Z"
    }
   },
   "outputs": [
    {
     "ename": "PermissionError",
     "evalue": "[Errno 13] Permission denied: 'E:/Sachin/Learning/Meetup/Python_Datastructure.PNG'",
     "output_type": "error",
     "traceback": [
      "\u001b[1;31m---------------------------------------------------------------------------\u001b[0m",
      "\u001b[1;31mPermissionError\u001b[0m                           Traceback (most recent call last)",
      "\u001b[1;32m<ipython-input-2-d835ed755b91>\u001b[0m in \u001b[0;36m<module>\u001b[1;34m\u001b[0m\n\u001b[1;32m----> 1\u001b[1;33m \u001b[0mImage\u001b[0m\u001b[1;33m(\u001b[0m\u001b[0mfilename\u001b[0m\u001b[1;33m=\u001b[0m\u001b[1;34m'E:/Sachin/Learning/Meetup/Python_Datastructure.PNG'\u001b[0m\u001b[1;33m)\u001b[0m\u001b[1;33m\u001b[0m\u001b[1;33m\u001b[0m\u001b[0m\n\u001b[0m",
      "\u001b[1;32mC:\\ProgramData\\Anaconda3\\lib\\site-packages\\IPython\\core\\display.py\u001b[0m in \u001b[0;36m__init__\u001b[1;34m(self, data, url, filename, format, embed, width, height, retina, unconfined, metadata)\u001b[0m\n\u001b[0;32m   1195\u001b[0m         \u001b[0mself\u001b[0m\u001b[1;33m.\u001b[0m\u001b[0munconfined\u001b[0m \u001b[1;33m=\u001b[0m \u001b[0munconfined\u001b[0m\u001b[1;33m\u001b[0m\u001b[1;33m\u001b[0m\u001b[0m\n\u001b[0;32m   1196\u001b[0m         super(Image, self).__init__(data=data, url=url, filename=filename, \n\u001b[1;32m-> 1197\u001b[1;33m                 metadata=metadata)\n\u001b[0m\u001b[0;32m   1198\u001b[0m \u001b[1;33m\u001b[0m\u001b[0m\n\u001b[0;32m   1199\u001b[0m         \u001b[1;32mif\u001b[0m \u001b[0mself\u001b[0m\u001b[1;33m.\u001b[0m\u001b[0mwidth\u001b[0m \u001b[1;32mis\u001b[0m \u001b[1;32mNone\u001b[0m \u001b[1;32mand\u001b[0m \u001b[0mself\u001b[0m\u001b[1;33m.\u001b[0m\u001b[0mmetadata\u001b[0m\u001b[1;33m.\u001b[0m\u001b[0mget\u001b[0m\u001b[1;33m(\u001b[0m\u001b[1;34m'width'\u001b[0m\u001b[1;33m,\u001b[0m \u001b[1;33m{\u001b[0m\u001b[1;33m}\u001b[0m\u001b[1;33m)\u001b[0m\u001b[1;33m:\u001b[0m\u001b[1;33m\u001b[0m\u001b[1;33m\u001b[0m\u001b[0m\n",
      "\u001b[1;32mC:\\ProgramData\\Anaconda3\\lib\\site-packages\\IPython\\core\\display.py\u001b[0m in \u001b[0;36m__init__\u001b[1;34m(self, data, url, filename, metadata)\u001b[0m\n\u001b[0;32m    618\u001b[0m             \u001b[0mself\u001b[0m\u001b[1;33m.\u001b[0m\u001b[0mmetadata\u001b[0m \u001b[1;33m=\u001b[0m \u001b[1;33m{\u001b[0m\u001b[1;33m}\u001b[0m\u001b[1;33m\u001b[0m\u001b[1;33m\u001b[0m\u001b[0m\n\u001b[0;32m    619\u001b[0m \u001b[1;33m\u001b[0m\u001b[0m\n\u001b[1;32m--> 620\u001b[1;33m         \u001b[0mself\u001b[0m\u001b[1;33m.\u001b[0m\u001b[0mreload\u001b[0m\u001b[1;33m(\u001b[0m\u001b[1;33m)\u001b[0m\u001b[1;33m\u001b[0m\u001b[1;33m\u001b[0m\u001b[0m\n\u001b[0m\u001b[0;32m    621\u001b[0m         \u001b[0mself\u001b[0m\u001b[1;33m.\u001b[0m\u001b[0m_check_data\u001b[0m\u001b[1;33m(\u001b[0m\u001b[1;33m)\u001b[0m\u001b[1;33m\u001b[0m\u001b[1;33m\u001b[0m\u001b[0m\n\u001b[0;32m    622\u001b[0m \u001b[1;33m\u001b[0m\u001b[0m\n",
      "\u001b[1;32mC:\\ProgramData\\Anaconda3\\lib\\site-packages\\IPython\\core\\display.py\u001b[0m in \u001b[0;36mreload\u001b[1;34m(self)\u001b[0m\n\u001b[0;32m   1226\u001b[0m         \u001b[1;34m\"\"\"Reload the raw data from file or URL.\"\"\"\u001b[0m\u001b[1;33m\u001b[0m\u001b[1;33m\u001b[0m\u001b[0m\n\u001b[0;32m   1227\u001b[0m         \u001b[1;32mif\u001b[0m \u001b[0mself\u001b[0m\u001b[1;33m.\u001b[0m\u001b[0membed\u001b[0m\u001b[1;33m:\u001b[0m\u001b[1;33m\u001b[0m\u001b[1;33m\u001b[0m\u001b[0m\n\u001b[1;32m-> 1228\u001b[1;33m             \u001b[0msuper\u001b[0m\u001b[1;33m(\u001b[0m\u001b[0mImage\u001b[0m\u001b[1;33m,\u001b[0m\u001b[0mself\u001b[0m\u001b[1;33m)\u001b[0m\u001b[1;33m.\u001b[0m\u001b[0mreload\u001b[0m\u001b[1;33m(\u001b[0m\u001b[1;33m)\u001b[0m\u001b[1;33m\u001b[0m\u001b[1;33m\u001b[0m\u001b[0m\n\u001b[0m\u001b[0;32m   1229\u001b[0m             \u001b[1;32mif\u001b[0m \u001b[0mself\u001b[0m\u001b[1;33m.\u001b[0m\u001b[0mretina\u001b[0m\u001b[1;33m:\u001b[0m\u001b[1;33m\u001b[0m\u001b[1;33m\u001b[0m\u001b[0m\n\u001b[0;32m   1230\u001b[0m                 \u001b[0mself\u001b[0m\u001b[1;33m.\u001b[0m\u001b[0m_retina_shape\u001b[0m\u001b[1;33m(\u001b[0m\u001b[1;33m)\u001b[0m\u001b[1;33m\u001b[0m\u001b[1;33m\u001b[0m\u001b[0m\n",
      "\u001b[1;32mC:\\ProgramData\\Anaconda3\\lib\\site-packages\\IPython\\core\\display.py\u001b[0m in \u001b[0;36mreload\u001b[1;34m(self)\u001b[0m\n\u001b[0;32m    643\u001b[0m         \u001b[1;34m\"\"\"Reload the raw data from file or URL.\"\"\"\u001b[0m\u001b[1;33m\u001b[0m\u001b[1;33m\u001b[0m\u001b[0m\n\u001b[0;32m    644\u001b[0m         \u001b[1;32mif\u001b[0m \u001b[0mself\u001b[0m\u001b[1;33m.\u001b[0m\u001b[0mfilename\u001b[0m \u001b[1;32mis\u001b[0m \u001b[1;32mnot\u001b[0m \u001b[1;32mNone\u001b[0m\u001b[1;33m:\u001b[0m\u001b[1;33m\u001b[0m\u001b[1;33m\u001b[0m\u001b[0m\n\u001b[1;32m--> 645\u001b[1;33m             \u001b[1;32mwith\u001b[0m \u001b[0mopen\u001b[0m\u001b[1;33m(\u001b[0m\u001b[0mself\u001b[0m\u001b[1;33m.\u001b[0m\u001b[0mfilename\u001b[0m\u001b[1;33m,\u001b[0m \u001b[0mself\u001b[0m\u001b[1;33m.\u001b[0m\u001b[0m_read_flags\u001b[0m\u001b[1;33m)\u001b[0m \u001b[1;32mas\u001b[0m \u001b[0mf\u001b[0m\u001b[1;33m:\u001b[0m\u001b[1;33m\u001b[0m\u001b[1;33m\u001b[0m\u001b[0m\n\u001b[0m\u001b[0;32m    646\u001b[0m                 \u001b[0mself\u001b[0m\u001b[1;33m.\u001b[0m\u001b[0mdata\u001b[0m \u001b[1;33m=\u001b[0m \u001b[0mf\u001b[0m\u001b[1;33m.\u001b[0m\u001b[0mread\u001b[0m\u001b[1;33m(\u001b[0m\u001b[1;33m)\u001b[0m\u001b[1;33m\u001b[0m\u001b[1;33m\u001b[0m\u001b[0m\n\u001b[0;32m    647\u001b[0m         \u001b[1;32melif\u001b[0m \u001b[0mself\u001b[0m\u001b[1;33m.\u001b[0m\u001b[0murl\u001b[0m \u001b[1;32mis\u001b[0m \u001b[1;32mnot\u001b[0m \u001b[1;32mNone\u001b[0m\u001b[1;33m:\u001b[0m\u001b[1;33m\u001b[0m\u001b[1;33m\u001b[0m\u001b[0m\n",
      "\u001b[1;31mPermissionError\u001b[0m: [Errno 13] Permission denied: 'E:/Sachin/Learning/Meetup/Python_Datastructure.PNG'"
     ]
    }
   ],
   "source": [
    "Image(filename='E:/Sachin/Learning/Meetup/Python_Datastructure.PNG')"
   ]
  },
  {
   "cell_type": "code",
   "execution_count": null,
   "metadata": {
    "ExecuteTime": {
     "end_time": "2020-03-21T07:48:21.307100Z",
     "start_time": "2020-03-21T07:48:21.295108Z"
    }
   },
   "outputs": [],
   "source": [
    "int=4"
   ]
  },
  {
   "cell_type": "code",
   "execution_count": null,
   "metadata": {
    "ExecuteTime": {
     "end_time": "2020-03-21T07:48:26.218840Z",
     "start_time": "2020-03-21T07:48:26.202831Z"
    }
   },
   "outputs": [],
   "source": [
    "is=4\n"
   ]
  },
  {
   "cell_type": "code",
   "execution_count": null,
   "metadata": {
    "ExecuteTime": {
     "end_time": "2020-03-21T07:48:42.636688Z",
     "start_time": "2020-03-21T07:48:42.624704Z"
    }
   },
   "outputs": [],
   "source": [
    "dir(int)"
   ]
  },
  {
   "cell_type": "code",
   "execution_count": 3,
   "metadata": {
    "ExecuteTime": {
     "end_time": "2020-04-03T07:12:24.368121Z",
     "start_time": "2020-04-03T07:12:24.356091Z"
    }
   },
   "outputs": [
    {
     "data": {
      "text/plain": [
       "int"
      ]
     },
     "execution_count": 3,
     "metadata": {},
     "output_type": "execute_result"
    }
   ],
   "source": [
    "type(2)"
   ]
  },
  {
   "cell_type": "code",
   "execution_count": null,
   "metadata": {
    "ExecuteTime": {
     "end_time": "2020-03-21T07:48:54.705042Z",
     "start_time": "2020-03-21T07:48:54.693041Z"
    }
   },
   "outputs": [],
   "source": [
    "type(2.0)"
   ]
  },
  {
   "cell_type": "code",
   "execution_count": null,
   "metadata": {
    "ExecuteTime": {
     "end_time": "2020-03-21T07:48:55.435465Z",
     "start_time": "2020-03-21T07:48:55.427472Z"
    }
   },
   "outputs": [],
   "source": [
    "type('two')"
   ]
  },
  {
   "cell_type": "code",
   "execution_count": null,
   "metadata": {
    "ExecuteTime": {
     "end_time": "2020-03-21T07:48:56.349088Z",
     "start_time": "2020-03-21T07:48:56.341104Z"
    }
   },
   "outputs": [],
   "source": [
    "type(True)"
   ]
  },
  {
   "cell_type": "code",
   "execution_count": null,
   "metadata": {
    "ExecuteTime": {
     "end_time": "2020-03-21T07:48:58.150167Z",
     "start_time": "2020-03-21T07:48:58.138178Z"
    }
   },
   "outputs": [],
   "source": [
    "print(type(type))"
   ]
  },
  {
   "cell_type": "code",
   "execution_count": 9,
   "metadata": {
    "ExecuteTime": {
     "end_time": "2020-04-03T07:13:04.671259Z",
     "start_time": "2020-04-03T07:13:04.667259Z"
    }
   },
   "outputs": [],
   "source": [
    "a=10\n",
    "b=20"
   ]
  },
  {
   "cell_type": "code",
   "execution_count": null,
   "metadata": {
    "ExecuteTime": {
     "end_time": "2020-03-21T07:49:13.974500Z",
     "start_time": "2020-03-21T07:49:13.966498Z"
    }
   },
   "outputs": [],
   "source": [
    "print('this is a={},b={}'.format(a,b))"
   ]
  },
  {
   "cell_type": "markdown",
   "metadata": {},
   "source": [
    "**Check if an object is of a given type:**"
   ]
  },
  {
   "cell_type": "code",
   "execution_count": 10,
   "metadata": {
    "ExecuteTime": {
     "end_time": "2020-04-03T07:13:07.365239Z",
     "start_time": "2020-04-03T07:13:07.357183Z"
    }
   },
   "outputs": [
    {
     "data": {
      "text/plain": [
       "True"
      ]
     },
     "execution_count": 10,
     "metadata": {},
     "output_type": "execute_result"
    }
   ],
   "source": [
    "isinstance(a, (int,float))"
   ]
  },
  {
   "cell_type": "code",
   "execution_count": 7,
   "metadata": {
    "ExecuteTime": {
     "end_time": "2020-04-03T07:12:48.941955Z",
     "start_time": "2020-04-03T07:12:48.933955Z"
    }
   },
   "outputs": [
    {
     "name": "stdout",
     "output_type": "stream",
     "text": [
      "Help on built-in function isinstance in module builtins:\n",
      "\n",
      "isinstance(obj, class_or_tuple, /)\n",
      "    Return whether an object is an instance of a class or of a subclass thereof.\n",
      "    \n",
      "    A tuple, as in ``isinstance(x, (A, B, ...))``, may be given as the target to\n",
      "    check against. This is equivalent to ``isinstance(x, A) or isinstance(x, B)\n",
      "    or ...`` etc.\n",
      "\n"
     ]
    }
   ],
   "source": [
    "help(isinstance)"
   ]
  },
  {
   "cell_type": "code",
   "execution_count": null,
   "metadata": {
    "ExecuteTime": {
     "end_time": "2020-03-14T10:09:01.799971Z",
     "start_time": "2020-03-14T10:09:01.790970Z"
    }
   },
   "outputs": [],
   "source": [
    "type((int, float))"
   ]
  },
  {
   "cell_type": "code",
   "execution_count": 11,
   "metadata": {
    "ExecuteTime": {
     "end_time": "2020-04-03T07:13:22.574302Z",
     "start_time": "2020-04-03T07:13:22.566302Z"
    }
   },
   "outputs": [
    {
     "data": {
      "text/plain": [
       "True"
      ]
     },
     "execution_count": 11,
     "metadata": {},
     "output_type": "execute_result"
    }
   ],
   "source": [
    "isinstance(2.0, (int, float))"
   ]
  },
  {
   "cell_type": "markdown",
   "metadata": {},
   "source": [
    "**Convert an object to a given type:**"
   ]
  },
  {
   "cell_type": "code",
   "execution_count": null,
   "metadata": {
    "ExecuteTime": {
     "end_time": "2020-03-14T10:09:09.648683Z",
     "start_time": "2020-03-14T10:09:09.641690Z"
    }
   },
   "outputs": [],
   "source": [
    "float(2)"
   ]
  },
  {
   "cell_type": "code",
   "execution_count": null,
   "metadata": {
    "ExecuteTime": {
     "end_time": "2020-03-14T10:09:11.032959Z",
     "start_time": "2020-03-14T10:09:11.011954Z"
    }
   },
   "outputs": [],
   "source": [
    "int(2.9)"
   ]
  },
  {
   "cell_type": "code",
   "execution_count": null,
   "metadata": {
    "ExecuteTime": {
     "end_time": "2020-03-14T10:09:12.273836Z",
     "start_time": "2020-03-14T10:09:12.266841Z"
    }
   },
   "outputs": [],
   "source": [
    "str(2.9)"
   ]
  },
  {
   "cell_type": "markdown",
   "metadata": {},
   "source": [
    "**Zero, `None`, and empty containers are converted to `False`:**"
   ]
  },
  {
   "cell_type": "code",
   "execution_count": null,
   "metadata": {
    "ExecuteTime": {
     "end_time": "2020-03-14T10:09:14.885175Z",
     "start_time": "2020-03-14T10:09:14.879167Z"
    }
   },
   "outputs": [],
   "source": [
    "bool(0)"
   ]
  },
  {
   "cell_type": "code",
   "execution_count": null,
   "metadata": {
    "ExecuteTime": {
     "end_time": "2020-03-14T10:09:15.803247Z",
     "start_time": "2020-03-14T10:09:15.796238Z"
    }
   },
   "outputs": [],
   "source": [
    "bool(None)"
   ]
  },
  {
   "cell_type": "code",
   "execution_count": null,
   "metadata": {
    "ExecuteTime": {
     "end_time": "2020-03-14T10:09:16.665663Z",
     "start_time": "2020-03-14T10:09:16.657667Z"
    }
   },
   "outputs": [],
   "source": [
    "bool('')    # empty string"
   ]
  },
  {
   "cell_type": "code",
   "execution_count": null,
   "metadata": {
    "ExecuteTime": {
     "end_time": "2020-03-14T10:09:17.596914Z",
     "start_time": "2020-03-14T10:09:17.587937Z"
    }
   },
   "outputs": [],
   "source": [
    "bool([])    # empty list"
   ]
  },
  {
   "cell_type": "code",
   "execution_count": null,
   "metadata": {
    "ExecuteTime": {
     "end_time": "2020-03-14T10:09:19.071571Z",
     "start_time": "2020-03-14T10:09:19.063577Z"
    }
   },
   "outputs": [],
   "source": [
    "bool({})    # empty dictionary"
   ]
  },
  {
   "cell_type": "markdown",
   "metadata": {},
   "source": [
    "**Non-empty containers and non-zeros are converted to `True`:**"
   ]
  },
  {
   "cell_type": "code",
   "execution_count": 4,
   "metadata": {
    "ExecuteTime": {
     "end_time": "2020-04-03T07:12:37.796655Z",
     "start_time": "2020-04-03T07:12:37.788614Z"
    }
   },
   "outputs": [
    {
     "data": {
      "text/plain": [
       "True"
      ]
     },
     "execution_count": 4,
     "metadata": {},
     "output_type": "execute_result"
    }
   ],
   "source": [
    "bool(2)"
   ]
  },
  {
   "cell_type": "code",
   "execution_count": 5,
   "metadata": {
    "ExecuteTime": {
     "end_time": "2020-04-03T07:12:38.728291Z",
     "start_time": "2020-04-03T07:12:38.720251Z"
    }
   },
   "outputs": [
    {
     "data": {
      "text/plain": [
       "True"
      ]
     },
     "execution_count": 5,
     "metadata": {},
     "output_type": "execute_result"
    }
   ],
   "source": [
    "bool('two')"
   ]
  },
  {
   "cell_type": "code",
   "execution_count": 6,
   "metadata": {
    "ExecuteTime": {
     "end_time": "2020-04-03T07:12:39.354564Z",
     "start_time": "2020-04-03T07:12:39.346526Z"
    }
   },
   "outputs": [
    {
     "data": {
      "text/plain": [
       "True"
      ]
     },
     "execution_count": 6,
     "metadata": {},
     "output_type": "execute_result"
    }
   ],
   "source": [
    "bool([2])"
   ]
  },
  {
   "cell_type": "markdown",
   "metadata": {},
   "source": [
    "## 3. Math"
   ]
  },
  {
   "cell_type": "code",
   "execution_count": null,
   "metadata": {
    "ExecuteTime": {
     "end_time": "2020-03-21T07:54:03.766549Z",
     "start_time": "2020-03-21T07:54:03.754550Z"
    }
   },
   "outputs": [],
   "source": [
    "10 + 4"
   ]
  },
  {
   "cell_type": "code",
   "execution_count": null,
   "metadata": {
    "ExecuteTime": {
     "end_time": "2020-03-21T07:54:04.502551Z",
     "start_time": "2020-03-21T07:54:04.490550Z"
    }
   },
   "outputs": [],
   "source": [
    "10 - 4"
   ]
  },
  {
   "cell_type": "code",
   "execution_count": null,
   "metadata": {
    "ExecuteTime": {
     "end_time": "2020-03-21T07:54:05.175029Z",
     "start_time": "2020-03-21T07:54:05.163014Z"
    }
   },
   "outputs": [],
   "source": [
    "10 * 4"
   ]
  },
  {
   "cell_type": "code",
   "execution_count": null,
   "metadata": {
    "ExecuteTime": {
     "end_time": "2020-03-21T07:54:08.953166Z",
     "start_time": "2020-03-21T07:54:08.933161Z"
    }
   },
   "outputs": [],
   "source": [
    "10 ** 4    # exponent"
   ]
  },
  {
   "cell_type": "code",
   "execution_count": null,
   "metadata": {
    "ExecuteTime": {
     "end_time": "2020-03-21T07:54:10.207278Z",
     "start_time": "2020-03-21T07:54:10.199272Z"
    }
   },
   "outputs": [],
   "source": [
    "5 % 4      # modulo - computes the remainder"
   ]
  },
  {
   "cell_type": "code",
   "execution_count": null,
   "metadata": {
    "ExecuteTime": {
     "end_time": "2020-03-21T07:54:15.469556Z",
     "start_time": "2020-03-21T07:54:15.461569Z"
    },
    "scrolled": true
   },
   "outputs": [],
   "source": [
    "# Python 2: returns 2 (because both types are 'int')\n",
    "# Python 3: returns 2.5\n",
    "10 / 4"
   ]
  },
  {
   "cell_type": "code",
   "execution_count": null,
   "metadata": {
    "ExecuteTime": {
     "end_time": "2020-03-21T07:54:24.611155Z",
     "start_time": "2020-03-21T07:54:24.599155Z"
    },
    "scrolled": true
   },
   "outputs": [],
   "source": [
    "10 / float(4)"
   ]
  },
  {
   "cell_type": "code",
   "execution_count": null,
   "metadata": {
    "ExecuteTime": {
     "end_time": "2020-03-21T07:54:25.767328Z",
     "start_time": "2020-03-21T07:54:25.763327Z"
    }
   },
   "outputs": [],
   "source": [
    "# force '/' in Python 2 to perform 'true division' (unnecessary in Python 3)\n",
    "from __future__ import division"
   ]
  },
  {
   "cell_type": "code",
   "execution_count": null,
   "metadata": {
    "ExecuteTime": {
     "end_time": "2020-03-21T07:54:29.124487Z",
     "start_time": "2020-03-21T07:54:29.112508Z"
    }
   },
   "outputs": [],
   "source": [
    "10 / 4     # true division"
   ]
  },
  {
   "cell_type": "code",
   "execution_count": null,
   "metadata": {
    "ExecuteTime": {
     "end_time": "2020-03-21T07:54:39.066521Z",
     "start_time": "2020-03-21T07:54:39.058522Z"
    }
   },
   "outputs": [],
   "source": [
    "10 // 4    # floor division"
   ]
  },
  {
   "cell_type": "markdown",
   "metadata": {},
   "source": [
    "## 4. Comparisons and Boolean Operations"
   ]
  },
  {
   "cell_type": "markdown",
   "metadata": {},
   "source": [
    "**Assignment statement:**"
   ]
  },
  {
   "cell_type": "code",
   "execution_count": null,
   "metadata": {
    "ExecuteTime": {
     "end_time": "2020-03-21T07:54:55.671723Z",
     "start_time": "2020-03-21T07:54:55.663703Z"
    }
   },
   "outputs": [],
   "source": [
    "x = 5"
   ]
  },
  {
   "cell_type": "code",
   "execution_count": null,
   "metadata": {
    "ExecuteTime": {
     "end_time": "2020-03-21T07:54:56.515388Z",
     "start_time": "2020-03-21T07:54:56.507389Z"
    }
   },
   "outputs": [],
   "source": [
    "x=\"string\""
   ]
  },
  {
   "cell_type": "code",
   "execution_count": null,
   "metadata": {
    "ExecuteTime": {
     "end_time": "2020-03-21T07:54:57.399406Z",
     "start_time": "2020-03-21T07:54:57.391395Z"
    }
   },
   "outputs": [],
   "source": [
    "type(x)"
   ]
  },
  {
   "cell_type": "markdown",
   "metadata": {},
   "source": [
    "**Comparisons:**"
   ]
  },
  {
   "cell_type": "code",
   "execution_count": null,
   "metadata": {
    "ExecuteTime": {
     "end_time": "2020-03-21T07:55:11.113244Z",
     "start_time": "2020-03-21T07:55:11.105239Z"
    }
   },
   "outputs": [],
   "source": [
    "x=2"
   ]
  },
  {
   "cell_type": "code",
   "execution_count": null,
   "metadata": {
    "ExecuteTime": {
     "end_time": "2020-03-21T07:55:11.801244Z",
     "start_time": "2020-03-21T07:55:11.789259Z"
    }
   },
   "outputs": [],
   "source": [
    "x > 3"
   ]
  },
  {
   "cell_type": "code",
   "execution_count": null,
   "metadata": {
    "ExecuteTime": {
     "end_time": "2020-03-21T07:55:13.181012Z",
     "start_time": "2020-03-21T07:55:13.169011Z"
    }
   },
   "outputs": [],
   "source": [
    "x >= 3"
   ]
  },
  {
   "cell_type": "code",
   "execution_count": null,
   "metadata": {
    "ExecuteTime": {
     "end_time": "2020-03-21T07:55:14.547983Z",
     "start_time": "2020-03-21T07:55:14.535964Z"
    }
   },
   "outputs": [],
   "source": [
    "x != 3"
   ]
  },
  {
   "cell_type": "code",
   "execution_count": null,
   "metadata": {
    "ExecuteTime": {
     "end_time": "2020-03-21T07:55:15.373063Z",
     "start_time": "2020-03-21T07:55:15.362592Z"
    },
    "cell_style": "split"
   },
   "outputs": [],
   "source": [
    "x == 5"
   ]
  },
  {
   "cell_type": "code",
   "execution_count": null,
   "metadata": {
    "ExecuteTime": {
     "end_time": "2020-03-21T07:55:16.341854Z",
     "start_time": "2020-03-21T07:55:16.329856Z"
    },
    "cell_style": "split"
   },
   "outputs": [],
   "source": [
    "x>7"
   ]
  },
  {
   "cell_type": "markdown",
   "metadata": {},
   "source": [
    "**Boolean operations:**"
   ]
  },
  {
   "cell_type": "code",
   "execution_count": null,
   "metadata": {
    "ExecuteTime": {
     "end_time": "2020-03-21T07:55:24.921814Z",
     "start_time": "2020-03-21T07:55:24.909821Z"
    }
   },
   "outputs": [],
   "source": [
    "5 > 3 and 6 > 3"
   ]
  },
  {
   "cell_type": "code",
   "execution_count": null,
   "metadata": {
    "ExecuteTime": {
     "end_time": "2020-03-21T07:55:29.897264Z",
     "start_time": "2020-03-21T07:55:29.889265Z"
    }
   },
   "outputs": [],
   "source": [
    "5 > 3 or 5 < 3"
   ]
  },
  {
   "cell_type": "code",
   "execution_count": null,
   "metadata": {
    "ExecuteTime": {
     "end_time": "2020-03-21T07:56:27.801319Z",
     "start_time": "2020-03-21T07:56:27.793320Z"
    }
   },
   "outputs": [],
   "source": [
    "not False"
   ]
  },
  {
   "cell_type": "code",
   "execution_count": null,
   "metadata": {
    "ExecuteTime": {
     "end_time": "2020-03-21T07:56:29.590336Z",
     "start_time": "2020-03-21T07:56:29.582339Z"
    }
   },
   "outputs": [],
   "source": [
    "False or not False and True     # evaluation order: not, and, or"
   ]
  },
  {
   "cell_type": "markdown",
   "metadata": {},
   "source": [
    "<h1>Operator Precedence</h1>"
   ]
  },
  {
   "cell_type": "code",
   "execution_count": null,
   "metadata": {
    "ExecuteTime": {
     "end_time": "2020-03-21T08:27:16.608329Z",
     "start_time": "2020-03-21T08:27:16.588329Z"
    }
   },
   "outputs": [],
   "source": [
    "# Associativity for most operators is from left to right; exponent: right to left\n",
    "from IPython.display import Image\n",
    "Image(filename='Python-operator-precedence.jpg',width=500,height=300)"
   ]
  },
  {
   "cell_type": "markdown",
   "metadata": {},
   "source": [
    "## 5. Conditional Statements"
   ]
  },
  {
   "cell_type": "code",
   "execution_count": null,
   "metadata": {
    "ExecuteTime": {
     "end_time": "2020-03-21T07:57:06.546233Z",
     "start_time": "2020-03-21T07:57:06.538235Z"
    }
   },
   "outputs": [],
   "source": [
    "x=10\n",
    "# if statement\n",
    "if x > 0:\n",
    "    print('positive')"
   ]
  },
  {
   "cell_type": "code",
   "execution_count": null,
   "metadata": {
    "ExecuteTime": {
     "end_time": "2020-03-21T07:57:08.723388Z",
     "start_time": "2020-03-21T07:57:08.711383Z"
    }
   },
   "outputs": [],
   "source": [
    "# if/else statement\n",
    "if x > 0:\n",
    "    print('positive')\n",
    "else:\n",
    "    print('zero or negative')"
   ]
  },
  {
   "cell_type": "code",
   "execution_count": null,
   "metadata": {
    "ExecuteTime": {
     "end_time": "2020-03-21T07:57:12.939681Z",
     "start_time": "2020-03-21T07:57:12.931697Z"
    }
   },
   "outputs": [],
   "source": [
    "# if/elif/else statement\n",
    "if x > 0:\n",
    "    print('positive')\n",
    "elif x == 0:\n",
    "    print('zero')\n",
    "else:\n",
    "    print('negative')"
   ]
  },
  {
   "cell_type": "code",
   "execution_count": null,
   "metadata": {
    "ExecuteTime": {
     "end_time": "2020-03-21T07:57:18.889418Z",
     "start_time": "2020-03-21T07:57:18.877433Z"
    }
   },
   "outputs": [],
   "source": [
    "# single-line if statement (sometimes discouraged)\n",
    "if x > 0: print('positive')"
   ]
  },
  {
   "cell_type": "code",
   "execution_count": null,
   "metadata": {
    "ExecuteTime": {
     "end_time": "2020-03-21T07:57:38.516190Z",
     "start_time": "2020-03-21T07:57:38.504195Z"
    }
   },
   "outputs": [],
   "source": [
    "# single-line if/else statement (sometimes discouraged), known as a 'ternary operator'\n",
    "'positive' if x > 0 else 'zero or negative'"
   ]
  },
  {
   "cell_type": "markdown",
   "metadata": {},
   "source": [
    "#### Checking No is Even or ODD"
   ]
  },
  {
   "cell_type": "code",
   "execution_count": null,
   "metadata": {
    "ExecuteTime": {
     "end_time": "2020-03-21T07:57:46.178528Z",
     "start_time": "2020-03-21T07:57:46.166537Z"
    }
   },
   "outputs": [],
   "source": [
    "no=10\n",
    "if no%2==0:\n",
    "    print(\"Even\")\n",
    "else:\n",
    "    print(\"odd\")"
   ]
  },
  {
   "cell_type": "markdown",
   "metadata": {},
   "source": [
    "#### Iterator Vs Iterable"
   ]
  },
  {
   "cell_type": "code",
   "execution_count": null,
   "metadata": {
    "ExecuteTime": {
     "end_time": "2020-03-21T08:31:21.261123Z",
     "start_time": "2020-03-21T08:31:21.245122Z"
    }
   },
   "outputs": [],
   "source": [
    "Image(filename='Iterator_vs_iterable.png',width=500,height=300)"
   ]
  },
  {
   "cell_type": "markdown",
   "metadata": {},
   "source": [
    "##### list defult iterator vs enumerate"
   ]
  },
  {
   "cell_type": "code",
   "execution_count": null,
   "metadata": {},
   "outputs": [],
   "source": [
    "ls=[1,2,3,4,5] #Iterator"
   ]
  },
  {
   "cell_type": "code",
   "execution_count": null,
   "metadata": {},
   "outputs": [],
   "source": [
    "for i in ls:\n",
    "    print(i)"
   ]
  },
  {
   "cell_type": "code",
   "execution_count": null,
   "metadata": {},
   "outputs": [],
   "source": [
    "for index,i in enumerate(ls):\n",
    "    if index<2:\n",
    "        print(i)"
   ]
  },
  {
   "cell_type": "code",
   "execution_count": null,
   "metadata": {},
   "outputs": [],
   "source": [
    "ls"
   ]
  },
  {
   "cell_type": "code",
   "execution_count": null,
   "metadata": {},
   "outputs": [],
   "source": [
    "for index,i in enumerate(ls):\n",
    "    print(i)\n",
    "    print(\"index:\",index)"
   ]
  },
  {
   "cell_type": "code",
   "execution_count": null,
   "metadata": {},
   "outputs": [],
   "source": [
    "for index,i in enumerate(ls,2):\n",
    "    print(i)\n",
    "    print(\"index:\",index)"
   ]
  },
  {
   "cell_type": "markdown",
   "metadata": {},
   "source": [
    "# Non Primitive Data Types"
   ]
  },
  {
   "cell_type": "markdown",
   "metadata": {
    "ExecuteTime": {
     "end_time": "2020-03-22T08:29:58.885990Z",
     "start_time": "2020-03-22T08:29:58.866000Z"
    }
   },
   "source": [
    "#### Block Structure and Whitespace\n",
    "\n",
    "The code that is executed when a specific condition is met is defined in a \"block.\" In Python, the block structure is signalled by changes in indentation. Each line of code in a certain block level must be indented equally and indented more than the surrounding scope. The standard (defined in PEP-8) is to use 4 spaces for each level of block indentation. Statements preceding blocks generally end with a colon (:).\n",
    "\n",
    "Because there are no semi-colons or other end-of-line indicators in Python, breaking lines of code requires either a continuation character (\\ as the last char) or for the break to occur inside an unfinished structure (such as open parentheses).\n"
   ]
  },
  {
   "cell_type": "markdown",
   "metadata": {},
   "source": [
    "#### Advanced Types: Containers\n",
    "\n",
    "One of the great advantages of Python as a programming language is the ease with which it allows you to manipulate containers. Containers (or collections) are an integral part of the language and, as you’ll see, built in to the core of the language’s syntax. As a result, thinking in a Pythonic manner means thinking about containers.\n",
    "\n"
   ]
  },
  {
   "cell_type": "markdown",
   "metadata": {},
   "source": [
    "## 6. Lists\n",
    "\n",
    "- **List properties:** ordered, iterable, mutable, can contain multiple data types\n",
    "\n",
    "- The first **container** type that we will look at is the list. A list represents an ordered, mutable collection of objects. You can mix and match any type of object in a list, add to it and remove from it at will.\n",
    "\n",
    "- Creating Empty Lists. To create an empty list, you can use empty square brackets or use the list() function with no arguments."
   ]
  },
  {
   "cell_type": "code",
   "execution_count": null,
   "metadata": {
    "ExecuteTime": {
     "end_time": "2020-03-21T08:00:53.049719Z",
     "start_time": "2020-03-21T08:00:53.041721Z"
    }
   },
   "outputs": [],
   "source": [
    "# create an empty list (two ways)\n",
    "empty_list = []\n",
    "empty_list = list()"
   ]
  },
  {
   "cell_type": "code",
   "execution_count": null,
   "metadata": {
    "ExecuteTime": {
     "end_time": "2020-03-21T08:00:54.645935Z",
     "start_time": "2020-03-21T08:00:54.637938Z"
    }
   },
   "outputs": [],
   "source": [
    "# create a list\n",
    "lang = ['python', 'R', 'java']"
   ]
  },
  {
   "cell_type": "code",
   "execution_count": null,
   "metadata": {
    "ExecuteTime": {
     "end_time": "2020-03-21T08:00:56.700607Z",
     "start_time": "2020-03-21T08:00:56.688606Z"
    }
   },
   "outputs": [],
   "source": [
    "ls=[1,2,3]\n",
    "sum(ls)"
   ]
  },
  {
   "cell_type": "code",
   "execution_count": null,
   "metadata": {
    "ExecuteTime": {
     "end_time": "2020-03-21T08:01:02.386785Z",
     "start_time": "2020-03-21T08:01:02.354789Z"
    }
   },
   "outputs": [],
   "source": [
    "sum(lang) #This function is intended specifically for use with numeric values and may\n",
    "#reject non-numeric types."
   ]
  },
  {
   "cell_type": "code",
   "execution_count": null,
   "metadata": {
    "ExecuteTime": {
     "end_time": "2020-03-21T08:01:20.899269Z",
     "start_time": "2020-03-21T08:01:20.887270Z"
    }
   },
   "outputs": [],
   "source": [
    "type(lang)"
   ]
  },
  {
   "cell_type": "code",
   "execution_count": null,
   "metadata": {
    "ExecuteTime": {
     "end_time": "2020-03-21T08:01:23.551671Z",
     "start_time": "2020-03-21T08:01:23.539670Z"
    }
   },
   "outputs": [],
   "source": [
    "['hi',1,[1,2]]"
   ]
  },
  {
   "cell_type": "markdown",
   "metadata": {},
   "source": [
    "**Examine a list:**"
   ]
  },
  {
   "cell_type": "code",
   "execution_count": null,
   "metadata": {
    "ExecuteTime": {
     "end_time": "2020-03-14T10:15:27.871316Z",
     "start_time": "2020-03-14T10:15:27.862319Z"
    }
   },
   "outputs": [],
   "source": [
    "# print element 0\n",
    "lang[0]"
   ]
  },
  {
   "cell_type": "code",
   "execution_count": null,
   "metadata": {
    "ExecuteTime": {
     "end_time": "2020-03-14T10:15:28.444590Z",
     "start_time": "2020-03-14T10:15:28.437597Z"
    }
   },
   "outputs": [],
   "source": [
    "len(lang)"
   ]
  },
  {
   "cell_type": "markdown",
   "metadata": {},
   "source": [
    "**Modify a list (does not return the list):**"
   ]
  },
  {
   "cell_type": "code",
   "execution_count": null,
   "metadata": {
    "ExecuteTime": {
     "end_time": "2020-03-14T10:15:32.211323Z",
     "start_time": "2020-03-14T10:15:32.202322Z"
    }
   },
   "outputs": [],
   "source": [
    "# append element to end\n",
    "lang.append('scala') #we can provide only single value\n",
    "lang"
   ]
  },
  {
   "cell_type": "code",
   "execution_count": null,
   "metadata": {
    "ExecuteTime": {
     "end_time": "2020-03-14T10:15:32.719325Z",
     "start_time": "2020-03-14T10:15:32.713326Z"
    }
   },
   "outputs": [],
   "source": [
    "lang.append(['scala1','sacala2'])\n"
   ]
  },
  {
   "cell_type": "code",
   "execution_count": null,
   "metadata": {
    "ExecuteTime": {
     "end_time": "2020-03-14T10:15:35.068564Z",
     "start_time": "2020-03-14T10:15:35.060583Z"
    }
   },
   "outputs": [],
   "source": [
    "lang #Append is adding multiple value as list. "
   ]
  },
  {
   "cell_type": "code",
   "execution_count": null,
   "metadata": {
    "ExecuteTime": {
     "end_time": "2020-03-14T10:15:35.972965Z",
     "start_time": "2020-03-14T10:15:35.964946Z"
    }
   },
   "outputs": [],
   "source": [
    "# append multiple elements to end\n",
    "lang.extend(['C', 'C++'])\n",
    "lang"
   ]
  },
  {
   "cell_type": "code",
   "execution_count": null,
   "metadata": {
    "ExecuteTime": {
     "end_time": "2020-03-14T10:16:12.616859Z",
     "start_time": "2020-03-14T10:16:12.600853Z"
    }
   },
   "outputs": [],
   "source": [
    "a=[1,2,3,4]\n",
    "b=[5,6,7]\n",
    "a+b"
   ]
  },
  {
   "cell_type": "code",
   "execution_count": null,
   "metadata": {
    "ExecuteTime": {
     "end_time": "2020-03-14T10:18:19.152917Z",
     "start_time": "2020-03-14T10:18:19.140924Z"
    }
   },
   "outputs": [],
   "source": [
    "# insert element at index 0 (shifts everything right)\n",
    "lang.insert(2, 'Julia2')\n",
    "lang"
   ]
  },
  {
   "cell_type": "code",
   "execution_count": null,
   "metadata": {
    "ExecuteTime": {
     "end_time": "2020-03-14T10:18:43.514992Z",
     "start_time": "2020-03-14T10:18:43.503007Z"
    }
   },
   "outputs": [],
   "source": [
    "# search for first instance and remove it\n",
    "lang.remove('java')\n",
    "lang"
   ]
  },
  {
   "cell_type": "code",
   "execution_count": null,
   "metadata": {
    "ExecuteTime": {
     "end_time": "2020-03-14T10:18:48.863433Z",
     "start_time": "2020-03-14T10:18:48.851418Z"
    }
   },
   "outputs": [],
   "source": [
    "dir(lang)"
   ]
  },
  {
   "cell_type": "code",
   "execution_count": null,
   "metadata": {
    "ExecuteTime": {
     "end_time": "2020-03-14T10:19:20.376988Z",
     "start_time": "2020-03-14T10:19:20.368989Z"
    }
   },
   "outputs": [],
   "source": [
    "# remove element 0 and return it\n",
    "lang.pop(0)"
   ]
  },
  {
   "cell_type": "code",
   "execution_count": null,
   "metadata": {
    "ExecuteTime": {
     "end_time": "2020-03-14T10:20:14.615385Z",
     "start_time": "2020-03-14T10:20:14.603405Z"
    }
   },
   "outputs": [],
   "source": [
    "# remove element 0 (does not return it)\n",
    "del lang[0]\n",
    "lang"
   ]
  },
  {
   "cell_type": "code",
   "execution_count": null,
   "metadata": {
    "ExecuteTime": {
     "end_time": "2020-03-14T10:20:33.792215Z",
     "start_time": "2020-03-14T10:20:33.780223Z"
    }
   },
   "outputs": [],
   "source": [
    "lang.pop()"
   ]
  },
  {
   "cell_type": "code",
   "execution_count": null,
   "metadata": {
    "ExecuteTime": {
     "end_time": "2020-03-14T10:20:51.215859Z",
     "start_time": "2020-03-14T10:20:51.203859Z"
    }
   },
   "outputs": [],
   "source": [
    "lang"
   ]
  },
  {
   "cell_type": "code",
   "execution_count": null,
   "metadata": {
    "ExecuteTime": {
     "end_time": "2020-03-14T10:20:58.033677Z",
     "start_time": "2020-03-14T10:20:58.021682Z"
    }
   },
   "outputs": [],
   "source": [
    "# replace element 0\n",
    "lang[0] = 'python'\n",
    "lang"
   ]
  },
  {
   "cell_type": "code",
   "execution_count": null,
   "metadata": {
    "ExecuteTime": {
     "end_time": "2020-03-14T10:29:57.978958Z",
     "start_time": "2020-03-14T10:29:57.966957Z"
    }
   },
   "outputs": [],
   "source": [
    "# concatenate lists (slower than 'extend' method)\n",
    "lang2 = lang + ['Spark', 'Hadoop', 'Oracle','python']\n",
    "lang2"
   ]
  },
  {
   "cell_type": "code",
   "execution_count": null,
   "metadata": {
    "ExecuteTime": {
     "end_time": "2020-03-14T10:21:51.131585Z",
     "start_time": "2020-03-14T10:21:51.123586Z"
    }
   },
   "outputs": [],
   "source": [
    "nest = [1,2,3,[4,5,['target']]]"
   ]
  },
  {
   "cell_type": "code",
   "execution_count": null,
   "metadata": {
    "ExecuteTime": {
     "end_time": "2020-03-14T10:21:51.743585Z",
     "start_time": "2020-03-14T10:21:51.731589Z"
    }
   },
   "outputs": [],
   "source": [
    "print(type(nest[3][2]),nest[3][2],type(nest[3][2][0]),nest[3][2][0])\n"
   ]
  },
  {
   "cell_type": "markdown",
   "metadata": {},
   "source": [
    "**Find elements in a list:**"
   ]
  },
  {
   "cell_type": "code",
   "execution_count": null,
   "metadata": {
    "ExecuteTime": {
     "end_time": "2020-03-14T10:21:55.791862Z",
     "start_time": "2020-03-14T10:21:55.783869Z"
    }
   },
   "outputs": [],
   "source": [
    "# counts the number of instances\n",
    "lang.count('python')"
   ]
  },
  {
   "cell_type": "code",
   "execution_count": null,
   "metadata": {
    "ExecuteTime": {
     "end_time": "2020-03-14T10:21:56.147861Z",
     "start_time": "2020-03-14T10:21:56.135862Z"
    }
   },
   "outputs": [],
   "source": [
    "# returns index of first instance\n",
    "lang.index('python')"
   ]
  },
  {
   "cell_type": "markdown",
   "metadata": {},
   "source": [
    "**List slicing:**"
   ]
  },
  {
   "cell_type": "code",
   "execution_count": null,
   "metadata": {
    "ExecuteTime": {
     "end_time": "2020-03-14T10:22:55.159365Z",
     "start_time": "2020-03-14T10:22:55.151389Z"
    }
   },
   "outputs": [],
   "source": [
    "weekdays = ['mon', 'tues', 'wed', 'thurs', 'fri']"
   ]
  },
  {
   "cell_type": "code",
   "execution_count": null,
   "metadata": {
    "ExecuteTime": {
     "end_time": "2020-03-14T10:22:55.819365Z",
     "start_time": "2020-03-14T10:22:55.807373Z"
    }
   },
   "outputs": [],
   "source": [
    "# element 0\n",
    "weekdays[0]"
   ]
  },
  {
   "cell_type": "code",
   "execution_count": null,
   "metadata": {
    "ExecuteTime": {
     "end_time": "2020-03-14T10:22:56.543366Z",
     "start_time": "2020-03-14T10:22:56.535368Z"
    }
   },
   "outputs": [],
   "source": [
    "# elements 0 (inclusive) to 3 (exclusive)\n",
    "weekdays[0:3]"
   ]
  },
  {
   "cell_type": "code",
   "execution_count": null,
   "metadata": {
    "ExecuteTime": {
     "end_time": "2020-03-14T10:22:57.291371Z",
     "start_time": "2020-03-14T10:22:57.279389Z"
    }
   },
   "outputs": [],
   "source": [
    "# starting point is implied to be 0\n",
    "weekdays[:3]"
   ]
  },
  {
   "cell_type": "code",
   "execution_count": null,
   "metadata": {
    "ExecuteTime": {
     "end_time": "2020-03-14T10:22:58.703388Z",
     "start_time": "2020-03-14T10:22:58.695371Z"
    }
   },
   "outputs": [],
   "source": [
    "# elements 3 (inclusive) through the end\n",
    "weekdays[3:]"
   ]
  },
  {
   "cell_type": "code",
   "execution_count": null,
   "metadata": {
    "ExecuteTime": {
     "end_time": "2020-03-14T10:22:59.832997Z",
     "start_time": "2020-03-14T10:22:59.820999Z"
    }
   },
   "outputs": [],
   "source": [
    "# last element\n",
    "weekdays[-1]"
   ]
  },
  {
   "cell_type": "code",
   "execution_count": null,
   "metadata": {
    "ExecuteTime": {
     "end_time": "2020-03-14T10:23:04.698491Z",
     "start_time": "2020-03-14T10:23:04.690493Z"
    }
   },
   "outputs": [],
   "source": [
    "# every 2nd element (step by 2)\n",
    "weekdays[::2]"
   ]
  },
  {
   "cell_type": "code",
   "execution_count": null,
   "metadata": {
    "ExecuteTime": {
     "end_time": "2020-03-14T10:24:10.910362Z",
     "start_time": "2020-03-14T10:24:10.898370Z"
    }
   },
   "outputs": [],
   "source": [
    "# backwards (step by -1)\n",
    "weekdays[::-1]"
   ]
  },
  {
   "cell_type": "code",
   "execution_count": null,
   "metadata": {
    "ExecuteTime": {
     "end_time": "2020-03-14T10:24:11.514360Z",
     "start_time": "2020-03-14T10:24:11.502358Z"
    }
   },
   "outputs": [],
   "source": [
    "weekdays[0:3:2] #e:new"
   ]
  },
  {
   "cell_type": "code",
   "execution_count": null,
   "metadata": {
    "ExecuteTime": {
     "end_time": "2020-03-14T10:24:19.569707Z",
     "start_time": "2020-03-14T10:24:19.557720Z"
    }
   },
   "outputs": [],
   "source": [
    "# alternative method for returning the list backwards\n",
    "list(reversed(weekdays))"
   ]
  },
  {
   "cell_type": "code",
   "execution_count": null,
   "metadata": {
    "ExecuteTime": {
     "end_time": "2020-03-14T10:27:15.692222Z",
     "start_time": "2020-03-14T10:27:15.684223Z"
    }
   },
   "outputs": [],
   "source": [
    "str1=\"sachin gupta\""
   ]
  },
  {
   "cell_type": "code",
   "execution_count": null,
   "metadata": {
    "ExecuteTime": {
     "end_time": "2020-03-14T10:27:16.220222Z",
     "start_time": "2020-03-14T10:27:16.212225Z"
    }
   },
   "outputs": [],
   "source": [
    "str2=list(reversed(str1))"
   ]
  },
  {
   "cell_type": "code",
   "execution_count": null,
   "metadata": {
    "ExecuteTime": {
     "end_time": "2020-03-14T10:27:16.716227Z",
     "start_time": "2020-03-14T10:27:16.708223Z"
    }
   },
   "outputs": [],
   "source": [
    "print(str2)"
   ]
  },
  {
   "cell_type": "code",
   "execution_count": null,
   "metadata": {
    "ExecuteTime": {
     "end_time": "2020-03-14T10:29:29.012472Z",
     "start_time": "2020-03-14T10:29:29.000474Z"
    }
   },
   "outputs": [],
   "source": [
    "a=weekdays.reverse()\n",
    "print(a)"
   ]
  },
  {
   "cell_type": "markdown",
   "metadata": {},
   "source": [
    "**Sort a list in place (modifies but does not return the list):**"
   ]
  },
  {
   "cell_type": "code",
   "execution_count": null,
   "metadata": {
    "ExecuteTime": {
     "end_time": "2020-03-14T10:30:50.125683Z",
     "start_time": "2020-03-14T10:30:50.097687Z"
    }
   },
   "outputs": [],
   "source": [
    "lang.sort() # it will modify the original list\n",
    "lang"
   ]
  },
  {
   "cell_type": "code",
   "execution_count": null,
   "metadata": {},
   "outputs": [],
   "source": [
    "# sort in reverse\n",
    "lang.sort(reverse=True)\n",
    "lang"
   ]
  },
  {
   "cell_type": "code",
   "execution_count": null,
   "metadata": {
    "ExecuteTime": {
     "end_time": "2020-03-14T10:31:58.260551Z",
     "start_time": "2020-03-14T10:31:58.252555Z"
    }
   },
   "outputs": [],
   "source": [
    "# sort by a key\n",
    "lang.sort(key=len)\n",
    "lang"
   ]
  },
  {
   "cell_type": "markdown",
   "metadata": {},
   "source": [
    "**Return a sorted list (does not modify the original list):**"
   ]
  },
  {
   "cell_type": "code",
   "execution_count": null,
   "metadata": {},
   "outputs": [],
   "source": [
    "lang"
   ]
  },
  {
   "cell_type": "code",
   "execution_count": null,
   "metadata": {
    "ExecuteTime": {
     "end_time": "2020-03-14T10:34:39.131602Z",
     "start_time": "2020-03-14T10:34:39.103602Z"
    }
   },
   "outputs": [],
   "source": [
    "sorted(lang, reverse=True) # it will not sort the orginal list."
   ]
  },
  {
   "cell_type": "code",
   "execution_count": null,
   "metadata": {
    "ExecuteTime": {
     "end_time": "2020-03-14T10:34:40.603600Z",
     "start_time": "2020-03-14T10:34:40.591603Z"
    }
   },
   "outputs": [],
   "source": [
    "lang"
   ]
  },
  {
   "cell_type": "code",
   "execution_count": null,
   "metadata": {
    "ExecuteTime": {
     "end_time": "2020-03-14T10:34:41.691806Z",
     "start_time": "2020-03-14T10:34:41.671808Z"
    }
   },
   "outputs": [],
   "source": [
    "sorted(lang)"
   ]
  },
  {
   "cell_type": "code",
   "execution_count": null,
   "metadata": {
    "ExecuteTime": {
     "end_time": "2020-03-14T10:34:42.764173Z",
     "start_time": "2020-03-14T10:34:42.756171Z"
    }
   },
   "outputs": [],
   "source": [
    "sorted(lang, key=len)"
   ]
  },
  {
   "cell_type": "code",
   "execution_count": null,
   "metadata": {
    "ExecuteTime": {
     "end_time": "2020-03-14T10:34:43.564168Z",
     "start_time": "2020-03-14T10:34:43.552190Z"
    }
   },
   "outputs": [],
   "source": [
    "lang"
   ]
  },
  {
   "cell_type": "markdown",
   "metadata": {},
   "source": [
    "Write a function find_longest_word() that takes a list of words and returns the length of the longest one."
   ]
  },
  {
   "cell_type": "code",
   "execution_count": null,
   "metadata": {
    "ExecuteTime": {
     "end_time": "2020-03-14T10:34:45.028806Z",
     "start_time": "2020-03-14T10:34:45.020804Z"
    }
   },
   "outputs": [],
   "source": [
    "ls=[1,2,3,4,5,6]\n"
   ]
  },
  {
   "cell_type": "code",
   "execution_count": null,
   "metadata": {
    "ExecuteTime": {
     "end_time": "2020-03-14T10:34:45.524806Z",
     "start_time": "2020-03-14T10:34:45.512805Z"
    }
   },
   "outputs": [],
   "source": [
    "max(ls)"
   ]
  },
  {
   "cell_type": "code",
   "execution_count": null,
   "metadata": {
    "ExecuteTime": {
     "end_time": "2020-03-14T10:34:51.852355Z",
     "start_time": "2020-03-14T10:34:51.844361Z"
    }
   },
   "outputs": [],
   "source": [
    "b=[\"a\",\"ab\",\"cgh\",\"d\"] #it is fetching based on unicode value , d has max unicode\n",
    "max(b)"
   ]
  },
  {
   "cell_type": "markdown",
   "metadata": {},
   "source": [
    "**Object references and copies:**"
   ]
  },
  {
   "cell_type": "code",
   "execution_count": null,
   "metadata": {
    "ExecuteTime": {
     "end_time": "2020-03-14T10:34:58.290624Z",
     "start_time": "2020-03-14T10:34:58.282626Z"
    }
   },
   "outputs": [],
   "source": [
    "# create a second reference to the same list\n",
    "lang_new = lang\n"
   ]
  },
  {
   "cell_type": "code",
   "execution_count": null,
   "metadata": {
    "ExecuteTime": {
     "end_time": "2020-03-14T10:34:59.338623Z",
     "start_time": "2020-03-14T10:34:59.326629Z"
    }
   },
   "outputs": [],
   "source": [
    "lang"
   ]
  },
  {
   "cell_type": "code",
   "execution_count": null,
   "metadata": {
    "ExecuteTime": {
     "end_time": "2020-03-14T10:35:00.212166Z",
     "start_time": "2020-03-14T10:35:00.200169Z"
    }
   },
   "outputs": [],
   "source": [
    "lang_new"
   ]
  },
  {
   "cell_type": "code",
   "execution_count": null,
   "metadata": {
    "ExecuteTime": {
     "end_time": "2020-03-14T10:38:52.458376Z",
     "start_time": "2020-03-14T10:38:52.450380Z"
    }
   },
   "outputs": [],
   "source": [
    "# modifies both 'lang' and 'lang_new'\n",
    "lang[0] = 'Spark'\n",
    "print(lang)\n",
    "print(lang_new)#Due to copy by reference"
   ]
  },
  {
   "cell_type": "code",
   "execution_count": null,
   "metadata": {
    "ExecuteTime": {
     "end_time": "2020-03-14T10:38:53.326373Z",
     "start_time": "2020-03-14T10:38:53.318377Z"
    }
   },
   "outputs": [],
   "source": [
    "# copy a list (multiple ways) #copy by value\n",
    "lang_new0 = lang.copy()\n",
    "lang_new1 = lang[:]\n",
    "lang_new2 = list(lang)"
   ]
  },
  {
   "cell_type": "code",
   "execution_count": null,
   "metadata": {
    "ExecuteTime": {
     "end_time": "2020-03-14T10:38:53.698373Z",
     "start_time": "2020-03-14T10:38:53.686373Z"
    }
   },
   "outputs": [],
   "source": [
    "# modifies only 'lang_new'\n",
    "lang_new[0] = 'python'\n",
    "print(lang)\n",
    "print(lang_new0)\n",
    "print(lang_new1)\n",
    "print(lang_new2)"
   ]
  },
  {
   "cell_type": "markdown",
   "metadata": {},
   "source": [
    "**Examine objects:**"
   ]
  },
  {
   "cell_type": "code",
   "execution_count": null,
   "metadata": {
    "ExecuteTime": {
     "end_time": "2020-03-14T10:38:57.086959Z",
     "start_time": "2020-03-14T10:38:57.078967Z"
    }
   },
   "outputs": [],
   "source": [
    "lang3 = lang"
   ]
  },
  {
   "cell_type": "code",
   "execution_count": null,
   "metadata": {
    "ExecuteTime": {
     "end_time": "2020-03-14T10:39:01.636608Z",
     "start_time": "2020-03-14T10:39:01.628614Z"
    }
   },
   "outputs": [],
   "source": [
    "lang3 is lang    # checks whether they are the same object"
   ]
  },
  {
   "cell_type": "code",
   "execution_count": null,
   "metadata": {
    "ExecuteTime": {
     "end_time": "2020-03-14T10:39:02.928795Z",
     "start_time": "2020-03-14T10:39:02.920791Z"
    }
   },
   "outputs": [],
   "source": [
    "lang == lang3    # checks whether they have the same contents"
   ]
  },
  {
   "cell_type": "code",
   "execution_count": null,
   "metadata": {
    "ExecuteTime": {
     "end_time": "2020-03-14T10:39:03.780813Z",
     "start_time": "2020-03-14T10:39:03.768793Z"
    }
   },
   "outputs": [],
   "source": [
    "lang_new == lang"
   ]
  },
  {
   "cell_type": "markdown",
   "metadata": {},
   "source": [
    "## 7. Tuples\n",
    "\n",
    "- **Tuple properties:** ordered, iterable, immutable, can contain multiple data types\n",
    "- Like lists, but they don't change size"
   ]
  },
  {
   "cell_type": "code",
   "execution_count": null,
   "metadata": {},
   "outputs": [],
   "source": [
    "# create a tuple directly\n",
    "digits = (0, 1, 'two')"
   ]
  },
  {
   "cell_type": "code",
   "execution_count": null,
   "metadata": {
    "ExecuteTime": {
     "end_time": "2020-03-14T10:40:05.328790Z",
     "start_time": "2020-03-14T10:40:05.324790Z"
    }
   },
   "outputs": [],
   "source": [
    "dtemp=(0,[1,2],'two')"
   ]
  },
  {
   "cell_type": "code",
   "execution_count": null,
   "metadata": {
    "ExecuteTime": {
     "end_time": "2020-03-14T10:40:11.924044Z",
     "start_time": "2020-03-14T10:40:11.916059Z"
    }
   },
   "outputs": [],
   "source": [
    "dtemp"
   ]
  },
  {
   "cell_type": "code",
   "execution_count": null,
   "metadata": {
    "ExecuteTime": {
     "end_time": "2020-03-14T10:46:52.693878Z",
     "start_time": "2020-03-14T10:46:52.685882Z"
    }
   },
   "outputs": [],
   "source": [
    "# create a tuple from a list\n",
    "digits = tuple([0, 1, 'two'])"
   ]
  },
  {
   "cell_type": "code",
   "execution_count": null,
   "metadata": {
    "ExecuteTime": {
     "end_time": "2020-03-14T10:46:53.025881Z",
     "start_time": "2020-03-14T10:46:53.017877Z"
    }
   },
   "outputs": [],
   "source": [
    "# trailing comma is required to indicate it's a tuple\n",
    "zero = (0,)"
   ]
  },
  {
   "cell_type": "code",
   "execution_count": null,
   "metadata": {
    "ExecuteTime": {
     "end_time": "2020-03-14T10:46:53.265878Z",
     "start_time": "2020-03-14T10:46:53.253880Z"
    }
   },
   "outputs": [],
   "source": [
    "type(zero)"
   ]
  },
  {
   "cell_type": "code",
   "execution_count": null,
   "metadata": {
    "ExecuteTime": {
     "end_time": "2020-03-14T10:46:53.465879Z",
     "start_time": "2020-03-14T10:46:53.457889Z"
    }
   },
   "outputs": [],
   "source": [
    "z1=(0)"
   ]
  },
  {
   "cell_type": "code",
   "execution_count": null,
   "metadata": {
    "ExecuteTime": {
     "end_time": "2020-03-14T10:46:53.749879Z",
     "start_time": "2020-03-14T10:46:53.741878Z"
    }
   },
   "outputs": [],
   "source": [
    "type(z1)"
   ]
  },
  {
   "cell_type": "markdown",
   "metadata": {},
   "source": [
    "**Examine a tuple:**"
   ]
  },
  {
   "cell_type": "code",
   "execution_count": null,
   "metadata": {
    "ExecuteTime": {
     "end_time": "2020-03-14T10:46:54.661885Z",
     "start_time": "2020-03-14T10:46:54.649878Z"
    }
   },
   "outputs": [],
   "source": [
    "digits[2]"
   ]
  },
  {
   "cell_type": "code",
   "execution_count": null,
   "metadata": {
    "ExecuteTime": {
     "end_time": "2020-03-14T10:46:56.457356Z",
     "start_time": "2020-03-14T10:46:56.445354Z"
    }
   },
   "outputs": [],
   "source": [
    "len(digits)"
   ]
  },
  {
   "cell_type": "code",
   "execution_count": null,
   "metadata": {
    "ExecuteTime": {
     "end_time": "2020-03-14T10:46:56.761350Z",
     "start_time": "2020-03-14T10:46:56.749358Z"
    }
   },
   "outputs": [],
   "source": [
    "# counts the number of instances of that value\n",
    "digits.count(0)"
   ]
  },
  {
   "cell_type": "code",
   "execution_count": null,
   "metadata": {
    "ExecuteTime": {
     "end_time": "2020-03-14T10:46:57.037347Z",
     "start_time": "2020-03-14T10:46:57.025352Z"
    }
   },
   "outputs": [],
   "source": [
    "# returns the index of the first instance of that value\n",
    "digits.index(1)"
   ]
  },
  {
   "cell_type": "markdown",
   "metadata": {},
   "source": [
    "**Modify a tuple:**"
   ]
  },
  {
   "cell_type": "code",
   "execution_count": null,
   "metadata": {
    "ExecuteTime": {
     "end_time": "2020-03-14T10:46:59.030724Z",
     "start_time": "2020-03-14T10:46:58.998717Z"
    }
   },
   "outputs": [],
   "source": [
    "# elements of a tuple cannot be modified (this would throw an error)\n",
    "digits[2] = 2"
   ]
  },
  {
   "cell_type": "code",
   "execution_count": null,
   "metadata": {
    "ExecuteTime": {
     "end_time": "2020-03-14T10:46:59.442726Z",
     "start_time": "2020-03-14T10:46:59.434719Z"
    }
   },
   "outputs": [],
   "source": [
    "# concatenate tuples\n",
    "digits = digits + (3, 4)\n",
    "digits"
   ]
  },
  {
   "cell_type": "code",
   "execution_count": null,
   "metadata": {
    "ExecuteTime": {
     "end_time": "2020-03-14T10:46:59.814720Z",
     "start_time": "2020-03-14T10:46:59.802725Z"
    }
   },
   "outputs": [],
   "source": [
    "# tuple unpacking\n",
    "data = ('male', 10, 'python')    # create a tuple\n",
    "(sex, age, surname) = data        # assign three values at once\n",
    "print(sex)\n",
    "print(age)\n",
    "print(surname)"
   ]
  },
  {
   "cell_type": "markdown",
   "metadata": {},
   "source": [
    "## 8. Strings\n",
    "\n",
    "- **String properties:** iterable, immutable"
   ]
  },
  {
   "cell_type": "code",
   "execution_count": 12,
   "metadata": {
    "ExecuteTime": {
     "end_time": "2020-04-03T07:14:55.340404Z",
     "start_time": "2020-04-03T07:14:55.332406Z"
    }
   },
   "outputs": [
    {
     "data": {
      "text/plain": [
       "'42'"
      ]
     },
     "execution_count": 12,
     "metadata": {},
     "output_type": "execute_result"
    }
   ],
   "source": [
    "# convert another data type into a string\n",
    "s = str(42)\n",
    "s"
   ]
  },
  {
   "cell_type": "code",
   "execution_count": 13,
   "metadata": {
    "ExecuteTime": {
     "end_time": "2020-04-03T07:15:01.913871Z",
     "start_time": "2020-04-03T07:15:01.909870Z"
    }
   },
   "outputs": [],
   "source": [
    "# create a string directly\n",
    "s = 'I like you'"
   ]
  },
  {
   "cell_type": "markdown",
   "metadata": {},
   "source": [
    "**Examine a string:**"
   ]
  },
  {
   "cell_type": "code",
   "execution_count": 14,
   "metadata": {
    "ExecuteTime": {
     "end_time": "2020-04-03T07:15:07.580875Z",
     "start_time": "2020-04-03T07:15:07.572814Z"
    }
   },
   "outputs": [
    {
     "data": {
      "text/plain": [
       "'I'"
      ]
     },
     "execution_count": 14,
     "metadata": {},
     "output_type": "execute_result"
    }
   ],
   "source": [
    "s[0]"
   ]
  },
  {
   "cell_type": "code",
   "execution_count": 15,
   "metadata": {
    "ExecuteTime": {
     "end_time": "2020-04-03T07:15:09.931449Z",
     "start_time": "2020-04-03T07:15:09.914904Z"
    }
   },
   "outputs": [
    {
     "data": {
      "text/plain": [
       "10"
      ]
     },
     "execution_count": 15,
     "metadata": {},
     "output_type": "execute_result"
    }
   ],
   "source": [
    "len(s)"
   ]
  },
  {
   "cell_type": "markdown",
   "metadata": {},
   "source": [
    "**String slicing is like list slicing:**"
   ]
  },
  {
   "cell_type": "code",
   "execution_count": 16,
   "metadata": {
    "ExecuteTime": {
     "end_time": "2020-04-03T07:15:19.671409Z",
     "start_time": "2020-04-03T07:15:19.663406Z"
    }
   },
   "outputs": [
    {
     "data": {
      "text/plain": [
       "'I like'"
      ]
     },
     "execution_count": 16,
     "metadata": {},
     "output_type": "execute_result"
    }
   ],
   "source": [
    "s[:6]"
   ]
  },
  {
   "cell_type": "code",
   "execution_count": 17,
   "metadata": {
    "ExecuteTime": {
     "end_time": "2020-04-03T07:15:21.570929Z",
     "start_time": "2020-04-03T07:15:21.562929Z"
    }
   },
   "outputs": [
    {
     "data": {
      "text/plain": [
       "'you'"
      ]
     },
     "execution_count": 17,
     "metadata": {},
     "output_type": "execute_result"
    }
   ],
   "source": [
    "s[7:]"
   ]
  },
  {
   "cell_type": "code",
   "execution_count": 18,
   "metadata": {
    "ExecuteTime": {
     "end_time": "2020-04-03T07:15:23.926526Z",
     "start_time": "2020-04-03T07:15:23.918486Z"
    }
   },
   "outputs": [
    {
     "data": {
      "text/plain": [
       "'u'"
      ]
     },
     "execution_count": 18,
     "metadata": {},
     "output_type": "execute_result"
    }
   ],
   "source": [
    "s[-1]"
   ]
  },
  {
   "cell_type": "markdown",
   "metadata": {},
   "source": [
    "Write code to test whether a passed letter is a vowel or not."
   ]
  },
  {
   "cell_type": "code",
   "execution_count": 19,
   "metadata": {
    "ExecuteTime": {
     "end_time": "2020-04-03T07:15:26.390896Z",
     "start_time": "2020-04-03T07:15:26.374086Z"
    }
   },
   "outputs": [
    {
     "data": {
      "text/plain": [
       "True"
      ]
     },
     "execution_count": 19,
     "metadata": {},
     "output_type": "execute_result"
    }
   ],
   "source": [
    "ss='I like python'\n",
    "b='i'\n",
    "\n",
    "b in ss"
   ]
  },
  {
   "cell_type": "markdown",
   "metadata": {},
   "source": [
    "**Basic string methods (does not modify the original string):**"
   ]
  },
  {
   "cell_type": "code",
   "execution_count": 20,
   "metadata": {
    "ExecuteTime": {
     "end_time": "2020-04-03T07:15:38.029482Z",
     "start_time": "2020-04-03T07:15:38.021440Z"
    }
   },
   "outputs": [
    {
     "data": {
      "text/plain": [
       "'i like you'"
      ]
     },
     "execution_count": 20,
     "metadata": {},
     "output_type": "execute_result"
    }
   ],
   "source": [
    "s.lower()"
   ]
  },
  {
   "cell_type": "code",
   "execution_count": 21,
   "metadata": {
    "ExecuteTime": {
     "end_time": "2020-04-03T07:15:39.207992Z",
     "start_time": "2020-04-03T07:15:39.199952Z"
    }
   },
   "outputs": [
    {
     "data": {
      "text/plain": [
       "'I LIKE YOU'"
      ]
     },
     "execution_count": 21,
     "metadata": {},
     "output_type": "execute_result"
    }
   ],
   "source": [
    "s.upper()"
   ]
  },
  {
   "cell_type": "code",
   "execution_count": 22,
   "metadata": {
    "ExecuteTime": {
     "end_time": "2020-04-03T07:15:42.090224Z",
     "start_time": "2020-04-03T07:15:42.086097Z"
    }
   },
   "outputs": [
    {
     "data": {
      "text/plain": [
       "True"
      ]
     },
     "execution_count": 22,
     "metadata": {},
     "output_type": "execute_result"
    }
   ],
   "source": [
    "s.startswith('I')"
   ]
  },
  {
   "cell_type": "code",
   "execution_count": 23,
   "metadata": {
    "ExecuteTime": {
     "end_time": "2020-04-03T07:15:47.674698Z",
     "start_time": "2020-04-03T07:15:47.666697Z"
    }
   },
   "outputs": [
    {
     "data": {
      "text/plain": [
       "True"
      ]
     },
     "execution_count": 23,
     "metadata": {},
     "output_type": "execute_result"
    }
   ],
   "source": [
    "s.endswith('you')"
   ]
  },
  {
   "cell_type": "code",
   "execution_count": 24,
   "metadata": {
    "ExecuteTime": {
     "end_time": "2020-04-03T07:15:50.461716Z",
     "start_time": "2020-04-03T07:15:50.453715Z"
    }
   },
   "outputs": [
    {
     "data": {
      "text/plain": [
       "False"
      ]
     },
     "execution_count": 24,
     "metadata": {},
     "output_type": "execute_result"
    }
   ],
   "source": [
    "# checks whether every character in the string is a digit\n",
    "s.isdigit()"
   ]
  },
  {
   "cell_type": "code",
   "execution_count": 25,
   "metadata": {
    "ExecuteTime": {
     "end_time": "2020-04-03T07:15:57.787456Z",
     "start_time": "2020-04-03T07:15:57.779394Z"
    }
   },
   "outputs": [
    {
     "data": {
      "text/plain": [
       "2"
      ]
     },
     "execution_count": 25,
     "metadata": {},
     "output_type": "execute_result"
    }
   ],
   "source": [
    "# returns index of first occurrence, but doesn't support regex\n",
    "s.find('like')"
   ]
  },
  {
   "cell_type": "code",
   "execution_count": 26,
   "metadata": {
    "ExecuteTime": {
     "end_time": "2020-04-03T07:16:14.641728Z",
     "start_time": "2020-04-03T07:16:14.633664Z"
    }
   },
   "outputs": [
    {
     "data": {
      "text/plain": [
       "-1"
      ]
     },
     "execution_count": 26,
     "metadata": {},
     "output_type": "execute_result"
    }
   ],
   "source": [
    "# returns -1 since not found\n",
    "s.find('hate')"
   ]
  },
  {
   "cell_type": "code",
   "execution_count": 27,
   "metadata": {
    "ExecuteTime": {
     "end_time": "2020-04-03T07:16:20.169450Z",
     "start_time": "2020-04-03T07:16:20.161410Z"
    }
   },
   "outputs": [
    {
     "data": {
      "text/plain": [
       "'I love you'"
      ]
     },
     "execution_count": 27,
     "metadata": {},
     "output_type": "execute_result"
    }
   ],
   "source": [
    "# replaces all instances of 'like' with 'love'\n",
    "s.replace('like', 'love')"
   ]
  },
  {
   "cell_type": "code",
   "execution_count": 28,
   "metadata": {
    "ExecuteTime": {
     "end_time": "2020-04-03T07:16:21.269036Z",
     "start_time": "2020-04-03T07:16:21.249232Z"
    }
   },
   "outputs": [
    {
     "data": {
      "text/plain": [
       "'I like you'"
      ]
     },
     "execution_count": 28,
     "metadata": {},
     "output_type": "execute_result"
    }
   ],
   "source": [
    "s"
   ]
  },
  {
   "cell_type": "markdown",
   "metadata": {},
   "source": [
    "**Split a string:**"
   ]
  },
  {
   "cell_type": "code",
   "execution_count": 29,
   "metadata": {
    "ExecuteTime": {
     "end_time": "2020-04-03T07:16:24.415634Z",
     "start_time": "2020-04-03T07:16:24.407633Z"
    }
   },
   "outputs": [
    {
     "data": {
      "text/plain": [
       "['I', 'like', 'you']"
      ]
     },
     "execution_count": 29,
     "metadata": {},
     "output_type": "execute_result"
    }
   ],
   "source": [
    "# split a string into a list of substrings separated by a delimiter\n",
    "s.split(' ')"
   ]
  },
  {
   "cell_type": "code",
   "execution_count": 30,
   "metadata": {
    "ExecuteTime": {
     "end_time": "2020-04-03T07:16:29.068009Z",
     "start_time": "2020-04-03T07:16:29.056005Z"
    }
   },
   "outputs": [
    {
     "data": {
      "text/plain": [
       "['I', 'like', 'you']"
      ]
     },
     "execution_count": 30,
     "metadata": {},
     "output_type": "execute_result"
    }
   ],
   "source": [
    "# equivalent (since space is the default delimiter)\n",
    "s.split()"
   ]
  },
  {
   "cell_type": "code",
   "execution_count": 31,
   "metadata": {
    "ExecuteTime": {
     "end_time": "2020-04-03T07:16:29.979925Z",
     "start_time": "2020-04-03T07:16:29.967888Z"
    }
   },
   "outputs": [
    {
     "data": {
      "text/plain": [
       "['a', ' an', ' the']"
      ]
     },
     "execution_count": 31,
     "metadata": {},
     "output_type": "execute_result"
    }
   ],
   "source": [
    "s2 = 'a, an, the'\n",
    "s2.split(',')"
   ]
  },
  {
   "cell_type": "markdown",
   "metadata": {},
   "source": [
    "**Join or concatenate strings:**"
   ]
  },
  {
   "cell_type": "code",
   "execution_count": 32,
   "metadata": {
    "ExecuteTime": {
     "end_time": "2020-04-03T07:16:39.964857Z",
     "start_time": "2020-04-03T07:16:39.956820Z"
    }
   },
   "outputs": [
    {
     "data": {
      "text/plain": [
       "'python java C'"
      ]
     },
     "execution_count": 32,
     "metadata": {},
     "output_type": "execute_result"
    }
   ],
   "source": [
    "# join a list of strings into one string using a delimiter\n",
    "lang = ['python', 'java', 'C']\n",
    "' '.join(lang)"
   ]
  },
  {
   "cell_type": "code",
   "execution_count": 33,
   "metadata": {
    "ExecuteTime": {
     "end_time": "2020-04-03T07:16:51.168323Z",
     "start_time": "2020-04-03T07:16:51.160285Z"
    },
    "scrolled": true
   },
   "outputs": [
    {
     "data": {
      "text/plain": [
       "'The meaning of life is 42'"
      ]
     },
     "execution_count": 33,
     "metadata": {},
     "output_type": "execute_result"
    }
   ],
   "source": [
    "# concatenate strings\n",
    "s3 = 'The meaning of life is'\n",
    "s4 = '42'\n",
    "s3 + ' ' + s4"
   ]
  },
  {
   "cell_type": "markdown",
   "metadata": {},
   "source": [
    "**Remove whitespace from the start and end of a string:**"
   ]
  },
  {
   "cell_type": "code",
   "execution_count": 34,
   "metadata": {
    "ExecuteTime": {
     "end_time": "2020-04-03T07:17:02.968883Z",
     "start_time": "2020-04-03T07:17:02.960818Z"
    }
   },
   "outputs": [
    {
     "data": {
      "text/plain": [
       "'ham and cheese'"
      ]
     },
     "execution_count": 34,
     "metadata": {},
     "output_type": "execute_result"
    }
   ],
   "source": [
    "s5 = '  ham and cheese  '\n",
    "s5.strip()"
   ]
  },
  {
   "cell_type": "markdown",
   "metadata": {},
   "source": [
    "**String substitutions:**"
   ]
  },
  {
   "cell_type": "code",
   "execution_count": 35,
   "metadata": {
    "ExecuteTime": {
     "end_time": "2020-04-03T07:17:12.796736Z",
     "start_time": "2020-04-03T07:17:12.788697Z"
    }
   },
   "outputs": [
    {
     "data": {
      "text/plain": [
       "'raining cats and dogs'"
      ]
     },
     "execution_count": 35,
     "metadata": {},
     "output_type": "execute_result"
    }
   ],
   "source": [
    "# old way\n",
    "'raining %s and %s' % ('cats', 'dogs')"
   ]
  },
  {
   "cell_type": "code",
   "execution_count": 36,
   "metadata": {
    "ExecuteTime": {
     "end_time": "2020-04-03T07:17:19.634998Z",
     "start_time": "2020-04-03T07:17:19.626957Z"
    }
   },
   "outputs": [
    {
     "data": {
      "text/plain": [
       "'raining cats and dogs'"
      ]
     },
     "execution_count": 36,
     "metadata": {},
     "output_type": "execute_result"
    }
   ],
   "source": [
    "# new way\n",
    "'raining {} and {}'.format('cats', 'dogs')"
   ]
  },
  {
   "cell_type": "code",
   "execution_count": 37,
   "metadata": {
    "ExecuteTime": {
     "end_time": "2020-04-03T07:17:25.552514Z",
     "start_time": "2020-04-03T07:17:25.544514Z"
    },
    "scrolled": true
   },
   "outputs": [
    {
     "data": {
      "text/plain": [
       "'raining cats and dogs'"
      ]
     },
     "execution_count": 37,
     "metadata": {},
     "output_type": "execute_result"
    }
   ],
   "source": [
    "# new way (using named arguments)\n",
    "'raining {arg1} and {arg2}'.format(arg1='cats', arg2='dogs')"
   ]
  },
  {
   "cell_type": "markdown",
   "metadata": {},
   "source": [
    "**String formatting **"
   ]
  },
  {
   "cell_type": "code",
   "execution_count": 38,
   "metadata": {
    "ExecuteTime": {
     "end_time": "2020-04-03T07:17:35.864525Z",
     "start_time": "2020-04-03T07:17:35.856486Z"
    }
   },
   "outputs": [
    {
     "data": {
      "text/plain": [
       "'pi is 3.1416'"
      ]
     },
     "execution_count": 38,
     "metadata": {},
     "output_type": "execute_result"
    }
   ],
   "source": [
    "# use 2 decimal places\n",
    "'pi is {:.4f}'.format(3.14159)"
   ]
  },
  {
   "cell_type": "markdown",
   "metadata": {},
   "source": [
    "**Normal strings versus raw strings:**"
   ]
  },
  {
   "cell_type": "code",
   "execution_count": 39,
   "metadata": {
    "ExecuteTime": {
     "end_time": "2020-04-03T07:17:44.940708Z",
     "start_time": "2020-04-03T07:17:44.932641Z"
    }
   },
   "outputs": [
    {
     "data": {
      "text/plain": [
       "'first line\\nsecond line'"
      ]
     },
     "execution_count": 39,
     "metadata": {},
     "output_type": "execute_result"
    }
   ],
   "source": [
    "str='first line\\nsecond line'\n",
    "str"
   ]
  },
  {
   "cell_type": "code",
   "execution_count": 40,
   "metadata": {
    "ExecuteTime": {
     "end_time": "2020-04-03T07:17:46.908613Z",
     "start_time": "2020-04-03T07:17:46.904612Z"
    }
   },
   "outputs": [
    {
     "name": "stdout",
     "output_type": "stream",
     "text": [
      "first line\n",
      "second line\n"
     ]
    }
   ],
   "source": [
    "# normal strings allow for escaped characters\n",
    "print('first line\\nsecond line')"
   ]
  },
  {
   "cell_type": "code",
   "execution_count": 41,
   "metadata": {
    "ExecuteTime": {
     "end_time": "2020-04-03T07:17:52.889899Z",
     "start_time": "2020-04-03T07:17:52.877905Z"
    }
   },
   "outputs": [
    {
     "name": "stdout",
     "output_type": "stream",
     "text": [
      "first line\\nfirst line\n"
     ]
    }
   ],
   "source": [
    "# raw strings treat backslashes as literal characters\n",
    "print(r'first line\\nfirst line')"
   ]
  },
  {
   "cell_type": "markdown",
   "metadata": {},
   "source": [
    "Define a function reverse() that computes the reversal of a string. For example, reverse(\"I am testing\") should return the string \"gnitset ma I\"."
   ]
  },
  {
   "cell_type": "code",
   "execution_count": 42,
   "metadata": {
    "ExecuteTime": {
     "end_time": "2020-04-03T07:19:13.714404Z",
     "start_time": "2020-04-03T07:19:13.706341Z"
    }
   },
   "outputs": [
    {
     "data": {
      "text/plain": [
       "'gnitset ma I'"
      ]
     },
     "execution_count": 42,
     "metadata": {},
     "output_type": "execute_result"
    }
   ],
   "source": [
    "ss=\"I am testing\"\n",
    "ss\n",
    "ss[::-1]"
   ]
  },
  {
   "cell_type": "code",
   "execution_count": 43,
   "metadata": {
    "ExecuteTime": {
     "end_time": "2020-04-03T07:19:19.683051Z",
     "start_time": "2020-04-03T07:19:19.675011Z"
    }
   },
   "outputs": [
    {
     "data": {
      "text/plain": [
       "['I', 'am', 'testing']"
      ]
     },
     "execution_count": 43,
     "metadata": {},
     "output_type": "execute_result"
    }
   ],
   "source": [
    "ls=ss.split()\n",
    "type(ls)\n",
    "ls"
   ]
  },
  {
   "cell_type": "code",
   "execution_count": 44,
   "metadata": {
    "ExecuteTime": {
     "end_time": "2020-04-03T07:20:30.557757Z",
     "start_time": "2020-04-03T07:20:30.538008Z"
    }
   },
   "outputs": [
    {
     "ename": "TypeError",
     "evalue": "an integer is required (got type str)",
     "output_type": "error",
     "traceback": [
      "\u001b[1;31m---------------------------------------------------------------------------\u001b[0m",
      "\u001b[1;31mTypeError\u001b[0m                                 Traceback (most recent call last)",
      "\u001b[1;32m<ipython-input-44-b14c810e6d35>\u001b[0m in \u001b[0;36m<module>\u001b[1;34m\u001b[0m\n\u001b[1;32m----> 1\u001b[1;33m \u001b[0mls2\u001b[0m\u001b[1;33m=\u001b[0m\u001b[0mls\u001b[0m\u001b[1;33m.\u001b[0m\u001b[0msort\u001b[0m\u001b[1;33m(\u001b[0m\u001b[0mreverse\u001b[0m\u001b[1;33m=\u001b[0m\u001b[1;34m'True'\u001b[0m\u001b[1;33m)\u001b[0m\u001b[1;33m\u001b[0m\u001b[1;33m\u001b[0m\u001b[0m\n\u001b[0m\u001b[0;32m      2\u001b[0m \u001b[0mprint\u001b[0m\u001b[1;33m(\u001b[0m\u001b[0mls2\u001b[0m\u001b[1;33m)\u001b[0m\u001b[1;33m\u001b[0m\u001b[1;33m\u001b[0m\u001b[0m\n",
      "\u001b[1;31mTypeError\u001b[0m: an integer is required (got type str)"
     ]
    }
   ],
   "source": [
    "ls2=ls.sort(reverse='True')\n",
    "print(ls2)"
   ]
  },
  {
   "cell_type": "code",
   "execution_count": 45,
   "metadata": {
    "ExecuteTime": {
     "end_time": "2020-04-03T07:20:40.918202Z",
     "start_time": "2020-04-03T07:20:40.910201Z"
    }
   },
   "outputs": [
    {
     "ename": "TypeError",
     "evalue": "an integer is required (got type str)",
     "output_type": "error",
     "traceback": [
      "\u001b[1;31m---------------------------------------------------------------------------\u001b[0m",
      "\u001b[1;31mTypeError\u001b[0m                                 Traceback (most recent call last)",
      "\u001b[1;32m<ipython-input-45-6a314cd99267>\u001b[0m in \u001b[0;36m<module>\u001b[1;34m\u001b[0m\n\u001b[1;32m----> 1\u001b[1;33m \u001b[0mls1\u001b[0m\u001b[1;33m=\u001b[0m\u001b[0mls\u001b[0m\u001b[1;33m.\u001b[0m\u001b[0msort\u001b[0m\u001b[1;33m(\u001b[0m\u001b[0mreverse\u001b[0m\u001b[1;33m=\u001b[0m\u001b[1;34m'True'\u001b[0m\u001b[1;33m)\u001b[0m\u001b[1;33m\u001b[0m\u001b[1;33m\u001b[0m\u001b[0m\n\u001b[0m\u001b[0;32m      2\u001b[0m \u001b[0mls1\u001b[0m\u001b[1;33m\u001b[0m\u001b[1;33m\u001b[0m\u001b[0m\n",
      "\u001b[1;31mTypeError\u001b[0m: an integer is required (got type str)"
     ]
    }
   ],
   "source": [
    "ls1=ls.sort(reverse='True')\n",
    "ls1"
   ]
  },
  {
   "cell_type": "markdown",
   "metadata": {},
   "source": [
    "## 9. Dictionaries\n",
    "\n",
    "- **Dictionary properties:** unordered, iterable, mutable, can contain multiple data types\n",
    "- Made of key-value pairs\n",
    "- Keys must be unique, and can be strings, numbers, or tuples\n",
    "- Values can be any type"
   ]
  },
  {
   "cell_type": "code",
   "execution_count": null,
   "metadata": {
    "ExecuteTime": {
     "end_time": "2020-03-14T11:11:08.539559Z",
     "start_time": "2020-03-14T11:11:08.531567Z"
    }
   },
   "outputs": [],
   "source": [
    "# create an empty dictionary (two ways)\n",
    "empty_dict = {}\n",
    "empty_dict = dict()"
   ]
  },
  {
   "cell_type": "code",
   "execution_count": null,
   "metadata": {
    "ExecuteTime": {
     "end_time": "2020-03-14T11:11:08.935565Z",
     "start_time": "2020-03-14T11:11:08.927569Z"
    }
   },
   "outputs": [],
   "source": [
    "family = {'1':'Sachin', 'mom':'Geeta', 'size':6}"
   ]
  },
  {
   "cell_type": "code",
   "execution_count": null,
   "metadata": {
    "ExecuteTime": {
     "end_time": "2020-03-14T11:11:10.067560Z",
     "start_time": "2020-03-14T11:11:10.051565Z"
    }
   },
   "outputs": [],
   "source": [
    "# create a dictionary (two ways)\n",
    "family = {'dad':'Sachin', 'mom':'Geeta', 'size':6}\n",
    "family = dict(dad='Sachin', mom='Geeta', size=6)\n",
    "family"
   ]
  },
  {
   "cell_type": "code",
   "execution_count": null,
   "metadata": {
    "ExecuteTime": {
     "end_time": "2020-03-14T11:15:01.008647Z",
     "start_time": "2020-03-14T11:15:00.996661Z"
    }
   },
   "outputs": [],
   "source": [
    "# convert a list of tuples into a dictionary\n",
    "list_of_tuples = [('dad', 'Sachin'), ('mom', 'Geeta'), ('size', 6)]\n",
    "family = dict(list_of_tuples)\n",
    "family"
   ]
  },
  {
   "cell_type": "code",
   "execution_count": null,
   "metadata": {
    "ExecuteTime": {
     "end_time": "2020-03-14T11:15:02.192644Z",
     "start_time": "2020-03-14T11:15:02.180650Z"
    }
   },
   "outputs": [],
   "source": [
    "# convert a list of tuples into a dictionary\n",
    "list_of_tuples = [('dad', 'Sachin'), ('mom', 'Geeta'), (1, 'size')]\n",
    "family = dict(list_of_tuples)\n",
    "family"
   ]
  },
  {
   "cell_type": "code",
   "execution_count": null,
   "metadata": {
    "ExecuteTime": {
     "end_time": "2020-03-14T11:16:56.097326Z",
     "start_time": "2020-03-14T11:16:56.061331Z"
    }
   },
   "outputs": [],
   "source": [
    "family.items()"
   ]
  },
  {
   "cell_type": "code",
   "execution_count": null,
   "metadata": {
    "ExecuteTime": {
     "end_time": "2020-03-14T11:21:09.899571Z",
     "start_time": "2020-03-14T11:21:09.892571Z"
    }
   },
   "outputs": [],
   "source": [
    "family.values()"
   ]
  },
  {
   "cell_type": "code",
   "execution_count": null,
   "metadata": {
    "ExecuteTime": {
     "end_time": "2020-03-14T11:28:45.855093Z",
     "start_time": "2020-03-14T11:28:45.847094Z"
    }
   },
   "outputs": [],
   "source": [
    "for key,value in family.items():\n",
    "    if value=='size':\n",
    "        print(key)"
   ]
  },
  {
   "cell_type": "code",
   "execution_count": null,
   "metadata": {
    "ExecuteTime": {
     "end_time": "2020-03-14T11:32:28.267290Z",
     "start_time": "2020-03-14T11:32:28.259286Z"
    }
   },
   "outputs": [],
   "source": [
    "list_of_tuples = [['dad', 'Sachin'], ['mom', 'Geeta'], [1, 'size']]\n",
    "family = dict(list_of_tuples)\n",
    "family"
   ]
  },
  {
   "cell_type": "code",
   "execution_count": null,
   "metadata": {
    "ExecuteTime": {
     "end_time": "2020-03-14T11:32:33.420951Z",
     "start_time": "2020-03-14T11:32:33.412954Z"
    }
   },
   "outputs": [],
   "source": [
    "list_of_tuples = [['dad', ['Sachin','vikash']], ['mom', 'Geeta'], [1, 'size']]\n",
    "family= dict(list_of_tuples)\n",
    "family"
   ]
  },
  {
   "cell_type": "code",
   "execution_count": null,
   "metadata": {},
   "outputs": [],
   "source": [
    "list_of_tuples = [[['dad','dd'], ['Sachin','vikash']], ['mom', 'Geeta'], [1, 'size']]\n",
    "family= dict(list_of_tuples)\n",
    "family #You can't have mutiple keys but have mutiple values for single key."
   ]
  },
  {
   "cell_type": "code",
   "execution_count": null,
   "metadata": {
    "ExecuteTime": {
     "end_time": "2020-03-14T11:34:03.903678Z",
     "start_time": "2020-03-14T11:34:03.885686Z"
    }
   },
   "outputs": [],
   "source": [
    "list_of_tuples = [[['dad'], ['Sachin','vikash']], [['mom'], [1, 'size']]]\n",
    "family= dict(list_of_tuples)\n",
    "family #You can't have mutiple keys but have mutiple values for single key."
   ]
  },
  {
   "cell_type": "markdown",
   "metadata": {},
   "source": [
    "**Examine a dictionary:**"
   ]
  },
  {
   "cell_type": "code",
   "execution_count": null,
   "metadata": {
    "ExecuteTime": {
     "end_time": "2020-03-14T11:35:21.411829Z",
     "start_time": "2020-03-14T11:35:21.402830Z"
    }
   },
   "outputs": [],
   "source": [
    "# pass a key to return its value\n",
    "family['dad']"
   ]
  },
  {
   "cell_type": "code",
   "execution_count": null,
   "metadata": {
    "ExecuteTime": {
     "end_time": "2020-03-14T11:35:22.197189Z",
     "start_time": "2020-03-14T11:35:22.190197Z"
    }
   },
   "outputs": [],
   "source": [
    "# return the number of key-value pairs\n",
    "len(family)"
   ]
  },
  {
   "cell_type": "code",
   "execution_count": null,
   "metadata": {
    "ExecuteTime": {
     "end_time": "2020-03-14T11:35:23.271796Z",
     "start_time": "2020-03-14T11:35:23.264797Z"
    }
   },
   "outputs": [],
   "source": [
    "# check if key exists in dictionary\n",
    "'mom' in family"
   ]
  },
  {
   "cell_type": "code",
   "execution_count": null,
   "metadata": {
    "ExecuteTime": {
     "end_time": "2020-03-14T11:35:30.569919Z",
     "start_time": "2020-03-14T11:35:30.562913Z"
    }
   },
   "outputs": [],
   "source": [
    "# dictionary values are not checked\n",
    "'Geeta' in family"
   ]
  },
  {
   "cell_type": "code",
   "execution_count": null,
   "metadata": {
    "ExecuteTime": {
     "end_time": "2020-03-14T11:35:31.654860Z",
     "start_time": "2020-03-14T11:35:31.647877Z"
    }
   },
   "outputs": [],
   "source": [
    "'Geeta' in family.values()"
   ]
  },
  {
   "cell_type": "code",
   "execution_count": null,
   "metadata": {
    "ExecuteTime": {
     "end_time": "2020-03-14T11:35:36.045579Z",
     "start_time": "2020-03-14T11:35:36.038586Z"
    }
   },
   "outputs": [],
   "source": [
    "# returns a list of keys (Python 2) or an iterable view (Python 3)\n",
    "family.keys()"
   ]
  },
  {
   "cell_type": "code",
   "execution_count": null,
   "metadata": {
    "ExecuteTime": {
     "end_time": "2020-03-14T11:38:12.170651Z",
     "start_time": "2020-03-14T11:38:12.162674Z"
    }
   },
   "outputs": [],
   "source": [
    "# returns a list of values (Python 2) or an iterable view (Python 3)\n",
    "family.values()"
   ]
  },
  {
   "cell_type": "code",
   "execution_count": null,
   "metadata": {
    "ExecuteTime": {
     "end_time": "2020-03-14T11:38:12.829997Z",
     "start_time": "2020-03-14T11:38:12.821016Z"
    }
   },
   "outputs": [],
   "source": [
    "# returns a list of key-value pairs (Python 2) or an iterable view (Python 3)\n",
    "family.items()"
   ]
  },
  {
   "cell_type": "markdown",
   "metadata": {},
   "source": [
    "**Modify a dictionary (does not return the dictionary):**"
   ]
  },
  {
   "cell_type": "code",
   "execution_count": null,
   "metadata": {
    "ExecuteTime": {
     "end_time": "2020-03-14T11:40:38.853603Z",
     "start_time": "2020-03-14T11:40:38.844622Z"
    }
   },
   "outputs": [],
   "source": [
    "# add a new entry\n",
    "family['cat'] = 'snowball'\n",
    "family"
   ]
  },
  {
   "cell_type": "code",
   "execution_count": null,
   "metadata": {
    "ExecuteTime": {
     "end_time": "2020-03-14T11:40:39.309600Z",
     "start_time": "2020-03-14T11:40:39.300598Z"
    }
   },
   "outputs": [],
   "source": [
    "# edit an existing entry\n",
    "family['cat'] = 'snowball ii'\n",
    "family"
   ]
  },
  {
   "cell_type": "code",
   "execution_count": null,
   "metadata": {
    "ExecuteTime": {
     "end_time": "2020-03-14T11:40:43.004991Z",
     "start_time": "2020-03-14T11:40:42.996990Z"
    }
   },
   "outputs": [],
   "source": [
    "# delete an entry\n",
    "del family['cat']\n",
    "family"
   ]
  },
  {
   "cell_type": "code",
   "execution_count": null,
   "metadata": {
    "ExecuteTime": {
     "end_time": "2020-03-14T11:40:51.241070Z",
     "start_time": "2020-03-14T11:40:51.233068Z"
    }
   },
   "outputs": [],
   "source": [
    "# dictionary value can be a list\n",
    "family['kids'] = ['Arjun', 'Ramesh']\n",
    "family"
   ]
  },
  {
   "cell_type": "code",
   "execution_count": null,
   "metadata": {
    "ExecuteTime": {
     "end_time": "2020-03-14T11:40:53.306513Z",
     "start_time": "2020-03-14T11:40:53.297525Z"
    }
   },
   "outputs": [],
   "source": [
    "# remove an entry and return the value\n",
    "family.pop('dad')"
   ]
  },
  {
   "cell_type": "code",
   "execution_count": null,
   "metadata": {
    "ExecuteTime": {
     "end_time": "2020-03-14T11:45:52.341192Z",
     "start_time": "2020-03-14T11:45:52.317202Z"
    }
   },
   "outputs": [],
   "source": [
    "\n",
    "family.pop()"
   ]
  },
  {
   "cell_type": "markdown",
   "metadata": {},
   "source": [
    "**Access values more safely with `get`:**"
   ]
  },
  {
   "cell_type": "code",
   "execution_count": null,
   "metadata": {
    "ExecuteTime": {
     "end_time": "2020-03-14T11:47:31.389820Z",
     "start_time": "2020-03-14T11:47:31.383829Z"
    }
   },
   "outputs": [],
   "source": [
    "family"
   ]
  },
  {
   "cell_type": "code",
   "execution_count": null,
   "metadata": {},
   "outputs": [],
   "source": [
    "family['mom']"
   ]
  },
  {
   "cell_type": "code",
   "execution_count": null,
   "metadata": {},
   "outputs": [],
   "source": [
    "# equivalent to a dictionary lookup\n",
    "family.get('mom')"
   ]
  },
  {
   "cell_type": "code",
   "execution_count": null,
   "metadata": {
    "ExecuteTime": {
     "end_time": "2020-03-14T11:47:53.189344Z",
     "start_time": "2020-03-14T11:47:53.182340Z"
    }
   },
   "outputs": [],
   "source": [
    "# this would throw an error since the key does not exist\n",
    "family[1]"
   ]
  },
  {
   "cell_type": "code",
   "execution_count": null,
   "metadata": {},
   "outputs": [],
   "source": [
    "# return None if not found\n",
    "family.get('grandma')"
   ]
  },
  {
   "cell_type": "code",
   "execution_count": null,
   "metadata": {
    "ExecuteTime": {
     "end_time": "2020-03-14T11:48:53.567336Z",
     "start_time": "2020-03-14T11:48:53.560326Z"
    }
   },
   "outputs": [],
   "source": [
    "# provide a default return value if not found\n",
    "family.get('grandma', 'not found')"
   ]
  },
  {
   "cell_type": "markdown",
   "metadata": {},
   "source": [
    "**Access a list element within a dictionary:**"
   ]
  },
  {
   "cell_type": "code",
   "execution_count": null,
   "metadata": {
    "ExecuteTime": {
     "end_time": "2020-03-14T11:49:21.185140Z",
     "start_time": "2020-03-14T11:49:21.176144Z"
    }
   },
   "outputs": [],
   "source": [
    "family['kids'][0]"
   ]
  },
  {
   "cell_type": "code",
   "execution_count": null,
   "metadata": {
    "ExecuteTime": {
     "end_time": "2020-03-14T11:49:32.559240Z",
     "start_time": "2020-03-14T11:49:32.551245Z"
    }
   },
   "outputs": [],
   "source": [
    "family['kids'].remove('Arjun')\n",
    "family"
   ]
  },
  {
   "cell_type": "code",
   "execution_count": null,
   "metadata": {
    "ExecuteTime": {
     "end_time": "2020-03-14T11:52:47.960991Z",
     "start_time": "2020-03-14T11:52:47.954992Z"
    }
   },
   "outputs": [],
   "source": [
    "dict1={}\n",
    "for i in range(1,16):\n",
    "    j=i**10\n",
    "    dict1[i]=j"
   ]
  },
  {
   "cell_type": "code",
   "execution_count": null,
   "metadata": {
    "ExecuteTime": {
     "end_time": "2020-03-14T11:52:48.507606Z",
     "start_time": "2020-03-14T11:52:48.498618Z"
    }
   },
   "outputs": [],
   "source": [
    "dict1"
   ]
  },
  {
   "cell_type": "markdown",
   "metadata": {},
   "source": [
    "Write code to print a dictionary where the keys are numbers between 1 and 15 (both included) and the values are square of keys.\n",
    "\n",
    "Sample Dictionary {1: 1, 2: 4, 3: 9, 4: 16, 5: 25, 6: 36, 7: 49, 8: 64, 9: 81, 10: 100, 11: 121, 12: 144, 13: 169, 14: 196, 15: 225}"
   ]
  },
  {
   "cell_type": "markdown",
   "metadata": {},
   "source": [
    "## 10. Sets\n",
    "\n",
    "- **Set properties:** unordered, iterable, mutable, can contain multiple data types\n",
    "- Made of unique elements (strings, numbers, or tuples)\n",
    "- Like dictionaries, but with keys only (no values)"
   ]
  },
  {
   "cell_type": "code",
   "execution_count": null,
   "metadata": {
    "ExecuteTime": {
     "end_time": "2020-03-14T11:57:07.919878Z",
     "start_time": "2020-03-14T11:57:07.914884Z"
    }
   },
   "outputs": [],
   "source": [
    "# create an empty set\n",
    "empty_set = set()"
   ]
  },
  {
   "cell_type": "code",
   "execution_count": null,
   "metadata": {
    "ExecuteTime": {
     "end_time": "2020-03-14T11:57:26.767802Z",
     "start_time": "2020-03-14T11:57:26.761804Z"
    }
   },
   "outputs": [],
   "source": [
    "# create a set directly\n",
    "languages = {'python', 'r', 'java'}"
   ]
  },
  {
   "cell_type": "code",
   "execution_count": null,
   "metadata": {
    "ExecuteTime": {
     "end_time": "2020-03-14T11:57:30.110561Z",
     "start_time": "2020-03-14T11:57:30.106556Z"
    }
   },
   "outputs": [],
   "source": [
    "# create a set from a list\n",
    "snakes = set(['cobra', 'viper', 'python'])"
   ]
  },
  {
   "cell_type": "markdown",
   "metadata": {},
   "source": [
    "**Examine a set:**"
   ]
  },
  {
   "cell_type": "code",
   "execution_count": null,
   "metadata": {
    "ExecuteTime": {
     "end_time": "2020-03-14T11:57:34.727990Z",
     "start_time": "2020-03-14T11:57:34.718992Z"
    }
   },
   "outputs": [],
   "source": [
    "len(languages)"
   ]
  },
  {
   "cell_type": "code",
   "execution_count": null,
   "metadata": {
    "ExecuteTime": {
     "end_time": "2020-03-14T11:57:35.739976Z",
     "start_time": "2020-03-14T11:57:35.731974Z"
    }
   },
   "outputs": [],
   "source": [
    "'python' in languages"
   ]
  },
  {
   "cell_type": "markdown",
   "metadata": {},
   "source": [
    "**Set operations:**"
   ]
  },
  {
   "cell_type": "code",
   "execution_count": null,
   "metadata": {
    "ExecuteTime": {
     "end_time": "2020-03-14T11:58:00.078127Z",
     "start_time": "2020-03-14T11:58:00.070129Z"
    }
   },
   "outputs": [],
   "source": [
    "# intersection\n",
    "languages & snakes"
   ]
  },
  {
   "cell_type": "code",
   "execution_count": null,
   "metadata": {
    "ExecuteTime": {
     "end_time": "2020-03-14T11:58:08.062824Z",
     "start_time": "2020-03-14T11:58:08.054816Z"
    }
   },
   "outputs": [],
   "source": [
    "# union\n",
    "languages | snakes"
   ]
  },
  {
   "cell_type": "code",
   "execution_count": null,
   "metadata": {
    "ExecuteTime": {
     "end_time": "2020-03-14T11:58:24.127881Z",
     "start_time": "2020-03-14T11:58:24.119881Z"
    }
   },
   "outputs": [],
   "source": [
    "# set difference\n",
    "languages - snakes"
   ]
  },
  {
   "cell_type": "code",
   "execution_count": null,
   "metadata": {
    "ExecuteTime": {
     "end_time": "2020-03-14T11:58:53.546261Z",
     "start_time": "2020-03-14T11:58:53.537257Z"
    }
   },
   "outputs": [],
   "source": [
    "# set difference\n",
    "snakes - languages"
   ]
  },
  {
   "cell_type": "markdown",
   "metadata": {},
   "source": [
    "**Modify a set (does not return the set):**"
   ]
  },
  {
   "cell_type": "code",
   "execution_count": null,
   "metadata": {
    "ExecuteTime": {
     "end_time": "2020-03-14T11:59:29.660151Z",
     "start_time": "2020-03-14T11:59:29.652147Z"
    }
   },
   "outputs": [],
   "source": [
    "# add a new element\n",
    "languages.add('sql')\n",
    "print(languages)\n",
    "print(type(languages))"
   ]
  },
  {
   "cell_type": "code",
   "execution_count": null,
   "metadata": {
    "ExecuteTime": {
     "end_time": "2020-03-14T12:00:09.344769Z",
     "start_time": "2020-03-14T12:00:09.336775Z"
    }
   },
   "outputs": [],
   "source": [
    "# try to add an existing element (ignored, no error)\n",
    "languages.add('r')\n",
    "languages"
   ]
  },
  {
   "cell_type": "code",
   "execution_count": null,
   "metadata": {
    "ExecuteTime": {
     "end_time": "2020-03-14T12:00:19.557565Z",
     "start_time": "2020-03-14T12:00:19.547569Z"
    }
   },
   "outputs": [],
   "source": [
    "# remove an element\n",
    "languages.remove('java')\n",
    "languages"
   ]
  },
  {
   "cell_type": "code",
   "execution_count": null,
   "metadata": {
    "ExecuteTime": {
     "end_time": "2020-03-14T12:00:34.498890Z",
     "start_time": "2020-03-14T12:00:34.480913Z"
    }
   },
   "outputs": [],
   "source": [
    "# try to remove a non-existing element (this would throw an error)\n",
    "languages.remove('c')"
   ]
  },
  {
   "cell_type": "code",
   "execution_count": null,
   "metadata": {
    "ExecuteTime": {
     "end_time": "2020-03-14T12:00:43.505776Z",
     "start_time": "2020-03-14T12:00:43.497778Z"
    }
   },
   "outputs": [],
   "source": [
    "# remove an element if present, but ignored otherwise\n",
    "languages.discard('c')\n",
    "languages"
   ]
  },
  {
   "cell_type": "code",
   "execution_count": null,
   "metadata": {
    "ExecuteTime": {
     "end_time": "2020-03-14T12:01:19.916734Z",
     "start_time": "2020-03-14T12:01:19.909733Z"
    }
   },
   "outputs": [],
   "source": [
    "# remove\n",
    "languages.pop()"
   ]
  },
  {
   "cell_type": "code",
   "execution_count": null,
   "metadata": {
    "ExecuteTime": {
     "end_time": "2020-03-14T12:01:26.060531Z",
     "start_time": "2020-03-14T12:01:26.053519Z"
    }
   },
   "outputs": [],
   "source": [
    "languages.pop()"
   ]
  },
  {
   "cell_type": "code",
   "execution_count": null,
   "metadata": {
    "ExecuteTime": {
     "end_time": "2020-03-14T12:01:30.415099Z",
     "start_time": "2020-03-14T12:01:30.407100Z"
    }
   },
   "outputs": [],
   "source": [
    "# remove all elements\n",
    "languages.clear()\n",
    "languages"
   ]
  },
  {
   "cell_type": "markdown",
   "metadata": {},
   "source": [
    "## Array"
   ]
  },
  {
   "cell_type": "code",
   "execution_count": null,
   "metadata": {
    "ExecuteTime": {
     "end_time": "2020-03-14T12:07:07.612746Z",
     "start_time": "2020-03-14T12:07:07.607744Z"
    }
   },
   "outputs": [],
   "source": [
    "import numpy as np"
   ]
  },
  {
   "cell_type": "code",
   "execution_count": null,
   "metadata": {
    "ExecuteTime": {
     "end_time": "2020-03-14T12:07:31.282958Z",
     "start_time": "2020-03-14T12:07:31.277957Z"
    }
   },
   "outputs": [],
   "source": [
    "ls1=[1,2,3,4]\n",
    "ls2=[5,6,7,8]"
   ]
  },
  {
   "cell_type": "code",
   "execution_count": null,
   "metadata": {
    "ExecuteTime": {
     "end_time": "2020-03-14T12:08:50.370669Z",
     "start_time": "2020-03-14T12:08:50.364669Z"
    }
   },
   "outputs": [],
   "source": [
    "a1=np.array([ls1,ls2])"
   ]
  },
  {
   "cell_type": "code",
   "execution_count": null,
   "metadata": {
    "ExecuteTime": {
     "end_time": "2020-03-14T12:08:55.421474Z",
     "start_time": "2020-03-14T12:08:55.413476Z"
    }
   },
   "outputs": [],
   "source": [
    "a1.shape"
   ]
  },
  {
   "cell_type": "code",
   "execution_count": null,
   "metadata": {
    "ExecuteTime": {
     "end_time": "2020-03-14T12:09:20.196302Z",
     "start_time": "2020-03-14T12:09:20.129300Z"
    }
   },
   "outputs": [],
   "source": [
    "np.mean(a1)"
   ]
  },
  {
   "cell_type": "markdown",
   "metadata": {},
   "source": [
    "## 11. Defining Functions"
   ]
  },
  {
   "cell_type": "markdown",
   "metadata": {},
   "source": [
    "**Define a function with no arguments and no return values:**"
   ]
  },
  {
   "cell_type": "code",
   "execution_count": null,
   "metadata": {
    "ExecuteTime": {
     "end_time": "2020-03-15T10:05:51.295561Z",
     "start_time": "2020-03-15T10:05:51.283563Z"
    }
   },
   "outputs": [],
   "source": [
    "def print_text():\n",
    "    print('this is text')"
   ]
  },
  {
   "cell_type": "code",
   "execution_count": null,
   "metadata": {
    "ExecuteTime": {
     "end_time": "2020-03-15T10:05:56.265409Z",
     "start_time": "2020-03-15T10:05:56.249422Z"
    }
   },
   "outputs": [],
   "source": [
    "# call the function\n",
    "print_text()"
   ]
  },
  {
   "cell_type": "markdown",
   "metadata": {},
   "source": [
    "**Define a function with one argument and no return values:**"
   ]
  },
  {
   "cell_type": "code",
   "execution_count": null,
   "metadata": {
    "ExecuteTime": {
     "end_time": "2020-03-15T10:05:59.930569Z",
     "start_time": "2020-03-15T10:05:59.922562Z"
    }
   },
   "outputs": [],
   "source": [
    "def print_this(x):\n",
    "    print(x)"
   ]
  },
  {
   "cell_type": "code",
   "execution_count": null,
   "metadata": {
    "ExecuteTime": {
     "end_time": "2020-03-15T10:06:01.182013Z",
     "start_time": "2020-03-15T10:06:01.170033Z"
    }
   },
   "outputs": [],
   "source": [
    "# call the function\n",
    "print_this(3)"
   ]
  },
  {
   "cell_type": "code",
   "execution_count": null,
   "metadata": {
    "ExecuteTime": {
     "end_time": "2020-03-15T10:06:02.350436Z",
     "start_time": "2020-03-15T10:06:02.338407Z"
    }
   },
   "outputs": [],
   "source": [
    "# prints 3, but doesn't assign 3 to n because the function has no return statement\n",
    "n = print_this(3)"
   ]
  },
  {
   "cell_type": "code",
   "execution_count": null,
   "metadata": {
    "ExecuteTime": {
     "end_time": "2020-03-15T10:06:19.004156Z",
     "start_time": "2020-03-15T10:06:18.996156Z"
    }
   },
   "outputs": [],
   "source": [
    "n"
   ]
  },
  {
   "cell_type": "markdown",
   "metadata": {},
   "source": [
    "**Define a function with one argument and one return value:**"
   ]
  },
  {
   "cell_type": "code",
   "execution_count": null,
   "metadata": {
    "ExecuteTime": {
     "end_time": "2020-03-15T10:06:46.931599Z",
     "start_time": "2020-03-15T10:06:46.921592Z"
    }
   },
   "outputs": [],
   "source": [
    "def square_this(x):\n",
    "    return x**2"
   ]
  },
  {
   "cell_type": "code",
   "execution_count": null,
   "metadata": {
    "ExecuteTime": {
     "end_time": "2020-03-15T10:06:49.264183Z",
     "start_time": "2020-03-15T10:06:49.256201Z"
    }
   },
   "outputs": [],
   "source": [
    "# include an optional docstring to describe the effect of a function\n",
    "def square_this(x):\n",
    "    \"\"\"Return the square of a number.\"\"\"\n",
    "    return x**2"
   ]
  },
  {
   "cell_type": "code",
   "execution_count": null,
   "metadata": {
    "ExecuteTime": {
     "end_time": "2020-03-15T10:06:50.036465Z",
     "start_time": "2020-03-15T10:06:50.016482Z"
    }
   },
   "outputs": [],
   "source": [
    "# call the function\n",
    "square_this(3)"
   ]
  },
  {
   "cell_type": "code",
   "execution_count": null,
   "metadata": {
    "ExecuteTime": {
     "end_time": "2020-03-15T10:06:55.343130Z",
     "start_time": "2020-03-15T10:06:55.339134Z"
    }
   },
   "outputs": [],
   "source": [
    "# assigns 9 to var, but does not print 9\n",
    "var = square_this(3)"
   ]
  },
  {
   "cell_type": "code",
   "execution_count": null,
   "metadata": {
    "ExecuteTime": {
     "end_time": "2020-03-15T10:06:55.951133Z",
     "start_time": "2020-03-15T10:06:55.939133Z"
    }
   },
   "outputs": [],
   "source": [
    "var"
   ]
  },
  {
   "cell_type": "markdown",
   "metadata": {},
   "source": [
    "**Define a function with two 'positional arguments' (no default values) and one 'keyword argument' (has a default value):**\n"
   ]
  },
  {
   "cell_type": "code",
   "execution_count": null,
   "metadata": {
    "ExecuteTime": {
     "end_time": "2020-03-15T10:08:08.664196Z",
     "start_time": "2020-03-15T10:08:08.652216Z"
    }
   },
   "outputs": [],
   "source": [
    "def calc(a, b, op='add'):\n",
    "    if op == 'add':\n",
    "        return a + b\n",
    "    elif op == 'sub':\n",
    "        return a - b\n",
    "    else:\n",
    "        print('valid operations are add and sub')"
   ]
  },
  {
   "cell_type": "code",
   "execution_count": null,
   "metadata": {
    "ExecuteTime": {
     "end_time": "2020-03-15T10:11:48.992944Z",
     "start_time": "2020-03-15T10:11:48.976965Z"
    }
   },
   "outputs": [],
   "source": [
    "def calc3(op='add',a,b): #Can't have default argument at first location\n",
    "    if op == 'add':\n",
    "        return a + b\n",
    "    elif op == 'sub':\n",
    "        return a - b\n",
    "    else:\n",
    "        print('valid operations are add and sub')"
   ]
  },
  {
   "cell_type": "code",
   "execution_count": null,
   "metadata": {
    "ExecuteTime": {
     "end_time": "2020-03-15T10:08:48.391386Z",
     "start_time": "2020-03-15T10:08:48.383399Z"
    }
   },
   "outputs": [],
   "source": [
    "def calc2(op='add',a=1,b=3):\n",
    "    if op == 'add':\n",
    "        return a + b\n",
    "    elif op == 'sub':\n",
    "        return a - b\n",
    "    else:\n",
    "        print('valid operations are add and sub')"
   ]
  },
  {
   "cell_type": "code",
   "execution_count": null,
   "metadata": {
    "ExecuteTime": {
     "end_time": "2020-03-15T10:08:23.706693Z",
     "start_time": "2020-03-15T10:08:23.689181Z"
    }
   },
   "outputs": [],
   "source": [
    "# call the function\n",
    "calc(10, 4, op='add')"
   ]
  },
  {
   "cell_type": "code",
   "execution_count": null,
   "metadata": {
    "ExecuteTime": {
     "end_time": "2020-03-15T10:11:08.020817Z",
     "start_time": "2020-03-15T10:11:08.008815Z"
    }
   },
   "outputs": [],
   "source": [
    "calc2('sub',4,6)"
   ]
  },
  {
   "cell_type": "code",
   "execution_count": null,
   "metadata": {
    "ExecuteTime": {
     "end_time": "2020-03-15T10:12:04.469869Z",
     "start_time": "2020-03-15T10:12:04.461880Z"
    }
   },
   "outputs": [],
   "source": [
    "# unnamed arguments are inferred by position\n",
    "calc(10, 4, 'add')"
   ]
  },
  {
   "cell_type": "code",
   "execution_count": null,
   "metadata": {
    "ExecuteTime": {
     "end_time": "2020-03-15T10:12:08.851461Z",
     "start_time": "2020-03-15T10:12:08.843467Z"
    }
   },
   "outputs": [],
   "source": [
    "# default for 'op' is 'add'\n",
    "calc(10, 4)"
   ]
  },
  {
   "cell_type": "code",
   "execution_count": null,
   "metadata": {},
   "outputs": [],
   "source": [
    "calc(10, 4, 'sub')"
   ]
  },
  {
   "cell_type": "code",
   "execution_count": null,
   "metadata": {},
   "outputs": [],
   "source": [
    "calc(10, 4, 'div')"
   ]
  },
  {
   "cell_type": "markdown",
   "metadata": {},
   "source": [
    "###### N Named Argument"
   ]
  },
  {
   "cell_type": "code",
   "execution_count": null,
   "metadata": {
    "ExecuteTime": {
     "end_time": "2020-03-15T10:17:08.388943Z",
     "start_time": "2020-03-15T10:17:08.376960Z"
    }
   },
   "outputs": [],
   "source": [
    "def p(a,*b):#n number of prarmeters\n",
    "    print(type(b))\n",
    "    print(a,b)\n",
    "    \n",
    "p(1,2,3)"
   ]
  },
  {
   "cell_type": "code",
   "execution_count": null,
   "metadata": {
    "ExecuteTime": {
     "end_time": "2020-03-15T10:17:45.730469Z",
     "start_time": "2020-03-15T10:17:45.722466Z"
    }
   },
   "outputs": [],
   "source": [
    "p(1,2,'s')"
   ]
  },
  {
   "cell_type": "code",
   "execution_count": null,
   "metadata": {
    "ExecuteTime": {
     "end_time": "2020-03-15T10:19:12.931771Z",
     "start_time": "2020-03-15T10:19:12.923794Z"
    }
   },
   "outputs": [],
   "source": [
    "def p2(a,*b):\n",
    "    ls=[]\n",
    "    ls.append(a)\n",
    "    ls.append(b)\n",
    "    print(ls)\n",
    "    "
   ]
  },
  {
   "cell_type": "code",
   "execution_count": null,
   "metadata": {
    "ExecuteTime": {
     "end_time": "2020-03-15T10:18:30.135534Z",
     "start_time": "2020-03-15T10:18:30.127536Z"
    }
   },
   "outputs": [],
   "source": [
    "p2(1,2,3,4,'s')"
   ]
  },
  {
   "cell_type": "code",
   "execution_count": null,
   "metadata": {
    "ExecuteTime": {
     "end_time": "2020-03-15T10:20:35.344657Z",
     "start_time": "2020-03-15T10:20:35.336659Z"
    }
   },
   "outputs": [],
   "source": [
    "def p2(a,*b):\n",
    "    ls=[]\n",
    "    ls.append(a)\n",
    "    ls.extend(list(b))\n",
    "    print(ls)\n"
   ]
  },
  {
   "cell_type": "code",
   "execution_count": null,
   "metadata": {
    "ExecuteTime": {
     "end_time": "2020-03-15T10:20:35.932931Z",
     "start_time": "2020-03-15T10:20:35.924945Z"
    }
   },
   "outputs": [],
   "source": [
    "p2(1,2,3,4,5,'s')"
   ]
  },
  {
   "cell_type": "markdown",
   "metadata": {},
   "source": [
    "###### N unnamed argument"
   ]
  },
  {
   "cell_type": "code",
   "execution_count": null,
   "metadata": {
    "ExecuteTime": {
     "end_time": "2020-03-15T10:39:57.172407Z",
     "start_time": "2020-03-15T10:39:57.160410Z"
    }
   },
   "outputs": [],
   "source": [
    "def p3(a,**b): \n",
    "    ls=[]\n",
    "    ls2=[]\n",
    "    ls.append(a)\n",
    "    ls2.extend(list(b.values()))\n",
    "    ls.extend(list(b.items()))\n",
    "    print(ls)\n",
    "    print('values:{}'.format(ls2))\n",
    "    print('Keys:{}'.format(b.keys()))\n"
   ]
  },
  {
   "cell_type": "code",
   "execution_count": null,
   "metadata": {
    "ExecuteTime": {
     "end_time": "2020-03-15T10:39:57.740408Z",
     "start_time": "2020-03-15T10:39:57.732410Z"
    }
   },
   "outputs": [],
   "source": [
    "p3(2,**{'x':10,'b':20,'c':'sachin'})"
   ]
  },
  {
   "cell_type": "markdown",
   "metadata": {},
   "source": [
    "**Use `pass` as a placeholder if you haven't written the function body:**"
   ]
  },
  {
   "cell_type": "code",
   "execution_count": null,
   "metadata": {
    "ExecuteTime": {
     "end_time": "2020-03-15T10:41:43.394963Z",
     "start_time": "2020-03-15T10:41:43.386964Z"
    }
   },
   "outputs": [],
   "source": [
    "def stub():\n",
    "    pass"
   ]
  },
  {
   "cell_type": "markdown",
   "metadata": {},
   "source": [
    "**Return two values from a single function:**"
   ]
  },
  {
   "cell_type": "code",
   "execution_count": null,
   "metadata": {
    "ExecuteTime": {
     "end_time": "2020-03-15T10:43:04.871676Z",
     "start_time": "2020-03-15T10:43:04.863675Z"
    }
   },
   "outputs": [],
   "source": [
    "def min_max(nums):\n",
    "    return min(nums), max(nums)"
   ]
  },
  {
   "cell_type": "code",
   "execution_count": null,
   "metadata": {
    "ExecuteTime": {
     "end_time": "2020-03-15T10:43:05.256552Z",
     "start_time": "2020-03-15T10:43:05.244562Z"
    }
   },
   "outputs": [],
   "source": [
    "# return values can be assigned to a single variable as a tuple\n",
    "nums = [1, 2, 3]\n",
    "min_max_num = min_max(nums)\n",
    "min_max_num"
   ]
  },
  {
   "cell_type": "code",
   "execution_count": null,
   "metadata": {
    "ExecuteTime": {
     "end_time": "2020-03-15T10:43:06.547550Z",
     "start_time": "2020-03-15T10:43:06.537527Z"
    }
   },
   "outputs": [],
   "source": [
    "# return values can be assigned into multiple variables using tuple unpacking\n",
    "min_num, max_num = min_max(nums)\n",
    "print(min_num)\n",
    "print(max_num)"
   ]
  },
  {
   "cell_type": "markdown",
   "metadata": {},
   "source": [
    "## 12. Anonymous (Lambda) Functions\n",
    "\n",
    "- Primarily used to temporarily define a function for use by another function"
   ]
  },
  {
   "cell_type": "code",
   "execution_count": null,
   "metadata": {
    "ExecuteTime": {
     "end_time": "2020-03-15T11:35:10.963086Z",
     "start_time": "2020-03-15T11:35:10.955103Z"
    }
   },
   "outputs": [],
   "source": [
    "# define a function the \"usual\" way\n",
    "def squared(x):\n",
    "    return x**2"
   ]
  },
  {
   "cell_type": "code",
   "execution_count": null,
   "metadata": {
    "ExecuteTime": {
     "end_time": "2020-03-15T11:35:11.395082Z",
     "start_time": "2020-03-15T11:35:11.387083Z"
    }
   },
   "outputs": [],
   "source": [
    "# define an identical function using lambda\n",
    "squared = lambda x: x**2"
   ]
  },
  {
   "cell_type": "markdown",
   "metadata": {},
   "source": [
    "**Sort a list of strings by the last letter:**"
   ]
  },
  {
   "cell_type": "code",
   "execution_count": null,
   "metadata": {
    "ExecuteTime": {
     "end_time": "2020-03-15T11:35:12.822381Z",
     "start_time": "2020-03-15T11:35:12.810401Z"
    }
   },
   "outputs": [],
   "source": [
    "last_letter('sachin')"
   ]
  },
  {
   "cell_type": "code",
   "execution_count": null,
   "metadata": {
    "ExecuteTime": {
     "end_time": "2020-03-15T11:35:13.904071Z",
     "start_time": "2020-03-15T11:35:13.896076Z"
    }
   },
   "outputs": [],
   "source": [
    "ls=[1,2,3]\n",
    "sum(ls)"
   ]
  },
  {
   "cell_type": "code",
   "execution_count": null,
   "metadata": {
    "ExecuteTime": {
     "end_time": "2020-03-15T11:35:15.190264Z",
     "start_time": "2020-03-15T11:35:15.174269Z"
    }
   },
   "outputs": [],
   "source": [
    "# without using lambda\n",
    "lang = ['python', 'r', 'java']\n",
    "\n",
    "def last_letter(word):\n",
    "    return word[-1]\n",
    "\n",
    "sorted(lang, key=last_letter)"
   ]
  },
  {
   "cell_type": "code",
   "execution_count": null,
   "metadata": {
    "ExecuteTime": {
     "end_time": "2020-03-15T11:35:17.174492Z",
     "start_time": "2020-03-15T11:35:17.166495Z"
    }
   },
   "outputs": [],
   "source": [
    "# using lambda\n",
    "sorted(lang, key=lambda word: word[-1])"
   ]
  },
  {
   "cell_type": "code",
   "execution_count": null,
   "metadata": {
    "ExecuteTime": {
     "end_time": "2020-03-15T11:35:18.100118Z",
     "start_time": "2020-03-15T11:35:18.092131Z"
    }
   },
   "outputs": [],
   "source": [
    "ls=[1,2,3,4,5,6]"
   ]
  },
  {
   "cell_type": "code",
   "execution_count": null,
   "metadata": {
    "ExecuteTime": {
     "end_time": "2020-03-15T11:35:18.804136Z",
     "start_time": "2020-03-15T11:35:18.792120Z"
    }
   },
   "outputs": [],
   "source": [
    "list(filter(lambda x:(x%2==0),ls))"
   ]
  },
  {
   "cell_type": "markdown",
   "metadata": {},
   "source": [
    "### Filter Function"
   ]
  },
  {
   "cell_type": "code",
   "execution_count": null,
   "metadata": {
    "ExecuteTime": {
     "end_time": "2020-04-02T17:06:39.103184Z",
     "start_time": "2020-04-02T17:06:39.097205Z"
    }
   },
   "outputs": [],
   "source": [
    "mylst = [5,7,22,97,54,62,77,23,73,60]\n",
    "oddlst = list(filter(lambda x : (x%2 != 0), mylst))\n",
    "evenTuple = tuple(filter(lambda x : (x%2 == 0), mylst))\n",
    "print(\"type of oddlst :\", type(oddlst))\n",
    "print(\"Odd List :\", oddlst)\n",
    "print(\"type of evenlst :\", type(evenTuple))\n",
    "print(\"Even Tuple :\", evenTuple)"
   ]
  },
  {
   "cell_type": "code",
   "execution_count": null,
   "metadata": {
    "ExecuteTime": {
     "end_time": "2020-04-02T17:06:55.075794Z",
     "start_time": "2020-04-02T17:06:55.070809Z"
    }
   },
   "outputs": [],
   "source": [
    "Alphabet = ['g', 'e', 'e', 'j', 'k', 'i', 'p', 'u']\n",
    "\n",
    "g = list(filter(None, Alphabet))\n",
    "print('g :', g)\n",
    "print('type of g :', type(g))"
   ]
  },
  {
   "cell_type": "code",
   "execution_count": null,
   "metadata": {
    "ExecuteTime": {
     "end_time": "2020-04-02T17:07:06.985005Z",
     "start_time": "2020-04-02T17:07:06.980020Z"
    }
   },
   "outputs": [],
   "source": [
    "Lst = [True, True, False, 9, 'abc', 0, None, True]\n",
    "\n",
    "g = list(filter(None, Lst))\n",
    "print('g :', g)\n",
    "print('type of g :', type(g))"
   ]
  },
  {
   "cell_type": "code",
   "execution_count": null,
   "metadata": {
    "ExecuteTime": {
     "end_time": "2020-04-02T17:07:23.907225Z",
     "start_time": "2020-04-02T17:07:23.885283Z"
    }
   },
   "outputs": [],
   "source": [
    "def Vowel(var): \n",
    "    print('value of var', var)\n",
    " #   print('type of var', type(var))\n",
    "    letters = ['a', 'e', 'i', 'o', 'u'] \n",
    "    if (var in letters): \n",
    "        return True\n",
    "    else: \n",
    "        return False\n",
    "\n",
    "##### main()\n",
    "Alphabet = ['g', 'e', 'e', 'j', 'k', 'i', 'p', 'u']\n",
    "\"\"\"\"\n",
    "g = list(filter(Vowel, Alphabet))\n",
    "print('g :', g)\n",
    "print('type of g :', type(g))\n",
    "for x in g: \n",
    "    print(x)\n",
    "print('----------------')\n",
    "\"\"\"\n",
    "f = filter(Vowel, Alphabet)\n",
    "print('f :', f)\n",
    "print('type of f :', type(f))\n",
    "#for x in f: \n",
    " #   print(x)\n",
    "print(f.__next__())\n",
    "print(f.__next__())\n",
    "print(f.__next__())\n",
    "print(f.__next__())"
   ]
  },
  {
   "cell_type": "markdown",
   "metadata": {},
   "source": [
    "### Reduce Function"
   ]
  },
  {
   "cell_type": "code",
   "execution_count": null,
   "metadata": {
    "ExecuteTime": {
     "end_time": "2020-04-02T17:08:10.705376Z",
     "start_time": "2020-04-02T17:08:10.701353Z"
    }
   },
   "outputs": [],
   "source": [
    "import functools\n",
    "def mult(x,y):\n",
    "    print(\"x=\",x, \" y=\",y)\n",
    "    return x*y\n",
    "\n",
    "fact=functools.reduce(mult, range(1, 4))\n",
    "print ('Factorial of 3: ', fact)``"
   ]
  },
  {
   "cell_type": "markdown",
   "metadata": {},
   "source": [
    "### Map Function"
   ]
  },
  {
   "cell_type": "code",
   "execution_count": null,
   "metadata": {},
   "outputs": [],
   "source": [
    "lang = ['python', 'java', 'scala']\n",
    "ls=list(map(len, lang))\n",
    "print(ls)"
   ]
  },
  {
   "cell_type": "code",
   "execution_count": null,
   "metadata": {
    "ExecuteTime": {
     "end_time": "2020-04-02T17:12:12.803081Z",
     "start_time": "2020-04-02T17:12:12.792111Z"
    }
   },
   "outputs": [],
   "source": [
    "ls1=[1,2,3]\n",
    "power=[1,2,300]\n",
    "list(map(pow,ls1,power))"
   ]
  },
  {
   "cell_type": "markdown",
   "metadata": {},
   "source": [
    "## 13. For Loops and While Loops"
   ]
  },
  {
   "cell_type": "markdown",
   "metadata": {},
   "source": [
    "**`for` loops:**"
   ]
  },
  {
   "cell_type": "code",
   "execution_count": 46,
   "metadata": {
    "ExecuteTime": {
     "end_time": "2020-04-03T07:29:33.674357Z",
     "start_time": "2020-04-03T07:29:33.666375Z"
    }
   },
   "outputs": [
    {
     "name": "stdout",
     "output_type": "stream",
     "text": [
      "APPLE\n",
      "BANANA\n",
      "CHERRY\n"
     ]
    }
   ],
   "source": [
    "# not the recommended style\n",
    "fruits = ['apple', 'banana', 'cherry']\n",
    "for i in range(len(fruits)): #Generate 0,1,2,3 but 3 is exclusive\n",
    "    print(fruits[i].upper())"
   ]
  },
  {
   "cell_type": "code",
   "execution_count": null,
   "metadata": {
    "ExecuteTime": {
     "end_time": "2020-03-15T11:42:38.219019Z",
     "start_time": "2020-03-15T11:42:38.211016Z"
    }
   },
   "outputs": [],
   "source": [
    "# recommended style\n",
    "for fruit in fruits:\n",
    "    print(fruit.upper())"
   ]
  },
  {
   "cell_type": "code",
   "execution_count": null,
   "metadata": {
    "ExecuteTime": {
     "end_time": "2020-03-15T11:42:38.791021Z",
     "start_time": "2020-03-15T11:42:38.783021Z"
    }
   },
   "outputs": [],
   "source": [
    "# iterate through two things at once\n",
    "family = {'dad':'homer', 'mom':'marge', 'size':6}\n",
    "for key, value in family.items():\n",
    "    print(key, value)"
   ]
  },
  {
   "cell_type": "code",
   "execution_count": null,
   "metadata": {
    "ExecuteTime": {
     "end_time": "2020-03-15T11:42:39.707176Z",
     "start_time": "2020-03-15T11:42:39.699179Z"
    }
   },
   "outputs": [],
   "source": [
    "# use enumerate if you need to access the index value within the loop\n",
    "for index, fruit in enumerate(fruits):\n",
    "    print(index, fruit)"
   ]
  },
  {
   "cell_type": "markdown",
   "metadata": {},
   "source": [
    "**`for`/`else` loop:**"
   ]
  },
  {
   "cell_type": "code",
   "execution_count": 49,
   "metadata": {
    "ExecuteTime": {
     "end_time": "2020-04-03T07:30:24.520920Z",
     "start_time": "2020-04-03T07:30:24.512857Z"
    }
   },
   "outputs": [
    {
     "name": "stdout",
     "output_type": "stream",
     "text": [
      "Found the banana!\n"
     ]
    }
   ],
   "source": [
    "for fruit in fruits:\n",
    "    if fruit == 'banana':\n",
    "        print('Found the banana!')\n",
    "        break    # exit the loop and skip the 'else' block\n",
    "else:\n",
    "    # this block executes ONLY if the for loop completes without hitting 'break'\n",
    "    print(\"Can't find the banana\")"
   ]
  },
  {
   "cell_type": "markdown",
   "metadata": {},
   "source": [
    "**`while` loop:**"
   ]
  },
  {
   "cell_type": "code",
   "execution_count": null,
   "metadata": {
    "ExecuteTime": {
     "end_time": "2020-03-15T11:45:41.295783Z",
     "start_time": "2020-03-15T11:45:41.287781Z"
    }
   },
   "outputs": [],
   "source": [
    "count = 0\n",
    "while count < 5:\n",
    "    print('This will print 5 times')\n",
    "    count += 1    # equivalent to 'count = count + 1'"
   ]
  },
  {
   "cell_type": "markdown",
   "metadata": {},
   "source": [
    "## 14. Comprehensions"
   ]
  },
  {
   "cell_type": "markdown",
   "metadata": {},
   "source": [
    "**List comprehension:**"
   ]
  },
  {
   "cell_type": "code",
   "execution_count": null,
   "metadata": {
    "ExecuteTime": {
     "end_time": "2020-03-15T11:52:01.485705Z",
     "start_time": "2020-03-15T11:52:01.470705Z"
    }
   },
   "outputs": [],
   "source": [
    "# for loop to create a list of cubes\n",
    "nums = [1, 2, 3, 4, 5]\n",
    "cubes = []\n",
    "for num in nums:\n",
    "    cubes.append(num**3)\n",
    "cubes"
   ]
  },
  {
   "cell_type": "code",
   "execution_count": null,
   "metadata": {
    "ExecuteTime": {
     "end_time": "2020-03-15T11:53:12.217850Z",
     "start_time": "2020-03-15T11:53:12.207851Z"
    }
   },
   "outputs": [],
   "source": [
    "# equivalent list comprehension\n",
    "cubes = [num**3 for num in nums if num>2]\n",
    "cubes"
   ]
  },
  {
   "cell_type": "code",
   "execution_count": null,
   "metadata": {
    "ExecuteTime": {
     "end_time": "2020-03-15T11:54:45.280334Z",
     "start_time": "2020-03-15T11:54:45.270339Z"
    }
   },
   "outputs": [],
   "source": [
    "# for loop to create a list of cubes of even numbers\n",
    "cubes_of_even = []\n",
    "for num in nums:\n",
    "    if num % 2 == 0:\n",
    "        cubes_of_even.append(num**3)\n",
    "cubes_of_even"
   ]
  },
  {
   "cell_type": "code",
   "execution_count": null,
   "metadata": {
    "ExecuteTime": {
     "end_time": "2020-03-15T11:54:47.018559Z",
     "start_time": "2020-03-15T11:54:47.008568Z"
    }
   },
   "outputs": [],
   "source": [
    "# equivalent list comprehension\n",
    "# syntax: [expression for variable in iterable if condition]\n",
    "cubes_of_even = [num**3 for num in nums if num % 2 == 0]\n",
    "cubes_of_even"
   ]
  },
  {
   "cell_type": "code",
   "execution_count": null,
   "metadata": {
    "ExecuteTime": {
     "end_time": "2020-03-15T11:55:25.513963Z",
     "start_time": "2020-03-15T11:55:25.499966Z"
    }
   },
   "outputs": [],
   "source": [
    "# for loop to cube even numbers and square odd numbers\n",
    "cubes_and_squares = []\n",
    "for num in nums:\n",
    "    if num % 2 == 0:\n",
    "        cubes_and_squares.append(num**3)\n",
    "    else:\n",
    "        cubes_and_squares.append(num**2)\n",
    "cubes_and_squares"
   ]
  },
  {
   "cell_type": "code",
   "execution_count": null,
   "metadata": {
    "ExecuteTime": {
     "end_time": "2020-03-15T11:56:46.785888Z",
     "start_time": "2020-03-15T11:56:46.775891Z"
    }
   },
   "outputs": [],
   "source": [
    "'Even' if num % 2 == 0 else 'odd'"
   ]
  },
  {
   "cell_type": "code",
   "execution_count": null,
   "metadata": {
    "ExecuteTime": {
     "end_time": "2020-03-15T11:57:42.448585Z",
     "start_time": "2020-03-15T11:57:42.439591Z"
    }
   },
   "outputs": [],
   "source": [
    "# equivalent list comprehension (using a ternary expression)\n",
    "# syntax: [true_condition if condition else false_condition for variable in iterable]\n",
    "cubes_and_squares = [num**3 if num % 2 == 0 else num**2 for num in nums]\n",
    "cubes_and_squares"
   ]
  },
  {
   "cell_type": "markdown",
   "metadata": {},
   "source": [
    "Exercise\n",
    "\n",
    "In cryptography, a Caesar cipher is a very simple encryption techniques in which each letter in the plain text is replaced by a letter some fixed number of positions down the alphabet. For example, with a shift of 3, A would be replaced by D, B would become E, and so on. The method is named after Julius Caesar, who used it to communicate with his generals. ROT-13 (\"rotate by 13 places\") is a widely used example of a Caesar cipher where the shift is 13. In Python, the key for ROT-13 may be represented by means of the following dictionary:\n",
    "\n",
    "key = {'a':'n', 'b':'o', 'c':'p', 'd':'q', 'e':'r', 'f':'s', 'g':'t', 'h':'u', 'i':'v', 'j':'w', 'k':'x', 'l':'y', 'm':'z', 'n':'a', 'o':'b', 'p':'c', 'q':'d', 'r':'e', 's':'f', 't':'g', 'u':'h', 'v':'i', 'w':'j', 'x':'k', 'y':'l', 'z':'m', 'A':'N', 'B':'O', 'C':'P', 'D':'Q', 'E':'R', 'F':'S', 'G':'T', 'H':'U', 'I':'V', 'J':'W', 'K':'X', 'L':'Y', 'M':'Z', 'N':'A', 'O':'B', 'P':'C', 'Q':'D', 'R':'E', 'S':'F', 'T':'G', 'U':'H', 'V':'I', 'W':'J', 'X':'K', 'Y':'L', 'Z':'M'}\n",
    "\n",
    "Your task in this exercise is to implement an encoder/decoder of ROT-13. Once you're done, you will be able to read the following secret message:\n",
    "\n",
    "Pnrfne pvcure zrgubq vf anzrq nsgre Whyvhf Pnrfne!\n",
    "\n",
    "Note that since English has 26 characters, your ROT-13 program will be able to both encode and decode texts written in English."
   ]
  },
  {
   "cell_type": "code",
   "execution_count": null,
   "metadata": {
    "ExecuteTime": {
     "end_time": "2020-03-15T12:00:11.929789Z",
     "start_time": "2020-03-15T12:00:11.907799Z"
    }
   },
   "outputs": [],
   "source": [
    "key = {'a':'n', 'b':'o', 'c':'p', 'd':'q', 'e':'r', 'f':'s', 'g':'t', 'h':'u', 'i':'v', 'j':'w', 'k':'x', 'l':'y', 'm':'z', 'n':'a', 'o':'b', 'p':'c', 'q':'d', 'r':'e', 's':'f', 't':'g', 'u':'h', 'v':'i', 'w':'j', 'x':'k', 'y':'l', 'z':'m', 'A':'N', 'B':'O', 'C':'P', 'D':'Q', 'E':'R', 'F':'S', 'G':'T', 'H':'U', 'I':'V', 'J':'W', 'K':'X', 'L':'Y', 'M':'Z', 'N':'A', 'O':'B', 'P':'C', 'Q':'D', 'R':'E', 'S':'F', 'T':'G', 'U':'H', 'V':'I', 'W':'J', 'X':'K', 'Y':'L', 'Z':'M'}"
   ]
  },
  {
   "cell_type": "code",
   "execution_count": null,
   "metadata": {
    "ExecuteTime": {
     "end_time": "2020-03-15T12:01:13.985781Z",
     "start_time": "2020-03-15T12:01:13.980793Z"
    }
   },
   "outputs": [],
   "source": [
    "msg='Pnrfne pvcure zrgubq vf anzrq nsgre Whyvhf Pnrfne!'"
   ]
  },
  {
   "cell_type": "code",
   "execution_count": null,
   "metadata": {
    "ExecuteTime": {
     "end_time": "2020-03-15T12:16:00.265769Z",
     "start_time": "2020-03-15T12:16:00.257762Z"
    }
   },
   "outputs": [],
   "source": [
    "ls=msg.split()"
   ]
  },
  {
   "cell_type": "code",
   "execution_count": null,
   "metadata": {
    "ExecuteTime": {
     "end_time": "2020-03-15T12:16:05.538550Z",
     "start_time": "2020-03-15T12:16:05.530559Z"
    }
   },
   "outputs": [],
   "source": [
    "ls"
   ]
  },
  {
   "cell_type": "code",
   "execution_count": null,
   "metadata": {
    "ExecuteTime": {
     "end_time": "2020-03-15T12:23:55.591105Z",
     "start_time": "2020-03-15T12:23:55.579088Z"
    }
   },
   "outputs": [],
   "source": [
    "''.join([' ' if i==' 'else '!' if i=='!' else key[i] for i in msg])"
   ]
  },
  {
   "cell_type": "markdown",
   "metadata": {},
   "source": [
    "**Set comprehension:**"
   ]
  },
  {
   "cell_type": "code",
   "execution_count": null,
   "metadata": {
    "ExecuteTime": {
     "end_time": "2020-03-15T12:26:18.276034Z",
     "start_time": "2020-03-15T12:26:18.260030Z"
    }
   },
   "outputs": [],
   "source": [
    "fruits = ['apple', 'banana', 'cherry']\n",
    "unique_lengths = {len(fruit) for fruit in fruits}\n",
    "unique_lengths"
   ]
  },
  {
   "cell_type": "markdown",
   "metadata": {},
   "source": [
    "**Dictionary comprehension:**"
   ]
  },
  {
   "cell_type": "code",
   "execution_count": null,
   "metadata": {
    "ExecuteTime": {
     "end_time": "2020-03-15T12:26:20.232036Z",
     "start_time": "2020-03-15T12:26:20.220031Z"
    }
   },
   "outputs": [],
   "source": [
    "fruit_lengths = {fruit:len(fruit) for fruit in fruits}\n",
    "fruit_lengths"
   ]
  },
  {
   "cell_type": "code",
   "execution_count": null,
   "metadata": {},
   "outputs": [],
   "source": [
    "fruit_indices = {fruit:index for index, fruit in enumerate(fruits)}\n",
    "fruit_indices"
   ]
  },
  {
   "cell_type": "markdown",
   "metadata": {},
   "source": [
    "## 15. Map and Filter"
   ]
  },
  {
   "cell_type": "markdown",
   "metadata": {},
   "source": [
    "**`map` applies a function to every element of a sequence and returns a list**"
   ]
  },
  {
   "cell_type": "code",
   "execution_count": null,
   "metadata": {
    "ExecuteTime": {
     "end_time": "2020-03-22T08:54:49.540735Z",
     "start_time": "2020-03-22T08:54:49.532755Z"
    }
   },
   "outputs": [],
   "source": [
    "lang = ['python', 'java', 'scala']\n",
    "ls=list(map(len, lang))\n",
    "print(ls)"
   ]
  },
  {
   "cell_type": "code",
   "execution_count": null,
   "metadata": {},
   "outputs": [],
   "source": [
    "pow()"
   ]
  },
  {
   "cell_type": "code",
   "execution_count": null,
   "metadata": {
    "ExecuteTime": {
     "end_time": "2020-03-22T08:55:20.990380Z",
     "start_time": "2020-03-22T08:55:20.978382Z"
    }
   },
   "outputs": [],
   "source": [
    "ls1=[1,2,3]"
   ]
  },
  {
   "cell_type": "code",
   "execution_count": null,
   "metadata": {
    "ExecuteTime": {
     "end_time": "2020-03-22T08:55:34.589775Z",
     "start_time": "2020-03-22T08:55:34.565774Z"
    }
   },
   "outputs": [],
   "source": [
    "power=[1,2,300]\n",
    "list(map(pow,ls1,power))"
   ]
  },
  {
   "cell_type": "code",
   "execution_count": null,
   "metadata": {
    "ExecuteTime": {
     "end_time": "2020-03-15T11:28:16.931360Z",
     "start_time": "2020-03-15T11:28:16.919378Z"
    }
   },
   "outputs": [],
   "source": [
    "# equivalent list comprehension\n",
    "[len(word) for word in lang]"
   ]
  },
  {
   "cell_type": "code",
   "execution_count": null,
   "metadata": {},
   "outputs": [],
   "source": [
    "map(lambda word: word[-1], lang)"
   ]
  },
  {
   "cell_type": "code",
   "execution_count": null,
   "metadata": {},
   "outputs": [],
   "source": [
    "# equivalent list comprehension\n",
    "[word[-1] for word in lang]"
   ]
  },
  {
   "cell_type": "markdown",
   "metadata": {},
   "source": [
    "**`filter` returns a list (Python 2) or iterator (Python 3) containing the elements from a sequence for which a condition is `True`:**"
   ]
  },
  {
   "cell_type": "code",
   "execution_count": null,
   "metadata": {},
   "outputs": [],
   "source": [
    "nums = range(5)\n",
    "filter(lambda x: x % 2 == 0, nums)"
   ]
  },
  {
   "cell_type": "code",
   "execution_count": null,
   "metadata": {},
   "outputs": [],
   "source": [
    "nums = range(5)\n",
    "filter(lambda x: x % 2 == 0, nums)"
   ]
  },
  {
   "cell_type": "code",
   "execution_count": null,
   "metadata": {},
   "outputs": [],
   "source": [
    "# equivalent list comprehension\n",
    "[num for num in nums if num % 2 == 0]"
   ]
  },
  {
   "cell_type": "markdown",
   "metadata": {},
   "source": [
    "# Exercise"
   ]
  },
  {
   "cell_type": "markdown",
   "metadata": {
    "ExecuteTime": {
     "end_time": "2020-03-22T08:59:48.927829Z",
     "start_time": "2020-03-22T08:59:48.907834Z"
    }
   },
   "source": [
    "**Question 1: Write a Python program to print the following string in a specific format**\n",
    "\n",
    "Sample String : \"Twinkle, twinkle, little star, How I wonder what you are! Up above the world so high, Like a diamond in the sky. Twinkle, twinkle, little star, How I wonder what you are\"\n",
    "<br><br>\n",
    "Formatted Output\n",
    "<pre>Twinkle, twinkle, little star,\n",
    "    How I wonder what you are! \n",
    "        Up above the world so high, \n",
    "    Like a diamond in the sky. \n",
    "        Twinkle, twinkle, little star, \n",
    "    How I wonder what you are<pre>\n",
    "    "
   ]
  },
  {
   "cell_type": "code",
   "execution_count": null,
   "metadata": {},
   "outputs": [],
   "source": [
    "#Solution\n",
    "\n",
    "print('''Twinkle, twinkle, little star,\n",
    "    How I wonder what you are! \n",
    "        Up above the world so high, \n",
    "    Like a diamond in the sky. \n",
    "        Twinkle, twinkle, little star, \n",
    "    How I wonder what you are''')\n"
   ]
  },
  {
   "cell_type": "markdown",
   "metadata": {},
   "source": [
    "**Question 2: Write a Python program which accepts the radius of a circle from the user and compute the area.  ** <br>\n",
    "Sample Input & Output : <br>\n",
    "r = 1.1 <br>\n",
    "Area = 3.8013271108436504"
   ]
  },
  {
   "cell_type": "code",
   "execution_count": null,
   "metadata": {},
   "outputs": [],
   "source": [
    "def circle_Redius(radius):\n",
    "    Area=3.14*radius**2\n",
    "    return Area"
   ]
  },
  {
   "cell_type": "code",
   "execution_count": null,
   "metadata": {},
   "outputs": [],
   "source": [
    "radius=float(input(\"Enter the value\"))\n",
    "print(type(radius))\n",
    "print('Area:={}'.format(circle_Redius(radius)))"
   ]
  },
  {
   "cell_type": "markdown",
   "metadata": {},
   "source": [
    "** Question 3: Write a Python program to get the difference between a given number and 17, if the number is greater than 17 return double the absolute difference.**"
   ]
  },
  {
   "cell_type": "code",
   "execution_count": null,
   "metadata": {},
   "outputs": [],
   "source": [
    "def fun_def(x):\n",
    "    if x>17:\n",
    "        return (2*(x-17))\n",
    "    else:\n",
    "        return (17-x)"
   ]
  },
  {
   "cell_type": "code",
   "execution_count": null,
   "metadata": {},
   "outputs": [],
   "source": [
    "x=int(input(\"Enter the number\"))\n",
    "opt=fun_def(x)\n",
    "print(opt)"
   ]
  },
  {
   "cell_type": "markdown",
   "metadata": {},
   "source": [
    "** Question 4: Write a Python program to find whether a given number (accept from the user) is even or odd, print out an appropriate message to the user. **"
   ]
  },
  {
   "cell_type": "code",
   "execution_count": null,
   "metadata": {},
   "outputs": [],
   "source": [
    "def evn_odd(x):\n",
    "    if x%2==0:\n",
    "        return \"even\"\n",
    "    else:\n",
    "        return \"odd\""
   ]
  },
  {
   "cell_type": "code",
   "execution_count": null,
   "metadata": {},
   "outputs": [],
   "source": [
    "x=int(input(\"Enter the number:=\"))\n",
    "opt=evn_odd(x)\n",
    "print(opt)"
   ]
  },
  {
   "cell_type": "markdown",
   "metadata": {},
   "source": [
    "** Question 5: Write a Python program to count the number in a given list**\n",
    "    \n"
   ]
  },
  {
   "cell_type": "code",
   "execution_count": null,
   "metadata": {},
   "outputs": [],
   "source": [
    "a=[1,2,3,4,5,5,4,4,4,4]"
   ]
  },
  {
   "cell_type": "code",
   "execution_count": null,
   "metadata": {},
   "outputs": [],
   "source": [
    "a.count(4)"
   ]
  },
  {
   "cell_type": "code",
   "execution_count": null,
   "metadata": {},
   "outputs": [],
   "source": [
    "def count_no(ls,no):\n",
    "    count=0\n",
    "    for i in ls:\n",
    "        if i==no:\n",
    "            count+=1\n",
    "    return count\n",
    "            "
   ]
  },
  {
   "cell_type": "code",
   "execution_count": null,
   "metadata": {},
   "outputs": [],
   "source": [
    "x=int(input(\"Enter the number:=\"))\n",
    "opt=count_no(a,x)\n",
    "print(opt)"
   ]
  },
  {
   "cell_type": "markdown",
   "metadata": {},
   "source": [
    "** Question 6 : Write a Python program to count the number of even and odd numbers from a series of numbers. Go to the editor ** <br>\n",
    "Sample numbers : numbers = (1, 2, 3, 4, 5, 6, 7, 8, 9)  <br>\n",
    "Expected Output :  <br>\n",
    "Number of even numbers : 5 <br>\n",
    "Number of odd numbers : 4 <br>"
   ]
  },
  {
   "cell_type": "code",
   "execution_count": null,
   "metadata": {},
   "outputs": [],
   "source": [
    "ls=[1, 2, 3, 4, 5, 6, 7, 8, 9]"
   ]
  },
  {
   "cell_type": "code",
   "execution_count": null,
   "metadata": {},
   "outputs": [],
   "source": [
    "def count_evn_od(ls):\n",
    "    even,odd=0,0\n",
    "    for i in ls:\n",
    "        if i%2==0:\n",
    "            even+=1\n",
    "        else:\n",
    "            odd+=1\n",
    "    return even,odd\n",
    "            "
   ]
  },
  {
   "cell_type": "code",
   "execution_count": null,
   "metadata": {},
   "outputs": [],
   "source": [
    "even,odd=count_evn_od(ls)\n",
    "print(\"Number of even numbers :{} \\n Number of odd numbers: {}\".format(even,odd))"
   ]
  },
  {
   "cell_type": "code",
   "execution_count": null,
   "metadata": {},
   "outputs": [],
   "source": []
  }
 ],
 "metadata": {
  "kernelspec": {
   "display_name": "Python 3",
   "language": "python",
   "name": "python3"
  },
  "language_info": {
   "codemirror_mode": {
    "name": "ipython",
    "version": 3
   },
   "file_extension": ".py",
   "mimetype": "text/x-python",
   "name": "python",
   "nbconvert_exporter": "python",
   "pygments_lexer": "ipython3",
   "version": "3.7.4"
  },
  "toc": {
   "base_numbering": 1,
   "nav_menu": {},
   "number_sections": true,
   "sideBar": true,
   "skip_h1_title": false,
   "title_cell": "Table of Contents",
   "title_sidebar": "Contents",
   "toc_cell": false,
   "toc_position": {
    "height": "calc(100% - 180px)",
    "left": "10px",
    "top": "150px",
    "width": "300.15px"
   },
   "toc_section_display": true,
   "toc_window_display": true
  },
  "varInspector": {
   "cols": {
    "lenName": 16,
    "lenType": 16,
    "lenVar": 40
   },
   "kernels_config": {
    "python": {
     "delete_cmd_postfix": "",
     "delete_cmd_prefix": "del ",
     "library": "var_list.py",
     "varRefreshCmd": "print(var_dic_list())"
    },
    "r": {
     "delete_cmd_postfix": ") ",
     "delete_cmd_prefix": "rm(",
     "library": "var_list.r",
     "varRefreshCmd": "cat(var_dic_list()) "
    }
   },
   "types_to_exclude": [
    "module",
    "function",
    "builtin_function_or_method",
    "instance",
    "_Feature"
   ],
   "window_display": false
  }
 },
 "nbformat": 4,
 "nbformat_minor": 1
}
